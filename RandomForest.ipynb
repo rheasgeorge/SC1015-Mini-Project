{
 "cells": [
  {
   "cell_type": "code",
   "execution_count": 1,
   "id": "3804f7ff",
   "metadata": {},
   "outputs": [],
   "source": [
    "import pandas as pd\n",
    "import numpy as np\n",
    "\n",
    "from sklearn.ensemble import RandomForestClassifier\n",
    "from sklearn.model_selection import train_test_split\n",
    "from sklearn.preprocessing import StandardScaler\n",
    "from sklearn.metrics import accuracy_score\n",
    "from sklearn.metrics import classification_report, confusion_matrix\n"
   ]
  },
  {
   "cell_type": "code",
   "execution_count": 2,
   "id": "da2ac741",
   "metadata": {},
   "outputs": [],
   "source": [
    "# Load your data into a pandas dataframe\n",
    "data = pd.read_csv('features.csv',index_col=0)\n",
    "data = data[~data.isnull().any(axis=1)]"
   ]
  },
  {
   "cell_type": "code",
   "execution_count": 3,
   "id": "727ddb66",
   "metadata": {},
   "outputs": [],
   "source": [
    "# Split the data into training and testing sets\n",
    "train, test = train_test_split(data, test_size=0.2, random_state=42)\n",
    "\n",
    "\n",
    "# Separate the target variable from the input features\n",
    "X_train = train.drop('OUTCOMETYPE', axis=1)\n",
    "y_train = train['OUTCOMETYPE']\n",
    "\n",
    "X_test = test.drop('OUTCOMETYPE', axis=1)\n",
    "y_test = test['OUTCOMETYPE']\n",
    "\n",
    "cols = X_train.columns\n"
   ]
  },
  {
   "cell_type": "code",
   "execution_count": 4,
   "id": "02da4049",
   "metadata": {},
   "outputs": [],
   "source": [
    "# Scale the input features using StandardScaler\n",
    "scaler = StandardScaler()\n",
    "X_train = scaler.fit_transform(X_train)\n",
    "X_test = scaler.transform(X_test)"
   ]
  },
  {
   "cell_type": "code",
   "execution_count": 5,
   "id": "0abe2bfa",
   "metadata": {},
   "outputs": [
    {
     "name": "stdout",
     "output_type": "stream",
     "text": [
      "Accuracy: 0.88\n"
     ]
    }
   ],
   "source": [
    "# Instantiate the Random Forest Classifier model\n",
    "model = RandomForestClassifier(n_estimators=100, random_state=99)\n",
    "\n",
    "# Fit the model over training data\n",
    "model.fit(X_train, y_train)\n",
    "\n",
    "# Make predictions on the testing set\n",
    "y_pred = model.predict(X_test)\n",
    "\n",
    "# Calculate the accuracy of the model\n",
    "accuracy = accuracy_score(y_test, y_pred)\n",
    "print(f\"Accuracy: {accuracy:.2f}\")"
   ]
  },
  {
   "cell_type": "code",
   "execution_count": 6,
   "id": "d2c526a1",
   "metadata": {},
   "outputs": [
    {
     "name": "stdout",
     "output_type": "stream",
     "text": [
      "\n",
      "\n",
      "-------------------------------------------------------------\n",
      "Confusion Matrix:\n",
      "-----------------\n",
      "[[6116   46  190]\n",
      " [ 192   51  114]\n",
      " [ 626   15 2766]]\n",
      "\n",
      "\n",
      "-------------------------------------------------------------\n",
      "Classification Report:\n",
      "------------------------\n",
      "              precision    recall  f1-score   support\n",
      "\n",
      "       ADOPT       0.88      0.96      0.92      6352\n",
      "        DIED       0.46      0.14      0.22       357\n",
      "         RTO       0.90      0.81      0.85      3407\n",
      "\n",
      "    accuracy                           0.88     10116\n",
      "   macro avg       0.75      0.64      0.66     10116\n",
      "weighted avg       0.87      0.88      0.87     10116\n",
      "\n"
     ]
    }
   ],
   "source": [
    "# Print the confusion matrix\n",
    "print(\"\\n\")\n",
    "print(\"-------------------------------------------------------------\")\n",
    "print(\"Confusion Matrix:\")\n",
    "print(\"-----------------\")\n",
    "print(confusion_matrix(y_test, y_pred))\n",
    "\n",
    "# Print the classification report\n",
    "print(\"\\n\")\n",
    "print(\"-------------------------------------------------------------\")\n",
    "print(\"Classification Report:\")\n",
    "print(\"------------------------\")\n",
    "rpt =classification_report(y_test, y_pred, output_dict=False)\n",
    "print(rpt)\n"
   ]
  },
  {
   "cell_type": "code",
   "execution_count": 8,
   "id": "bb5350ab",
   "metadata": {},
   "outputs": [
    {
     "name": "stdout",
     "output_type": "stream",
     "text": [
      "######################################################################\n",
      "FEATURE RANKING USING IMPORTANCE SCORE\n",
      "######################################################################\n",
      "RANK \tIMPORTANCE \tFEATURE\n",
      "---- \t---------- \t--------------------------\n",
      "1. \t(0.54) \t\tAGEOUTCOME \n",
      "2. \t(0.14) \t\tPREVHIST \n",
      "3. \t(0.13) \t\tDAYS_STAY \n",
      "4. \t(0.09) \t\tIS_PUREBREED \n",
      "5. \t(0.07) \t\tINTAKETYPE_ABANDONED \n",
      "6. \t(0.02) \t\tINTAKETYPE_EUTHANASIAREQUEST \n",
      "7. \t(0.01) \t\tINTAKETYPE_OWNERSURRENDER \n",
      "8. \t(0.00) \t\tINTAKETYPE_PUBLICASSIST \n",
      "9. \t(0.00) \t\tINTAKETYPE_STRAY \n",
      "######################################################################\n"
     ]
    }
   ],
   "source": [
    "# Print the feature ranking\n",
    "\n",
    "# Get feature importances\n",
    "importances = model.feature_importances_\n",
    "\n",
    "# Sort feature importances in descending order\n",
    "indices = np.argsort(importances)[::-1]\n",
    "\n",
    "print(70*\"#\")\n",
    "print(\"FEATURE RANKING USING IMPORTANCE SCORE\")\n",
    "print(70*\"#\")\n",
    "print(\"RANK\",\"\\tIMPORTANCE\", \"\\tFEATURE\")\n",
    "print(\"----\",\"\\t----------\", \"\\t--------------------------\")\n",
    "for f in range(X_train.shape[1]):    \n",
    "    #print(f\"{f + 1}. feature {indices[f]} ({importances[indices[f]]:.2f})\")\n",
    "    print(f\"{f + 1}. \\t({importances[indices[f]]:.2f}) \\t\\t{cols[f]} \")\n",
    "print(70*\"#\")"
   ]
  },
  {
   "cell_type": "code",
   "execution_count": null,
   "id": "b78f4600",
   "metadata": {},
   "outputs": [],
   "source": []
  }
 ],
 "metadata": {
  "kernelspec": {
   "display_name": "Python 3 (ipykernel)",
   "language": "python",
   "name": "python3"
  },
  "language_info": {
   "codemirror_mode": {
    "name": "ipython",
    "version": 3
   },
   "file_extension": ".py",
   "mimetype": "text/x-python",
   "name": "python",
   "nbconvert_exporter": "python",
   "pygments_lexer": "ipython3",
   "version": "3.10.8"
  }
 },
 "nbformat": 4,
 "nbformat_minor": 5
}
