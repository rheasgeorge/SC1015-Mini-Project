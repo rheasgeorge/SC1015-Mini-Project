{
 "cells": [
  {
   "cell_type": "code",
   "execution_count": 1,
   "id": "3804f7ff",
   "metadata": {},
   "outputs": [],
   "source": [
    "import pandas as pd\n",
    "import numpy as np\n",
    "\n",
    "from sklearn.ensemble import RandomForestClassifier, GradientBoostingClassifier, VotingClassifier\n",
    "from sklearn.svm import SVC\n",
    "from sklearn.model_selection import train_test_split\n",
    "from sklearn.preprocessing import StandardScaler\n",
    "from sklearn.metrics import accuracy_score\n",
    "from sklearn.metrics import classification_report, confusion_matrix\n"
   ]
  },
  {
   "cell_type": "code",
   "execution_count": 2,
   "id": "da2ac741",
   "metadata": {},
   "outputs": [],
   "source": [
    "# Load your data into a pandas dataframe\n",
    "data = pd.read_csv('features.csv',index_col=0)\n",
    "data = data[~data.isnull().any(axis=1)]"
   ]
  },
  {
   "cell_type": "code",
   "execution_count": 3,
   "id": "727ddb66",
   "metadata": {},
   "outputs": [],
   "source": [
    "# Split the data into training and testing sets\n",
    "train, test = train_test_split(data, test_size=0.2, random_state=42)\n",
    "\n",
    "\n",
    "# Separate the target variable from the input features\n",
    "X_train = train.drop('OUTCOMETYPE', axis=1)\n",
    "y_train = train['OUTCOMETYPE']\n",
    "\n",
    "X_test = test.drop('OUTCOMETYPE', axis=1)\n",
    "y_test = test['OUTCOMETYPE']\n",
    "\n",
    "cols = X_train.columns\n"
   ]
  },
  {
   "cell_type": "code",
   "execution_count": 4,
   "id": "02da4049",
   "metadata": {},
   "outputs": [],
   "source": [
    "# Scale the input features using StandardScaler\n",
    "scaler = StandardScaler()\n",
    "X_train = scaler.fit_transform(X_train)\n",
    "X_test = scaler.transform(X_test)"
   ]
  },
  {
   "cell_type": "code",
   "execution_count": 5,
   "id": "ea8f6d1d",
   "metadata": {},
   "outputs": [],
   "source": [
    "# Instantiate the Random Forest Classifier model\n",
    "rfc = RandomForestClassifier(n_estimators=100, max_depth=5, random_state=99)"
   ]
  },
  {
   "cell_type": "code",
   "execution_count": 6,
   "id": "796441c2",
   "metadata": {},
   "outputs": [],
   "source": [
    "# Instantiate the Gradient Boosting Classifier model\n",
    "gbc = GradientBoostingClassifier(n_estimators=100, max_depth=3, learning_rate=0.1, random_state=99)"
   ]
  },
  {
   "cell_type": "code",
   "execution_count": 7,
   "id": "85a5af7a",
   "metadata": {},
   "outputs": [],
   "source": [
    "# Instantiate the Support Vector Method Classifier model\n",
    "svm = SVC(kernel='linear', C=1.0, random_state=99)"
   ]
  },
  {
   "cell_type": "code",
   "execution_count": 8,
   "id": "0abe2bfa",
   "metadata": {},
   "outputs": [
    {
     "name": "stdout",
     "output_type": "stream",
     "text": [
      "Accuracy: 0.89\n"
     ]
    }
   ],
   "source": [
    "# Instantiate a voting classifier model as an emsemble of the above three models  \n",
    "model = VotingClassifier(estimators=[('rf', rfc), ('gb', gbc), ('svm', svm)], voting='hard')\n",
    "\n",
    "# Fit the model on the training data\n",
    "model.fit(X_train, y_train)\n",
    "\n",
    "# Predict the classes of test data\n",
    "y_pred = model.predict(X_test)\n",
    "\n",
    "# Calculate the accuracy of the model\n",
    "accuracy = accuracy_score(y_test, y_pred)\n",
    "print(f\"Accuracy: {accuracy:.2f}\")"
   ]
  },
  {
   "cell_type": "code",
   "execution_count": 9,
   "id": "d2c526a1",
   "metadata": {},
   "outputs": [
    {
     "name": "stdout",
     "output_type": "stream",
     "text": [
      "\n",
      "\n",
      "-------------------------------------------------------------\n",
      "Confusion Matrix:\n",
      "-----------------\n",
      "[[6209    0  143]\n",
      " [ 236   20  101]\n",
      " [ 647    1 2759]]\n",
      "\n",
      "\n",
      "-------------------------------------------------------------\n",
      "Classification Report:\n",
      "------------------------\n",
      "              precision    recall  f1-score   support\n",
      "\n",
      "       ADOPT       0.88      0.98      0.92      6352\n",
      "        DIED       0.95      0.06      0.11       357\n",
      "         RTO       0.92      0.81      0.86      3407\n",
      "\n",
      "    accuracy                           0.89     10116\n",
      "   macro avg       0.92      0.61      0.63     10116\n",
      "weighted avg       0.89      0.89      0.87     10116\n",
      "\n"
     ]
    }
   ],
   "source": [
    "# Print the confusion matrix\n",
    "print(\"\\n\")\n",
    "print(\"-------------------------------------------------------------\")\n",
    "print(\"Confusion Matrix:\")\n",
    "print(\"-----------------\")\n",
    "print(confusion_matrix(y_test, y_pred))\n",
    "\n",
    "# Print the classification report\n",
    "print(\"\\n\")\n",
    "print(\"-------------------------------------------------------------\")\n",
    "print(\"Classification Report:\")\n",
    "print(\"------------------------\")\n",
    "rpt =classification_report(y_test, y_pred, output_dict=False)\n",
    "print(rpt)\n",
    "\n"
   ]
  }
 ],
 "metadata": {
  "kernelspec": {
   "display_name": "Python 3 (ipykernel)",
   "language": "python",
   "name": "python3"
  },
  "language_info": {
   "codemirror_mode": {
    "name": "ipython",
    "version": 3
   },
   "file_extension": ".py",
   "mimetype": "text/x-python",
   "name": "python",
   "nbconvert_exporter": "python",
   "pygments_lexer": "ipython3",
   "version": "3.10.8"
  }
 },
 "nbformat": 4,
 "nbformat_minor": 5
}
