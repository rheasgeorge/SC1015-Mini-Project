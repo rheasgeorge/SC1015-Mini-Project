{
 "cells": [
  {
   "cell_type": "code",
   "execution_count": 216,
   "id": "a0538e6b",
   "metadata": {},
   "outputs": [],
   "source": [
    "import numpy as np\n",
    "import pandas as pd\n",
    "import seaborn as sb\n",
    "import matplotlib.pyplot as plt\n",
    "import plotly.express as px\n",
    "import datetime\n",
    "import warnings\n",
    "import re\n",
    "warnings.filterwarnings(\"ignore\")\n",
    "\n",
    "\n",
    "\n",
    "def ConvertAgeAsMonths(AgeString):\n",
    "    if not pd.isnull(AgeString): \n",
    "        AgeSignatureDictionary = {\"YEAR\":12, \"MONTH\":1,\"DAY\":1/30,\"WEEK\":1/4.15}\n",
    "        AgePattern = \"|\".join([i for i in AgeSignatureDictionary.keys()])\n",
    "        for pattern in AgeSignatureDictionary.keys():\n",
    "            AgeValue = None        \n",
    "            if len(re.findall(pattern,AgeString.upper()))>0:\n",
    "                AgeValue = (re.split(pattern,AgeString.upper())[0].strip())\n",
    "                AgeValue = np.float16(AgeValue)\n",
    "                AgeValue = AgeValue*AgeSignatureDictionary.get(pattern)\n",
    "                AgeValue = None if AgeValue<0 else np.round(AgeValue,3)\n",
    "                return AgeValue\n",
    "    return None"
   ]
  },
  {
   "cell_type": "markdown",
   "id": "2e772146",
   "metadata": {},
   "source": [
    "# <font color='blue'>IMPORTING DATA</font>"
   ]
  },
  {
   "cell_type": "code",
   "execution_count": 217,
   "id": "670534ef",
   "metadata": {},
   "outputs": [],
   "source": [
    "intakes = pd.read_csv('Data\\Austin_Animal_Center_Intakes.csv')\n",
    "outcomes = pd.read_csv('Data\\Austin_Animal_Center_Outcomes.csv')"
   ]
  },
  {
   "cell_type": "code",
   "execution_count": 218,
   "id": "f55917da",
   "metadata": {},
   "outputs": [
    {
     "name": "stdout",
     "output_type": "stream",
     "text": [
      "<class 'pandas.core.frame.DataFrame'>\n",
      "RangeIndex: 124120 entries, 0 to 124119\n",
      "Data columns (total 12 columns):\n",
      " #   Column            Non-Null Count   Dtype \n",
      "---  ------            --------------   ----- \n",
      " 0   Animal ID         124120 non-null  object\n",
      " 1   Name              85069 non-null   object\n",
      " 2   DateTime          124120 non-null  object\n",
      " 3   MonthYear         124120 non-null  object\n",
      " 4   Found Location    124120 non-null  object\n",
      " 5   Intake Type       124120 non-null  object\n",
      " 6   Intake Condition  124120 non-null  object\n",
      " 7   Animal Type       124120 non-null  object\n",
      " 8   Sex upon Intake   124119 non-null  object\n",
      " 9   Age upon Intake   124120 non-null  object\n",
      " 10  Breed             124120 non-null  object\n",
      " 11  Color             124120 non-null  object\n",
      "dtypes: object(12)\n",
      "memory usage: 11.4+ MB\n",
      "<class 'pandas.core.frame.DataFrame'>\n",
      "RangeIndex: 124491 entries, 0 to 124490\n",
      "Data columns (total 12 columns):\n",
      " #   Column            Non-Null Count   Dtype \n",
      "---  ------            --------------   ----- \n",
      " 0   Animal ID         124491 non-null  object\n",
      " 1   Name              85466 non-null   object\n",
      " 2   DateTime          124491 non-null  object\n",
      " 3   MonthYear         124491 non-null  object\n",
      " 4   Date of Birth     124491 non-null  object\n",
      " 5   Outcome Type      124471 non-null  object\n",
      " 6   Outcome Subtype   57308 non-null   object\n",
      " 7   Animal Type       124491 non-null  object\n",
      " 8   Sex upon Outcome  124490 non-null  object\n",
      " 9   Age upon Outcome  124486 non-null  object\n",
      " 10  Breed             124491 non-null  object\n",
      " 11  Color             124491 non-null  object\n",
      "dtypes: object(12)\n",
      "memory usage: 11.4+ MB\n"
     ]
    }
   ],
   "source": [
    "intakes.info()\n",
    "outcomes.info()"
   ]
  },
  {
   "cell_type": "markdown",
   "id": "bb5b029d",
   "metadata": {},
   "source": [
    "#  <font color='blue'>CLEANING DATA</font>"
   ]
  },
  {
   "cell_type": "markdown",
   "id": "e1c839d2",
   "metadata": {},
   "source": [
    "### Filtering relevant Data"
   ]
  },
  {
   "cell_type": "code",
   "execution_count": 219,
   "id": "5028c2ea",
   "metadata": {},
   "outputs": [],
   "source": [
    "dfIntake = intakes[['Animal ID', 'DateTime', 'Found Location', 'Intake Type', 'Intake Condition', 'Animal Type','Sex upon Intake','Age upon Intake', 'Breed', 'Color']]\n",
    "dfIntake.columns = ['ANIMALID', 'DATETIME_INTAKE', 'LOCATION', 'INTAKETYPE', 'INTAKECONDITION', 'ANIMALTYPE','SEXINTAKE','AGEINTAKE', 'BREED', 'COLOR']\n",
    "\n",
    "dfOutcomes=outcomes[['Animal ID', 'DateTime', 'Date of Birth', 'Outcome Type', 'Outcome Subtype', 'Sex upon Outcome', 'Age upon Outcome']]\n",
    "dfOutcomes.columns = ['ANIMALID', 'DATETIME_OUTCOME', 'DOB', 'OUTCOMETYPE', 'OUTCOMESUBTYPE', 'SEXOUTCOME', 'AGEOUTCOME']"
   ]
  },
  {
   "cell_type": "markdown",
   "id": "404a0c40",
   "metadata": {},
   "source": [
    "#### Converting Datetime columns (as string) into DataTime objects\n",
    "#### Converting Age_intake and Age_Outcome from strings to numeric number of months"
   ]
  },
  {
   "cell_type": "code",
   "execution_count": 220,
   "id": "8133d5ef",
   "metadata": {},
   "outputs": [
    {
     "name": "stdout",
     "output_type": "stream",
     "text": [
      "<class 'pandas.core.frame.DataFrame'>\n",
      "RangeIndex: 124120 entries, 0 to 124119\n",
      "Data columns (total 10 columns):\n",
      " #   Column           Non-Null Count   Dtype         \n",
      "---  ------           --------------   -----         \n",
      " 0   ANIMALID         124120 non-null  object        \n",
      " 1   DATETIME_INTAKE  124120 non-null  datetime64[ns]\n",
      " 2   LOCATION         124120 non-null  object        \n",
      " 3   INTAKETYPE       124120 non-null  object        \n",
      " 4   INTAKECONDITION  124120 non-null  object        \n",
      " 5   ANIMALTYPE       124120 non-null  object        \n",
      " 6   SEXINTAKE        124119 non-null  object        \n",
      " 7   AGEINTAKE        124113 non-null  float64       \n",
      " 8   BREED            124120 non-null  object        \n",
      " 9   COLOR            124120 non-null  object        \n",
      "dtypes: datetime64[ns](1), float64(1), object(8)\n",
      "memory usage: 9.5+ MB\n",
      "<class 'pandas.core.frame.DataFrame'>\n",
      "RangeIndex: 124491 entries, 0 to 124490\n",
      "Data columns (total 7 columns):\n",
      " #   Column            Non-Null Count   Dtype         \n",
      "---  ------            --------------   -----         \n",
      " 0   ANIMALID          124491 non-null  object        \n",
      " 1   DATETIME_OUTCOME  124491 non-null  datetime64[ns]\n",
      " 2   DOB               124491 non-null  object        \n",
      " 3   OUTCOMETYPE       124471 non-null  object        \n",
      " 4   OUTCOMESUBTYPE    57308 non-null   object        \n",
      " 5   SEXOUTCOME        124490 non-null  object        \n",
      " 6   AGEOUTCOME        124479 non-null  float64       \n",
      "dtypes: datetime64[ns](1), float64(1), object(5)\n",
      "memory usage: 6.6+ MB\n"
     ]
    }
   ],
   "source": [
    "dfIntake['DATETIME_INTAKE'] = dfIntake['DATETIME_INTAKE'].apply(lambda x:datetime.datetime.strptime(x,'%m/%d/%Y %H:%M:%S %p')).values\n",
    "dfOutcomes['DATETIME_OUTCOME'] = dfOutcomes['DATETIME_OUTCOME'].apply(lambda x:datetime.datetime.strptime(x,'%m/%d/%Y %H:%M:%S %p'))\n",
    "dfIntake.AGEINTAKE = dfIntake.AGEINTAKE.apply(lambda x: ConvertAgeAsMonths(x))\n",
    "dfOutcomes.AGEOUTCOME = dfOutcomes.AGEOUTCOME.apply(lambda x: ConvertAgeAsMonths(x))\n",
    "dfIntake.info()\n",
    "dfOutcomes.info()"
   ]
  },
  {
   "cell_type": "markdown",
   "id": "c6d16250",
   "metadata": {},
   "source": [
    "### On Closer Evaluation of DataSets\n",
    "Its noted that each animal might have N entries as intakes and N entries as outcomes...hence inorder to merge the correct intake with the outcome chronologically. see Below - the dog A717053 has been a serial stray almost 9 times and each time the outcome was he was returned to the owner."
   ]
  },
  {
   "cell_type": "code",
   "execution_count": 221,
   "id": "d86c8a6c",
   "metadata": {},
   "outputs": [
    {
     "name": "stdout",
     "output_type": "stream",
     "text": [
      "Entry records of A717053 (9, 10)\n",
      "Outcome records of A717053 (9, 7)\n",
      "################################################################################\n",
      "       ANIMALID     DATETIME_INTAKE INTAKETYPE\n",
      "62998   A717053 2015-12-01 12:26:00      Stray\n",
      "80114   A717053 2016-04-21 11:55:00      Stray\n",
      "6574    A717053 2017-11-04 03:30:00      Stray\n",
      "112269  A717053 2018-03-24 02:44:00      Stray\n",
      "19567   A717053 2018-04-23 10:35:00      Stray\n",
      "105881  A717053 2018-08-26 03:16:00      Stray\n",
      "29231   A717053 2018-09-16 09:51:00      Stray\n",
      "3021    A717053 2019-08-04 03:14:00      Stray\n",
      "109005  A717053 2019-11-12 04:17:00      Stray\n",
      "################################################################################\n",
      "       ANIMALID    DATETIME_OUTCOME      OUTCOMETYPE\n",
      "5152    A717053 2015-12-02 04:22:00  Return to Owner\n",
      "72592   A717053 2016-04-21 06:58:00  Return to Owner\n",
      "93265   A717053 2017-11-06 05:14:00  Return to Owner\n",
      "43352   A717053 2018-03-26 05:10:00  Return to Owner\n",
      "105976  A717053 2018-04-25 04:30:00  Return to Owner\n",
      "10580   A717053 2018-08-27 12:07:00  Return to Owner\n",
      "24567   A717053 2018-09-19 05:57:00  Return to Owner\n",
      "59627   A717053 2019-08-07 03:25:00  Return to Owner\n",
      "44529   A717053 2019-11-16 11:12:00  Return to Owner\n"
     ]
    }
   ],
   "source": [
    "print(\"Entry records of A717053\",dfIntake[dfIntake.ANIMALID == 'A717053'].sort_values('DATETIME_INTAKE').shape)\n",
    "print(\"Outcome records of A717053\",dfOutcomes[dfOutcomes.ANIMALID == 'A717053'].sort_values('DATETIME_OUTCOME').shape)\n",
    "print(80*\"#\")\n",
    "print(dfIntake[dfIntake.ANIMALID == 'A717053'][['ANIMALID','DATETIME_INTAKE','INTAKETYPE']].sort_values('DATETIME_INTAKE'))\n",
    "print(80*\"#\")\n",
    "print(dfOutcomes[dfOutcomes.ANIMALID == 'A717053'][['ANIMALID','DATETIME_OUTCOME','OUTCOMETYPE']].sort_values('DATETIME_OUTCOME'))"
   ]
  },
  {
   "cell_type": "markdown",
   "id": "70e185e9",
   "metadata": {},
   "source": [
    "## Merging intakes and outcomes\n",
    "Inorder to merge - intake and outcomes is added with a new column of chronology to match records."
   ]
  },
  {
   "cell_type": "code",
   "execution_count": 222,
   "id": "637d6eb1",
   "metadata": {},
   "outputs": [],
   "source": [
    "dfIntake['PREVHIST']=dfIntake.groupby('ANIMALID')['DATETIME_INTAKE'].rank(method=\"dense\", ascending=True)\n",
    "dfIntake['PREVHIST']=dfIntake['PREVHIST']-1\n",
    "dfOutcomes['PREVHIST']=dfOutcomes.groupby('ANIMALID')['DATETIME_OUTCOME'].rank(method=\"dense\", ascending=True)\n",
    "dfOutcomes['PREVHIST']=dfOutcomes['PREVHIST']-1"
   ]
  },
  {
   "cell_type": "code",
   "execution_count": 223,
   "id": "fb990645",
   "metadata": {},
   "outputs": [],
   "source": [
    "dfAnimals = pd.merge(left=dfIntake, right=dfOutcomes, on =['ANIMALID','PREVHIST'], how='inner')\n",
    "dfAnimals.sort_values(['ANIMALID','PREVHIST'],inplace=True)\n",
    "dfAnimals = dfAnimals.reset_index(drop=True)\n"
   ]
  },
  {
   "cell_type": "code",
   "execution_count": 224,
   "id": "775d94f9",
   "metadata": {},
   "outputs": [],
   "source": [
    "dfAnimals['DAYS_STAY']=dfAnimals[['DATETIME_INTAKE','DATETIME_OUTCOME']].apply(lambda row: (row['DATETIME_OUTCOME'] - row['DATETIME_INTAKE']).days,axis=1)\n",
    "rmanimals = dfAnimals[dfAnimals.DAYS_STAY<0].sort_values('DAYS_STAY').ANIMALID.unique()\n",
    "dfAnimals = dfAnimals[~dfAnimals.ANIMALID.isin(rmanimals)]\n",
    "\n",
    "dfAnimals.to_csv('AnimalShelterData.csv',index=False)"
   ]
  },
  {
   "cell_type": "markdown",
   "id": "67a3e215",
   "metadata": {},
   "source": [
    "# Exploring Animal Type\n"
   ]
  },
  {
   "cell_type": "code",
   "execution_count": 225,
   "id": "492538de",
   "metadata": {},
   "outputs": [
    {
     "data": {
      "application/vnd.plotly.v1+json": {
       "config": {
        "plotlyServerURL": "https://plot.ly"
       },
       "data": [
        {
         "alignmentgroup": "True",
         "hovertemplate": "ANIMALTYPE=%{x}<br>COUNT=%{y}<br>text=%{text}<extra></extra>",
         "legendgroup": "",
         "marker": {
          "color": "#636efa",
          "pattern": {
           "shape": ""
          }
         },
         "name": "",
         "offsetgroup": "",
         "orientation": "v",
         "showlegend": false,
         "text": [
          "56.37%",
          "37.80%",
          "5.33%",
          "0.48%",
          "0.01%"
         ],
         "textposition": "auto",
         "type": "bar",
         "x": [
          "Dog",
          "Cat",
          "Other",
          "Bird",
          "Livestock"
         ],
         "xaxis": "x",
         "y": [
          65251,
          43754,
          6171,
          553,
          17
         ],
         "yaxis": "y"
        }
       ],
       "layout": {
        "barmode": "relative",
        "legend": {
         "tracegroupgap": 0
        },
        "margin": {
         "t": 60
        },
        "template": {
         "data": {
          "bar": [
           {
            "error_x": {
             "color": "#2a3f5f"
            },
            "error_y": {
             "color": "#2a3f5f"
            },
            "marker": {
             "line": {
              "color": "#E5ECF6",
              "width": 0.5
             },
             "pattern": {
              "fillmode": "overlay",
              "size": 10,
              "solidity": 0.2
             }
            },
            "type": "bar"
           }
          ],
          "barpolar": [
           {
            "marker": {
             "line": {
              "color": "#E5ECF6",
              "width": 0.5
             },
             "pattern": {
              "fillmode": "overlay",
              "size": 10,
              "solidity": 0.2
             }
            },
            "type": "barpolar"
           }
          ],
          "carpet": [
           {
            "aaxis": {
             "endlinecolor": "#2a3f5f",
             "gridcolor": "white",
             "linecolor": "white",
             "minorgridcolor": "white",
             "startlinecolor": "#2a3f5f"
            },
            "baxis": {
             "endlinecolor": "#2a3f5f",
             "gridcolor": "white",
             "linecolor": "white",
             "minorgridcolor": "white",
             "startlinecolor": "#2a3f5f"
            },
            "type": "carpet"
           }
          ],
          "choropleth": [
           {
            "colorbar": {
             "outlinewidth": 0,
             "ticks": ""
            },
            "type": "choropleth"
           }
          ],
          "contour": [
           {
            "colorbar": {
             "outlinewidth": 0,
             "ticks": ""
            },
            "colorscale": [
             [
              0,
              "#0d0887"
             ],
             [
              0.1111111111111111,
              "#46039f"
             ],
             [
              0.2222222222222222,
              "#7201a8"
             ],
             [
              0.3333333333333333,
              "#9c179e"
             ],
             [
              0.4444444444444444,
              "#bd3786"
             ],
             [
              0.5555555555555556,
              "#d8576b"
             ],
             [
              0.6666666666666666,
              "#ed7953"
             ],
             [
              0.7777777777777778,
              "#fb9f3a"
             ],
             [
              0.8888888888888888,
              "#fdca26"
             ],
             [
              1,
              "#f0f921"
             ]
            ],
            "type": "contour"
           }
          ],
          "contourcarpet": [
           {
            "colorbar": {
             "outlinewidth": 0,
             "ticks": ""
            },
            "type": "contourcarpet"
           }
          ],
          "heatmap": [
           {
            "colorbar": {
             "outlinewidth": 0,
             "ticks": ""
            },
            "colorscale": [
             [
              0,
              "#0d0887"
             ],
             [
              0.1111111111111111,
              "#46039f"
             ],
             [
              0.2222222222222222,
              "#7201a8"
             ],
             [
              0.3333333333333333,
              "#9c179e"
             ],
             [
              0.4444444444444444,
              "#bd3786"
             ],
             [
              0.5555555555555556,
              "#d8576b"
             ],
             [
              0.6666666666666666,
              "#ed7953"
             ],
             [
              0.7777777777777778,
              "#fb9f3a"
             ],
             [
              0.8888888888888888,
              "#fdca26"
             ],
             [
              1,
              "#f0f921"
             ]
            ],
            "type": "heatmap"
           }
          ],
          "heatmapgl": [
           {
            "colorbar": {
             "outlinewidth": 0,
             "ticks": ""
            },
            "colorscale": [
             [
              0,
              "#0d0887"
             ],
             [
              0.1111111111111111,
              "#46039f"
             ],
             [
              0.2222222222222222,
              "#7201a8"
             ],
             [
              0.3333333333333333,
              "#9c179e"
             ],
             [
              0.4444444444444444,
              "#bd3786"
             ],
             [
              0.5555555555555556,
              "#d8576b"
             ],
             [
              0.6666666666666666,
              "#ed7953"
             ],
             [
              0.7777777777777778,
              "#fb9f3a"
             ],
             [
              0.8888888888888888,
              "#fdca26"
             ],
             [
              1,
              "#f0f921"
             ]
            ],
            "type": "heatmapgl"
           }
          ],
          "histogram": [
           {
            "marker": {
             "pattern": {
              "fillmode": "overlay",
              "size": 10,
              "solidity": 0.2
             }
            },
            "type": "histogram"
           }
          ],
          "histogram2d": [
           {
            "colorbar": {
             "outlinewidth": 0,
             "ticks": ""
            },
            "colorscale": [
             [
              0,
              "#0d0887"
             ],
             [
              0.1111111111111111,
              "#46039f"
             ],
             [
              0.2222222222222222,
              "#7201a8"
             ],
             [
              0.3333333333333333,
              "#9c179e"
             ],
             [
              0.4444444444444444,
              "#bd3786"
             ],
             [
              0.5555555555555556,
              "#d8576b"
             ],
             [
              0.6666666666666666,
              "#ed7953"
             ],
             [
              0.7777777777777778,
              "#fb9f3a"
             ],
             [
              0.8888888888888888,
              "#fdca26"
             ],
             [
              1,
              "#f0f921"
             ]
            ],
            "type": "histogram2d"
           }
          ],
          "histogram2dcontour": [
           {
            "colorbar": {
             "outlinewidth": 0,
             "ticks": ""
            },
            "colorscale": [
             [
              0,
              "#0d0887"
             ],
             [
              0.1111111111111111,
              "#46039f"
             ],
             [
              0.2222222222222222,
              "#7201a8"
             ],
             [
              0.3333333333333333,
              "#9c179e"
             ],
             [
              0.4444444444444444,
              "#bd3786"
             ],
             [
              0.5555555555555556,
              "#d8576b"
             ],
             [
              0.6666666666666666,
              "#ed7953"
             ],
             [
              0.7777777777777778,
              "#fb9f3a"
             ],
             [
              0.8888888888888888,
              "#fdca26"
             ],
             [
              1,
              "#f0f921"
             ]
            ],
            "type": "histogram2dcontour"
           }
          ],
          "mesh3d": [
           {
            "colorbar": {
             "outlinewidth": 0,
             "ticks": ""
            },
            "type": "mesh3d"
           }
          ],
          "parcoords": [
           {
            "line": {
             "colorbar": {
              "outlinewidth": 0,
              "ticks": ""
             }
            },
            "type": "parcoords"
           }
          ],
          "pie": [
           {
            "automargin": true,
            "type": "pie"
           }
          ],
          "scatter": [
           {
            "fillpattern": {
             "fillmode": "overlay",
             "size": 10,
             "solidity": 0.2
            },
            "type": "scatter"
           }
          ],
          "scatter3d": [
           {
            "line": {
             "colorbar": {
              "outlinewidth": 0,
              "ticks": ""
             }
            },
            "marker": {
             "colorbar": {
              "outlinewidth": 0,
              "ticks": ""
             }
            },
            "type": "scatter3d"
           }
          ],
          "scattercarpet": [
           {
            "marker": {
             "colorbar": {
              "outlinewidth": 0,
              "ticks": ""
             }
            },
            "type": "scattercarpet"
           }
          ],
          "scattergeo": [
           {
            "marker": {
             "colorbar": {
              "outlinewidth": 0,
              "ticks": ""
             }
            },
            "type": "scattergeo"
           }
          ],
          "scattergl": [
           {
            "marker": {
             "colorbar": {
              "outlinewidth": 0,
              "ticks": ""
             }
            },
            "type": "scattergl"
           }
          ],
          "scattermapbox": [
           {
            "marker": {
             "colorbar": {
              "outlinewidth": 0,
              "ticks": ""
             }
            },
            "type": "scattermapbox"
           }
          ],
          "scatterpolar": [
           {
            "marker": {
             "colorbar": {
              "outlinewidth": 0,
              "ticks": ""
             }
            },
            "type": "scatterpolar"
           }
          ],
          "scatterpolargl": [
           {
            "marker": {
             "colorbar": {
              "outlinewidth": 0,
              "ticks": ""
             }
            },
            "type": "scatterpolargl"
           }
          ],
          "scatterternary": [
           {
            "marker": {
             "colorbar": {
              "outlinewidth": 0,
              "ticks": ""
             }
            },
            "type": "scatterternary"
           }
          ],
          "surface": [
           {
            "colorbar": {
             "outlinewidth": 0,
             "ticks": ""
            },
            "colorscale": [
             [
              0,
              "#0d0887"
             ],
             [
              0.1111111111111111,
              "#46039f"
             ],
             [
              0.2222222222222222,
              "#7201a8"
             ],
             [
              0.3333333333333333,
              "#9c179e"
             ],
             [
              0.4444444444444444,
              "#bd3786"
             ],
             [
              0.5555555555555556,
              "#d8576b"
             ],
             [
              0.6666666666666666,
              "#ed7953"
             ],
             [
              0.7777777777777778,
              "#fb9f3a"
             ],
             [
              0.8888888888888888,
              "#fdca26"
             ],
             [
              1,
              "#f0f921"
             ]
            ],
            "type": "surface"
           }
          ],
          "table": [
           {
            "cells": {
             "fill": {
              "color": "#EBF0F8"
             },
             "line": {
              "color": "white"
             }
            },
            "header": {
             "fill": {
              "color": "#C8D4E3"
             },
             "line": {
              "color": "white"
             }
            },
            "type": "table"
           }
          ]
         },
         "layout": {
          "annotationdefaults": {
           "arrowcolor": "#2a3f5f",
           "arrowhead": 0,
           "arrowwidth": 1
          },
          "autotypenumbers": "strict",
          "coloraxis": {
           "colorbar": {
            "outlinewidth": 0,
            "ticks": ""
           }
          },
          "colorscale": {
           "diverging": [
            [
             0,
             "#8e0152"
            ],
            [
             0.1,
             "#c51b7d"
            ],
            [
             0.2,
             "#de77ae"
            ],
            [
             0.3,
             "#f1b6da"
            ],
            [
             0.4,
             "#fde0ef"
            ],
            [
             0.5,
             "#f7f7f7"
            ],
            [
             0.6,
             "#e6f5d0"
            ],
            [
             0.7,
             "#b8e186"
            ],
            [
             0.8,
             "#7fbc41"
            ],
            [
             0.9,
             "#4d9221"
            ],
            [
             1,
             "#276419"
            ]
           ],
           "sequential": [
            [
             0,
             "#0d0887"
            ],
            [
             0.1111111111111111,
             "#46039f"
            ],
            [
             0.2222222222222222,
             "#7201a8"
            ],
            [
             0.3333333333333333,
             "#9c179e"
            ],
            [
             0.4444444444444444,
             "#bd3786"
            ],
            [
             0.5555555555555556,
             "#d8576b"
            ],
            [
             0.6666666666666666,
             "#ed7953"
            ],
            [
             0.7777777777777778,
             "#fb9f3a"
            ],
            [
             0.8888888888888888,
             "#fdca26"
            ],
            [
             1,
             "#f0f921"
            ]
           ],
           "sequentialminus": [
            [
             0,
             "#0d0887"
            ],
            [
             0.1111111111111111,
             "#46039f"
            ],
            [
             0.2222222222222222,
             "#7201a8"
            ],
            [
             0.3333333333333333,
             "#9c179e"
            ],
            [
             0.4444444444444444,
             "#bd3786"
            ],
            [
             0.5555555555555556,
             "#d8576b"
            ],
            [
             0.6666666666666666,
             "#ed7953"
            ],
            [
             0.7777777777777778,
             "#fb9f3a"
            ],
            [
             0.8888888888888888,
             "#fdca26"
            ],
            [
             1,
             "#f0f921"
            ]
           ]
          },
          "colorway": [
           "#636efa",
           "#EF553B",
           "#00cc96",
           "#ab63fa",
           "#FFA15A",
           "#19d3f3",
           "#FF6692",
           "#B6E880",
           "#FF97FF",
           "#FECB52"
          ],
          "font": {
           "color": "#2a3f5f"
          },
          "geo": {
           "bgcolor": "white",
           "lakecolor": "white",
           "landcolor": "#E5ECF6",
           "showlakes": true,
           "showland": true,
           "subunitcolor": "white"
          },
          "hoverlabel": {
           "align": "left"
          },
          "hovermode": "closest",
          "mapbox": {
           "style": "light"
          },
          "paper_bgcolor": "white",
          "plot_bgcolor": "#E5ECF6",
          "polar": {
           "angularaxis": {
            "gridcolor": "white",
            "linecolor": "white",
            "ticks": ""
           },
           "bgcolor": "#E5ECF6",
           "radialaxis": {
            "gridcolor": "white",
            "linecolor": "white",
            "ticks": ""
           }
          },
          "scene": {
           "xaxis": {
            "backgroundcolor": "#E5ECF6",
            "gridcolor": "white",
            "gridwidth": 2,
            "linecolor": "white",
            "showbackground": true,
            "ticks": "",
            "zerolinecolor": "white"
           },
           "yaxis": {
            "backgroundcolor": "#E5ECF6",
            "gridcolor": "white",
            "gridwidth": 2,
            "linecolor": "white",
            "showbackground": true,
            "ticks": "",
            "zerolinecolor": "white"
           },
           "zaxis": {
            "backgroundcolor": "#E5ECF6",
            "gridcolor": "white",
            "gridwidth": 2,
            "linecolor": "white",
            "showbackground": true,
            "ticks": "",
            "zerolinecolor": "white"
           }
          },
          "shapedefaults": {
           "line": {
            "color": "#2a3f5f"
           }
          },
          "ternary": {
           "aaxis": {
            "gridcolor": "white",
            "linecolor": "white",
            "ticks": ""
           },
           "baxis": {
            "gridcolor": "white",
            "linecolor": "white",
            "ticks": ""
           },
           "bgcolor": "#E5ECF6",
           "caxis": {
            "gridcolor": "white",
            "linecolor": "white",
            "ticks": ""
           }
          },
          "title": {
           "x": 0.05
          },
          "xaxis": {
           "automargin": true,
           "gridcolor": "white",
           "linecolor": "white",
           "ticks": "",
           "title": {
            "standoff": 15
           },
           "zerolinecolor": "white",
           "zerolinewidth": 2
          },
          "yaxis": {
           "automargin": true,
           "gridcolor": "white",
           "linecolor": "white",
           "ticks": "",
           "title": {
            "standoff": 15
           },
           "zerolinecolor": "white",
           "zerolinewidth": 2
          }
         }
        },
        "xaxis": {
         "anchor": "y",
         "domain": [
          0,
          1
         ],
         "title": {
          "text": "ANIMALTYPE"
         }
        },
        "yaxis": {
         "anchor": "x",
         "domain": [
          0,
          1
         ],
         "title": {
          "text": "COUNT"
         }
        }
       }
      },
      "text/html": [
       "<div>                            <div id=\"4021a629-c6c1-4501-8260-7bd4c6cc2c75\" class=\"plotly-graph-div\" style=\"height:525px; width:100%;\"></div>            <script type=\"text/javascript\">                require([\"plotly\"], function(Plotly) {                    window.PLOTLYENV=window.PLOTLYENV || {};                                    if (document.getElementById(\"4021a629-c6c1-4501-8260-7bd4c6cc2c75\")) {                    Plotly.newPlot(                        \"4021a629-c6c1-4501-8260-7bd4c6cc2c75\",                        [{\"alignmentgroup\":\"True\",\"hovertemplate\":\"ANIMALTYPE=%{x}<br>COUNT=%{y}<br>text=%{text}<extra></extra>\",\"legendgroup\":\"\",\"marker\":{\"color\":\"#636efa\",\"pattern\":{\"shape\":\"\"}},\"name\":\"\",\"offsetgroup\":\"\",\"orientation\":\"v\",\"showlegend\":false,\"text\":[\"56.37%\",\"37.80%\",\"5.33%\",\"0.48%\",\"0.01%\"],\"textposition\":\"auto\",\"x\":[\"Dog\",\"Cat\",\"Other\",\"Bird\",\"Livestock\"],\"xaxis\":\"x\",\"y\":[65251,43754,6171,553,17],\"yaxis\":\"y\",\"type\":\"bar\"}],                        {\"template\":{\"data\":{\"histogram2dcontour\":[{\"type\":\"histogram2dcontour\",\"colorbar\":{\"outlinewidth\":0,\"ticks\":\"\"},\"colorscale\":[[0.0,\"#0d0887\"],[0.1111111111111111,\"#46039f\"],[0.2222222222222222,\"#7201a8\"],[0.3333333333333333,\"#9c179e\"],[0.4444444444444444,\"#bd3786\"],[0.5555555555555556,\"#d8576b\"],[0.6666666666666666,\"#ed7953\"],[0.7777777777777778,\"#fb9f3a\"],[0.8888888888888888,\"#fdca26\"],[1.0,\"#f0f921\"]]}],\"choropleth\":[{\"type\":\"choropleth\",\"colorbar\":{\"outlinewidth\":0,\"ticks\":\"\"}}],\"histogram2d\":[{\"type\":\"histogram2d\",\"colorbar\":{\"outlinewidth\":0,\"ticks\":\"\"},\"colorscale\":[[0.0,\"#0d0887\"],[0.1111111111111111,\"#46039f\"],[0.2222222222222222,\"#7201a8\"],[0.3333333333333333,\"#9c179e\"],[0.4444444444444444,\"#bd3786\"],[0.5555555555555556,\"#d8576b\"],[0.6666666666666666,\"#ed7953\"],[0.7777777777777778,\"#fb9f3a\"],[0.8888888888888888,\"#fdca26\"],[1.0,\"#f0f921\"]]}],\"heatmap\":[{\"type\":\"heatmap\",\"colorbar\":{\"outlinewidth\":0,\"ticks\":\"\"},\"colorscale\":[[0.0,\"#0d0887\"],[0.1111111111111111,\"#46039f\"],[0.2222222222222222,\"#7201a8\"],[0.3333333333333333,\"#9c179e\"],[0.4444444444444444,\"#bd3786\"],[0.5555555555555556,\"#d8576b\"],[0.6666666666666666,\"#ed7953\"],[0.7777777777777778,\"#fb9f3a\"],[0.8888888888888888,\"#fdca26\"],[1.0,\"#f0f921\"]]}],\"heatmapgl\":[{\"type\":\"heatmapgl\",\"colorbar\":{\"outlinewidth\":0,\"ticks\":\"\"},\"colorscale\":[[0.0,\"#0d0887\"],[0.1111111111111111,\"#46039f\"],[0.2222222222222222,\"#7201a8\"],[0.3333333333333333,\"#9c179e\"],[0.4444444444444444,\"#bd3786\"],[0.5555555555555556,\"#d8576b\"],[0.6666666666666666,\"#ed7953\"],[0.7777777777777778,\"#fb9f3a\"],[0.8888888888888888,\"#fdca26\"],[1.0,\"#f0f921\"]]}],\"contourcarpet\":[{\"type\":\"contourcarpet\",\"colorbar\":{\"outlinewidth\":0,\"ticks\":\"\"}}],\"contour\":[{\"type\":\"contour\",\"colorbar\":{\"outlinewidth\":0,\"ticks\":\"\"},\"colorscale\":[[0.0,\"#0d0887\"],[0.1111111111111111,\"#46039f\"],[0.2222222222222222,\"#7201a8\"],[0.3333333333333333,\"#9c179e\"],[0.4444444444444444,\"#bd3786\"],[0.5555555555555556,\"#d8576b\"],[0.6666666666666666,\"#ed7953\"],[0.7777777777777778,\"#fb9f3a\"],[0.8888888888888888,\"#fdca26\"],[1.0,\"#f0f921\"]]}],\"surface\":[{\"type\":\"surface\",\"colorbar\":{\"outlinewidth\":0,\"ticks\":\"\"},\"colorscale\":[[0.0,\"#0d0887\"],[0.1111111111111111,\"#46039f\"],[0.2222222222222222,\"#7201a8\"],[0.3333333333333333,\"#9c179e\"],[0.4444444444444444,\"#bd3786\"],[0.5555555555555556,\"#d8576b\"],[0.6666666666666666,\"#ed7953\"],[0.7777777777777778,\"#fb9f3a\"],[0.8888888888888888,\"#fdca26\"],[1.0,\"#f0f921\"]]}],\"mesh3d\":[{\"type\":\"mesh3d\",\"colorbar\":{\"outlinewidth\":0,\"ticks\":\"\"}}],\"scatter\":[{\"fillpattern\":{\"fillmode\":\"overlay\",\"size\":10,\"solidity\":0.2},\"type\":\"scatter\"}],\"parcoords\":[{\"type\":\"parcoords\",\"line\":{\"colorbar\":{\"outlinewidth\":0,\"ticks\":\"\"}}}],\"scatterpolargl\":[{\"type\":\"scatterpolargl\",\"marker\":{\"colorbar\":{\"outlinewidth\":0,\"ticks\":\"\"}}}],\"bar\":[{\"error_x\":{\"color\":\"#2a3f5f\"},\"error_y\":{\"color\":\"#2a3f5f\"},\"marker\":{\"line\":{\"color\":\"#E5ECF6\",\"width\":0.5},\"pattern\":{\"fillmode\":\"overlay\",\"size\":10,\"solidity\":0.2}},\"type\":\"bar\"}],\"scattergeo\":[{\"type\":\"scattergeo\",\"marker\":{\"colorbar\":{\"outlinewidth\":0,\"ticks\":\"\"}}}],\"scatterpolar\":[{\"type\":\"scatterpolar\",\"marker\":{\"colorbar\":{\"outlinewidth\":0,\"ticks\":\"\"}}}],\"histogram\":[{\"marker\":{\"pattern\":{\"fillmode\":\"overlay\",\"size\":10,\"solidity\":0.2}},\"type\":\"histogram\"}],\"scattergl\":[{\"type\":\"scattergl\",\"marker\":{\"colorbar\":{\"outlinewidth\":0,\"ticks\":\"\"}}}],\"scatter3d\":[{\"type\":\"scatter3d\",\"line\":{\"colorbar\":{\"outlinewidth\":0,\"ticks\":\"\"}},\"marker\":{\"colorbar\":{\"outlinewidth\":0,\"ticks\":\"\"}}}],\"scattermapbox\":[{\"type\":\"scattermapbox\",\"marker\":{\"colorbar\":{\"outlinewidth\":0,\"ticks\":\"\"}}}],\"scatterternary\":[{\"type\":\"scatterternary\",\"marker\":{\"colorbar\":{\"outlinewidth\":0,\"ticks\":\"\"}}}],\"scattercarpet\":[{\"type\":\"scattercarpet\",\"marker\":{\"colorbar\":{\"outlinewidth\":0,\"ticks\":\"\"}}}],\"carpet\":[{\"aaxis\":{\"endlinecolor\":\"#2a3f5f\",\"gridcolor\":\"white\",\"linecolor\":\"white\",\"minorgridcolor\":\"white\",\"startlinecolor\":\"#2a3f5f\"},\"baxis\":{\"endlinecolor\":\"#2a3f5f\",\"gridcolor\":\"white\",\"linecolor\":\"white\",\"minorgridcolor\":\"white\",\"startlinecolor\":\"#2a3f5f\"},\"type\":\"carpet\"}],\"table\":[{\"cells\":{\"fill\":{\"color\":\"#EBF0F8\"},\"line\":{\"color\":\"white\"}},\"header\":{\"fill\":{\"color\":\"#C8D4E3\"},\"line\":{\"color\":\"white\"}},\"type\":\"table\"}],\"barpolar\":[{\"marker\":{\"line\":{\"color\":\"#E5ECF6\",\"width\":0.5},\"pattern\":{\"fillmode\":\"overlay\",\"size\":10,\"solidity\":0.2}},\"type\":\"barpolar\"}],\"pie\":[{\"automargin\":true,\"type\":\"pie\"}]},\"layout\":{\"autotypenumbers\":\"strict\",\"colorway\":[\"#636efa\",\"#EF553B\",\"#00cc96\",\"#ab63fa\",\"#FFA15A\",\"#19d3f3\",\"#FF6692\",\"#B6E880\",\"#FF97FF\",\"#FECB52\"],\"font\":{\"color\":\"#2a3f5f\"},\"hovermode\":\"closest\",\"hoverlabel\":{\"align\":\"left\"},\"paper_bgcolor\":\"white\",\"plot_bgcolor\":\"#E5ECF6\",\"polar\":{\"bgcolor\":\"#E5ECF6\",\"angularaxis\":{\"gridcolor\":\"white\",\"linecolor\":\"white\",\"ticks\":\"\"},\"radialaxis\":{\"gridcolor\":\"white\",\"linecolor\":\"white\",\"ticks\":\"\"}},\"ternary\":{\"bgcolor\":\"#E5ECF6\",\"aaxis\":{\"gridcolor\":\"white\",\"linecolor\":\"white\",\"ticks\":\"\"},\"baxis\":{\"gridcolor\":\"white\",\"linecolor\":\"white\",\"ticks\":\"\"},\"caxis\":{\"gridcolor\":\"white\",\"linecolor\":\"white\",\"ticks\":\"\"}},\"coloraxis\":{\"colorbar\":{\"outlinewidth\":0,\"ticks\":\"\"}},\"colorscale\":{\"sequential\":[[0.0,\"#0d0887\"],[0.1111111111111111,\"#46039f\"],[0.2222222222222222,\"#7201a8\"],[0.3333333333333333,\"#9c179e\"],[0.4444444444444444,\"#bd3786\"],[0.5555555555555556,\"#d8576b\"],[0.6666666666666666,\"#ed7953\"],[0.7777777777777778,\"#fb9f3a\"],[0.8888888888888888,\"#fdca26\"],[1.0,\"#f0f921\"]],\"sequentialminus\":[[0.0,\"#0d0887\"],[0.1111111111111111,\"#46039f\"],[0.2222222222222222,\"#7201a8\"],[0.3333333333333333,\"#9c179e\"],[0.4444444444444444,\"#bd3786\"],[0.5555555555555556,\"#d8576b\"],[0.6666666666666666,\"#ed7953\"],[0.7777777777777778,\"#fb9f3a\"],[0.8888888888888888,\"#fdca26\"],[1.0,\"#f0f921\"]],\"diverging\":[[0,\"#8e0152\"],[0.1,\"#c51b7d\"],[0.2,\"#de77ae\"],[0.3,\"#f1b6da\"],[0.4,\"#fde0ef\"],[0.5,\"#f7f7f7\"],[0.6,\"#e6f5d0\"],[0.7,\"#b8e186\"],[0.8,\"#7fbc41\"],[0.9,\"#4d9221\"],[1,\"#276419\"]]},\"xaxis\":{\"gridcolor\":\"white\",\"linecolor\":\"white\",\"ticks\":\"\",\"title\":{\"standoff\":15},\"zerolinecolor\":\"white\",\"automargin\":true,\"zerolinewidth\":2},\"yaxis\":{\"gridcolor\":\"white\",\"linecolor\":\"white\",\"ticks\":\"\",\"title\":{\"standoff\":15},\"zerolinecolor\":\"white\",\"automargin\":true,\"zerolinewidth\":2},\"scene\":{\"xaxis\":{\"backgroundcolor\":\"#E5ECF6\",\"gridcolor\":\"white\",\"linecolor\":\"white\",\"showbackground\":true,\"ticks\":\"\",\"zerolinecolor\":\"white\",\"gridwidth\":2},\"yaxis\":{\"backgroundcolor\":\"#E5ECF6\",\"gridcolor\":\"white\",\"linecolor\":\"white\",\"showbackground\":true,\"ticks\":\"\",\"zerolinecolor\":\"white\",\"gridwidth\":2},\"zaxis\":{\"backgroundcolor\":\"#E5ECF6\",\"gridcolor\":\"white\",\"linecolor\":\"white\",\"showbackground\":true,\"ticks\":\"\",\"zerolinecolor\":\"white\",\"gridwidth\":2}},\"shapedefaults\":{\"line\":{\"color\":\"#2a3f5f\"}},\"annotationdefaults\":{\"arrowcolor\":\"#2a3f5f\",\"arrowhead\":0,\"arrowwidth\":1},\"geo\":{\"bgcolor\":\"white\",\"landcolor\":\"#E5ECF6\",\"subunitcolor\":\"white\",\"showland\":true,\"showlakes\":true,\"lakecolor\":\"white\"},\"title\":{\"x\":0.05},\"mapbox\":{\"style\":\"light\"}}},\"xaxis\":{\"anchor\":\"y\",\"domain\":[0.0,1.0],\"title\":{\"text\":\"ANIMALTYPE\"}},\"yaxis\":{\"anchor\":\"x\",\"domain\":[0.0,1.0],\"title\":{\"text\":\"COUNT\"}},\"legend\":{\"tracegroupgap\":0},\"margin\":{\"t\":60},\"barmode\":\"relative\"},                        {\"responsive\": true}                    ).then(function(){\n",
       "                            \n",
       "var gd = document.getElementById('4021a629-c6c1-4501-8260-7bd4c6cc2c75');\n",
       "var x = new MutationObserver(function (mutations, observer) {{\n",
       "        var display = window.getComputedStyle(gd).display;\n",
       "        if (!display || display === 'none') {{\n",
       "            console.log([gd, 'removed!']);\n",
       "            Plotly.purge(gd);\n",
       "            observer.disconnect();\n",
       "        }}\n",
       "}});\n",
       "\n",
       "// Listen for the removal of the full notebook cells\n",
       "var notebookContainer = gd.closest('#notebook-container');\n",
       "if (notebookContainer) {{\n",
       "    x.observe(notebookContainer, {childList: true});\n",
       "}}\n",
       "\n",
       "// Listen for the clearing of the current output cell\n",
       "var outputEl = gd.closest('.output');\n",
       "if (outputEl) {{\n",
       "    x.observe(outputEl, {childList: true});\n",
       "}}\n",
       "\n",
       "                        })                };                });            </script>        </div>"
      ]
     },
     "metadata": {},
     "output_type": "display_data"
    },
    {
     "data": {
      "text/html": [
       "<div>\n",
       "<style scoped>\n",
       "    .dataframe tbody tr th:only-of-type {\n",
       "        vertical-align: middle;\n",
       "    }\n",
       "\n",
       "    .dataframe tbody tr th {\n",
       "        vertical-align: top;\n",
       "    }\n",
       "\n",
       "    .dataframe thead th {\n",
       "        text-align: right;\n",
       "    }\n",
       "</style>\n",
       "<table border=\"1\" class=\"dataframe\">\n",
       "  <thead>\n",
       "    <tr style=\"text-align: right;\">\n",
       "      <th></th>\n",
       "      <th>ANIMALTYPE</th>\n",
       "      <th>COUNT</th>\n",
       "      <th>PCT</th>\n",
       "    </tr>\n",
       "  </thead>\n",
       "  <tbody>\n",
       "    <tr>\n",
       "      <th>0</th>\n",
       "      <td>Dog</td>\n",
       "      <td>65251</td>\n",
       "      <td>56.37</td>\n",
       "    </tr>\n",
       "    <tr>\n",
       "      <th>1</th>\n",
       "      <td>Cat</td>\n",
       "      <td>43754</td>\n",
       "      <td>37.80</td>\n",
       "    </tr>\n",
       "    <tr>\n",
       "      <th>2</th>\n",
       "      <td>Other</td>\n",
       "      <td>6171</td>\n",
       "      <td>5.33</td>\n",
       "    </tr>\n",
       "    <tr>\n",
       "      <th>3</th>\n",
       "      <td>Bird</td>\n",
       "      <td>553</td>\n",
       "      <td>0.48</td>\n",
       "    </tr>\n",
       "    <tr>\n",
       "      <th>4</th>\n",
       "      <td>Livestock</td>\n",
       "      <td>17</td>\n",
       "      <td>0.01</td>\n",
       "    </tr>\n",
       "  </tbody>\n",
       "</table>\n",
       "</div>"
      ],
      "text/plain": [
       "  ANIMALTYPE  COUNT    PCT\n",
       "0        Dog  65251  56.37\n",
       "1        Cat  43754  37.80\n",
       "2      Other   6171   5.33\n",
       "3       Bird    553   0.48\n",
       "4  Livestock     17   0.01"
      ]
     },
     "execution_count": 225,
     "metadata": {},
     "output_type": "execute_result"
    }
   ],
   "source": [
    "##############################################################\n",
    "# Exploring Animal Type in the IntakeData\n",
    "##############################################################\n",
    "# Comments \n",
    "# --------\n",
    "# Predominantly the data is skeweed towards dogs with almost 70K records \n",
    "# probably analysis could be restricted to dogs only (or even add cats)\n",
    "##############################################################\n",
    "animalcounts = dfAnimals.ANIMALTYPE.value_counts()\n",
    "animalcounts = animalcounts.reset_index()\n",
    "animalcounts.columns = [\"ANIMALTYPE\",\"COUNT\"]\n",
    "animalcounts['PCT'] = np.round(100.0*animalcounts['COUNT']/animalcounts['COUNT'].sum(),2)\n",
    "fig = px.bar(animalcounts, x='ANIMALTYPE', y='COUNT', text=animalcounts['PCT'].apply(lambda x: '{0:1.2f}%'.format(x)))\n",
    "fig.show()\n",
    "\n",
    "animalcounts"
   ]
  },
  {
   "cell_type": "markdown",
   "id": "de65d4e4",
   "metadata": {},
   "source": [
    "# Restricting Analysis to Dogs\n"
   ]
  },
  {
   "cell_type": "code",
   "execution_count": 226,
   "id": "b7b9aeaa",
   "metadata": {},
   "outputs": [],
   "source": [
    "filterlogic = dfAnimals.ANIMALTYPE.isin(['Dog'])\n",
    "dfAnimals = dfAnimals[filterlogic]"
   ]
  },
  {
   "cell_type": "markdown",
   "id": "b7491bb4",
   "metadata": {},
   "source": [
    "# Exploring Columns of the dataset"
   ]
  },
  {
   "cell_type": "code",
   "execution_count": 227,
   "id": "80caec94",
   "metadata": {},
   "outputs": [
    {
     "name": "stdout",
     "output_type": "stream",
     "text": [
      "<class 'pandas.core.frame.DataFrame'>\n",
      "Int64Index: 65251 entries, 0 to 123590\n",
      "Data columns (total 18 columns):\n",
      " #   Column            Non-Null Count  Dtype         \n",
      "---  ------            --------------  -----         \n",
      " 0   ANIMALID          65251 non-null  object        \n",
      " 1   DATETIME_INTAKE   65251 non-null  datetime64[ns]\n",
      " 2   LOCATION          65251 non-null  object        \n",
      " 3   INTAKETYPE        65251 non-null  object        \n",
      " 4   INTAKECONDITION   65251 non-null  object        \n",
      " 5   ANIMALTYPE        65251 non-null  object        \n",
      " 6   SEXINTAKE         65250 non-null  object        \n",
      " 7   AGEINTAKE         65248 non-null  float64       \n",
      " 8   BREED             65251 non-null  object        \n",
      " 9   COLOR             65251 non-null  object        \n",
      " 10  PREVHIST          65251 non-null  float64       \n",
      " 11  DATETIME_OUTCOME  65251 non-null  datetime64[ns]\n",
      " 12  DOB               65251 non-null  object        \n",
      " 13  OUTCOMETYPE       65239 non-null  object        \n",
      " 14  OUTCOMESUBTYPE    21286 non-null  object        \n",
      " 15  SEXOUTCOME        65250 non-null  object        \n",
      " 16  AGEOUTCOME        65248 non-null  float64       \n",
      " 17  DAYS_STAY         65251 non-null  int64         \n",
      "dtypes: datetime64[ns](2), float64(3), int64(1), object(12)\n",
      "memory usage: 9.5+ MB\n"
     ]
    }
   ],
   "source": [
    "dfAnimals.info()"
   ]
  },
  {
   "attachments": {
    "Features.png": {
     "image/png": "[encoded data removed]"
    }
   },
   "cell_type": "markdown",
   "id": "994422ef",
   "metadata": {},
   "source": [
    "![Features.png](attachment:Features.png)"
   ]
  },
  {
   "cell_type": "markdown",
   "id": "18576b0b",
   "metadata": {},
   "source": [
    "# Exploring \"INTAKE_TYPE\" of Dogs\n"
   ]
  },
  {
   "cell_type": "code",
   "execution_count": 228,
   "id": "030dd29e",
   "metadata": {},
   "outputs": [
    {
     "data": {
      "application/vnd.plotly.v1+json": {
       "config": {
        "plotlyServerURL": "https://plot.ly"
       },
       "data": [
        {
         "alignmentgroup": "True",
         "hovertemplate": "INTAKETYPE=%{x}<br>COUNT=%{y}<br>text=%{text}<extra></extra>",
         "legendgroup": "",
         "marker": {
          "color": "#636efa",
          "pattern": {
           "shape": ""
          }
         },
         "name": "",
         "offsetgroup": "",
         "orientation": "v",
         "showlegend": false,
         "text": [
          "69.40%",
          "21.20%",
          "8.96%",
          "0.22%",
          "0.22%"
         ],
         "textposition": "auto",
         "type": "bar",
         "x": [
          "Stray",
          "Owner Surrender",
          "Public Assist",
          "Abandoned",
          "Euthanasia Request"
         ],
         "xaxis": "x",
         "y": [
          45286,
          13832,
          5846,
          144,
          143
         ],
         "yaxis": "y"
        }
       ],
       "layout": {
        "barmode": "relative",
        "legend": {
         "tracegroupgap": 0
        },
        "margin": {
         "t": 60
        },
        "template": {
         "data": {
          "bar": [
           {
            "error_x": {
             "color": "#2a3f5f"
            },
            "error_y": {
             "color": "#2a3f5f"
            },
            "marker": {
             "line": {
              "color": "#E5ECF6",
              "width": 0.5
             },
             "pattern": {
              "fillmode": "overlay",
              "size": 10,
              "solidity": 0.2
             }
            },
            "type": "bar"
           }
          ],
          "barpolar": [
           {
            "marker": {
             "line": {
              "color": "#E5ECF6",
              "width": 0.5
             },
             "pattern": {
              "fillmode": "overlay",
              "size": 10,
              "solidity": 0.2
             }
            },
            "type": "barpolar"
           }
          ],
          "carpet": [
           {
            "aaxis": {
             "endlinecolor": "#2a3f5f",
             "gridcolor": "white",
             "linecolor": "white",
             "minorgridcolor": "white",
             "startlinecolor": "#2a3f5f"
            },
            "baxis": {
             "endlinecolor": "#2a3f5f",
             "gridcolor": "white",
             "linecolor": "white",
             "minorgridcolor": "white",
             "startlinecolor": "#2a3f5f"
            },
            "type": "carpet"
           }
          ],
          "choropleth": [
           {
            "colorbar": {
             "outlinewidth": 0,
             "ticks": ""
            },
            "type": "choropleth"
           }
          ],
          "contour": [
           {
            "colorbar": {
             "outlinewidth": 0,
             "ticks": ""
            },
            "colorscale": [
             [
              0,
              "#0d0887"
             ],
             [
              0.1111111111111111,
              "#46039f"
             ],
             [
              0.2222222222222222,
              "#7201a8"
             ],
             [
              0.3333333333333333,
              "#9c179e"
             ],
             [
              0.4444444444444444,
              "#bd3786"
             ],
             [
              0.5555555555555556,
              "#d8576b"
             ],
             [
              0.6666666666666666,
              "#ed7953"
             ],
             [
              0.7777777777777778,
              "#fb9f3a"
             ],
             [
              0.8888888888888888,
              "#fdca26"
             ],
             [
              1,
              "#f0f921"
             ]
            ],
            "type": "contour"
           }
          ],
          "contourcarpet": [
           {
            "colorbar": {
             "outlinewidth": 0,
             "ticks": ""
            },
            "type": "contourcarpet"
           }
          ],
          "heatmap": [
           {
            "colorbar": {
             "outlinewidth": 0,
             "ticks": ""
            },
            "colorscale": [
             [
              0,
              "#0d0887"
             ],
             [
              0.1111111111111111,
              "#46039f"
             ],
             [
              0.2222222222222222,
              "#7201a8"
             ],
             [
              0.3333333333333333,
              "#9c179e"
             ],
             [
              0.4444444444444444,
              "#bd3786"
             ],
             [
              0.5555555555555556,
              "#d8576b"
             ],
             [
              0.6666666666666666,
              "#ed7953"
             ],
             [
              0.7777777777777778,
              "#fb9f3a"
             ],
             [
              0.8888888888888888,
              "#fdca26"
             ],
             [
              1,
              "#f0f921"
             ]
            ],
            "type": "heatmap"
           }
          ],
          "heatmapgl": [
           {
            "colorbar": {
             "outlinewidth": 0,
             "ticks": ""
            },
            "colorscale": [
             [
              0,
              "#0d0887"
             ],
             [
              0.1111111111111111,
              "#46039f"
             ],
             [
              0.2222222222222222,
              "#7201a8"
             ],
             [
              0.3333333333333333,
              "#9c179e"
             ],
             [
              0.4444444444444444,
              "#bd3786"
             ],
             [
              0.5555555555555556,
              "#d8576b"
             ],
             [
              0.6666666666666666,
              "#ed7953"
             ],
             [
              0.7777777777777778,
              "#fb9f3a"
             ],
             [
              0.8888888888888888,
              "#fdca26"
             ],
             [
              1,
              "#f0f921"
             ]
            ],
            "type": "heatmapgl"
           }
          ],
          "histogram": [
           {
            "marker": {
             "pattern": {
              "fillmode": "overlay",
              "size": 10,
              "solidity": 0.2
             }
            },
            "type": "histogram"
           }
          ],
          "histogram2d": [
           {
            "colorbar": {
             "outlinewidth": 0,
             "ticks": ""
            },
            "colorscale": [
             [
              0,
              "#0d0887"
             ],
             [
              0.1111111111111111,
              "#46039f"
             ],
             [
              0.2222222222222222,
              "#7201a8"
             ],
             [
              0.3333333333333333,
              "#9c179e"
             ],
             [
              0.4444444444444444,
              "#bd3786"
             ],
             [
              0.5555555555555556,
              "#d8576b"
             ],
             [
              0.6666666666666666,
              "#ed7953"
             ],
             [
              0.7777777777777778,
              "#fb9f3a"
             ],
             [
              0.8888888888888888,
              "#fdca26"
             ],
             [
              1,
              "#f0f921"
             ]
            ],
            "type": "histogram2d"
           }
          ],
          "histogram2dcontour": [
           {
            "colorbar": {
             "outlinewidth": 0,
             "ticks": ""
            },
            "colorscale": [
             [
              0,
              "#0d0887"
             ],
             [
              0.1111111111111111,
              "#46039f"
             ],
             [
              0.2222222222222222,
              "#7201a8"
             ],
             [
              0.3333333333333333,
              "#9c179e"
             ],
             [
              0.4444444444444444,
              "#bd3786"
             ],
             [
              0.5555555555555556,
              "#d8576b"
             ],
             [
              0.6666666666666666,
              "#ed7953"
             ],
             [
              0.7777777777777778,
              "#fb9f3a"
             ],
             [
              0.8888888888888888,
              "#fdca26"
             ],
             [
              1,
              "#f0f921"
             ]
            ],
            "type": "histogram2dcontour"
           }
          ],
          "mesh3d": [
           {
            "colorbar": {
             "outlinewidth": 0,
             "ticks": ""
            },
            "type": "mesh3d"
           }
          ],
          "parcoords": [
           {
            "line": {
             "colorbar": {
              "outlinewidth": 0,
              "ticks": ""
             }
            },
            "type": "parcoords"
           }
          ],
          "pie": [
           {
            "automargin": true,
            "type": "pie"
           }
          ],
          "scatter": [
           {
            "fillpattern": {
             "fillmode": "overlay",
             "size": 10,
             "solidity": 0.2
            },
            "type": "scatter"
           }
          ],
          "scatter3d": [
           {
            "line": {
             "colorbar": {
              "outlinewidth": 0,
              "ticks": ""
             }
            },
            "marker": {
             "colorbar": {
              "outlinewidth": 0,
              "ticks": ""
             }
            },
            "type": "scatter3d"
           }
          ],
          "scattercarpet": [
           {
            "marker": {
             "colorbar": {
              "outlinewidth": 0,
              "ticks": ""
             }
            },
            "type": "scattercarpet"
           }
          ],
          "scattergeo": [
           {
            "marker": {
             "colorbar": {
              "outlinewidth": 0,
              "ticks": ""
             }
            },
            "type": "scattergeo"
           }
          ],
          "scattergl": [
           {
            "marker": {
             "colorbar": {
              "outlinewidth": 0,
              "ticks": ""
             }
            },
            "type": "scattergl"
           }
          ],
          "scattermapbox": [
           {
            "marker": {
             "colorbar": {
              "outlinewidth": 0,
              "ticks": ""
             }
            },
            "type": "scattermapbox"
           }
          ],
          "scatterpolar": [
           {
            "marker": {
             "colorbar": {
              "outlinewidth": 0,
              "ticks": ""
             }
            },
            "type": "scatterpolar"
           }
          ],
          "scatterpolargl": [
           {
            "marker": {
             "colorbar": {
              "outlinewidth": 0,
              "ticks": ""
             }
            },
            "type": "scatterpolargl"
           }
          ],
          "scatterternary": [
           {
            "marker": {
             "colorbar": {
              "outlinewidth": 0,
              "ticks": ""
             }
            },
            "type": "scatterternary"
           }
          ],
          "surface": [
           {
            "colorbar": {
             "outlinewidth": 0,
             "ticks": ""
            },
            "colorscale": [
             [
              0,
              "#0d0887"
             ],
             [
              0.1111111111111111,
              "#46039f"
             ],
             [
              0.2222222222222222,
              "#7201a8"
             ],
             [
              0.3333333333333333,
              "#9c179e"
             ],
             [
              0.4444444444444444,
              "#bd3786"
             ],
             [
              0.5555555555555556,
              "#d8576b"
             ],
             [
              0.6666666666666666,
              "#ed7953"
             ],
             [
              0.7777777777777778,
              "#fb9f3a"
             ],
             [
              0.8888888888888888,
              "#fdca26"
             ],
             [
              1,
              "#f0f921"
             ]
            ],
            "type": "surface"
           }
          ],
          "table": [
           {
            "cells": {
             "fill": {
              "color": "#EBF0F8"
             },
             "line": {
              "color": "white"
             }
            },
            "header": {
             "fill": {
              "color": "#C8D4E3"
             },
             "line": {
              "color": "white"
             }
            },
            "type": "table"
           }
          ]
         },
         "layout": {
          "annotationdefaults": {
           "arrowcolor": "#2a3f5f",
           "arrowhead": 0,
           "arrowwidth": 1
          },
          "autotypenumbers": "strict",
          "coloraxis": {
           "colorbar": {
            "outlinewidth": 0,
            "ticks": ""
           }
          },
          "colorscale": {
           "diverging": [
            [
             0,
             "#8e0152"
            ],
            [
             0.1,
             "#c51b7d"
            ],
            [
             0.2,
             "#de77ae"
            ],
            [
             0.3,
             "#f1b6da"
            ],
            [
             0.4,
             "#fde0ef"
            ],
            [
             0.5,
             "#f7f7f7"
            ],
            [
             0.6,
             "#e6f5d0"
            ],
            [
             0.7,
             "#b8e186"
            ],
            [
             0.8,
             "#7fbc41"
            ],
            [
             0.9,
             "#4d9221"
            ],
            [
             1,
             "#276419"
            ]
           ],
           "sequential": [
            [
             0,
             "#0d0887"
            ],
            [
             0.1111111111111111,
             "#46039f"
            ],
            [
             0.2222222222222222,
             "#7201a8"
            ],
            [
             0.3333333333333333,
             "#9c179e"
            ],
            [
             0.4444444444444444,
             "#bd3786"
            ],
            [
             0.5555555555555556,
             "#d8576b"
            ],
            [
             0.6666666666666666,
             "#ed7953"
            ],
            [
             0.7777777777777778,
             "#fb9f3a"
            ],
            [
             0.8888888888888888,
             "#fdca26"
            ],
            [
             1,
             "#f0f921"
            ]
           ],
           "sequentialminus": [
            [
             0,
             "#0d0887"
            ],
            [
             0.1111111111111111,
             "#46039f"
            ],
            [
             0.2222222222222222,
             "#7201a8"
            ],
            [
             0.3333333333333333,
             "#9c179e"
            ],
            [
             0.4444444444444444,
             "#bd3786"
            ],
            [
             0.5555555555555556,
             "#d8576b"
            ],
            [
             0.6666666666666666,
             "#ed7953"
            ],
            [
             0.7777777777777778,
             "#fb9f3a"
            ],
            [
             0.8888888888888888,
             "#fdca26"
            ],
            [
             1,
             "#f0f921"
            ]
           ]
          },
          "colorway": [
           "#636efa",
           "#EF553B",
           "#00cc96",
           "#ab63fa",
           "#FFA15A",
           "#19d3f3",
           "#FF6692",
           "#B6E880",
           "#FF97FF",
           "#FECB52"
          ],
          "font": {
           "color": "#2a3f5f"
          },
          "geo": {
           "bgcolor": "white",
           "lakecolor": "white",
           "landcolor": "#E5ECF6",
           "showlakes": true,
           "showland": true,
           "subunitcolor": "white"
          },
          "hoverlabel": {
           "align": "left"
          },
          "hovermode": "closest",
          "mapbox": {
           "style": "light"
          },
          "paper_bgcolor": "white",
          "plot_bgcolor": "#E5ECF6",
          "polar": {
           "angularaxis": {
            "gridcolor": "white",
            "linecolor": "white",
            "ticks": ""
           },
           "bgcolor": "#E5ECF6",
           "radialaxis": {
            "gridcolor": "white",
            "linecolor": "white",
            "ticks": ""
           }
          },
          "scene": {
           "xaxis": {
            "backgroundcolor": "#E5ECF6",
            "gridcolor": "white",
            "gridwidth": 2,
            "linecolor": "white",
            "showbackground": true,
            "ticks": "",
            "zerolinecolor": "white"
           },
           "yaxis": {
            "backgroundcolor": "#E5ECF6",
            "gridcolor": "white",
            "gridwidth": 2,
            "linecolor": "white",
            "showbackground": true,
            "ticks": "",
            "zerolinecolor": "white"
           },
           "zaxis": {
            "backgroundcolor": "#E5ECF6",
            "gridcolor": "white",
            "gridwidth": 2,
            "linecolor": "white",
            "showbackground": true,
            "ticks": "",
            "zerolinecolor": "white"
           }
          },
          "shapedefaults": {
           "line": {
            "color": "#2a3f5f"
           }
          },
          "ternary": {
           "aaxis": {
            "gridcolor": "white",
            "linecolor": "white",
            "ticks": ""
           },
           "baxis": {
            "gridcolor": "white",
            "linecolor": "white",
            "ticks": ""
           },
           "bgcolor": "#E5ECF6",
           "caxis": {
            "gridcolor": "white",
            "linecolor": "white",
            "ticks": ""
           }
          },
          "title": {
           "x": 0.05
          },
          "xaxis": {
           "automargin": true,
           "gridcolor": "white",
           "linecolor": "white",
           "ticks": "",
           "title": {
            "standoff": 15
           },
           "zerolinecolor": "white",
           "zerolinewidth": 2
          },
          "yaxis": {
           "automargin": true,
           "gridcolor": "white",
           "linecolor": "white",
           "ticks": "",
           "title": {
            "standoff": 15
           },
           "zerolinecolor": "white",
           "zerolinewidth": 2
          }
         }
        },
        "xaxis": {
         "anchor": "y",
         "domain": [
          0,
          1
         ],
         "title": {
          "text": "INTAKETYPE"
         }
        },
        "yaxis": {
         "anchor": "x",
         "domain": [
          0,
          1
         ],
         "title": {
          "text": "COUNT"
         }
        }
       }
      },
      "text/html": [
       "<div>                            <div id=\"0b732c57-3675-4b92-8588-2b3ae4b35d23\" class=\"plotly-graph-div\" style=\"height:525px; width:100%;\"></div>            <script type=\"text/javascript\">                require([\"plotly\"], function(Plotly) {                    window.PLOTLYENV=window.PLOTLYENV || {};                                    if (document.getElementById(\"0b732c57-3675-4b92-8588-2b3ae4b35d23\")) {                    Plotly.newPlot(                        \"0b732c57-3675-4b92-8588-2b3ae4b35d23\",                        [{\"alignmentgroup\":\"True\",\"hovertemplate\":\"INTAKETYPE=%{x}<br>COUNT=%{y}<br>text=%{text}<extra></extra>\",\"legendgroup\":\"\",\"marker\":{\"color\":\"#636efa\",\"pattern\":{\"shape\":\"\"}},\"name\":\"\",\"offsetgroup\":\"\",\"orientation\":\"v\",\"showlegend\":false,\"text\":[\"69.40%\",\"21.20%\",\"8.96%\",\"0.22%\",\"0.22%\"],\"textposition\":\"auto\",\"x\":[\"Stray\",\"Owner Surrender\",\"Public Assist\",\"Abandoned\",\"Euthanasia Request\"],\"xaxis\":\"x\",\"y\":[45286,13832,5846,144,143],\"yaxis\":\"y\",\"type\":\"bar\"}],                        {\"template\":{\"data\":{\"histogram2dcontour\":[{\"type\":\"histogram2dcontour\",\"colorbar\":{\"outlinewidth\":0,\"ticks\":\"\"},\"colorscale\":[[0.0,\"#0d0887\"],[0.1111111111111111,\"#46039f\"],[0.2222222222222222,\"#7201a8\"],[0.3333333333333333,\"#9c179e\"],[0.4444444444444444,\"#bd3786\"],[0.5555555555555556,\"#d8576b\"],[0.6666666666666666,\"#ed7953\"],[0.7777777777777778,\"#fb9f3a\"],[0.8888888888888888,\"#fdca26\"],[1.0,\"#f0f921\"]]}],\"choropleth\":[{\"type\":\"choropleth\",\"colorbar\":{\"outlinewidth\":0,\"ticks\":\"\"}}],\"histogram2d\":[{\"type\":\"histogram2d\",\"colorbar\":{\"outlinewidth\":0,\"ticks\":\"\"},\"colorscale\":[[0.0,\"#0d0887\"],[0.1111111111111111,\"#46039f\"],[0.2222222222222222,\"#7201a8\"],[0.3333333333333333,\"#9c179e\"],[0.4444444444444444,\"#bd3786\"],[0.5555555555555556,\"#d8576b\"],[0.6666666666666666,\"#ed7953\"],[0.7777777777777778,\"#fb9f3a\"],[0.8888888888888888,\"#fdca26\"],[1.0,\"#f0f921\"]]}],\"heatmap\":[{\"type\":\"heatmap\",\"colorbar\":{\"outlinewidth\":0,\"ticks\":\"\"},\"colorscale\":[[0.0,\"#0d0887\"],[0.1111111111111111,\"#46039f\"],[0.2222222222222222,\"#7201a8\"],[0.3333333333333333,\"#9c179e\"],[0.4444444444444444,\"#bd3786\"],[0.5555555555555556,\"#d8576b\"],[0.6666666666666666,\"#ed7953\"],[0.7777777777777778,\"#fb9f3a\"],[0.8888888888888888,\"#fdca26\"],[1.0,\"#f0f921\"]]}],\"heatmapgl\":[{\"type\":\"heatmapgl\",\"colorbar\":{\"outlinewidth\":0,\"ticks\":\"\"},\"colorscale\":[[0.0,\"#0d0887\"],[0.1111111111111111,\"#46039f\"],[0.2222222222222222,\"#7201a8\"],[0.3333333333333333,\"#9c179e\"],[0.4444444444444444,\"#bd3786\"],[0.5555555555555556,\"#d8576b\"],[0.6666666666666666,\"#ed7953\"],[0.7777777777777778,\"#fb9f3a\"],[0.8888888888888888,\"#fdca26\"],[1.0,\"#f0f921\"]]}],\"contourcarpet\":[{\"type\":\"contourcarpet\",\"colorbar\":{\"outlinewidth\":0,\"ticks\":\"\"}}],\"contour\":[{\"type\":\"contour\",\"colorbar\":{\"outlinewidth\":0,\"ticks\":\"\"},\"colorscale\":[[0.0,\"#0d0887\"],[0.1111111111111111,\"#46039f\"],[0.2222222222222222,\"#7201a8\"],[0.3333333333333333,\"#9c179e\"],[0.4444444444444444,\"#bd3786\"],[0.5555555555555556,\"#d8576b\"],[0.6666666666666666,\"#ed7953\"],[0.7777777777777778,\"#fb9f3a\"],[0.8888888888888888,\"#fdca26\"],[1.0,\"#f0f921\"]]}],\"surface\":[{\"type\":\"surface\",\"colorbar\":{\"outlinewidth\":0,\"ticks\":\"\"},\"colorscale\":[[0.0,\"#0d0887\"],[0.1111111111111111,\"#46039f\"],[0.2222222222222222,\"#7201a8\"],[0.3333333333333333,\"#9c179e\"],[0.4444444444444444,\"#bd3786\"],[0.5555555555555556,\"#d8576b\"],[0.6666666666666666,\"#ed7953\"],[0.7777777777777778,\"#fb9f3a\"],[0.8888888888888888,\"#fdca26\"],[1.0,\"#f0f921\"]]}],\"mesh3d\":[{\"type\":\"mesh3d\",\"colorbar\":{\"outlinewidth\":0,\"ticks\":\"\"}}],\"scatter\":[{\"fillpattern\":{\"fillmode\":\"overlay\",\"size\":10,\"solidity\":0.2},\"type\":\"scatter\"}],\"parcoords\":[{\"type\":\"parcoords\",\"line\":{\"colorbar\":{\"outlinewidth\":0,\"ticks\":\"\"}}}],\"scatterpolargl\":[{\"type\":\"scatterpolargl\",\"marker\":{\"colorbar\":{\"outlinewidth\":0,\"ticks\":\"\"}}}],\"bar\":[{\"error_x\":{\"color\":\"#2a3f5f\"},\"error_y\":{\"color\":\"#2a3f5f\"},\"marker\":{\"line\":{\"color\":\"#E5ECF6\",\"width\":0.5},\"pattern\":{\"fillmode\":\"overlay\",\"size\":10,\"solidity\":0.2}},\"type\":\"bar\"}],\"scattergeo\":[{\"type\":\"scattergeo\",\"marker\":{\"colorbar\":{\"outlinewidth\":0,\"ticks\":\"\"}}}],\"scatterpolar\":[{\"type\":\"scatterpolar\",\"marker\":{\"colorbar\":{\"outlinewidth\":0,\"ticks\":\"\"}}}],\"histogram\":[{\"marker\":{\"pattern\":{\"fillmode\":\"overlay\",\"size\":10,\"solidity\":0.2}},\"type\":\"histogram\"}],\"scattergl\":[{\"type\":\"scattergl\",\"marker\":{\"colorbar\":{\"outlinewidth\":0,\"ticks\":\"\"}}}],\"scatter3d\":[{\"type\":\"scatter3d\",\"line\":{\"colorbar\":{\"outlinewidth\":0,\"ticks\":\"\"}},\"marker\":{\"colorbar\":{\"outlinewidth\":0,\"ticks\":\"\"}}}],\"scattermapbox\":[{\"type\":\"scattermapbox\",\"marker\":{\"colorbar\":{\"outlinewidth\":0,\"ticks\":\"\"}}}],\"scatterternary\":[{\"type\":\"scatterternary\",\"marker\":{\"colorbar\":{\"outlinewidth\":0,\"ticks\":\"\"}}}],\"scattercarpet\":[{\"type\":\"scattercarpet\",\"marker\":{\"colorbar\":{\"outlinewidth\":0,\"ticks\":\"\"}}}],\"carpet\":[{\"aaxis\":{\"endlinecolor\":\"#2a3f5f\",\"gridcolor\":\"white\",\"linecolor\":\"white\",\"minorgridcolor\":\"white\",\"startlinecolor\":\"#2a3f5f\"},\"baxis\":{\"endlinecolor\":\"#2a3f5f\",\"gridcolor\":\"white\",\"linecolor\":\"white\",\"minorgridcolor\":\"white\",\"startlinecolor\":\"#2a3f5f\"},\"type\":\"carpet\"}],\"table\":[{\"cells\":{\"fill\":{\"color\":\"#EBF0F8\"},\"line\":{\"color\":\"white\"}},\"header\":{\"fill\":{\"color\":\"#C8D4E3\"},\"line\":{\"color\":\"white\"}},\"type\":\"table\"}],\"barpolar\":[{\"marker\":{\"line\":{\"color\":\"#E5ECF6\",\"width\":0.5},\"pattern\":{\"fillmode\":\"overlay\",\"size\":10,\"solidity\":0.2}},\"type\":\"barpolar\"}],\"pie\":[{\"automargin\":true,\"type\":\"pie\"}]},\"layout\":{\"autotypenumbers\":\"strict\",\"colorway\":[\"#636efa\",\"#EF553B\",\"#00cc96\",\"#ab63fa\",\"#FFA15A\",\"#19d3f3\",\"#FF6692\",\"#B6E880\",\"#FF97FF\",\"#FECB52\"],\"font\":{\"color\":\"#2a3f5f\"},\"hovermode\":\"closest\",\"hoverlabel\":{\"align\":\"left\"},\"paper_bgcolor\":\"white\",\"plot_bgcolor\":\"#E5ECF6\",\"polar\":{\"bgcolor\":\"#E5ECF6\",\"angularaxis\":{\"gridcolor\":\"white\",\"linecolor\":\"white\",\"ticks\":\"\"},\"radialaxis\":{\"gridcolor\":\"white\",\"linecolor\":\"white\",\"ticks\":\"\"}},\"ternary\":{\"bgcolor\":\"#E5ECF6\",\"aaxis\":{\"gridcolor\":\"white\",\"linecolor\":\"white\",\"ticks\":\"\"},\"baxis\":{\"gridcolor\":\"white\",\"linecolor\":\"white\",\"ticks\":\"\"},\"caxis\":{\"gridcolor\":\"white\",\"linecolor\":\"white\",\"ticks\":\"\"}},\"coloraxis\":{\"colorbar\":{\"outlinewidth\":0,\"ticks\":\"\"}},\"colorscale\":{\"sequential\":[[0.0,\"#0d0887\"],[0.1111111111111111,\"#46039f\"],[0.2222222222222222,\"#7201a8\"],[0.3333333333333333,\"#9c179e\"],[0.4444444444444444,\"#bd3786\"],[0.5555555555555556,\"#d8576b\"],[0.6666666666666666,\"#ed7953\"],[0.7777777777777778,\"#fb9f3a\"],[0.8888888888888888,\"#fdca26\"],[1.0,\"#f0f921\"]],\"sequentialminus\":[[0.0,\"#0d0887\"],[0.1111111111111111,\"#46039f\"],[0.2222222222222222,\"#7201a8\"],[0.3333333333333333,\"#9c179e\"],[0.4444444444444444,\"#bd3786\"],[0.5555555555555556,\"#d8576b\"],[0.6666666666666666,\"#ed7953\"],[0.7777777777777778,\"#fb9f3a\"],[0.8888888888888888,\"#fdca26\"],[1.0,\"#f0f921\"]],\"diverging\":[[0,\"#8e0152\"],[0.1,\"#c51b7d\"],[0.2,\"#de77ae\"],[0.3,\"#f1b6da\"],[0.4,\"#fde0ef\"],[0.5,\"#f7f7f7\"],[0.6,\"#e6f5d0\"],[0.7,\"#b8e186\"],[0.8,\"#7fbc41\"],[0.9,\"#4d9221\"],[1,\"#276419\"]]},\"xaxis\":{\"gridcolor\":\"white\",\"linecolor\":\"white\",\"ticks\":\"\",\"title\":{\"standoff\":15},\"zerolinecolor\":\"white\",\"automargin\":true,\"zerolinewidth\":2},\"yaxis\":{\"gridcolor\":\"white\",\"linecolor\":\"white\",\"ticks\":\"\",\"title\":{\"standoff\":15},\"zerolinecolor\":\"white\",\"automargin\":true,\"zerolinewidth\":2},\"scene\":{\"xaxis\":{\"backgroundcolor\":\"#E5ECF6\",\"gridcolor\":\"white\",\"linecolor\":\"white\",\"showbackground\":true,\"ticks\":\"\",\"zerolinecolor\":\"white\",\"gridwidth\":2},\"yaxis\":{\"backgroundcolor\":\"#E5ECF6\",\"gridcolor\":\"white\",\"linecolor\":\"white\",\"showbackground\":true,\"ticks\":\"\",\"zerolinecolor\":\"white\",\"gridwidth\":2},\"zaxis\":{\"backgroundcolor\":\"#E5ECF6\",\"gridcolor\":\"white\",\"linecolor\":\"white\",\"showbackground\":true,\"ticks\":\"\",\"zerolinecolor\":\"white\",\"gridwidth\":2}},\"shapedefaults\":{\"line\":{\"color\":\"#2a3f5f\"}},\"annotationdefaults\":{\"arrowcolor\":\"#2a3f5f\",\"arrowhead\":0,\"arrowwidth\":1},\"geo\":{\"bgcolor\":\"white\",\"landcolor\":\"#E5ECF6\",\"subunitcolor\":\"white\",\"showland\":true,\"showlakes\":true,\"lakecolor\":\"white\"},\"title\":{\"x\":0.05},\"mapbox\":{\"style\":\"light\"}}},\"xaxis\":{\"anchor\":\"y\",\"domain\":[0.0,1.0],\"title\":{\"text\":\"INTAKETYPE\"}},\"yaxis\":{\"anchor\":\"x\",\"domain\":[0.0,1.0],\"title\":{\"text\":\"COUNT\"}},\"legend\":{\"tracegroupgap\":0},\"margin\":{\"t\":60},\"barmode\":\"relative\"},                        {\"responsive\": true}                    ).then(function(){\n",
       "                            \n",
       "var gd = document.getElementById('0b732c57-3675-4b92-8588-2b3ae4b35d23');\n",
       "var x = new MutationObserver(function (mutations, observer) {{\n",
       "        var display = window.getComputedStyle(gd).display;\n",
       "        if (!display || display === 'none') {{\n",
       "            console.log([gd, 'removed!']);\n",
       "            Plotly.purge(gd);\n",
       "            observer.disconnect();\n",
       "        }}\n",
       "}});\n",
       "\n",
       "// Listen for the removal of the full notebook cells\n",
       "var notebookContainer = gd.closest('#notebook-container');\n",
       "if (notebookContainer) {{\n",
       "    x.observe(notebookContainer, {childList: true});\n",
       "}}\n",
       "\n",
       "// Listen for the clearing of the current output cell\n",
       "var outputEl = gd.closest('.output');\n",
       "if (outputEl) {{\n",
       "    x.observe(outputEl, {childList: true});\n",
       "}}\n",
       "\n",
       "                        })                };                });            </script>        </div>"
      ]
     },
     "metadata": {},
     "output_type": "display_data"
    },
    {
     "data": {
      "text/html": [
       "<div>\n",
       "<style scoped>\n",
       "    .dataframe tbody tr th:only-of-type {\n",
       "        vertical-align: middle;\n",
       "    }\n",
       "\n",
       "    .dataframe tbody tr th {\n",
       "        vertical-align: top;\n",
       "    }\n",
       "\n",
       "    .dataframe thead th {\n",
       "        text-align: right;\n",
       "    }\n",
       "</style>\n",
       "<table border=\"1\" class=\"dataframe\">\n",
       "  <thead>\n",
       "    <tr style=\"text-align: right;\">\n",
       "      <th></th>\n",
       "      <th>INTAKETYPE</th>\n",
       "      <th>COUNT</th>\n",
       "      <th>PCT</th>\n",
       "    </tr>\n",
       "  </thead>\n",
       "  <tbody>\n",
       "    <tr>\n",
       "      <th>0</th>\n",
       "      <td>Stray</td>\n",
       "      <td>45286</td>\n",
       "      <td>69.40</td>\n",
       "    </tr>\n",
       "    <tr>\n",
       "      <th>1</th>\n",
       "      <td>Owner Surrender</td>\n",
       "      <td>13832</td>\n",
       "      <td>21.20</td>\n",
       "    </tr>\n",
       "    <tr>\n",
       "      <th>2</th>\n",
       "      <td>Public Assist</td>\n",
       "      <td>5846</td>\n",
       "      <td>8.96</td>\n",
       "    </tr>\n",
       "    <tr>\n",
       "      <th>3</th>\n",
       "      <td>Abandoned</td>\n",
       "      <td>144</td>\n",
       "      <td>0.22</td>\n",
       "    </tr>\n",
       "    <tr>\n",
       "      <th>4</th>\n",
       "      <td>Euthanasia Request</td>\n",
       "      <td>143</td>\n",
       "      <td>0.22</td>\n",
       "    </tr>\n",
       "  </tbody>\n",
       "</table>\n",
       "</div>"
      ],
      "text/plain": [
       "           INTAKETYPE  COUNT    PCT\n",
       "0               Stray  45286  69.40\n",
       "1     Owner Surrender  13832  21.20\n",
       "2       Public Assist   5846   8.96\n",
       "3           Abandoned    144   0.22\n",
       "4  Euthanasia Request    143   0.22"
      ]
     },
     "execution_count": 228,
     "metadata": {},
     "output_type": "execute_result"
    }
   ],
   "source": [
    "animal_intaketype = dfAnimals.INTAKETYPE.value_counts()\n",
    "animal_intaketype = animal_intaketype.reset_index()\n",
    "animal_intaketype.columns = [\"INTAKETYPE\",\"COUNT\"]\n",
    "\n",
    "animal_intaketype['PCT'] = np.round(100.0*animal_intaketype['COUNT']/animal_intaketype['COUNT'].sum(),2)\n",
    "fig = px.bar(animal_intaketype, x='INTAKETYPE', y='COUNT', text=animal_intaketype['PCT'].apply(lambda x: '{0:1.2f}%'.format(x)))\n",
    "fig.show()\n",
    "\n",
    "animal_intaketype"
   ]
  },
  {
   "cell_type": "markdown",
   "id": "f14a52de",
   "metadata": {},
   "source": [
    "# Exploring \"OUTCOME TYPE\" of Dogs\n"
   ]
  },
  {
   "cell_type": "code",
   "execution_count": 229,
   "id": "93d1a432",
   "metadata": {
    "scrolled": false
   },
   "outputs": [
    {
     "data": {
      "application/vnd.plotly.v1+json": {
       "config": {
        "plotlyServerURL": "https://plot.ly"
       },
       "data": [
        {
         "alignmentgroup": "True",
         "hovertemplate": "OUTCOMETYPE=%{x}<br>COUNT=%{y}<br>text=%{text}<extra></extra>",
         "legendgroup": "",
         "marker": {
          "color": "#636efa",
          "pattern": {
           "shape": ""
          }
         },
         "name": "",
         "offsetgroup": "",
         "orientation": "v",
         "showlegend": false,
         "text": [
          "49.3%",
          "0.4%",
          "0.1%",
          "2.5%",
          "0.0%",
          "24.6%",
          "0.8%",
          "22.4%"
         ],
         "textposition": "auto",
         "type": "bar",
         "x": [
          "Adoption",
          "Died",
          "Disposal",
          "Euthanasia",
          "Missing",
          "Return to Owner",
          "Rto-Adopt",
          "Transfer"
         ],
         "xaxis": "x",
         "y": [
          32138,
          244,
          33,
          1607,
          28,
          16066,
          525,
          14598
         ],
         "yaxis": "y"
        }
       ],
       "layout": {
        "barmode": "relative",
        "legend": {
         "tracegroupgap": 0
        },
        "template": {
         "data": {
          "bar": [
           {
            "error_x": {
             "color": "#2a3f5f"
            },
            "error_y": {
             "color": "#2a3f5f"
            },
            "marker": {
             "line": {
              "color": "#E5ECF6",
              "width": 0.5
             },
             "pattern": {
              "fillmode": "overlay",
              "size": 10,
              "solidity": 0.2
             }
            },
            "type": "bar"
           }
          ],
          "barpolar": [
           {
            "marker": {
             "line": {
              "color": "#E5ECF6",
              "width": 0.5
             },
             "pattern": {
              "fillmode": "overlay",
              "size": 10,
              "solidity": 0.2
             }
            },
            "type": "barpolar"
           }
          ],
          "carpet": [
           {
            "aaxis": {
             "endlinecolor": "#2a3f5f",
             "gridcolor": "white",
             "linecolor": "white",
             "minorgridcolor": "white",
             "startlinecolor": "#2a3f5f"
            },
            "baxis": {
             "endlinecolor": "#2a3f5f",
             "gridcolor": "white",
             "linecolor": "white",
             "minorgridcolor": "white",
             "startlinecolor": "#2a3f5f"
            },
            "type": "carpet"
           }
          ],
          "choropleth": [
           {
            "colorbar": {
             "outlinewidth": 0,
             "ticks": ""
            },
            "type": "choropleth"
           }
          ],
          "contour": [
           {
            "colorbar": {
             "outlinewidth": 0,
             "ticks": ""
            },
            "colorscale": [
             [
              0,
              "#0d0887"
             ],
             [
              0.1111111111111111,
              "#46039f"
             ],
             [
              0.2222222222222222,
              "#7201a8"
             ],
             [
              0.3333333333333333,
              "#9c179e"
             ],
             [
              0.4444444444444444,
              "#bd3786"
             ],
             [
              0.5555555555555556,
              "#d8576b"
             ],
             [
              0.6666666666666666,
              "#ed7953"
             ],
             [
              0.7777777777777778,
              "#fb9f3a"
             ],
             [
              0.8888888888888888,
              "#fdca26"
             ],
             [
              1,
              "#f0f921"
             ]
            ],
            "type": "contour"
           }
          ],
          "contourcarpet": [
           {
            "colorbar": {
             "outlinewidth": 0,
             "ticks": ""
            },
            "type": "contourcarpet"
           }
          ],
          "heatmap": [
           {
            "colorbar": {
             "outlinewidth": 0,
             "ticks": ""
            },
            "colorscale": [
             [
              0,
              "#0d0887"
             ],
             [
              0.1111111111111111,
              "#46039f"
             ],
             [
              0.2222222222222222,
              "#7201a8"
             ],
             [
              0.3333333333333333,
              "#9c179e"
             ],
             [
              0.4444444444444444,
              "#bd3786"
             ],
             [
              0.5555555555555556,
              "#d8576b"
             ],
             [
              0.6666666666666666,
              "#ed7953"
             ],
             [
              0.7777777777777778,
              "#fb9f3a"
             ],
             [
              0.8888888888888888,
              "#fdca26"
             ],
             [
              1,
              "#f0f921"
             ]
            ],
            "type": "heatmap"
           }
          ],
          "heatmapgl": [
           {
            "colorbar": {
             "outlinewidth": 0,
             "ticks": ""
            },
            "colorscale": [
             [
              0,
              "#0d0887"
             ],
             [
              0.1111111111111111,
              "#46039f"
             ],
             [
              0.2222222222222222,
              "#7201a8"
             ],
             [
              0.3333333333333333,
              "#9c179e"
             ],
             [
              0.4444444444444444,
              "#bd3786"
             ],
             [
              0.5555555555555556,
              "#d8576b"
             ],
             [
              0.6666666666666666,
              "#ed7953"
             ],
             [
              0.7777777777777778,
              "#fb9f3a"
             ],
             [
              0.8888888888888888,
              "#fdca26"
             ],
             [
              1,
              "#f0f921"
             ]
            ],
            "type": "heatmapgl"
           }
          ],
          "histogram": [
           {
            "marker": {
             "pattern": {
              "fillmode": "overlay",
              "size": 10,
              "solidity": 0.2
             }
            },
            "type": "histogram"
           }
          ],
          "histogram2d": [
           {
            "colorbar": {
             "outlinewidth": 0,
             "ticks": ""
            },
            "colorscale": [
             [
              0,
              "#0d0887"
             ],
             [
              0.1111111111111111,
              "#46039f"
             ],
             [
              0.2222222222222222,
              "#7201a8"
             ],
             [
              0.3333333333333333,
              "#9c179e"
             ],
             [
              0.4444444444444444,
              "#bd3786"
             ],
             [
              0.5555555555555556,
              "#d8576b"
             ],
             [
              0.6666666666666666,
              "#ed7953"
             ],
             [
              0.7777777777777778,
              "#fb9f3a"
             ],
             [
              0.8888888888888888,
              "#fdca26"
             ],
             [
              1,
              "#f0f921"
             ]
            ],
            "type": "histogram2d"
           }
          ],
          "histogram2dcontour": [
           {
            "colorbar": {
             "outlinewidth": 0,
             "ticks": ""
            },
            "colorscale": [
             [
              0,
              "#0d0887"
             ],
             [
              0.1111111111111111,
              "#46039f"
             ],
             [
              0.2222222222222222,
              "#7201a8"
             ],
             [
              0.3333333333333333,
              "#9c179e"
             ],
             [
              0.4444444444444444,
              "#bd3786"
             ],
             [
              0.5555555555555556,
              "#d8576b"
             ],
             [
              0.6666666666666666,
              "#ed7953"
             ],
             [
              0.7777777777777778,
              "#fb9f3a"
             ],
             [
              0.8888888888888888,
              "#fdca26"
             ],
             [
              1,
              "#f0f921"
             ]
            ],
            "type": "histogram2dcontour"
           }
          ],
          "mesh3d": [
           {
            "colorbar": {
             "outlinewidth": 0,
             "ticks": ""
            },
            "type": "mesh3d"
           }
          ],
          "parcoords": [
           {
            "line": {
             "colorbar": {
              "outlinewidth": 0,
              "ticks": ""
             }
            },
            "type": "parcoords"
           }
          ],
          "pie": [
           {
            "automargin": true,
            "type": "pie"
           }
          ],
          "scatter": [
           {
            "fillpattern": {
             "fillmode": "overlay",
             "size": 10,
             "solidity": 0.2
            },
            "type": "scatter"
           }
          ],
          "scatter3d": [
           {
            "line": {
             "colorbar": {
              "outlinewidth": 0,
              "ticks": ""
             }
            },
            "marker": {
             "colorbar": {
              "outlinewidth": 0,
              "ticks": ""
             }
            },
            "type": "scatter3d"
           }
          ],
          "scattercarpet": [
           {
            "marker": {
             "colorbar": {
              "outlinewidth": 0,
              "ticks": ""
             }
            },
            "type": "scattercarpet"
           }
          ],
          "scattergeo": [
           {
            "marker": {
             "colorbar": {
              "outlinewidth": 0,
              "ticks": ""
             }
            },
            "type": "scattergeo"
           }
          ],
          "scattergl": [
           {
            "marker": {
             "colorbar": {
              "outlinewidth": 0,
              "ticks": ""
             }
            },
            "type": "scattergl"
           }
          ],
          "scattermapbox": [
           {
            "marker": {
             "colorbar": {
              "outlinewidth": 0,
              "ticks": ""
             }
            },
            "type": "scattermapbox"
           }
          ],
          "scatterpolar": [
           {
            "marker": {
             "colorbar": {
              "outlinewidth": 0,
              "ticks": ""
             }
            },
            "type": "scatterpolar"
           }
          ],
          "scatterpolargl": [
           {
            "marker": {
             "colorbar": {
              "outlinewidth": 0,
              "ticks": ""
             }
            },
            "type": "scatterpolargl"
           }
          ],
          "scatterternary": [
           {
            "marker": {
             "colorbar": {
              "outlinewidth": 0,
              "ticks": ""
             }
            },
            "type": "scatterternary"
           }
          ],
          "surface": [
           {
            "colorbar": {
             "outlinewidth": 0,
             "ticks": ""
            },
            "colorscale": [
             [
              0,
              "#0d0887"
             ],
             [
              0.1111111111111111,
              "#46039f"
             ],
             [
              0.2222222222222222,
              "#7201a8"
             ],
             [
              0.3333333333333333,
              "#9c179e"
             ],
             [
              0.4444444444444444,
              "#bd3786"
             ],
             [
              0.5555555555555556,
              "#d8576b"
             ],
             [
              0.6666666666666666,
              "#ed7953"
             ],
             [
              0.7777777777777778,
              "#fb9f3a"
             ],
             [
              0.8888888888888888,
              "#fdca26"
             ],
             [
              1,
              "#f0f921"
             ]
            ],
            "type": "surface"
           }
          ],
          "table": [
           {
            "cells": {
             "fill": {
              "color": "#EBF0F8"
             },
             "line": {
              "color": "white"
             }
            },
            "header": {
             "fill": {
              "color": "#C8D4E3"
             },
             "line": {
              "color": "white"
             }
            },
            "type": "table"
           }
          ]
         },
         "layout": {
          "annotationdefaults": {
           "arrowcolor": "#2a3f5f",
           "arrowhead": 0,
           "arrowwidth": 1
          },
          "autotypenumbers": "strict",
          "coloraxis": {
           "colorbar": {
            "outlinewidth": 0,
            "ticks": ""
           }
          },
          "colorscale": {
           "diverging": [
            [
             0,
             "#8e0152"
            ],
            [
             0.1,
             "#c51b7d"
            ],
            [
             0.2,
             "#de77ae"
            ],
            [
             0.3,
             "#f1b6da"
            ],
            [
             0.4,
             "#fde0ef"
            ],
            [
             0.5,
             "#f7f7f7"
            ],
            [
             0.6,
             "#e6f5d0"
            ],
            [
             0.7,
             "#b8e186"
            ],
            [
             0.8,
             "#7fbc41"
            ],
            [
             0.9,
             "#4d9221"
            ],
            [
             1,
             "#276419"
            ]
           ],
           "sequential": [
            [
             0,
             "#0d0887"
            ],
            [
             0.1111111111111111,
             "#46039f"
            ],
            [
             0.2222222222222222,
             "#7201a8"
            ],
            [
             0.3333333333333333,
             "#9c179e"
            ],
            [
             0.4444444444444444,
             "#bd3786"
            ],
            [
             0.5555555555555556,
             "#d8576b"
            ],
            [
             0.6666666666666666,
             "#ed7953"
            ],
            [
             0.7777777777777778,
             "#fb9f3a"
            ],
            [
             0.8888888888888888,
             "#fdca26"
            ],
            [
             1,
             "#f0f921"
            ]
           ],
           "sequentialminus": [
            [
             0,
             "#0d0887"
            ],
            [
             0.1111111111111111,
             "#46039f"
            ],
            [
             0.2222222222222222,
             "#7201a8"
            ],
            [
             0.3333333333333333,
             "#9c179e"
            ],
            [
             0.4444444444444444,
             "#bd3786"
            ],
            [
             0.5555555555555556,
             "#d8576b"
            ],
            [
             0.6666666666666666,
             "#ed7953"
            ],
            [
             0.7777777777777778,
             "#fb9f3a"
            ],
            [
             0.8888888888888888,
             "#fdca26"
            ],
            [
             1,
             "#f0f921"
            ]
           ]
          },
          "colorway": [
           "#636efa",
           "#EF553B",
           "#00cc96",
           "#ab63fa",
           "#FFA15A",
           "#19d3f3",
           "#FF6692",
           "#B6E880",
           "#FF97FF",
           "#FECB52"
          ],
          "font": {
           "color": "#2a3f5f"
          },
          "geo": {
           "bgcolor": "white",
           "lakecolor": "white",
           "landcolor": "#E5ECF6",
           "showlakes": true,
           "showland": true,
           "subunitcolor": "white"
          },
          "hoverlabel": {
           "align": "left"
          },
          "hovermode": "closest",
          "mapbox": {
           "style": "light"
          },
          "paper_bgcolor": "white",
          "plot_bgcolor": "#E5ECF6",
          "polar": {
           "angularaxis": {
            "gridcolor": "white",
            "linecolor": "white",
            "ticks": ""
           },
           "bgcolor": "#E5ECF6",
           "radialaxis": {
            "gridcolor": "white",
            "linecolor": "white",
            "ticks": ""
           }
          },
          "scene": {
           "xaxis": {
            "backgroundcolor": "#E5ECF6",
            "gridcolor": "white",
            "gridwidth": 2,
            "linecolor": "white",
            "showbackground": true,
            "ticks": "",
            "zerolinecolor": "white"
           },
           "yaxis": {
            "backgroundcolor": "#E5ECF6",
            "gridcolor": "white",
            "gridwidth": 2,
            "linecolor": "white",
            "showbackground": true,
            "ticks": "",
            "zerolinecolor": "white"
           },
           "zaxis": {
            "backgroundcolor": "#E5ECF6",
            "gridcolor": "white",
            "gridwidth": 2,
            "linecolor": "white",
            "showbackground": true,
            "ticks": "",
            "zerolinecolor": "white"
           }
          },
          "shapedefaults": {
           "line": {
            "color": "#2a3f5f"
           }
          },
          "ternary": {
           "aaxis": {
            "gridcolor": "white",
            "linecolor": "white",
            "ticks": ""
           },
           "baxis": {
            "gridcolor": "white",
            "linecolor": "white",
            "ticks": ""
           },
           "bgcolor": "#E5ECF6",
           "caxis": {
            "gridcolor": "white",
            "linecolor": "white",
            "ticks": ""
           }
          },
          "title": {
           "x": 0.05
          },
          "xaxis": {
           "automargin": true,
           "gridcolor": "white",
           "linecolor": "white",
           "ticks": "",
           "title": {
            "standoff": 15
           },
           "zerolinecolor": "white",
           "zerolinewidth": 2
          },
          "yaxis": {
           "automargin": true,
           "gridcolor": "white",
           "linecolor": "white",
           "ticks": "",
           "title": {
            "standoff": 15
           },
           "zerolinecolor": "white",
           "zerolinewidth": 2
          }
         }
        },
        "title": {
         "text": "OUTCOMETYPE Distribution [ Animal Type : Dog (#65239)]"
        },
        "xaxis": {
         "anchor": "y",
         "domain": [
          0,
          1
         ],
         "title": {
          "text": "OUTCOMETYPE"
         }
        },
        "yaxis": {
         "anchor": "x",
         "domain": [
          0,
          1
         ],
         "title": {
          "text": "COUNT"
         }
        }
       }
      },
      "text/html": [
       "<div>                            <div id=\"354e50f5-4772-4bf8-a836-7e0106ad3e72\" class=\"plotly-graph-div\" style=\"height:525px; width:100%;\"></div>            <script type=\"text/javascript\">                require([\"plotly\"], function(Plotly) {                    window.PLOTLYENV=window.PLOTLYENV || {};                                    if (document.getElementById(\"354e50f5-4772-4bf8-a836-7e0106ad3e72\")) {                    Plotly.newPlot(                        \"354e50f5-4772-4bf8-a836-7e0106ad3e72\",                        [{\"alignmentgroup\":\"True\",\"hovertemplate\":\"OUTCOMETYPE=%{x}<br>COUNT=%{y}<br>text=%{text}<extra></extra>\",\"legendgroup\":\"\",\"marker\":{\"color\":\"#636efa\",\"pattern\":{\"shape\":\"\"}},\"name\":\"\",\"offsetgroup\":\"\",\"orientation\":\"v\",\"showlegend\":false,\"text\":[\"49.3%\",\"0.4%\",\"0.1%\",\"2.5%\",\"0.0%\",\"24.6%\",\"0.8%\",\"22.4%\"],\"textposition\":\"auto\",\"x\":[\"Adoption\",\"Died\",\"Disposal\",\"Euthanasia\",\"Missing\",\"Return to Owner\",\"Rto-Adopt\",\"Transfer\"],\"xaxis\":\"x\",\"y\":[32138,244,33,1607,28,16066,525,14598],\"yaxis\":\"y\",\"type\":\"bar\"}],                        {\"template\":{\"data\":{\"histogram2dcontour\":[{\"type\":\"histogram2dcontour\",\"colorbar\":{\"outlinewidth\":0,\"ticks\":\"\"},\"colorscale\":[[0.0,\"#0d0887\"],[0.1111111111111111,\"#46039f\"],[0.2222222222222222,\"#7201a8\"],[0.3333333333333333,\"#9c179e\"],[0.4444444444444444,\"#bd3786\"],[0.5555555555555556,\"#d8576b\"],[0.6666666666666666,\"#ed7953\"],[0.7777777777777778,\"#fb9f3a\"],[0.8888888888888888,\"#fdca26\"],[1.0,\"#f0f921\"]]}],\"choropleth\":[{\"type\":\"choropleth\",\"colorbar\":{\"outlinewidth\":0,\"ticks\":\"\"}}],\"histogram2d\":[{\"type\":\"histogram2d\",\"colorbar\":{\"outlinewidth\":0,\"ticks\":\"\"},\"colorscale\":[[0.0,\"#0d0887\"],[0.1111111111111111,\"#46039f\"],[0.2222222222222222,\"#7201a8\"],[0.3333333333333333,\"#9c179e\"],[0.4444444444444444,\"#bd3786\"],[0.5555555555555556,\"#d8576b\"],[0.6666666666666666,\"#ed7953\"],[0.7777777777777778,\"#fb9f3a\"],[0.8888888888888888,\"#fdca26\"],[1.0,\"#f0f921\"]]}],\"heatmap\":[{\"type\":\"heatmap\",\"colorbar\":{\"outlinewidth\":0,\"ticks\":\"\"},\"colorscale\":[[0.0,\"#0d0887\"],[0.1111111111111111,\"#46039f\"],[0.2222222222222222,\"#7201a8\"],[0.3333333333333333,\"#9c179e\"],[0.4444444444444444,\"#bd3786\"],[0.5555555555555556,\"#d8576b\"],[0.6666666666666666,\"#ed7953\"],[0.7777777777777778,\"#fb9f3a\"],[0.8888888888888888,\"#fdca26\"],[1.0,\"#f0f921\"]]}],\"heatmapgl\":[{\"type\":\"heatmapgl\",\"colorbar\":{\"outlinewidth\":0,\"ticks\":\"\"},\"colorscale\":[[0.0,\"#0d0887\"],[0.1111111111111111,\"#46039f\"],[0.2222222222222222,\"#7201a8\"],[0.3333333333333333,\"#9c179e\"],[0.4444444444444444,\"#bd3786\"],[0.5555555555555556,\"#d8576b\"],[0.6666666666666666,\"#ed7953\"],[0.7777777777777778,\"#fb9f3a\"],[0.8888888888888888,\"#fdca26\"],[1.0,\"#f0f921\"]]}],\"contourcarpet\":[{\"type\":\"contourcarpet\",\"colorbar\":{\"outlinewidth\":0,\"ticks\":\"\"}}],\"contour\":[{\"type\":\"contour\",\"colorbar\":{\"outlinewidth\":0,\"ticks\":\"\"},\"colorscale\":[[0.0,\"#0d0887\"],[0.1111111111111111,\"#46039f\"],[0.2222222222222222,\"#7201a8\"],[0.3333333333333333,\"#9c179e\"],[0.4444444444444444,\"#bd3786\"],[0.5555555555555556,\"#d8576b\"],[0.6666666666666666,\"#ed7953\"],[0.7777777777777778,\"#fb9f3a\"],[0.8888888888888888,\"#fdca26\"],[1.0,\"#f0f921\"]]}],\"surface\":[{\"type\":\"surface\",\"colorbar\":{\"outlinewidth\":0,\"ticks\":\"\"},\"colorscale\":[[0.0,\"#0d0887\"],[0.1111111111111111,\"#46039f\"],[0.2222222222222222,\"#7201a8\"],[0.3333333333333333,\"#9c179e\"],[0.4444444444444444,\"#bd3786\"],[0.5555555555555556,\"#d8576b\"],[0.6666666666666666,\"#ed7953\"],[0.7777777777777778,\"#fb9f3a\"],[0.8888888888888888,\"#fdca26\"],[1.0,\"#f0f921\"]]}],\"mesh3d\":[{\"type\":\"mesh3d\",\"colorbar\":{\"outlinewidth\":0,\"ticks\":\"\"}}],\"scatter\":[{\"fillpattern\":{\"fillmode\":\"overlay\",\"size\":10,\"solidity\":0.2},\"type\":\"scatter\"}],\"parcoords\":[{\"type\":\"parcoords\",\"line\":{\"colorbar\":{\"outlinewidth\":0,\"ticks\":\"\"}}}],\"scatterpolargl\":[{\"type\":\"scatterpolargl\",\"marker\":{\"colorbar\":{\"outlinewidth\":0,\"ticks\":\"\"}}}],\"bar\":[{\"error_x\":{\"color\":\"#2a3f5f\"},\"error_y\":{\"color\":\"#2a3f5f\"},\"marker\":{\"line\":{\"color\":\"#E5ECF6\",\"width\":0.5},\"pattern\":{\"fillmode\":\"overlay\",\"size\":10,\"solidity\":0.2}},\"type\":\"bar\"}],\"scattergeo\":[{\"type\":\"scattergeo\",\"marker\":{\"colorbar\":{\"outlinewidth\":0,\"ticks\":\"\"}}}],\"scatterpolar\":[{\"type\":\"scatterpolar\",\"marker\":{\"colorbar\":{\"outlinewidth\":0,\"ticks\":\"\"}}}],\"histogram\":[{\"marker\":{\"pattern\":{\"fillmode\":\"overlay\",\"size\":10,\"solidity\":0.2}},\"type\":\"histogram\"}],\"scattergl\":[{\"type\":\"scattergl\",\"marker\":{\"colorbar\":{\"outlinewidth\":0,\"ticks\":\"\"}}}],\"scatter3d\":[{\"type\":\"scatter3d\",\"line\":{\"colorbar\":{\"outlinewidth\":0,\"ticks\":\"\"}},\"marker\":{\"colorbar\":{\"outlinewidth\":0,\"ticks\":\"\"}}}],\"scattermapbox\":[{\"type\":\"scattermapbox\",\"marker\":{\"colorbar\":{\"outlinewidth\":0,\"ticks\":\"\"}}}],\"scatterternary\":[{\"type\":\"scatterternary\",\"marker\":{\"colorbar\":{\"outlinewidth\":0,\"ticks\":\"\"}}}],\"scattercarpet\":[{\"type\":\"scattercarpet\",\"marker\":{\"colorbar\":{\"outlinewidth\":0,\"ticks\":\"\"}}}],\"carpet\":[{\"aaxis\":{\"endlinecolor\":\"#2a3f5f\",\"gridcolor\":\"white\",\"linecolor\":\"white\",\"minorgridcolor\":\"white\",\"startlinecolor\":\"#2a3f5f\"},\"baxis\":{\"endlinecolor\":\"#2a3f5f\",\"gridcolor\":\"white\",\"linecolor\":\"white\",\"minorgridcolor\":\"white\",\"startlinecolor\":\"#2a3f5f\"},\"type\":\"carpet\"}],\"table\":[{\"cells\":{\"fill\":{\"color\":\"#EBF0F8\"},\"line\":{\"color\":\"white\"}},\"header\":{\"fill\":{\"color\":\"#C8D4E3\"},\"line\":{\"color\":\"white\"}},\"type\":\"table\"}],\"barpolar\":[{\"marker\":{\"line\":{\"color\":\"#E5ECF6\",\"width\":0.5},\"pattern\":{\"fillmode\":\"overlay\",\"size\":10,\"solidity\":0.2}},\"type\":\"barpolar\"}],\"pie\":[{\"automargin\":true,\"type\":\"pie\"}]},\"layout\":{\"autotypenumbers\":\"strict\",\"colorway\":[\"#636efa\",\"#EF553B\",\"#00cc96\",\"#ab63fa\",\"#FFA15A\",\"#19d3f3\",\"#FF6692\",\"#B6E880\",\"#FF97FF\",\"#FECB52\"],\"font\":{\"color\":\"#2a3f5f\"},\"hovermode\":\"closest\",\"hoverlabel\":{\"align\":\"left\"},\"paper_bgcolor\":\"white\",\"plot_bgcolor\":\"#E5ECF6\",\"polar\":{\"bgcolor\":\"#E5ECF6\",\"angularaxis\":{\"gridcolor\":\"white\",\"linecolor\":\"white\",\"ticks\":\"\"},\"radialaxis\":{\"gridcolor\":\"white\",\"linecolor\":\"white\",\"ticks\":\"\"}},\"ternary\":{\"bgcolor\":\"#E5ECF6\",\"aaxis\":{\"gridcolor\":\"white\",\"linecolor\":\"white\",\"ticks\":\"\"},\"baxis\":{\"gridcolor\":\"white\",\"linecolor\":\"white\",\"ticks\":\"\"},\"caxis\":{\"gridcolor\":\"white\",\"linecolor\":\"white\",\"ticks\":\"\"}},\"coloraxis\":{\"colorbar\":{\"outlinewidth\":0,\"ticks\":\"\"}},\"colorscale\":{\"sequential\":[[0.0,\"#0d0887\"],[0.1111111111111111,\"#46039f\"],[0.2222222222222222,\"#7201a8\"],[0.3333333333333333,\"#9c179e\"],[0.4444444444444444,\"#bd3786\"],[0.5555555555555556,\"#d8576b\"],[0.6666666666666666,\"#ed7953\"],[0.7777777777777778,\"#fb9f3a\"],[0.8888888888888888,\"#fdca26\"],[1.0,\"#f0f921\"]],\"sequentialminus\":[[0.0,\"#0d0887\"],[0.1111111111111111,\"#46039f\"],[0.2222222222222222,\"#7201a8\"],[0.3333333333333333,\"#9c179e\"],[0.4444444444444444,\"#bd3786\"],[0.5555555555555556,\"#d8576b\"],[0.6666666666666666,\"#ed7953\"],[0.7777777777777778,\"#fb9f3a\"],[0.8888888888888888,\"#fdca26\"],[1.0,\"#f0f921\"]],\"diverging\":[[0,\"#8e0152\"],[0.1,\"#c51b7d\"],[0.2,\"#de77ae\"],[0.3,\"#f1b6da\"],[0.4,\"#fde0ef\"],[0.5,\"#f7f7f7\"],[0.6,\"#e6f5d0\"],[0.7,\"#b8e186\"],[0.8,\"#7fbc41\"],[0.9,\"#4d9221\"],[1,\"#276419\"]]},\"xaxis\":{\"gridcolor\":\"white\",\"linecolor\":\"white\",\"ticks\":\"\",\"title\":{\"standoff\":15},\"zerolinecolor\":\"white\",\"automargin\":true,\"zerolinewidth\":2},\"yaxis\":{\"gridcolor\":\"white\",\"linecolor\":\"white\",\"ticks\":\"\",\"title\":{\"standoff\":15},\"zerolinecolor\":\"white\",\"automargin\":true,\"zerolinewidth\":2},\"scene\":{\"xaxis\":{\"backgroundcolor\":\"#E5ECF6\",\"gridcolor\":\"white\",\"linecolor\":\"white\",\"showbackground\":true,\"ticks\":\"\",\"zerolinecolor\":\"white\",\"gridwidth\":2},\"yaxis\":{\"backgroundcolor\":\"#E5ECF6\",\"gridcolor\":\"white\",\"linecolor\":\"white\",\"showbackground\":true,\"ticks\":\"\",\"zerolinecolor\":\"white\",\"gridwidth\":2},\"zaxis\":{\"backgroundcolor\":\"#E5ECF6\",\"gridcolor\":\"white\",\"linecolor\":\"white\",\"showbackground\":true,\"ticks\":\"\",\"zerolinecolor\":\"white\",\"gridwidth\":2}},\"shapedefaults\":{\"line\":{\"color\":\"#2a3f5f\"}},\"annotationdefaults\":{\"arrowcolor\":\"#2a3f5f\",\"arrowhead\":0,\"arrowwidth\":1},\"geo\":{\"bgcolor\":\"white\",\"landcolor\":\"#E5ECF6\",\"subunitcolor\":\"white\",\"showland\":true,\"showlakes\":true,\"lakecolor\":\"white\"},\"title\":{\"x\":0.05},\"mapbox\":{\"style\":\"light\"}}},\"xaxis\":{\"anchor\":\"y\",\"domain\":[0.0,1.0],\"title\":{\"text\":\"OUTCOMETYPE\"}},\"yaxis\":{\"anchor\":\"x\",\"domain\":[0.0,1.0],\"title\":{\"text\":\"COUNT\"}},\"legend\":{\"tracegroupgap\":0},\"title\":{\"text\":\"OUTCOMETYPE Distribution [ Animal Type : Dog (#65239)]\"},\"barmode\":\"relative\"},                        {\"responsive\": true}                    ).then(function(){\n",
       "                            \n",
       "var gd = document.getElementById('354e50f5-4772-4bf8-a836-7e0106ad3e72');\n",
       "var x = new MutationObserver(function (mutations, observer) {{\n",
       "        var display = window.getComputedStyle(gd).display;\n",
       "        if (!display || display === 'none') {{\n",
       "            console.log([gd, 'removed!']);\n",
       "            Plotly.purge(gd);\n",
       "            observer.disconnect();\n",
       "        }}\n",
       "}});\n",
       "\n",
       "// Listen for the removal of the full notebook cells\n",
       "var notebookContainer = gd.closest('#notebook-container');\n",
       "if (notebookContainer) {{\n",
       "    x.observe(notebookContainer, {childList: true});\n",
       "}}\n",
       "\n",
       "// Listen for the clearing of the current output cell\n",
       "var outputEl = gd.closest('.output');\n",
       "if (outputEl) {{\n",
       "    x.observe(outputEl, {childList: true});\n",
       "}}\n",
       "\n",
       "                        })                };                });            </script>        </div>"
      ]
     },
     "metadata": {},
     "output_type": "display_data"
    }
   ],
   "source": [
    "var = 'OUTCOMETYPE'\n",
    "dfGrp = dfAnimals.groupby(['ANIMALTYPE',var])['ANIMALID'].count()\n",
    "dfGrp = dfGrp.reset_index(drop=False)\n",
    "dfGrp = dfGrp.rename(columns={\"ANIMALID\": \"COUNT\"})\n",
    "dfGrp = dfGrp[dfGrp.ANIMALTYPE.isin(['Bird','Cat','Dog','Livestock'])]\n",
    "dfGrp\n",
    "a = list()\n",
    "for animal in dfGrp.ANIMALTYPE.unique():\n",
    "    dat = dfGrp[dfGrp.ANIMALTYPE==animal]\n",
    "    dat['PCT'] = np.round(100.0*dat['COUNT']/dat['COUNT'].sum(),2)\n",
    "    cnt = dat['COUNT'].sum()\n",
    "    a.append({\"data\":dat,\"count\":cnt})\n",
    "    fig = px.bar(dat, x=var, y='COUNT', title=var+\" Distribution [ Animal Type : \"+animal+\" (#\"+ str(cnt)+\")]\", text=dat['PCT'].apply(lambda x: '{0:1.1f}%'.format(x)))\n",
    "    fig.show()    "
   ]
  },
  {
   "cell_type": "markdown",
   "id": "63c108fe",
   "metadata": {},
   "source": [
    "# Exploring \"SEX INTAKE\" of Dogs\n"
   ]
  },
  {
   "cell_type": "code",
   "execution_count": 230,
   "id": "765eefd0",
   "metadata": {
    "scrolled": false
   },
   "outputs": [
    {
     "data": {
      "application/vnd.plotly.v1+json": {
       "config": {
        "plotlyServerURL": "https://plot.ly"
       },
       "data": [
        {
         "alignmentgroup": "True",
         "hovertemplate": "SEXINTAKE=%{x}<br>COUNT=%{y}<br>text=%{text}<extra></extra>",
         "legendgroup": "",
         "marker": {
          "color": "#636efa",
          "pattern": {
           "shape": ""
          }
         },
         "name": "",
         "offsetgroup": "",
         "orientation": "v",
         "showlegend": false,
         "text": [
          "30.2%",
          "34.2%",
          "19.2%",
          "15.7%",
          "0.6%"
         ],
         "textposition": "auto",
         "type": "bar",
         "x": [
          "Intact Female",
          "Intact Male",
          "Neutered Male",
          "Spayed Female",
          "Unknown"
         ],
         "xaxis": "x",
         "y": [
          19736,
          22345,
          12503,
          10260,
          406
         ],
         "yaxis": "y"
        }
       ],
       "layout": {
        "barmode": "relative",
        "legend": {
         "tracegroupgap": 0
        },
        "template": {
         "data": {
          "bar": [
           {
            "error_x": {
             "color": "#2a3f5f"
            },
            "error_y": {
             "color": "#2a3f5f"
            },
            "marker": {
             "line": {
              "color": "#E5ECF6",
              "width": 0.5
             },
             "pattern": {
              "fillmode": "overlay",
              "size": 10,
              "solidity": 0.2
             }
            },
            "type": "bar"
           }
          ],
          "barpolar": [
           {
            "marker": {
             "line": {
              "color": "#E5ECF6",
              "width": 0.5
             },
             "pattern": {
              "fillmode": "overlay",
              "size": 10,
              "solidity": 0.2
             }
            },
            "type": "barpolar"
           }
          ],
          "carpet": [
           {
            "aaxis": {
             "endlinecolor": "#2a3f5f",
             "gridcolor": "white",
             "linecolor": "white",
             "minorgridcolor": "white",
             "startlinecolor": "#2a3f5f"
            },
            "baxis": {
             "endlinecolor": "#2a3f5f",
             "gridcolor": "white",
             "linecolor": "white",
             "minorgridcolor": "white",
             "startlinecolor": "#2a3f5f"
            },
            "type": "carpet"
           }
          ],
          "choropleth": [
           {
            "colorbar": {
             "outlinewidth": 0,
             "ticks": ""
            },
            "type": "choropleth"
           }
          ],
          "contour": [
           {
            "colorbar": {
             "outlinewidth": 0,
             "ticks": ""
            },
            "colorscale": [
             [
              0,
              "#0d0887"
             ],
             [
              0.1111111111111111,
              "#46039f"
             ],
             [
              0.2222222222222222,
              "#7201a8"
             ],
             [
              0.3333333333333333,
              "#9c179e"
             ],
             [
              0.4444444444444444,
              "#bd3786"
             ],
             [
              0.5555555555555556,
              "#d8576b"
             ],
             [
              0.6666666666666666,
              "#ed7953"
             ],
             [
              0.7777777777777778,
              "#fb9f3a"
             ],
             [
              0.8888888888888888,
              "#fdca26"
             ],
             [
              1,
              "#f0f921"
             ]
            ],
            "type": "contour"
           }
          ],
          "contourcarpet": [
           {
            "colorbar": {
             "outlinewidth": 0,
             "ticks": ""
            },
            "type": "contourcarpet"
           }
          ],
          "heatmap": [
           {
            "colorbar": {
             "outlinewidth": 0,
             "ticks": ""
            },
            "colorscale": [
             [
              0,
              "#0d0887"
             ],
             [
              0.1111111111111111,
              "#46039f"
             ],
             [
              0.2222222222222222,
              "#7201a8"
             ],
             [
              0.3333333333333333,
              "#9c179e"
             ],
             [
              0.4444444444444444,
              "#bd3786"
             ],
             [
              0.5555555555555556,
              "#d8576b"
             ],
             [
              0.6666666666666666,
              "#ed7953"
             ],
             [
              0.7777777777777778,
              "#fb9f3a"
             ],
             [
              0.8888888888888888,
              "#fdca26"
             ],
             [
              1,
              "#f0f921"
             ]
            ],
            "type": "heatmap"
           }
          ],
          "heatmapgl": [
           {
            "colorbar": {
             "outlinewidth": 0,
             "ticks": ""
            },
            "colorscale": [
             [
              0,
              "#0d0887"
             ],
             [
              0.1111111111111111,
              "#46039f"
             ],
             [
              0.2222222222222222,
              "#7201a8"
             ],
             [
              0.3333333333333333,
              "#9c179e"
             ],
             [
              0.4444444444444444,
              "#bd3786"
             ],
             [
              0.5555555555555556,
              "#d8576b"
             ],
             [
              0.6666666666666666,
              "#ed7953"
             ],
             [
              0.7777777777777778,
              "#fb9f3a"
             ],
             [
              0.8888888888888888,
              "#fdca26"
             ],
             [
              1,
              "#f0f921"
             ]
            ],
            "type": "heatmapgl"
           }
          ],
          "histogram": [
           {
            "marker": {
             "pattern": {
              "fillmode": "overlay",
              "size": 10,
              "solidity": 0.2
             }
            },
            "type": "histogram"
           }
          ],
          "histogram2d": [
           {
            "colorbar": {
             "outlinewidth": 0,
             "ticks": ""
            },
            "colorscale": [
             [
              0,
              "#0d0887"
             ],
             [
              0.1111111111111111,
              "#46039f"
             ],
             [
              0.2222222222222222,
              "#7201a8"
             ],
             [
              0.3333333333333333,
              "#9c179e"
             ],
             [
              0.4444444444444444,
              "#bd3786"
             ],
             [
              0.5555555555555556,
              "#d8576b"
             ],
             [
              0.6666666666666666,
              "#ed7953"
             ],
             [
              0.7777777777777778,
              "#fb9f3a"
             ],
             [
              0.8888888888888888,
              "#fdca26"
             ],
             [
              1,
              "#f0f921"
             ]
            ],
            "type": "histogram2d"
           }
          ],
          "histogram2dcontour": [
           {
            "colorbar": {
             "outlinewidth": 0,
             "ticks": ""
            },
            "colorscale": [
             [
              0,
              "#0d0887"
             ],
             [
              0.1111111111111111,
              "#46039f"
             ],
             [
              0.2222222222222222,
              "#7201a8"
             ],
             [
              0.3333333333333333,
              "#9c179e"
             ],
             [
              0.4444444444444444,
              "#bd3786"
             ],
             [
              0.5555555555555556,
              "#d8576b"
             ],
             [
              0.6666666666666666,
              "#ed7953"
             ],
             [
              0.7777777777777778,
              "#fb9f3a"
             ],
             [
              0.8888888888888888,
              "#fdca26"
             ],
             [
              1,
              "#f0f921"
             ]
            ],
            "type": "histogram2dcontour"
           }
          ],
          "mesh3d": [
           {
            "colorbar": {
             "outlinewidth": 0,
             "ticks": ""
            },
            "type": "mesh3d"
           }
          ],
          "parcoords": [
           {
            "line": {
             "colorbar": {
              "outlinewidth": 0,
              "ticks": ""
             }
            },
            "type": "parcoords"
           }
          ],
          "pie": [
           {
            "automargin": true,
            "type": "pie"
           }
          ],
          "scatter": [
           {
            "fillpattern": {
             "fillmode": "overlay",
             "size": 10,
             "solidity": 0.2
            },
            "type": "scatter"
           }
          ],
          "scatter3d": [
           {
            "line": {
             "colorbar": {
              "outlinewidth": 0,
              "ticks": ""
             }
            },
            "marker": {
             "colorbar": {
              "outlinewidth": 0,
              "ticks": ""
             }
            },
            "type": "scatter3d"
           }
          ],
          "scattercarpet": [
           {
            "marker": {
             "colorbar": {
              "outlinewidth": 0,
              "ticks": ""
             }
            },
            "type": "scattercarpet"
           }
          ],
          "scattergeo": [
           {
            "marker": {
             "colorbar": {
              "outlinewidth": 0,
              "ticks": ""
             }
            },
            "type": "scattergeo"
           }
          ],
          "scattergl": [
           {
            "marker": {
             "colorbar": {
              "outlinewidth": 0,
              "ticks": ""
             }
            },
            "type": "scattergl"
           }
          ],
          "scattermapbox": [
           {
            "marker": {
             "colorbar": {
              "outlinewidth": 0,
              "ticks": ""
             }
            },
            "type": "scattermapbox"
           }
          ],
          "scatterpolar": [
           {
            "marker": {
             "colorbar": {
              "outlinewidth": 0,
              "ticks": ""
             }
            },
            "type": "scatterpolar"
           }
          ],
          "scatterpolargl": [
           {
            "marker": {
             "colorbar": {
              "outlinewidth": 0,
              "ticks": ""
             }
            },
            "type": "scatterpolargl"
           }
          ],
          "scatterternary": [
           {
            "marker": {
             "colorbar": {
              "outlinewidth": 0,
              "ticks": ""
             }
            },
            "type": "scatterternary"
           }
          ],
          "surface": [
           {
            "colorbar": {
             "outlinewidth": 0,
             "ticks": ""
            },
            "colorscale": [
             [
              0,
              "#0d0887"
             ],
             [
              0.1111111111111111,
              "#46039f"
             ],
             [
              0.2222222222222222,
              "#7201a8"
             ],
             [
              0.3333333333333333,
              "#9c179e"
             ],
             [
              0.4444444444444444,
              "#bd3786"
             ],
             [
              0.5555555555555556,
              "#d8576b"
             ],
             [
              0.6666666666666666,
              "#ed7953"
             ],
             [
              0.7777777777777778,
              "#fb9f3a"
             ],
             [
              0.8888888888888888,
              "#fdca26"
             ],
             [
              1,
              "#f0f921"
             ]
            ],
            "type": "surface"
           }
          ],
          "table": [
           {
            "cells": {
             "fill": {
              "color": "#EBF0F8"
             },
             "line": {
              "color": "white"
             }
            },
            "header": {
             "fill": {
              "color": "#C8D4E3"
             },
             "line": {
              "color": "white"
             }
            },
            "type": "table"
           }
          ]
         },
         "layout": {
          "annotationdefaults": {
           "arrowcolor": "#2a3f5f",
           "arrowhead": 0,
           "arrowwidth": 1
          },
          "autotypenumbers": "strict",
          "coloraxis": {
           "colorbar": {
            "outlinewidth": 0,
            "ticks": ""
           }
          },
          "colorscale": {
           "diverging": [
            [
             0,
             "#8e0152"
            ],
            [
             0.1,
             "#c51b7d"
            ],
            [
             0.2,
             "#de77ae"
            ],
            [
             0.3,
             "#f1b6da"
            ],
            [
             0.4,
             "#fde0ef"
            ],
            [
             0.5,
             "#f7f7f7"
            ],
            [
             0.6,
             "#e6f5d0"
            ],
            [
             0.7,
             "#b8e186"
            ],
            [
             0.8,
             "#7fbc41"
            ],
            [
             0.9,
             "#4d9221"
            ],
            [
             1,
             "#276419"
            ]
           ],
           "sequential": [
            [
             0,
             "#0d0887"
            ],
            [
             0.1111111111111111,
             "#46039f"
            ],
            [
             0.2222222222222222,
             "#7201a8"
            ],
            [
             0.3333333333333333,
             "#9c179e"
            ],
            [
             0.4444444444444444,
             "#bd3786"
            ],
            [
             0.5555555555555556,
             "#d8576b"
            ],
            [
             0.6666666666666666,
             "#ed7953"
            ],
            [
             0.7777777777777778,
             "#fb9f3a"
            ],
            [
             0.8888888888888888,
             "#fdca26"
            ],
            [
             1,
             "#f0f921"
            ]
           ],
           "sequentialminus": [
            [
             0,
             "#0d0887"
            ],
            [
             0.1111111111111111,
             "#46039f"
            ],
            [
             0.2222222222222222,
             "#7201a8"
            ],
            [
             0.3333333333333333,
             "#9c179e"
            ],
            [
             0.4444444444444444,
             "#bd3786"
            ],
            [
             0.5555555555555556,
             "#d8576b"
            ],
            [
             0.6666666666666666,
             "#ed7953"
            ],
            [
             0.7777777777777778,
             "#fb9f3a"
            ],
            [
             0.8888888888888888,
             "#fdca26"
            ],
            [
             1,
             "#f0f921"
            ]
           ]
          },
          "colorway": [
           "#636efa",
           "#EF553B",
           "#00cc96",
           "#ab63fa",
           "#FFA15A",
           "#19d3f3",
           "#FF6692",
           "#B6E880",
           "#FF97FF",
           "#FECB52"
          ],
          "font": {
           "color": "#2a3f5f"
          },
          "geo": {
           "bgcolor": "white",
           "lakecolor": "white",
           "landcolor": "#E5ECF6",
           "showlakes": true,
           "showland": true,
           "subunitcolor": "white"
          },
          "hoverlabel": {
           "align": "left"
          },
          "hovermode": "closest",
          "mapbox": {
           "style": "light"
          },
          "paper_bgcolor": "white",
          "plot_bgcolor": "#E5ECF6",
          "polar": {
           "angularaxis": {
            "gridcolor": "white",
            "linecolor": "white",
            "ticks": ""
           },
           "bgcolor": "#E5ECF6",
           "radialaxis": {
            "gridcolor": "white",
            "linecolor": "white",
            "ticks": ""
           }
          },
          "scene": {
           "xaxis": {
            "backgroundcolor": "#E5ECF6",
            "gridcolor": "white",
            "gridwidth": 2,
            "linecolor": "white",
            "showbackground": true,
            "ticks": "",
            "zerolinecolor": "white"
           },
           "yaxis": {
            "backgroundcolor": "#E5ECF6",
            "gridcolor": "white",
            "gridwidth": 2,
            "linecolor": "white",
            "showbackground": true,
            "ticks": "",
            "zerolinecolor": "white"
           },
           "zaxis": {
            "backgroundcolor": "#E5ECF6",
            "gridcolor": "white",
            "gridwidth": 2,
            "linecolor": "white",
            "showbackground": true,
            "ticks": "",
            "zerolinecolor": "white"
           }
          },
          "shapedefaults": {
           "line": {
            "color": "#2a3f5f"
           }
          },
          "ternary": {
           "aaxis": {
            "gridcolor": "white",
            "linecolor": "white",
            "ticks": ""
           },
           "baxis": {
            "gridcolor": "white",
            "linecolor": "white",
            "ticks": ""
           },
           "bgcolor": "#E5ECF6",
           "caxis": {
            "gridcolor": "white",
            "linecolor": "white",
            "ticks": ""
           }
          },
          "title": {
           "x": 0.05
          },
          "xaxis": {
           "automargin": true,
           "gridcolor": "white",
           "linecolor": "white",
           "ticks": "",
           "title": {
            "standoff": 15
           },
           "zerolinecolor": "white",
           "zerolinewidth": 2
          },
          "yaxis": {
           "automargin": true,
           "gridcolor": "white",
           "linecolor": "white",
           "ticks": "",
           "title": {
            "standoff": 15
           },
           "zerolinecolor": "white",
           "zerolinewidth": 2
          }
         }
        },
        "title": {
         "text": "SEXINTAKE Distribution [ Animal Type : Dog (#65250)]"
        },
        "xaxis": {
         "anchor": "y",
         "domain": [
          0,
          1
         ],
         "title": {
          "text": "SEXINTAKE"
         }
        },
        "yaxis": {
         "anchor": "x",
         "domain": [
          0,
          1
         ],
         "title": {
          "text": "COUNT"
         }
        }
       }
      },
      "text/html": [
       "<div>                            <div id=\"2375cf2b-ce57-4090-b739-7a2a1774bc67\" class=\"plotly-graph-div\" style=\"height:525px; width:100%;\"></div>            <script type=\"text/javascript\">                require([\"plotly\"], function(Plotly) {                    window.PLOTLYENV=window.PLOTLYENV || {};                                    if (document.getElementById(\"2375cf2b-ce57-4090-b739-7a2a1774bc67\")) {                    Plotly.newPlot(                        \"2375cf2b-ce57-4090-b739-7a2a1774bc67\",                        [{\"alignmentgroup\":\"True\",\"hovertemplate\":\"SEXINTAKE=%{x}<br>COUNT=%{y}<br>text=%{text}<extra></extra>\",\"legendgroup\":\"\",\"marker\":{\"color\":\"#636efa\",\"pattern\":{\"shape\":\"\"}},\"name\":\"\",\"offsetgroup\":\"\",\"orientation\":\"v\",\"showlegend\":false,\"text\":[\"30.2%\",\"34.2%\",\"19.2%\",\"15.7%\",\"0.6%\"],\"textposition\":\"auto\",\"x\":[\"Intact Female\",\"Intact Male\",\"Neutered Male\",\"Spayed Female\",\"Unknown\"],\"xaxis\":\"x\",\"y\":[19736,22345,12503,10260,406],\"yaxis\":\"y\",\"type\":\"bar\"}],                        {\"template\":{\"data\":{\"histogram2dcontour\":[{\"type\":\"histogram2dcontour\",\"colorbar\":{\"outlinewidth\":0,\"ticks\":\"\"},\"colorscale\":[[0.0,\"#0d0887\"],[0.1111111111111111,\"#46039f\"],[0.2222222222222222,\"#7201a8\"],[0.3333333333333333,\"#9c179e\"],[0.4444444444444444,\"#bd3786\"],[0.5555555555555556,\"#d8576b\"],[0.6666666666666666,\"#ed7953\"],[0.7777777777777778,\"#fb9f3a\"],[0.8888888888888888,\"#fdca26\"],[1.0,\"#f0f921\"]]}],\"choropleth\":[{\"type\":\"choropleth\",\"colorbar\":{\"outlinewidth\":0,\"ticks\":\"\"}}],\"histogram2d\":[{\"type\":\"histogram2d\",\"colorbar\":{\"outlinewidth\":0,\"ticks\":\"\"},\"colorscale\":[[0.0,\"#0d0887\"],[0.1111111111111111,\"#46039f\"],[0.2222222222222222,\"#7201a8\"],[0.3333333333333333,\"#9c179e\"],[0.4444444444444444,\"#bd3786\"],[0.5555555555555556,\"#d8576b\"],[0.6666666666666666,\"#ed7953\"],[0.7777777777777778,\"#fb9f3a\"],[0.8888888888888888,\"#fdca26\"],[1.0,\"#f0f921\"]]}],\"heatmap\":[{\"type\":\"heatmap\",\"colorbar\":{\"outlinewidth\":0,\"ticks\":\"\"},\"colorscale\":[[0.0,\"#0d0887\"],[0.1111111111111111,\"#46039f\"],[0.2222222222222222,\"#7201a8\"],[0.3333333333333333,\"#9c179e\"],[0.4444444444444444,\"#bd3786\"],[0.5555555555555556,\"#d8576b\"],[0.6666666666666666,\"#ed7953\"],[0.7777777777777778,\"#fb9f3a\"],[0.8888888888888888,\"#fdca26\"],[1.0,\"#f0f921\"]]}],\"heatmapgl\":[{\"type\":\"heatmapgl\",\"colorbar\":{\"outlinewidth\":0,\"ticks\":\"\"},\"colorscale\":[[0.0,\"#0d0887\"],[0.1111111111111111,\"#46039f\"],[0.2222222222222222,\"#7201a8\"],[0.3333333333333333,\"#9c179e\"],[0.4444444444444444,\"#bd3786\"],[0.5555555555555556,\"#d8576b\"],[0.6666666666666666,\"#ed7953\"],[0.7777777777777778,\"#fb9f3a\"],[0.8888888888888888,\"#fdca26\"],[1.0,\"#f0f921\"]]}],\"contourcarpet\":[{\"type\":\"contourcarpet\",\"colorbar\":{\"outlinewidth\":0,\"ticks\":\"\"}}],\"contour\":[{\"type\":\"contour\",\"colorbar\":{\"outlinewidth\":0,\"ticks\":\"\"},\"colorscale\":[[0.0,\"#0d0887\"],[0.1111111111111111,\"#46039f\"],[0.2222222222222222,\"#7201a8\"],[0.3333333333333333,\"#9c179e\"],[0.4444444444444444,\"#bd3786\"],[0.5555555555555556,\"#d8576b\"],[0.6666666666666666,\"#ed7953\"],[0.7777777777777778,\"#fb9f3a\"],[0.8888888888888888,\"#fdca26\"],[1.0,\"#f0f921\"]]}],\"surface\":[{\"type\":\"surface\",\"colorbar\":{\"outlinewidth\":0,\"ticks\":\"\"},\"colorscale\":[[0.0,\"#0d0887\"],[0.1111111111111111,\"#46039f\"],[0.2222222222222222,\"#7201a8\"],[0.3333333333333333,\"#9c179e\"],[0.4444444444444444,\"#bd3786\"],[0.5555555555555556,\"#d8576b\"],[0.6666666666666666,\"#ed7953\"],[0.7777777777777778,\"#fb9f3a\"],[0.8888888888888888,\"#fdca26\"],[1.0,\"#f0f921\"]]}],\"mesh3d\":[{\"type\":\"mesh3d\",\"colorbar\":{\"outlinewidth\":0,\"ticks\":\"\"}}],\"scatter\":[{\"fillpattern\":{\"fillmode\":\"overlay\",\"size\":10,\"solidity\":0.2},\"type\":\"scatter\"}],\"parcoords\":[{\"type\":\"parcoords\",\"line\":{\"colorbar\":{\"outlinewidth\":0,\"ticks\":\"\"}}}],\"scatterpolargl\":[{\"type\":\"scatterpolargl\",\"marker\":{\"colorbar\":{\"outlinewidth\":0,\"ticks\":\"\"}}}],\"bar\":[{\"error_x\":{\"color\":\"#2a3f5f\"},\"error_y\":{\"color\":\"#2a3f5f\"},\"marker\":{\"line\":{\"color\":\"#E5ECF6\",\"width\":0.5},\"pattern\":{\"fillmode\":\"overlay\",\"size\":10,\"solidity\":0.2}},\"type\":\"bar\"}],\"scattergeo\":[{\"type\":\"scattergeo\",\"marker\":{\"colorbar\":{\"outlinewidth\":0,\"ticks\":\"\"}}}],\"scatterpolar\":[{\"type\":\"scatterpolar\",\"marker\":{\"colorbar\":{\"outlinewidth\":0,\"ticks\":\"\"}}}],\"histogram\":[{\"marker\":{\"pattern\":{\"fillmode\":\"overlay\",\"size\":10,\"solidity\":0.2}},\"type\":\"histogram\"}],\"scattergl\":[{\"type\":\"scattergl\",\"marker\":{\"colorbar\":{\"outlinewidth\":0,\"ticks\":\"\"}}}],\"scatter3d\":[{\"type\":\"scatter3d\",\"line\":{\"colorbar\":{\"outlinewidth\":0,\"ticks\":\"\"}},\"marker\":{\"colorbar\":{\"outlinewidth\":0,\"ticks\":\"\"}}}],\"scattermapbox\":[{\"type\":\"scattermapbox\",\"marker\":{\"colorbar\":{\"outlinewidth\":0,\"ticks\":\"\"}}}],\"scatterternary\":[{\"type\":\"scatterternary\",\"marker\":{\"colorbar\":{\"outlinewidth\":0,\"ticks\":\"\"}}}],\"scattercarpet\":[{\"type\":\"scattercarpet\",\"marker\":{\"colorbar\":{\"outlinewidth\":0,\"ticks\":\"\"}}}],\"carpet\":[{\"aaxis\":{\"endlinecolor\":\"#2a3f5f\",\"gridcolor\":\"white\",\"linecolor\":\"white\",\"minorgridcolor\":\"white\",\"startlinecolor\":\"#2a3f5f\"},\"baxis\":{\"endlinecolor\":\"#2a3f5f\",\"gridcolor\":\"white\",\"linecolor\":\"white\",\"minorgridcolor\":\"white\",\"startlinecolor\":\"#2a3f5f\"},\"type\":\"carpet\"}],\"table\":[{\"cells\":{\"fill\":{\"color\":\"#EBF0F8\"},\"line\":{\"color\":\"white\"}},\"header\":{\"fill\":{\"color\":\"#C8D4E3\"},\"line\":{\"color\":\"white\"}},\"type\":\"table\"}],\"barpolar\":[{\"marker\":{\"line\":{\"color\":\"#E5ECF6\",\"width\":0.5},\"pattern\":{\"fillmode\":\"overlay\",\"size\":10,\"solidity\":0.2}},\"type\":\"barpolar\"}],\"pie\":[{\"automargin\":true,\"type\":\"pie\"}]},\"layout\":{\"autotypenumbers\":\"strict\",\"colorway\":[\"#636efa\",\"#EF553B\",\"#00cc96\",\"#ab63fa\",\"#FFA15A\",\"#19d3f3\",\"#FF6692\",\"#B6E880\",\"#FF97FF\",\"#FECB52\"],\"font\":{\"color\":\"#2a3f5f\"},\"hovermode\":\"closest\",\"hoverlabel\":{\"align\":\"left\"},\"paper_bgcolor\":\"white\",\"plot_bgcolor\":\"#E5ECF6\",\"polar\":{\"bgcolor\":\"#E5ECF6\",\"angularaxis\":{\"gridcolor\":\"white\",\"linecolor\":\"white\",\"ticks\":\"\"},\"radialaxis\":{\"gridcolor\":\"white\",\"linecolor\":\"white\",\"ticks\":\"\"}},\"ternary\":{\"bgcolor\":\"#E5ECF6\",\"aaxis\":{\"gridcolor\":\"white\",\"linecolor\":\"white\",\"ticks\":\"\"},\"baxis\":{\"gridcolor\":\"white\",\"linecolor\":\"white\",\"ticks\":\"\"},\"caxis\":{\"gridcolor\":\"white\",\"linecolor\":\"white\",\"ticks\":\"\"}},\"coloraxis\":{\"colorbar\":{\"outlinewidth\":0,\"ticks\":\"\"}},\"colorscale\":{\"sequential\":[[0.0,\"#0d0887\"],[0.1111111111111111,\"#46039f\"],[0.2222222222222222,\"#7201a8\"],[0.3333333333333333,\"#9c179e\"],[0.4444444444444444,\"#bd3786\"],[0.5555555555555556,\"#d8576b\"],[0.6666666666666666,\"#ed7953\"],[0.7777777777777778,\"#fb9f3a\"],[0.8888888888888888,\"#fdca26\"],[1.0,\"#f0f921\"]],\"sequentialminus\":[[0.0,\"#0d0887\"],[0.1111111111111111,\"#46039f\"],[0.2222222222222222,\"#7201a8\"],[0.3333333333333333,\"#9c179e\"],[0.4444444444444444,\"#bd3786\"],[0.5555555555555556,\"#d8576b\"],[0.6666666666666666,\"#ed7953\"],[0.7777777777777778,\"#fb9f3a\"],[0.8888888888888888,\"#fdca26\"],[1.0,\"#f0f921\"]],\"diverging\":[[0,\"#8e0152\"],[0.1,\"#c51b7d\"],[0.2,\"#de77ae\"],[0.3,\"#f1b6da\"],[0.4,\"#fde0ef\"],[0.5,\"#f7f7f7\"],[0.6,\"#e6f5d0\"],[0.7,\"#b8e186\"],[0.8,\"#7fbc41\"],[0.9,\"#4d9221\"],[1,\"#276419\"]]},\"xaxis\":{\"gridcolor\":\"white\",\"linecolor\":\"white\",\"ticks\":\"\",\"title\":{\"standoff\":15},\"zerolinecolor\":\"white\",\"automargin\":true,\"zerolinewidth\":2},\"yaxis\":{\"gridcolor\":\"white\",\"linecolor\":\"white\",\"ticks\":\"\",\"title\":{\"standoff\":15},\"zerolinecolor\":\"white\",\"automargin\":true,\"zerolinewidth\":2},\"scene\":{\"xaxis\":{\"backgroundcolor\":\"#E5ECF6\",\"gridcolor\":\"white\",\"linecolor\":\"white\",\"showbackground\":true,\"ticks\":\"\",\"zerolinecolor\":\"white\",\"gridwidth\":2},\"yaxis\":{\"backgroundcolor\":\"#E5ECF6\",\"gridcolor\":\"white\",\"linecolor\":\"white\",\"showbackground\":true,\"ticks\":\"\",\"zerolinecolor\":\"white\",\"gridwidth\":2},\"zaxis\":{\"backgroundcolor\":\"#E5ECF6\",\"gridcolor\":\"white\",\"linecolor\":\"white\",\"showbackground\":true,\"ticks\":\"\",\"zerolinecolor\":\"white\",\"gridwidth\":2}},\"shapedefaults\":{\"line\":{\"color\":\"#2a3f5f\"}},\"annotationdefaults\":{\"arrowcolor\":\"#2a3f5f\",\"arrowhead\":0,\"arrowwidth\":1},\"geo\":{\"bgcolor\":\"white\",\"landcolor\":\"#E5ECF6\",\"subunitcolor\":\"white\",\"showland\":true,\"showlakes\":true,\"lakecolor\":\"white\"},\"title\":{\"x\":0.05},\"mapbox\":{\"style\":\"light\"}}},\"xaxis\":{\"anchor\":\"y\",\"domain\":[0.0,1.0],\"title\":{\"text\":\"SEXINTAKE\"}},\"yaxis\":{\"anchor\":\"x\",\"domain\":[0.0,1.0],\"title\":{\"text\":\"COUNT\"}},\"legend\":{\"tracegroupgap\":0},\"title\":{\"text\":\"SEXINTAKE Distribution [ Animal Type : Dog (#65250)]\"},\"barmode\":\"relative\"},                        {\"responsive\": true}                    ).then(function(){\n",
       "                            \n",
       "var gd = document.getElementById('2375cf2b-ce57-4090-b739-7a2a1774bc67');\n",
       "var x = new MutationObserver(function (mutations, observer) {{\n",
       "        var display = window.getComputedStyle(gd).display;\n",
       "        if (!display || display === 'none') {{\n",
       "            console.log([gd, 'removed!']);\n",
       "            Plotly.purge(gd);\n",
       "            observer.disconnect();\n",
       "        }}\n",
       "}});\n",
       "\n",
       "// Listen for the removal of the full notebook cells\n",
       "var notebookContainer = gd.closest('#notebook-container');\n",
       "if (notebookContainer) {{\n",
       "    x.observe(notebookContainer, {childList: true});\n",
       "}}\n",
       "\n",
       "// Listen for the clearing of the current output cell\n",
       "var outputEl = gd.closest('.output');\n",
       "if (outputEl) {{\n",
       "    x.observe(outputEl, {childList: true});\n",
       "}}\n",
       "\n",
       "                        })                };                });            </script>        </div>"
      ]
     },
     "metadata": {},
     "output_type": "display_data"
    }
   ],
   "source": [
    "var = 'SEXINTAKE'\n",
    "dfGrp = dfAnimals.groupby(['ANIMALTYPE',var])['ANIMALID'].count()\n",
    "dfGrp = dfGrp.reset_index(drop=False)\n",
    "dfGrp = dfGrp.rename(columns={\"ANIMALID\": \"COUNT\"})\n",
    "dfGrp = dfGrp[dfGrp.ANIMALTYPE.isin(['Bird','Cat','Dog','Livestock'])]\n",
    "dfGrp\n",
    "a = list()\n",
    "for animal in dfGrp.ANIMALTYPE.unique():\n",
    "    dat = dfGrp[dfGrp.ANIMALTYPE==animal]\n",
    "    dat['PCT'] = np.round(100.0*dat['COUNT']/dat['COUNT'].sum(),2)\n",
    "    cnt = dat['COUNT'].sum()\n",
    "    a.append({\"data\":dat,\"count\":cnt})\n",
    "    fig = px.bar(dat, x=var, y='COUNT', title=var+\" Distribution [ Animal Type : \"+animal+\" (#\"+ str(cnt)+\")]\", text=dat['PCT'].apply(lambda x: '{0:1.1f}%'.format(x)))\n",
    "    fig.show()    "
   ]
  },
  {
   "cell_type": "markdown",
   "id": "f4a219f1",
   "metadata": {},
   "source": [
    "# Exploring \"INTAKE_CONDITION\" of Dogs\n"
   ]
  },
  {
   "cell_type": "code",
   "execution_count": 231,
   "id": "3bbd3a26",
   "metadata": {
    "scrolled": false
   },
   "outputs": [
    {
     "data": {
      "application/vnd.plotly.v1+json": {
       "config": {
        "plotlyServerURL": "https://plot.ly"
       },
       "data": [
        {
         "alignmentgroup": "True",
         "hovertemplate": "INTAKECONDITION=%{x}<br>COUNT=%{y}<br>text=%{text}<extra></extra>",
         "legendgroup": "",
         "marker": {
          "color": "#636efa",
          "pattern": {
           "shape": ""
          }
         },
         "name": "",
         "offsetgroup": "",
         "orientation": "v",
         "showlegend": false,
         "text": [
          "0.5%",
          "0.0%",
          "0.0%",
          "4.1%",
          "0.1%",
          "91.1%",
          "1.7%",
          "0.2%",
          "0.1%",
          "2.2%"
         ],
         "textposition": "auto",
         "type": "bar",
         "x": [
          "Aged",
          "Behavior",
          "Feral",
          "Injured",
          "Medical",
          "Normal",
          "Nursing",
          "Other",
          "Pregnant",
          "Sick"
         ],
         "xaxis": "x",
         "y": [
          321,
          15,
          9,
          2699,
          40,
          59435,
          1097,
          123,
          54,
          1458
         ],
         "yaxis": "y"
        }
       ],
       "layout": {
        "barmode": "relative",
        "legend": {
         "tracegroupgap": 0
        },
        "template": {
         "data": {
          "bar": [
           {
            "error_x": {
             "color": "#2a3f5f"
            },
            "error_y": {
             "color": "#2a3f5f"
            },
            "marker": {
             "line": {
              "color": "#E5ECF6",
              "width": 0.5
             },
             "pattern": {
              "fillmode": "overlay",
              "size": 10,
              "solidity": 0.2
             }
            },
            "type": "bar"
           }
          ],
          "barpolar": [
           {
            "marker": {
             "line": {
              "color": "#E5ECF6",
              "width": 0.5
             },
             "pattern": {
              "fillmode": "overlay",
              "size": 10,
              "solidity": 0.2
             }
            },
            "type": "barpolar"
           }
          ],
          "carpet": [
           {
            "aaxis": {
             "endlinecolor": "#2a3f5f",
             "gridcolor": "white",
             "linecolor": "white",
             "minorgridcolor": "white",
             "startlinecolor": "#2a3f5f"
            },
            "baxis": {
             "endlinecolor": "#2a3f5f",
             "gridcolor": "white",
             "linecolor": "white",
             "minorgridcolor": "white",
             "startlinecolor": "#2a3f5f"
            },
            "type": "carpet"
           }
          ],
          "choropleth": [
           {
            "colorbar": {
             "outlinewidth": 0,
             "ticks": ""
            },
            "type": "choropleth"
           }
          ],
          "contour": [
           {
            "colorbar": {
             "outlinewidth": 0,
             "ticks": ""
            },
            "colorscale": [
             [
              0,
              "#0d0887"
             ],
             [
              0.1111111111111111,
              "#46039f"
             ],
             [
              0.2222222222222222,
              "#7201a8"
             ],
             [
              0.3333333333333333,
              "#9c179e"
             ],
             [
              0.4444444444444444,
              "#bd3786"
             ],
             [
              0.5555555555555556,
              "#d8576b"
             ],
             [
              0.6666666666666666,
              "#ed7953"
             ],
             [
              0.7777777777777778,
              "#fb9f3a"
             ],
             [
              0.8888888888888888,
              "#fdca26"
             ],
             [
              1,
              "#f0f921"
             ]
            ],
            "type": "contour"
           }
          ],
          "contourcarpet": [
           {
            "colorbar": {
             "outlinewidth": 0,
             "ticks": ""
            },
            "type": "contourcarpet"
           }
          ],
          "heatmap": [
           {
            "colorbar": {
             "outlinewidth": 0,
             "ticks": ""
            },
            "colorscale": [
             [
              0,
              "#0d0887"
             ],
             [
              0.1111111111111111,
              "#46039f"
             ],
             [
              0.2222222222222222,
              "#7201a8"
             ],
             [
              0.3333333333333333,
              "#9c179e"
             ],
             [
              0.4444444444444444,
              "#bd3786"
             ],
             [
              0.5555555555555556,
              "#d8576b"
             ],
             [
              0.6666666666666666,
              "#ed7953"
             ],
             [
              0.7777777777777778,
              "#fb9f3a"
             ],
             [
              0.8888888888888888,
              "#fdca26"
             ],
             [
              1,
              "#f0f921"
             ]
            ],
            "type": "heatmap"
           }
          ],
          "heatmapgl": [
           {
            "colorbar": {
             "outlinewidth": 0,
             "ticks": ""
            },
            "colorscale": [
             [
              0,
              "#0d0887"
             ],
             [
              0.1111111111111111,
              "#46039f"
             ],
             [
              0.2222222222222222,
              "#7201a8"
             ],
             [
              0.3333333333333333,
              "#9c179e"
             ],
             [
              0.4444444444444444,
              "#bd3786"
             ],
             [
              0.5555555555555556,
              "#d8576b"
             ],
             [
              0.6666666666666666,
              "#ed7953"
             ],
             [
              0.7777777777777778,
              "#fb9f3a"
             ],
             [
              0.8888888888888888,
              "#fdca26"
             ],
             [
              1,
              "#f0f921"
             ]
            ],
            "type": "heatmapgl"
           }
          ],
          "histogram": [
           {
            "marker": {
             "pattern": {
              "fillmode": "overlay",
              "size": 10,
              "solidity": 0.2
             }
            },
            "type": "histogram"
           }
          ],
          "histogram2d": [
           {
            "colorbar": {
             "outlinewidth": 0,
             "ticks": ""
            },
            "colorscale": [
             [
              0,
              "#0d0887"
             ],
             [
              0.1111111111111111,
              "#46039f"
             ],
             [
              0.2222222222222222,
              "#7201a8"
             ],
             [
              0.3333333333333333,
              "#9c179e"
             ],
             [
              0.4444444444444444,
              "#bd3786"
             ],
             [
              0.5555555555555556,
              "#d8576b"
             ],
             [
              0.6666666666666666,
              "#ed7953"
             ],
             [
              0.7777777777777778,
              "#fb9f3a"
             ],
             [
              0.8888888888888888,
              "#fdca26"
             ],
             [
              1,
              "#f0f921"
             ]
            ],
            "type": "histogram2d"
           }
          ],
          "histogram2dcontour": [
           {
            "colorbar": {
             "outlinewidth": 0,
             "ticks": ""
            },
            "colorscale": [
             [
              0,
              "#0d0887"
             ],
             [
              0.1111111111111111,
              "#46039f"
             ],
             [
              0.2222222222222222,
              "#7201a8"
             ],
             [
              0.3333333333333333,
              "#9c179e"
             ],
             [
              0.4444444444444444,
              "#bd3786"
             ],
             [
              0.5555555555555556,
              "#d8576b"
             ],
             [
              0.6666666666666666,
              "#ed7953"
             ],
             [
              0.7777777777777778,
              "#fb9f3a"
             ],
             [
              0.8888888888888888,
              "#fdca26"
             ],
             [
              1,
              "#f0f921"
             ]
            ],
            "type": "histogram2dcontour"
           }
          ],
          "mesh3d": [
           {
            "colorbar": {
             "outlinewidth": 0,
             "ticks": ""
            },
            "type": "mesh3d"
           }
          ],
          "parcoords": [
           {
            "line": {
             "colorbar": {
              "outlinewidth": 0,
              "ticks": ""
             }
            },
            "type": "parcoords"
           }
          ],
          "pie": [
           {
            "automargin": true,
            "type": "pie"
           }
          ],
          "scatter": [
           {
            "fillpattern": {
             "fillmode": "overlay",
             "size": 10,
             "solidity": 0.2
            },
            "type": "scatter"
           }
          ],
          "scatter3d": [
           {
            "line": {
             "colorbar": {
              "outlinewidth": 0,
              "ticks": ""
             }
            },
            "marker": {
             "colorbar": {
              "outlinewidth": 0,
              "ticks": ""
             }
            },
            "type": "scatter3d"
           }
          ],
          "scattercarpet": [
           {
            "marker": {
             "colorbar": {
              "outlinewidth": 0,
              "ticks": ""
             }
            },
            "type": "scattercarpet"
           }
          ],
          "scattergeo": [
           {
            "marker": {
             "colorbar": {
              "outlinewidth": 0,
              "ticks": ""
             }
            },
            "type": "scattergeo"
           }
          ],
          "scattergl": [
           {
            "marker": {
             "colorbar": {
              "outlinewidth": 0,
              "ticks": ""
             }
            },
            "type": "scattergl"
           }
          ],
          "scattermapbox": [
           {
            "marker": {
             "colorbar": {
              "outlinewidth": 0,
              "ticks": ""
             }
            },
            "type": "scattermapbox"
           }
          ],
          "scatterpolar": [
           {
            "marker": {
             "colorbar": {
              "outlinewidth": 0,
              "ticks": ""
             }
            },
            "type": "scatterpolar"
           }
          ],
          "scatterpolargl": [
           {
            "marker": {
             "colorbar": {
              "outlinewidth": 0,
              "ticks": ""
             }
            },
            "type": "scatterpolargl"
           }
          ],
          "scatterternary": [
           {
            "marker": {
             "colorbar": {
              "outlinewidth": 0,
              "ticks": ""
             }
            },
            "type": "scatterternary"
           }
          ],
          "surface": [
           {
            "colorbar": {
             "outlinewidth": 0,
             "ticks": ""
            },
            "colorscale": [
             [
              0,
              "#0d0887"
             ],
             [
              0.1111111111111111,
              "#46039f"
             ],
             [
              0.2222222222222222,
              "#7201a8"
             ],
             [
              0.3333333333333333,
              "#9c179e"
             ],
             [
              0.4444444444444444,
              "#bd3786"
             ],
             [
              0.5555555555555556,
              "#d8576b"
             ],
             [
              0.6666666666666666,
              "#ed7953"
             ],
             [
              0.7777777777777778,
              "#fb9f3a"
             ],
             [
              0.8888888888888888,
              "#fdca26"
             ],
             [
              1,
              "#f0f921"
             ]
            ],
            "type": "surface"
           }
          ],
          "table": [
           {
            "cells": {
             "fill": {
              "color": "#EBF0F8"
             },
             "line": {
              "color": "white"
             }
            },
            "header": {
             "fill": {
              "color": "#C8D4E3"
             },
             "line": {
              "color": "white"
             }
            },
            "type": "table"
           }
          ]
         },
         "layout": {
          "annotationdefaults": {
           "arrowcolor": "#2a3f5f",
           "arrowhead": 0,
           "arrowwidth": 1
          },
          "autotypenumbers": "strict",
          "coloraxis": {
           "colorbar": {
            "outlinewidth": 0,
            "ticks": ""
           }
          },
          "colorscale": {
           "diverging": [
            [
             0,
             "#8e0152"
            ],
            [
             0.1,
             "#c51b7d"
            ],
            [
             0.2,
             "#de77ae"
            ],
            [
             0.3,
             "#f1b6da"
            ],
            [
             0.4,
             "#fde0ef"
            ],
            [
             0.5,
             "#f7f7f7"
            ],
            [
             0.6,
             "#e6f5d0"
            ],
            [
             0.7,
             "#b8e186"
            ],
            [
             0.8,
             "#7fbc41"
            ],
            [
             0.9,
             "#4d9221"
            ],
            [
             1,
             "#276419"
            ]
           ],
           "sequential": [
            [
             0,
             "#0d0887"
            ],
            [
             0.1111111111111111,
             "#46039f"
            ],
            [
             0.2222222222222222,
             "#7201a8"
            ],
            [
             0.3333333333333333,
             "#9c179e"
            ],
            [
             0.4444444444444444,
             "#bd3786"
            ],
            [
             0.5555555555555556,
             "#d8576b"
            ],
            [
             0.6666666666666666,
             "#ed7953"
            ],
            [
             0.7777777777777778,
             "#fb9f3a"
            ],
            [
             0.8888888888888888,
             "#fdca26"
            ],
            [
             1,
             "#f0f921"
            ]
           ],
           "sequentialminus": [
            [
             0,
             "#0d0887"
            ],
            [
             0.1111111111111111,
             "#46039f"
            ],
            [
             0.2222222222222222,
             "#7201a8"
            ],
            [
             0.3333333333333333,
             "#9c179e"
            ],
            [
             0.4444444444444444,
             "#bd3786"
            ],
            [
             0.5555555555555556,
             "#d8576b"
            ],
            [
             0.6666666666666666,
             "#ed7953"
            ],
            [
             0.7777777777777778,
             "#fb9f3a"
            ],
            [
             0.8888888888888888,
             "#fdca26"
            ],
            [
             1,
             "#f0f921"
            ]
           ]
          },
          "colorway": [
           "#636efa",
           "#EF553B",
           "#00cc96",
           "#ab63fa",
           "#FFA15A",
           "#19d3f3",
           "#FF6692",
           "#B6E880",
           "#FF97FF",
           "#FECB52"
          ],
          "font": {
           "color": "#2a3f5f"
          },
          "geo": {
           "bgcolor": "white",
           "lakecolor": "white",
           "landcolor": "#E5ECF6",
           "showlakes": true,
           "showland": true,
           "subunitcolor": "white"
          },
          "hoverlabel": {
           "align": "left"
          },
          "hovermode": "closest",
          "mapbox": {
           "style": "light"
          },
          "paper_bgcolor": "white",
          "plot_bgcolor": "#E5ECF6",
          "polar": {
           "angularaxis": {
            "gridcolor": "white",
            "linecolor": "white",
            "ticks": ""
           },
           "bgcolor": "#E5ECF6",
           "radialaxis": {
            "gridcolor": "white",
            "linecolor": "white",
            "ticks": ""
           }
          },
          "scene": {
           "xaxis": {
            "backgroundcolor": "#E5ECF6",
            "gridcolor": "white",
            "gridwidth": 2,
            "linecolor": "white",
            "showbackground": true,
            "ticks": "",
            "zerolinecolor": "white"
           },
           "yaxis": {
            "backgroundcolor": "#E5ECF6",
            "gridcolor": "white",
            "gridwidth": 2,
            "linecolor": "white",
            "showbackground": true,
            "ticks": "",
            "zerolinecolor": "white"
           },
           "zaxis": {
            "backgroundcolor": "#E5ECF6",
            "gridcolor": "white",
            "gridwidth": 2,
            "linecolor": "white",
            "showbackground": true,
            "ticks": "",
            "zerolinecolor": "white"
           }
          },
          "shapedefaults": {
           "line": {
            "color": "#2a3f5f"
           }
          },
          "ternary": {
           "aaxis": {
            "gridcolor": "white",
            "linecolor": "white",
            "ticks": ""
           },
           "baxis": {
            "gridcolor": "white",
            "linecolor": "white",
            "ticks": ""
           },
           "bgcolor": "#E5ECF6",
           "caxis": {
            "gridcolor": "white",
            "linecolor": "white",
            "ticks": ""
           }
          },
          "title": {
           "x": 0.05
          },
          "xaxis": {
           "automargin": true,
           "gridcolor": "white",
           "linecolor": "white",
           "ticks": "",
           "title": {
            "standoff": 15
           },
           "zerolinecolor": "white",
           "zerolinewidth": 2
          },
          "yaxis": {
           "automargin": true,
           "gridcolor": "white",
           "linecolor": "white",
           "ticks": "",
           "title": {
            "standoff": 15
           },
           "zerolinecolor": "white",
           "zerolinewidth": 2
          }
         }
        },
        "title": {
         "text": "INTAKECONDITION Distribution [ Animal Type : Dog (#65251)]"
        },
        "xaxis": {
         "anchor": "y",
         "domain": [
          0,
          1
         ],
         "title": {
          "text": "INTAKECONDITION"
         }
        },
        "yaxis": {
         "anchor": "x",
         "domain": [
          0,
          1
         ],
         "title": {
          "text": "COUNT"
         }
        }
       }
      },
      "text/html": [
       "<div>                            <div id=\"2590be63-2cfd-4be3-ad4d-3738de1451f0\" class=\"plotly-graph-div\" style=\"height:525px; width:100%;\"></div>            <script type=\"text/javascript\">                require([\"plotly\"], function(Plotly) {                    window.PLOTLYENV=window.PLOTLYENV || {};                                    if (document.getElementById(\"2590be63-2cfd-4be3-ad4d-3738de1451f0\")) {                    Plotly.newPlot(                        \"2590be63-2cfd-4be3-ad4d-3738de1451f0\",                        [{\"alignmentgroup\":\"True\",\"hovertemplate\":\"INTAKECONDITION=%{x}<br>COUNT=%{y}<br>text=%{text}<extra></extra>\",\"legendgroup\":\"\",\"marker\":{\"color\":\"#636efa\",\"pattern\":{\"shape\":\"\"}},\"name\":\"\",\"offsetgroup\":\"\",\"orientation\":\"v\",\"showlegend\":false,\"text\":[\"0.5%\",\"0.0%\",\"0.0%\",\"4.1%\",\"0.1%\",\"91.1%\",\"1.7%\",\"0.2%\",\"0.1%\",\"2.2%\"],\"textposition\":\"auto\",\"x\":[\"Aged\",\"Behavior\",\"Feral\",\"Injured\",\"Medical\",\"Normal\",\"Nursing\",\"Other\",\"Pregnant\",\"Sick\"],\"xaxis\":\"x\",\"y\":[321,15,9,2699,40,59435,1097,123,54,1458],\"yaxis\":\"y\",\"type\":\"bar\"}],                        {\"template\":{\"data\":{\"histogram2dcontour\":[{\"type\":\"histogram2dcontour\",\"colorbar\":{\"outlinewidth\":0,\"ticks\":\"\"},\"colorscale\":[[0.0,\"#0d0887\"],[0.1111111111111111,\"#46039f\"],[0.2222222222222222,\"#7201a8\"],[0.3333333333333333,\"#9c179e\"],[0.4444444444444444,\"#bd3786\"],[0.5555555555555556,\"#d8576b\"],[0.6666666666666666,\"#ed7953\"],[0.7777777777777778,\"#fb9f3a\"],[0.8888888888888888,\"#fdca26\"],[1.0,\"#f0f921\"]]}],\"choropleth\":[{\"type\":\"choropleth\",\"colorbar\":{\"outlinewidth\":0,\"ticks\":\"\"}}],\"histogram2d\":[{\"type\":\"histogram2d\",\"colorbar\":{\"outlinewidth\":0,\"ticks\":\"\"},\"colorscale\":[[0.0,\"#0d0887\"],[0.1111111111111111,\"#46039f\"],[0.2222222222222222,\"#7201a8\"],[0.3333333333333333,\"#9c179e\"],[0.4444444444444444,\"#bd3786\"],[0.5555555555555556,\"#d8576b\"],[0.6666666666666666,\"#ed7953\"],[0.7777777777777778,\"#fb9f3a\"],[0.8888888888888888,\"#fdca26\"],[1.0,\"#f0f921\"]]}],\"heatmap\":[{\"type\":\"heatmap\",\"colorbar\":{\"outlinewidth\":0,\"ticks\":\"\"},\"colorscale\":[[0.0,\"#0d0887\"],[0.1111111111111111,\"#46039f\"],[0.2222222222222222,\"#7201a8\"],[0.3333333333333333,\"#9c179e\"],[0.4444444444444444,\"#bd3786\"],[0.5555555555555556,\"#d8576b\"],[0.6666666666666666,\"#ed7953\"],[0.7777777777777778,\"#fb9f3a\"],[0.8888888888888888,\"#fdca26\"],[1.0,\"#f0f921\"]]}],\"heatmapgl\":[{\"type\":\"heatmapgl\",\"colorbar\":{\"outlinewidth\":0,\"ticks\":\"\"},\"colorscale\":[[0.0,\"#0d0887\"],[0.1111111111111111,\"#46039f\"],[0.2222222222222222,\"#7201a8\"],[0.3333333333333333,\"#9c179e\"],[0.4444444444444444,\"#bd3786\"],[0.5555555555555556,\"#d8576b\"],[0.6666666666666666,\"#ed7953\"],[0.7777777777777778,\"#fb9f3a\"],[0.8888888888888888,\"#fdca26\"],[1.0,\"#f0f921\"]]}],\"contourcarpet\":[{\"type\":\"contourcarpet\",\"colorbar\":{\"outlinewidth\":0,\"ticks\":\"\"}}],\"contour\":[{\"type\":\"contour\",\"colorbar\":{\"outlinewidth\":0,\"ticks\":\"\"},\"colorscale\":[[0.0,\"#0d0887\"],[0.1111111111111111,\"#46039f\"],[0.2222222222222222,\"#7201a8\"],[0.3333333333333333,\"#9c179e\"],[0.4444444444444444,\"#bd3786\"],[0.5555555555555556,\"#d8576b\"],[0.6666666666666666,\"#ed7953\"],[0.7777777777777778,\"#fb9f3a\"],[0.8888888888888888,\"#fdca26\"],[1.0,\"#f0f921\"]]}],\"surface\":[{\"type\":\"surface\",\"colorbar\":{\"outlinewidth\":0,\"ticks\":\"\"},\"colorscale\":[[0.0,\"#0d0887\"],[0.1111111111111111,\"#46039f\"],[0.2222222222222222,\"#7201a8\"],[0.3333333333333333,\"#9c179e\"],[0.4444444444444444,\"#bd3786\"],[0.5555555555555556,\"#d8576b\"],[0.6666666666666666,\"#ed7953\"],[0.7777777777777778,\"#fb9f3a\"],[0.8888888888888888,\"#fdca26\"],[1.0,\"#f0f921\"]]}],\"mesh3d\":[{\"type\":\"mesh3d\",\"colorbar\":{\"outlinewidth\":0,\"ticks\":\"\"}}],\"scatter\":[{\"fillpattern\":{\"fillmode\":\"overlay\",\"size\":10,\"solidity\":0.2},\"type\":\"scatter\"}],\"parcoords\":[{\"type\":\"parcoords\",\"line\":{\"colorbar\":{\"outlinewidth\":0,\"ticks\":\"\"}}}],\"scatterpolargl\":[{\"type\":\"scatterpolargl\",\"marker\":{\"colorbar\":{\"outlinewidth\":0,\"ticks\":\"\"}}}],\"bar\":[{\"error_x\":{\"color\":\"#2a3f5f\"},\"error_y\":{\"color\":\"#2a3f5f\"},\"marker\":{\"line\":{\"color\":\"#E5ECF6\",\"width\":0.5},\"pattern\":{\"fillmode\":\"overlay\",\"size\":10,\"solidity\":0.2}},\"type\":\"bar\"}],\"scattergeo\":[{\"type\":\"scattergeo\",\"marker\":{\"colorbar\":{\"outlinewidth\":0,\"ticks\":\"\"}}}],\"scatterpolar\":[{\"type\":\"scatterpolar\",\"marker\":{\"colorbar\":{\"outlinewidth\":0,\"ticks\":\"\"}}}],\"histogram\":[{\"marker\":{\"pattern\":{\"fillmode\":\"overlay\",\"size\":10,\"solidity\":0.2}},\"type\":\"histogram\"}],\"scattergl\":[{\"type\":\"scattergl\",\"marker\":{\"colorbar\":{\"outlinewidth\":0,\"ticks\":\"\"}}}],\"scatter3d\":[{\"type\":\"scatter3d\",\"line\":{\"colorbar\":{\"outlinewidth\":0,\"ticks\":\"\"}},\"marker\":{\"colorbar\":{\"outlinewidth\":0,\"ticks\":\"\"}}}],\"scattermapbox\":[{\"type\":\"scattermapbox\",\"marker\":{\"colorbar\":{\"outlinewidth\":0,\"ticks\":\"\"}}}],\"scatterternary\":[{\"type\":\"scatterternary\",\"marker\":{\"colorbar\":{\"outlinewidth\":0,\"ticks\":\"\"}}}],\"scattercarpet\":[{\"type\":\"scattercarpet\",\"marker\":{\"colorbar\":{\"outlinewidth\":0,\"ticks\":\"\"}}}],\"carpet\":[{\"aaxis\":{\"endlinecolor\":\"#2a3f5f\",\"gridcolor\":\"white\",\"linecolor\":\"white\",\"minorgridcolor\":\"white\",\"startlinecolor\":\"#2a3f5f\"},\"baxis\":{\"endlinecolor\":\"#2a3f5f\",\"gridcolor\":\"white\",\"linecolor\":\"white\",\"minorgridcolor\":\"white\",\"startlinecolor\":\"#2a3f5f\"},\"type\":\"carpet\"}],\"table\":[{\"cells\":{\"fill\":{\"color\":\"#EBF0F8\"},\"line\":{\"color\":\"white\"}},\"header\":{\"fill\":{\"color\":\"#C8D4E3\"},\"line\":{\"color\":\"white\"}},\"type\":\"table\"}],\"barpolar\":[{\"marker\":{\"line\":{\"color\":\"#E5ECF6\",\"width\":0.5},\"pattern\":{\"fillmode\":\"overlay\",\"size\":10,\"solidity\":0.2}},\"type\":\"barpolar\"}],\"pie\":[{\"automargin\":true,\"type\":\"pie\"}]},\"layout\":{\"autotypenumbers\":\"strict\",\"colorway\":[\"#636efa\",\"#EF553B\",\"#00cc96\",\"#ab63fa\",\"#FFA15A\",\"#19d3f3\",\"#FF6692\",\"#B6E880\",\"#FF97FF\",\"#FECB52\"],\"font\":{\"color\":\"#2a3f5f\"},\"hovermode\":\"closest\",\"hoverlabel\":{\"align\":\"left\"},\"paper_bgcolor\":\"white\",\"plot_bgcolor\":\"#E5ECF6\",\"polar\":{\"bgcolor\":\"#E5ECF6\",\"angularaxis\":{\"gridcolor\":\"white\",\"linecolor\":\"white\",\"ticks\":\"\"},\"radialaxis\":{\"gridcolor\":\"white\",\"linecolor\":\"white\",\"ticks\":\"\"}},\"ternary\":{\"bgcolor\":\"#E5ECF6\",\"aaxis\":{\"gridcolor\":\"white\",\"linecolor\":\"white\",\"ticks\":\"\"},\"baxis\":{\"gridcolor\":\"white\",\"linecolor\":\"white\",\"ticks\":\"\"},\"caxis\":{\"gridcolor\":\"white\",\"linecolor\":\"white\",\"ticks\":\"\"}},\"coloraxis\":{\"colorbar\":{\"outlinewidth\":0,\"ticks\":\"\"}},\"colorscale\":{\"sequential\":[[0.0,\"#0d0887\"],[0.1111111111111111,\"#46039f\"],[0.2222222222222222,\"#7201a8\"],[0.3333333333333333,\"#9c179e\"],[0.4444444444444444,\"#bd3786\"],[0.5555555555555556,\"#d8576b\"],[0.6666666666666666,\"#ed7953\"],[0.7777777777777778,\"#fb9f3a\"],[0.8888888888888888,\"#fdca26\"],[1.0,\"#f0f921\"]],\"sequentialminus\":[[0.0,\"#0d0887\"],[0.1111111111111111,\"#46039f\"],[0.2222222222222222,\"#7201a8\"],[0.3333333333333333,\"#9c179e\"],[0.4444444444444444,\"#bd3786\"],[0.5555555555555556,\"#d8576b\"],[0.6666666666666666,\"#ed7953\"],[0.7777777777777778,\"#fb9f3a\"],[0.8888888888888888,\"#fdca26\"],[1.0,\"#f0f921\"]],\"diverging\":[[0,\"#8e0152\"],[0.1,\"#c51b7d\"],[0.2,\"#de77ae\"],[0.3,\"#f1b6da\"],[0.4,\"#fde0ef\"],[0.5,\"#f7f7f7\"],[0.6,\"#e6f5d0\"],[0.7,\"#b8e186\"],[0.8,\"#7fbc41\"],[0.9,\"#4d9221\"],[1,\"#276419\"]]},\"xaxis\":{\"gridcolor\":\"white\",\"linecolor\":\"white\",\"ticks\":\"\",\"title\":{\"standoff\":15},\"zerolinecolor\":\"white\",\"automargin\":true,\"zerolinewidth\":2},\"yaxis\":{\"gridcolor\":\"white\",\"linecolor\":\"white\",\"ticks\":\"\",\"title\":{\"standoff\":15},\"zerolinecolor\":\"white\",\"automargin\":true,\"zerolinewidth\":2},\"scene\":{\"xaxis\":{\"backgroundcolor\":\"#E5ECF6\",\"gridcolor\":\"white\",\"linecolor\":\"white\",\"showbackground\":true,\"ticks\":\"\",\"zerolinecolor\":\"white\",\"gridwidth\":2},\"yaxis\":{\"backgroundcolor\":\"#E5ECF6\",\"gridcolor\":\"white\",\"linecolor\":\"white\",\"showbackground\":true,\"ticks\":\"\",\"zerolinecolor\":\"white\",\"gridwidth\":2},\"zaxis\":{\"backgroundcolor\":\"#E5ECF6\",\"gridcolor\":\"white\",\"linecolor\":\"white\",\"showbackground\":true,\"ticks\":\"\",\"zerolinecolor\":\"white\",\"gridwidth\":2}},\"shapedefaults\":{\"line\":{\"color\":\"#2a3f5f\"}},\"annotationdefaults\":{\"arrowcolor\":\"#2a3f5f\",\"arrowhead\":0,\"arrowwidth\":1},\"geo\":{\"bgcolor\":\"white\",\"landcolor\":\"#E5ECF6\",\"subunitcolor\":\"white\",\"showland\":true,\"showlakes\":true,\"lakecolor\":\"white\"},\"title\":{\"x\":0.05},\"mapbox\":{\"style\":\"light\"}}},\"xaxis\":{\"anchor\":\"y\",\"domain\":[0.0,1.0],\"title\":{\"text\":\"INTAKECONDITION\"}},\"yaxis\":{\"anchor\":\"x\",\"domain\":[0.0,1.0],\"title\":{\"text\":\"COUNT\"}},\"legend\":{\"tracegroupgap\":0},\"title\":{\"text\":\"INTAKECONDITION Distribution [ Animal Type : Dog (#65251)]\"},\"barmode\":\"relative\"},                        {\"responsive\": true}                    ).then(function(){\n",
       "                            \n",
       "var gd = document.getElementById('2590be63-2cfd-4be3-ad4d-3738de1451f0');\n",
       "var x = new MutationObserver(function (mutations, observer) {{\n",
       "        var display = window.getComputedStyle(gd).display;\n",
       "        if (!display || display === 'none') {{\n",
       "            console.log([gd, 'removed!']);\n",
       "            Plotly.purge(gd);\n",
       "            observer.disconnect();\n",
       "        }}\n",
       "}});\n",
       "\n",
       "// Listen for the removal of the full notebook cells\n",
       "var notebookContainer = gd.closest('#notebook-container');\n",
       "if (notebookContainer) {{\n",
       "    x.observe(notebookContainer, {childList: true});\n",
       "}}\n",
       "\n",
       "// Listen for the clearing of the current output cell\n",
       "var outputEl = gd.closest('.output');\n",
       "if (outputEl) {{\n",
       "    x.observe(outputEl, {childList: true});\n",
       "}}\n",
       "\n",
       "                        })                };                });            </script>        </div>"
      ]
     },
     "metadata": {},
     "output_type": "display_data"
    }
   ],
   "source": [
    "var = 'INTAKECONDITION'\n",
    "dfGrp = dfAnimals.groupby(['ANIMALTYPE',var])['ANIMALID'].count()\n",
    "dfGrp = dfGrp.reset_index(drop=False)\n",
    "dfGrp = dfGrp.rename(columns={\"ANIMALID\": \"COUNT\"})\n",
    "dfGrp = dfGrp[dfGrp.ANIMALTYPE.isin(['Bird','Cat','Dog','Livestock'])]\n",
    "dfGrp\n",
    "a = list()\n",
    "for animal in dfGrp.ANIMALTYPE.unique():\n",
    "    dat = dfGrp[dfGrp.ANIMALTYPE==animal]\n",
    "    dat['PCT'] = np.round(100.0*dat['COUNT']/dat['COUNT'].sum(),2)\n",
    "    cnt = dat['COUNT'].sum()\n",
    "    a.append({\"data\":dat,\"count\":cnt})\n",
    "    fig = px.bar(dat, x=var, y='COUNT', title=var+\" Distribution [ Animal Type : \"+animal+\" (#\"+ str(cnt)+\")]\", text=dat['PCT'].apply(lambda x: '{0:1.1f}%'.format(x)))\n",
    "    fig.show()    "
   ]
  },
  {
   "cell_type": "markdown",
   "id": "cb586247",
   "metadata": {},
   "source": [
    "# Exploring \"BREED\" of Dogs\n"
   ]
  },
  {
   "cell_type": "code",
   "execution_count": 232,
   "id": "31d8c3f5",
   "metadata": {
    "scrolled": false
   },
   "outputs": [
    {
     "data": {
      "application/vnd.plotly.v1+json": {
       "config": {
        "plotlyServerURL": "https://plot.ly"
       },
       "data": [
        {
         "alignmentgroup": "True",
         "hovertemplate": "BREED=%{x}<br>COUNT=%{y}<br>text=%{text}<extra></extra>",
         "legendgroup": "",
         "marker": {
          "color": "#636efa",
          "pattern": {
           "shape": ""
          }
         },
         "name": "",
         "offsetgroup": "",
         "orientation": "v",
         "showlegend": false,
         "text": [
          "0.0%",
          "0.0%",
          "0.0%",
          "0.0%",
          "0.0%",
          "0.0%",
          "0.0%",
          "0.0%",
          "0.0%",
          "0.0%",
          "0.0%",
          "0.0%",
          "0.0%",
          "0.1%",
          "0.0%",
          "0.0%",
          "0.0%",
          "0.0%",
          "0.0%",
          "0.0%",
          "0.0%",
          "0.0%",
          "0.1%",
          "0.2%",
          "0.0%",
          "0.0%",
          "0.0%",
          "0.0%",
          "0.0%",
          "0.0%",
          "0.0%",
          "0.0%",
          "0.0%",
          "0.0%",
          "0.0%",
          "0.0%",
          "0.0%",
          "0.0%",
          "0.0%",
          "0.0%",
          "0.0%",
          "0.1%",
          "0.6%",
          "0.0%",
          "0.0%",
          "0.0%",
          "0.0%",
          "0.0%",
          "0.0%",
          "0.0%",
          "0.0%",
          "0.0%",
          "0.0%",
          "0.0%",
          "0.0%",
          "0.0%",
          "0.0%",
          "0.0%",
          "0.0%",
          "0.0%",
          "0.0%",
          "0.0%",
          "0.0%",
          "0.0%",
          "0.0%",
          "0.0%",
          "0.2%",
          "0.5%",
          "0.0%",
          "0.0%",
          "0.0%",
          "0.0%",
          "0.0%",
          "0.0%",
          "0.0%",
          "0.0%",
          "0.0%",
          "0.0%",
          "0.1%",
          "0.4%",
          "0.0%",
          "0.0%",
          "0.0%",
          "0.0%",
          "0.0%",
          "0.0%",
          "0.0%",
          "0.0%",
          "0.0%",
          "0.0%",
          "0.0%",
          "0.0%",
          "0.1%",
          "0.6%",
          "0.0%",
          "0.0%",
          "0.0%",
          "0.0%",
          "0.0%",
          "0.0%",
          "0.0%",
          "0.0%",
          "0.0%",
          "0.0%",
          "0.0%",
          "0.0%",
          "0.0%",
          "0.0%",
          "0.0%",
          "0.0%",
          "0.0%",
          "0.0%",
          "0.0%",
          "0.0%",
          "0.0%",
          "0.5%",
          "2.2%",
          "0.0%",
          "0.0%",
          "0.0%",
          "0.0%",
          "0.0%",
          "0.0%",
          "0.0%",
          "0.0%",
          "0.0%",
          "0.0%",
          "0.0%",
          "0.0%",
          "0.0%",
          "0.0%",
          "0.0%",
          "0.0%",
          "0.0%",
          "0.0%",
          "0.0%",
          "0.0%",
          "0.0%",
          "0.0%",
          "0.0%",
          "0.0%",
          "0.0%",
          "0.0%",
          "0.0%",
          "0.0%",
          "0.0%",
          "0.0%",
          "0.0%",
          "0.0%",
          "0.1%",
          "0.0%",
          "0.0%",
          "0.0%",
          "0.0%",
          "0.1%",
          "0.0%",
          "0.0%",
          "0.0%",
          "0.0%",
          "0.1%",
          "0.0%",
          "0.0%",
          "0.0%",
          "0.0%",
          "0.0%",
          "0.0%",
          "0.0%",
          "0.0%",
          "0.0%",
          "0.0%",
          "0.0%",
          "0.0%",
          "0.1%",
          "0.5%",
          "0.0%",
          "0.0%",
          "0.0%",
          "0.0%",
          "0.0%",
          "0.0%",
          "0.0%",
          "0.0%",
          "0.0%",
          "0.0%",
          "0.0%",
          "0.0%",
          "0.0%",
          "0.0%",
          "0.0%",
          "0.0%",
          "0.0%",
          "0.0%",
          "0.0%",
          "0.0%",
          "0.0%",
          "0.0%",
          "0.0%",
          "0.0%",
          "0.1%",
          "1.0%",
          "0.0%",
          "0.0%",
          "0.0%",
          "0.0%",
          "0.0%",
          "0.0%",
          "0.0%",
          "0.0%",
          "0.0%",
          "0.0%",
          "0.0%",
          "0.0%",
          "0.0%",
          "0.0%",
          "0.0%",
          "0.0%",
          "0.0%",
          "0.0%",
          "0.0%",
          "0.0%",
          "0.0%",
          "0.0%",
          "0.0%",
          "0.0%",
          "0.0%",
          "0.0%",
          "0.0%",
          "0.0%",
          "0.1%",
          "0.0%",
          "0.0%",
          "0.0%",
          "0.0%",
          "0.0%",
          "0.0%",
          "0.0%",
          "0.0%",
          "0.0%",
          "0.0%",
          "0.0%",
          "0.0%",
          "0.0%",
          "0.0%",
          "0.0%",
          "0.0%",
          "0.1%",
          "0.0%",
          "0.0%",
          "0.0%",
          "0.0%",
          "0.0%",
          "0.0%",
          "0.0%",
          "0.0%",
          "0.0%",
          "0.0%",
          "0.0%",
          "0.1%",
          "0.2%",
          "0.0%",
          "0.0%",
          "0.0%",
          "0.0%",
          "0.0%",
          "0.0%",
          "0.0%",
          "0.0%",
          "0.0%",
          "0.0%",
          "0.0%",
          "0.0%",
          "0.0%",
          "0.0%",
          "0.0%",
          "0.0%",
          "0.0%",
          "0.0%",
          "0.0%",
          "0.0%",
          "0.0%",
          "0.0%",
          "0.0%",
          "0.2%",
          "0.8%",
          "0.0%",
          "0.0%",
          "0.0%",
          "0.0%",
          "0.0%",
          "0.0%",
          "0.0%",
          "0.0%",
          "0.0%",
          "0.0%",
          "0.0%",
          "0.0%",
          "0.0%",
          "0.0%",
          "0.0%",
          "0.1%",
          "0.0%",
          "0.0%",
          "0.1%",
          "0.0%",
          "0.0%",
          "0.0%",
          "0.0%",
          "0.0%",
          "0.0%",
          "0.1%",
          "0.0%",
          "0.0%",
          "0.0%",
          "0.0%",
          "0.0%",
          "0.0%",
          "0.0%",
          "0.0%",
          "0.0%",
          "0.0%",
          "0.0%",
          "0.0%",
          "0.0%",
          "0.0%",
          "0.0%",
          "0.0%",
          "0.0%",
          "0.0%",
          "0.0%",
          "0.0%",
          "0.1%",
          "0.0%",
          "0.0%",
          "0.1%",
          "0.1%",
          "0.0%",
          "0.0%",
          "0.0%",
          "0.0%",
          "0.0%",
          "0.0%",
          "0.0%",
          "0.0%",
          "0.0%",
          "0.0%",
          "0.0%",
          "0.0%",
          "0.0%",
          "0.0%",
          "0.0%",
          "0.0%",
          "0.1%",
          "0.0%",
          "0.0%",
          "0.0%",
          "0.0%",
          "0.1%",
          "0.5%",
          "0.0%",
          "0.0%",
          "0.0%",
          "0.0%",
          "0.0%",
          "0.0%",
          "0.0%",
          "0.0%",
          "0.0%",
          "0.0%",
          "0.0%",
          "0.0%",
          "0.0%",
          "0.0%",
          "0.0%",
          "0.0%",
          "0.0%",
          "0.0%",
          "0.0%",
          "0.0%",
          "0.0%",
          "0.0%",
          "0.0%",
          "0.0%",
          "0.0%",
          "0.2%",
          "0.0%",
          "0.0%",
          "0.0%",
          "0.0%",
          "0.0%",
          "0.0%",
          "0.0%",
          "0.0%",
          "0.1%",
          "0.0%",
          "0.0%",
          "0.0%",
          "0.0%",
          "0.2%",
          "0.0%",
          "0.0%",
          "0.0%",
          "0.0%",
          "0.0%",
          "0.0%",
          "0.0%",
          "0.0%",
          "0.0%",
          "0.0%",
          "0.0%",
          "0.0%",
          "0.0%",
          "0.0%",
          "0.0%",
          "0.0%",
          "0.0%",
          "0.0%",
          "0.0%",
          "0.0%",
          "0.0%",
          "0.0%",
          "0.0%",
          "0.0%",
          "0.2%",
          "1.3%",
          "0.0%",
          "0.0%",
          "0.0%",
          "0.0%",
          "0.0%",
          "0.0%",
          "0.0%",
          "0.0%",
          "0.0%",
          "0.0%",
          "0.0%",
          "0.0%",
          "0.0%",
          "0.0%",
          "0.0%",
          "0.0%",
          "0.0%",
          "0.0%",
          "0.0%",
          "0.0%",
          "0.0%",
          "0.0%",
          "0.0%",
          "0.0%",
          "0.0%",
          "0.0%",
          "0.0%",
          "0.1%",
          "0.0%",
          "0.0%",
          "0.0%",
          "0.0%",
          "0.0%",
          "0.1%",
          "0.0%",
          "0.0%",
          "0.0%",
          "0.0%",
          "0.0%",
          "0.0%",
          "0.0%",
          "0.0%",
          "0.0%",
          "0.0%",
          "0.0%",
          "0.0%",
          "0.0%",
          "0.1%",
          "0.3%",
          "0.0%",
          "0.0%",
          "0.0%",
          "0.0%",
          "0.0%",
          "0.0%",
          "0.0%",
          "0.0%",
          "0.0%",
          "0.0%",
          "0.0%",
          "0.0%",
          "0.0%",
          "0.0%",
          "0.0%",
          "0.0%",
          "0.0%",
          "0.0%",
          "0.0%",
          "0.1%",
          "0.2%",
          "0.0%",
          "0.0%",
          "0.0%",
          "0.0%",
          "0.0%",
          "0.0%",
          "0.0%",
          "0.0%",
          "0.0%",
          "0.0%",
          "0.0%",
          "0.0%",
          "0.0%",
          "0.3%",
          "1.4%",
          "0.0%",
          "0.0%",
          "0.0%",
          "0.0%",
          "0.0%",
          "0.0%",
          "0.0%",
          "0.0%",
          "0.0%",
          "0.0%",
          "0.0%",
          "0.0%",
          "0.0%",
          "0.0%",
          "0.0%",
          "0.0%",
          "0.0%",
          "0.0%",
          "0.0%",
          "0.0%",
          "0.0%",
          "0.0%",
          "0.0%",
          "0.0%",
          "0.0%",
          "0.0%",
          "0.0%",
          "0.0%",
          "0.0%",
          "0.0%",
          "0.1%",
          "0.0%",
          "0.0%",
          "0.0%",
          "0.1%",
          "0.0%",
          "0.0%",
          "0.0%",
          "0.0%",
          "0.0%",
          "0.0%",
          "0.0%",
          "0.0%",
          "0.0%",
          "0.0%",
          "0.0%",
          "0.0%",
          "0.0%",
          "0.0%",
          "0.0%",
          "0.0%",
          "0.0%",
          "0.0%",
          "0.0%",
          "0.0%",
          "0.0%",
          "0.1%",
          "0.0%",
          "0.0%",
          "0.0%",
          "0.0%",
          "0.0%",
          "0.0%",
          "0.0%",
          "0.0%",
          "0.1%",
          "0.0%",
          "0.0%",
          "0.0%",
          "0.0%",
          "0.0%",
          "0.0%",
          "0.1%",
          "0.0%",
          "0.0%",
          "0.0%",
          "0.0%",
          "0.0%",
          "0.0%",
          "0.1%",
          "0.0%",
          "0.0%",
          "0.0%",
          "0.0%",
          "0.0%",
          "0.0%",
          "0.0%",
          "0.0%",
          "0.1%",
          "0.0%",
          "0.0%",
          "0.2%",
          "0.7%",
          "0.0%",
          "0.0%",
          "0.0%",
          "0.0%",
          "0.0%",
          "0.0%",
          "0.0%",
          "0.1%",
          "0.0%",
          "0.0%",
          "0.0%",
          "0.0%",
          "0.0%",
          "0.0%",
          "0.0%",
          "0.0%",
          "0.0%",
          "0.0%",
          "0.0%",
          "0.0%",
          "0.0%",
          "0.0%",
          "0.0%",
          "0.0%",
          "0.0%",
          "0.0%",
          "0.0%",
          "0.0%",
          "0.2%",
          "0.0%",
          "0.0%",
          "0.0%",
          "0.0%",
          "0.0%",
          "0.0%",
          "0.0%",
          "0.0%",
          "0.0%",
          "0.0%",
          "0.0%",
          "0.0%",
          "0.0%",
          "0.0%",
          "0.0%",
          "0.0%",
          "0.0%",
          "0.0%",
          "0.0%",
          "0.0%",
          "0.0%",
          "0.0%",
          "0.0%",
          "0.0%",
          "0.0%",
          "0.0%",
          "0.1%",
          "0.0%",
          "0.0%",
          "0.0%",
          "0.0%",
          "0.0%",
          "0.0%",
          "0.0%",
          "0.1%",
          "1.0%",
          "0.0%",
          "0.0%",
          "0.0%",
          "0.0%",
          "0.0%",
          "0.0%",
          "0.0%",
          "0.0%",
          "0.0%",
          "0.0%",
          "0.0%",
          "0.0%",
          "0.0%",
          "0.0%",
          "0.0%",
          "0.0%",
          "0.0%",
          "0.0%",
          "0.0%",
          "0.0%",
          "0.0%",
          "0.0%",
          "0.1%",
          "0.0%",
          "0.0%",
          "0.0%",
          "0.0%",
          "0.0%",
          "0.0%",
          "0.0%",
          "0.0%",
          "0.0%",
          "0.0%",
          "0.0%",
          "0.0%",
          "0.0%",
          "0.0%",
          "0.0%",
          "0.0%",
          "0.0%",
          "0.0%",
          "0.0%",
          "0.0%",
          "0.0%",
          "0.0%",
          "0.0%",
          "0.0%",
          "0.0%",
          "0.0%",
          "0.0%",
          "0.1%",
          "0.7%",
          "0.0%",
          "0.0%",
          "0.0%",
          "0.0%",
          "0.0%",
          "0.0%",
          "0.0%",
          "0.0%",
          "0.0%",
          "0.0%",
          "0.0%",
          "0.0%",
          "0.0%",
          "0.0%",
          "0.0%",
          "0.0%",
          "0.0%",
          "0.0%",
          "0.0%",
          "0.0%",
          "0.0%",
          "0.0%",
          "0.0%",
          "0.0%",
          "0.0%",
          "0.0%",
          "0.0%",
          "1.5%",
          "9.1%",
          "0.0%",
          "0.0%",
          "0.0%",
          "0.0%",
          "0.0%",
          "0.0%",
          "0.0%",
          "0.0%",
          "0.0%",
          "0.0%",
          "0.0%",
          "0.0%",
          "0.0%",
          "0.1%",
          "0.0%",
          "0.0%",
          "0.0%",
          "0.0%",
          "0.0%",
          "0.0%",
          "0.0%",
          "0.0%",
          "0.5%",
          "0.0%",
          "0.0%",
          "0.0%",
          "0.0%",
          "0.0%",
          "0.0%",
          "0.0%",
          "0.1%",
          "0.0%",
          "0.0%",
          "0.0%",
          "0.0%",
          "0.0%",
          "0.0%",
          "0.0%",
          "0.0%",
          "0.0%",
          "0.0%",
          "0.0%",
          "0.0%",
          "0.0%",
          "0.0%",
          "0.0%",
          "0.0%",
          "0.1%",
          "0.0%",
          "0.1%",
          "0.0%",
          "0.0%",
          "0.0%",
          "0.0%",
          "0.0%",
          "0.0%",
          "0.0%",
          "0.0%",
          "0.0%",
          "0.0%",
          "0.0%",
          "0.0%",
          "0.0%",
          "0.0%",
          "0.0%",
          "0.0%",
          "0.0%",
          "0.0%",
          "0.0%",
          "0.0%",
          "0.1%",
          "0.2%",
          "0.0%",
          "0.0%",
          "0.0%",
          "0.0%",
          "0.0%",
          "0.0%",
          "0.0%",
          "0.0%",
          "0.0%",
          "0.0%",
          "0.0%",
          "0.0%",
          "0.0%",
          "0.0%",
          "0.0%",
          "0.0%",
          "0.0%",
          "0.0%",
          "0.0%",
          "0.1%",
          "0.3%",
          "0.0%",
          "0.0%",
          "0.0%",
          "0.0%",
          "0.0%",
          "0.0%",
          "0.0%",
          "0.0%",
          "0.0%",
          "0.0%",
          "0.0%",
          "0.0%",
          "0.0%",
          "0.0%",
          "0.0%",
          "0.0%",
          "0.0%",
          "0.0%",
          "0.1%",
          "0.2%",
          "0.0%",
          "0.0%",
          "0.0%",
          "0.0%",
          "0.0%",
          "0.0%",
          "0.0%",
          "0.0%",
          "0.0%",
          "0.0%",
          "0.0%",
          "0.0%",
          "0.0%",
          "0.0%",
          "0.0%",
          "0.0%",
          "0.0%",
          "0.0%",
          "0.0%",
          "0.0%",
          "0.1%",
          "0.0%",
          "0.0%",
          "0.0%",
          "0.0%",
          "0.0%",
          "0.0%",
          "0.0%",
          "0.0%",
          "0.0%",
          "0.0%",
          "0.0%",
          "0.0%",
          "0.0%",
          "0.0%",
          "0.0%",
          "0.0%",
          "0.1%",
          "0.0%",
          "0.0%",
          "0.0%",
          "0.0%",
          "0.0%",
          "0.0%",
          "0.0%",
          "0.0%",
          "0.0%",
          "0.0%",
          "0.0%",
          "0.0%",
          "0.0%",
          "0.0%",
          "0.0%",
          "0.0%",
          "0.3%",
          "0.1%",
          "0.2%",
          "0.0%",
          "0.0%",
          "0.0%",
          "0.0%",
          "0.0%",
          "0.0%",
          "0.0%",
          "0.0%",
          "0.0%",
          "0.0%",
          "0.0%",
          "0.0%",
          "0.0%",
          "0.0%",
          "0.0%",
          "0.0%",
          "0.0%",
          "1.5%",
          "0.0%",
          "0.0%",
          "0.2%",
          "0.0%",
          "0.0%",
          "0.0%",
          "0.0%",
          "0.0%",
          "0.0%",
          "0.0%",
          "0.0%",
          "0.0%",
          "0.0%",
          "0.0%",
          "0.0%",
          "0.0%",
          "0.0%",
          "0.0%",
          "0.0%",
          "0.0%",
          "0.0%",
          "0.0%",
          "0.1%",
          "0.0%",
          "0.0%",
          "0.0%",
          "0.0%",
          "0.0%",
          "0.0%",
          "0.0%",
          "0.0%",
          "0.0%",
          "0.0%",
          "0.0%",
          "0.0%",
          "0.4%",
          "0.0%",
          "0.0%",
          "0.0%",
          "0.0%",
          "0.0%",
          "0.0%",
          "0.0%",
          "0.0%",
          "0.0%",
          "0.0%",
          "0.0%",
          "0.0%",
          "0.0%",
          "0.0%",
          "0.0%",
          "0.0%",
          "0.0%",
          "0.0%",
          "0.0%",
          "0.0%",
          "0.0%",
          "0.0%",
          "0.0%",
          "0.0%",
          "0.0%",
          "0.0%",
          "0.0%",
          "0.0%",
          "0.0%",
          "0.0%",
          "0.0%",
          "0.0%",
          "0.0%",
          "0.1%",
          "0.0%",
          "0.0%",
          "0.0%",
          "0.0%",
          "0.0%",
          "0.0%",
          "0.0%",
          "0.0%",
          "0.0%",
          "0.0%",
          "0.0%",
          "0.1%",
          "0.2%",
          "0.0%",
          "0.0%",
          "0.0%",
          "0.0%",
          "0.0%",
          "0.0%",
          "0.0%",
          "0.0%",
          "0.0%",
          "0.0%",
          "0.0%",
          "0.0%",
          "0.0%",
          "0.0%",
          "0.0%",
          "0.0%",
          "0.0%",
          "0.0%",
          "0.0%",
          "0.0%",
          "0.0%",
          "0.0%",
          "0.0%",
          "0.0%",
          "0.1%",
          "0.0%",
          "0.0%",
          "0.0%",
          "0.0%",
          "0.0%",
          "0.0%",
          "0.0%",
          "0.0%",
          "0.0%",
          "0.1%",
          "0.1%",
          "0.0%",
          "0.0%",
          "0.0%",
          "0.0%",
          "0.0%",
          "0.0%",
          "0.0%",
          "0.0%",
          "0.0%",
          "0.0%",
          "0.0%",
          "0.0%",
          "0.0%",
          "0.1%",
          "0.0%",
          "0.0%",
          "0.0%",
          "0.0%",
          "0.0%",
          "0.0%",
          "0.0%",
          "0.0%",
          "0.0%",
          "0.0%",
          "0.0%",
          "0.0%",
          "0.0%",
          "0.0%",
          "0.0%",
          "0.0%",
          "0.0%",
          "0.0%",
          "0.0%",
          "0.0%",
          "0.0%",
          "0.0%",
          "0.0%",
          "0.0%",
          "0.0%",
          "0.0%",
          "0.0%",
          "0.0%",
          "0.0%",
          "0.0%",
          "0.0%",
          "0.0%",
          "0.0%",
          "0.0%",
          "0.0%",
          "0.0%",
          "0.2%",
          "0.0%",
          "0.0%",
          "0.0%",
          "0.0%",
          "0.0%",
          "0.0%",
          "0.0%",
          "0.0%",
          "0.0%",
          "0.0%",
          "0.0%",
          "0.0%",
          "0.0%",
          "0.0%",
          "0.0%",
          "0.0%",
          "0.0%",
          "1.2%",
          "4.2%",
          "0.0%",
          "0.0%",
          "0.0%",
          "0.0%",
          "0.0%",
          "0.0%",
          "0.1%",
          "0.0%",
          "0.0%",
          "0.0%",
          "0.0%",
          "0.0%",
          "0.0%",
          "0.0%",
          "0.0%",
          "0.0%",
          "0.0%",
          "0.0%",
          "0.0%",
          "0.0%",
          "0.0%",
          "0.0%",
          "0.0%",
          "0.0%",
          "0.0%",
          "0.0%",
          "0.0%",
          "0.0%",
          "0.0%",
          "0.0%",
          "0.0%",
          "0.0%",
          "0.0%",
          "0.0%",
          "0.0%",
          "0.0%",
          "0.0%",
          "0.0%",
          "0.4%",
          "0.0%",
          "0.0%",
          "0.0%",
          "0.0%",
          "0.0%",
          "0.0%",
          "0.0%",
          "0.0%",
          "0.0%",
          "0.1%",
          "0.0%",
          "0.0%",
          "0.0%",
          "0.0%",
          "0.0%",
          "0.0%",
          "0.1%",
          "0.0%",
          "0.0%",
          "0.0%",
          "0.0%",
          "0.0%",
          "0.0%",
          "0.0%",
          "0.0%",
          "0.0%",
          "0.0%",
          "0.0%",
          "0.1%",
          "0.3%",
          "0.0%",
          "0.0%",
          "0.0%",
          "0.0%",
          "0.0%",
          "0.0%",
          "0.0%",
          "0.0%",
          "0.0%",
          "0.0%",
          "0.0%",
          "0.0%",
          "0.0%",
          "0.0%",
          "0.0%",
          "0.0%",
          "0.0%",
          "0.1%",
          "0.0%",
          "0.0%",
          "0.0%",
          "0.0%",
          "0.0%",
          "0.0%",
          "0.0%",
          "0.1%",
          "0.2%",
          "0.0%",
          "0.0%",
          "0.0%",
          "0.0%",
          "0.0%",
          "0.0%",
          "0.0%",
          "0.0%",
          "0.0%",
          "0.0%",
          "0.0%",
          "0.0%",
          "0.0%",
          "0.0%",
          "0.0%",
          "0.0%",
          "0.3%",
          "0.8%",
          "0.0%",
          "0.0%",
          "0.0%",
          "0.0%",
          "0.0%",
          "0.0%",
          "0.0%",
          "0.0%",
          "0.0%",
          "0.0%",
          "0.0%",
          "0.0%",
          "0.0%",
          "0.0%",
          "0.0%",
          "0.0%",
          "0.1%",
          "0.0%",
          "0.0%",
          "0.0%",
          "0.0%",
          "0.0%",
          "0.0%",
          "0.0%",
          "0.0%",
          "0.0%",
          "0.0%",
          "0.0%",
          "0.0%",
          "0.1%",
          "0.0%",
          "0.0%",
          "0.0%",
          "0.0%",
          "0.0%",
          "0.0%",
          "0.0%",
          "0.0%",
          "0.0%",
          "0.0%",
          "0.0%",
          "0.0%",
          "0.1%",
          "0.0%",
          "0.0%",
          "0.0%",
          "0.0%",
          "0.0%",
          "0.0%",
          "0.0%",
          "0.0%",
          "0.1%",
          "0.0%",
          "0.0%",
          "0.0%",
          "0.0%",
          "0.0%",
          "0.0%",
          "0.0%",
          "0.0%",
          "0.0%",
          "0.0%",
          "0.0%",
          "0.0%",
          "0.0%",
          "0.0%",
          "0.0%",
          "0.0%",
          "0.0%",
          "0.0%",
          "0.0%",
          "0.0%",
          "0.0%",
          "0.0%",
          "0.0%",
          "0.0%",
          "0.0%",
          "0.1%",
          "0.0%",
          "0.0%",
          "0.0%",
          "0.1%",
          "0.8%",
          "0.0%",
          "0.0%",
          "0.0%",
          "0.0%",
          "0.0%",
          "0.0%",
          "0.0%",
          "0.0%",
          "0.0%",
          "0.0%",
          "0.0%",
          "0.0%",
          "0.0%",
          "0.0%",
          "0.1%",
          "0.0%",
          "0.0%",
          "0.0%",
          "0.0%",
          "0.0%",
          "0.0%",
          "0.0%",
          "0.0%",
          "0.0%",
          "0.0%",
          "0.0%",
          "0.0%",
          "0.0%",
          "0.0%",
          "0.0%",
          "0.0%",
          "0.0%",
          "0.0%",
          "0.0%",
          "0.0%",
          "0.0%",
          "0.0%",
          "0.0%",
          "0.0%",
          "0.0%",
          "0.0%",
          "0.0%",
          "0.0%",
          "0.0%",
          "0.0%",
          "0.0%",
          "0.0%",
          "0.0%",
          "0.0%",
          "0.0%",
          "1.5%",
          "9.7%",
          "0.0%",
          "0.0%",
          "0.0%",
          "0.0%",
          "0.0%",
          "0.0%",
          "0.0%",
          "0.0%",
          "0.2%",
          "0.0%",
          "0.1%",
          "0.0%",
          "0.0%",
          "0.1%",
          "0.0%",
          "0.0%",
          "0.0%",
          "0.0%",
          "0.0%",
          "0.0%",
          "0.0%",
          "0.2%",
          "0.0%",
          "0.0%",
          "0.1%",
          "0.0%",
          "0.0%",
          "0.0%",
          "0.0%",
          "0.1%",
          "0.0%",
          "0.0%",
          "0.1%",
          "0.1%",
          "0.0%",
          "0.0%",
          "0.0%",
          "0.1%",
          "0.0%",
          "0.0%",
          "0.0%",
          "0.0%",
          "0.0%",
          "0.0%",
          "0.0%",
          "0.0%",
          "0.0%",
          "0.4%",
          "0.0%",
          "0.1%",
          "0.0%",
          "0.2%",
          "0.0%",
          "0.0%",
          "0.0%",
          "0.0%",
          "0.0%",
          "0.0%",
          "0.0%",
          "0.0%",
          "0.0%",
          "0.0%",
          "0.0%",
          "0.0%",
          "0.0%",
          "0.0%",
          "0.0%",
          "0.5%",
          "0.1%",
          "0.1%",
          "0.0%",
          "0.0%",
          "0.0%",
          "0.0%",
          "0.0%",
          "0.1%",
          "0.0%",
          "0.0%",
          "0.1%",
          "0.0%",
          "0.0%",
          "0.0%",
          "0.0%",
          "0.0%",
          "0.0%",
          "0.0%",
          "0.0%",
          "0.0%",
          "0.0%",
          "0.0%",
          "0.0%",
          "0.0%",
          "0.0%",
          "0.0%",
          "0.0%",
          "0.0%",
          "0.0%",
          "0.0%",
          "0.0%",
          "0.0%",
          "0.1%",
          "0.2%",
          "0.0%",
          "0.0%",
          "0.0%",
          "0.0%",
          "0.0%",
          "0.0%",
          "0.0%",
          "0.0%",
          "0.0%",
          "0.0%",
          "0.0%",
          "0.0%",
          "0.0%",
          "0.0%",
          "0.0%",
          "0.0%",
          "0.0%",
          "0.1%",
          "0.3%",
          "0.0%",
          "0.0%",
          "0.0%",
          "0.0%",
          "0.0%",
          "0.0%",
          "0.0%",
          "0.1%",
          "0.0%",
          "0.0%",
          "0.0%",
          "0.0%",
          "0.0%",
          "0.0%",
          "0.0%",
          "0.0%",
          "0.2%",
          "0.0%",
          "0.0%",
          "0.0%",
          "0.0%",
          "0.0%",
          "0.0%",
          "0.0%",
          "0.0%",
          "0.0%",
          "0.0%",
          "0.0%",
          "0.1%",
          "0.2%",
          "0.0%",
          "0.0%",
          "0.0%",
          "0.0%",
          "0.0%",
          "0.0%",
          "0.0%",
          "0.0%",
          "0.0%",
          "0.0%",
          "0.0%",
          "0.0%",
          "0.0%",
          "0.0%",
          "0.0%",
          "0.0%",
          "0.0%",
          "0.0%",
          "0.1%",
          "0.3%",
          "0.0%",
          "0.0%",
          "0.0%",
          "0.0%",
          "0.0%",
          "0.0%",
          "0.0%",
          "0.0%",
          "0.0%",
          "0.0%",
          "0.2%",
          "1.2%",
          "0.0%",
          "0.0%",
          "0.0%",
          "0.0%",
          "0.0%",
          "0.0%",
          "0.0%",
          "0.0%",
          "0.0%",
          "0.0%",
          "0.0%",
          "0.0%",
          "0.0%",
          "0.0%",
          "0.0%",
          "0.0%",
          "0.0%",
          "0.0%",
          "0.0%",
          "0.1%",
          "0.1%",
          "0.0%",
          "0.0%",
          "0.0%",
          "0.0%",
          "0.0%",
          "0.2%",
          "0.8%",
          "0.0%",
          "0.0%",
          "0.0%",
          "0.0%",
          "0.0%",
          "0.0%",
          "0.0%",
          "0.0%",
          "0.0%",
          "0.0%",
          "0.0%",
          "0.0%",
          "0.0%",
          "0.0%",
          "0.0%",
          "0.1%",
          "0.0%",
          "0.0%",
          "0.0%",
          "0.0%",
          "0.0%",
          "0.0%",
          "0.0%",
          "0.0%",
          "0.0%",
          "0.0%",
          "0.0%",
          "0.0%",
          "0.0%",
          "0.0%",
          "0.0%",
          "0.0%",
          "0.0%",
          "0.0%",
          "0.0%",
          "0.0%",
          "0.0%",
          "0.0%",
          "0.1%",
          "0.0%",
          "0.0%",
          "0.0%",
          "0.0%",
          "0.0%",
          "0.0%",
          "0.0%",
          "0.0%",
          "0.0%",
          "0.0%",
          "0.0%",
          "0.0%",
          "0.0%",
          "0.0%",
          "0.0%",
          "0.0%",
          "0.1%",
          "0.0%",
          "0.0%",
          "0.0%",
          "0.0%",
          "0.0%",
          "0.0%",
          "0.0%",
          "0.0%",
          "0.0%",
          "0.0%",
          "0.0%",
          "0.0%",
          "0.0%",
          "0.0%",
          "0.0%",
          "0.0%",
          "0.1%",
          "0.0%",
          "0.0%",
          "0.0%",
          "0.0%",
          "0.0%",
          "0.0%",
          "0.0%",
          "0.0%",
          "0.0%",
          "0.0%",
          "0.0%",
          "0.0%",
          "0.1%",
          "0.0%",
          "0.0%",
          "0.0%",
          "0.0%",
          "0.0%",
          "0.0%",
          "0.1%",
          "0.0%",
          "0.1%",
          "0.1%",
          "0.0%",
          "0.0%",
          "0.0%",
          "0.0%",
          "0.0%",
          "0.0%",
          "0.0%",
          "0.0%",
          "0.0%",
          "0.0%",
          "0.0%",
          "0.0%",
          "0.0%",
          "0.0%",
          "0.0%",
          "0.0%",
          "0.1%",
          "0.0%",
          "0.0%",
          "0.0%",
          "0.0%",
          "0.0%",
          "0.0%",
          "0.0%",
          "0.0%",
          "0.0%",
          "0.0%",
          "0.0%",
          "0.0%",
          "0.0%",
          "0.0%",
          "0.0%",
          "0.1%",
          "0.0%",
          "0.0%",
          "0.0%",
          "0.0%",
          "0.0%",
          "0.0%",
          "1.9%",
          "11.7%",
          "0.0%",
          "0.0%",
          "0.0%",
          "0.0%",
          "0.0%",
          "0.1%",
          "0.0%",
          "0.0%",
          "0.0%",
          "0.0%",
          "0.0%",
          "0.0%",
          "0.0%",
          "0.0%",
          "0.1%",
          "0.0%",
          "0.0%",
          "0.0%",
          "0.0%",
          "0.0%",
          "0.1%",
          "0.0%",
          "0.1%",
          "0.0%",
          "0.0%",
          "0.0%",
          "0.0%",
          "0.0%",
          "0.0%",
          "0.0%",
          "0.0%",
          "0.0%",
          "0.0%",
          "0.0%",
          "0.3%",
          "0.0%",
          "0.0%",
          "0.0%",
          "0.0%",
          "0.0%",
          "0.0%",
          "0.0%",
          "0.0%",
          "0.0%",
          "0.0%",
          "0.0%",
          "0.0%",
          "0.0%",
          "0.0%",
          "0.1%",
          "0.6%",
          "0.0%",
          "0.0%",
          "0.0%",
          "0.0%",
          "0.0%",
          "0.0%",
          "0.0%",
          "0.0%",
          "0.0%",
          "0.0%",
          "0.0%",
          "0.0%",
          "0.0%",
          "0.1%",
          "0.0%",
          "0.0%",
          "0.0%",
          "0.0%",
          "0.0%",
          "0.0%",
          "0.1%",
          "0.8%",
          "0.0%",
          "0.0%",
          "0.0%",
          "0.0%",
          "0.0%",
          "0.0%",
          "0.0%",
          "0.0%",
          "0.0%",
          "0.0%",
          "0.0%",
          "0.0%",
          "0.0%",
          "0.0%",
          "0.0%",
          "0.0%",
          "0.0%",
          "0.0%",
          "0.0%",
          "0.0%",
          "0.0%",
          "0.0%",
          "0.0%",
          "0.0%",
          "0.0%",
          "0.0%",
          "0.0%",
          "0.1%",
          "0.1%",
          "0.0%",
          "0.0%",
          "0.0%",
          "0.0%",
          "0.0%",
          "0.1%",
          "0.2%",
          "0.0%",
          "0.0%",
          "0.0%",
          "0.0%",
          "0.0%",
          "0.0%",
          "0.0%",
          "0.0%",
          "0.0%",
          "0.0%",
          "0.0%",
          "0.0%",
          "0.0%",
          "0.0%",
          "0.1%",
          "0.2%",
          "0.1%",
          "0.0%",
          "0.0%",
          "0.0%",
          "0.0%",
          "0.0%",
          "0.1%",
          "0.0%",
          "0.0%",
          "0.0%",
          "0.0%",
          "0.0%",
          "0.0%",
          "0.0%",
          "0.0%",
          "0.0%",
          "0.0%",
          "0.0%",
          "0.0%",
          "0.0%",
          "0.3%",
          "0.0%",
          "0.0%",
          "0.0%",
          "0.0%",
          "0.0%",
          "0.0%",
          "0.0%",
          "0.0%",
          "0.0%",
          "0.0%",
          "0.0%",
          "0.0%",
          "0.0%",
          "0.0%",
          "0.1%",
          "0.9%",
          "0.0%",
          "0.0%",
          "0.0%",
          "0.0%",
          "0.0%",
          "0.0%",
          "0.0%",
          "0.0%",
          "0.0%",
          "0.1%",
          "0.0%",
          "0.0%",
          "0.0%",
          "0.0%",
          "0.0%",
          "0.0%",
          "0.0%",
          "0.0%",
          "0.0%",
          "0.0%",
          "0.0%",
          "0.0%",
          "0.0%",
          "0.0%",
          "0.0%",
          "0.1%",
          "0.0%",
          "0.0%",
          "0.0%",
          "0.0%",
          "0.0%",
          "0.0%",
          "0.0%",
          "0.0%",
          "0.0%",
          "0.1%",
          "0.0%",
          "0.0%",
          "0.0%",
          "0.0%",
          "0.0%",
          "0.0%",
          "0.0%",
          "0.0%",
          "0.0%",
          "0.0%",
          "0.0%",
          "0.0%",
          "0.0%",
          "0.0%",
          "0.3%",
          "0.6%",
          "0.0%",
          "0.0%",
          "0.0%",
          "0.0%",
          "0.0%",
          "0.0%",
          "0.0%",
          "0.0%",
          "0.0%",
          "0.0%",
          "0.0%",
          "0.0%",
          "0.0%",
          "0.0%",
          "0.0%",
          "0.1%",
          "0.0%",
          "0.0%",
          "0.0%",
          "0.0%",
          "0.0%",
          "0.0%",
          "0.0%",
          "0.0%",
          "0.0%",
          "0.0%",
          "0.0%",
          "0.0%",
          "0.0%",
          "0.0%",
          "0.0%",
          "0.0%",
          "0.0%",
          "0.0%",
          "0.0%",
          "0.1%",
          "0.0%",
          "0.0%",
          "0.0%",
          "0.0%",
          "0.0%",
          "0.0%",
          "0.0%",
          "0.0%",
          "0.1%",
          "0.0%",
          "0.0%",
          "0.0%",
          "0.0%",
          "0.0%",
          "0.0%",
          "0.0%",
          "0.0%",
          "0.0%",
          "0.0%",
          "0.0%",
          "0.1%",
          "0.0%",
          "0.0%",
          "0.0%",
          "0.0%",
          "0.0%",
          "0.3%",
          "0.6%",
          "0.0%",
          "0.0%",
          "0.0%",
          "0.0%",
          "0.0%",
          "0.0%",
          "0.0%",
          "0.0%",
          "0.0%",
          "0.0%",
          "0.0%",
          "0.0%",
          "0.0%",
          "0.0%",
          "0.0%",
          "0.0%",
          "0.0%",
          "0.0%",
          "0.0%",
          "0.0%",
          "0.0%",
          "0.0%",
          "0.0%",
          "0.6%",
          "0.9%",
          "0.0%",
          "0.0%",
          "0.0%",
          "0.0%",
          "0.0%",
          "0.0%",
          "0.0%",
          "0.0%",
          "0.0%",
          "0.0%",
          "0.0%",
          "0.0%",
          "0.1%",
          "0.0%",
          "0.1%",
          "0.0%",
          "0.0%",
          "0.0%",
          "0.0%",
          "0.0%",
          "0.0%",
          "0.0%",
          "0.0%",
          "0.0%",
          "0.0%",
          "0.1%",
          "0.0%",
          "0.0%",
          "0.0%",
          "0.0%",
          "0.0%",
          "0.0%",
          "0.0%",
          "0.0%",
          "0.0%",
          "0.0%",
          "0.1%",
          "0.0%",
          "0.0%",
          "0.0%",
          "0.0%",
          "0.0%",
          "0.0%",
          "0.0%",
          "0.0%",
          "0.0%",
          "0.0%",
          "0.0%",
          "0.0%",
          "0.0%",
          "0.0%",
          "0.0%",
          "0.0%",
          "0.0%",
          "0.0%",
          "0.0%",
          "0.0%",
          "0.0%",
          "0.0%",
          "0.1%",
          "1.0%",
          "0.0%",
          "0.0%",
          "0.0%",
          "0.0%",
          "0.0%",
          "0.0%",
          "0.0%",
          "0.0%",
          "0.0%",
          "0.0%",
          "0.0%",
          "0.0%",
          "0.0%",
          "0.0%",
          "0.0%",
          "0.0%",
          "0.0%",
          "0.0%",
          "0.0%",
          "0.0%",
          "0.0%",
          "0.0%",
          "0.0%",
          "0.0%",
          "0.0%",
          "0.0%",
          "0.0%",
          "0.0%",
          "0.1%",
          "0.0%",
          "0.0%",
          "0.0%",
          "0.0%",
          "0.0%",
          "0.0%",
          "0.0%",
          "0.0%",
          "0.0%",
          "0.0%",
          "0.0%",
          "0.0%",
          "0.0%",
          "0.0%",
          "0.0%",
          "0.0%",
          "0.1%",
          "0.0%",
          "0.0%",
          "0.0%",
          "0.0%",
          "0.0%",
          "0.0%",
          "0.0%",
          "0.0%",
          "0.0%",
          "0.0%",
          "0.0%",
          "0.1%",
          "0.2%",
          "0.0%",
          "0.0%",
          "0.0%",
          "0.0%",
          "0.0%",
          "0.0%",
          "0.0%",
          "0.0%",
          "0.0%",
          "0.0%",
          "0.0%",
          "0.0%",
          "0.0%",
          "0.1%",
          "0.0%",
          "0.0%",
          "0.0%",
          "0.0%",
          "0.0%",
          "0.0%",
          "0.0%",
          "0.0%",
          "0.0%",
          "0.1%",
          "0.0%",
          "0.0%",
          "0.0%",
          "0.0%",
          "0.0%",
          "0.0%",
          "0.0%",
          "0.0%",
          "0.0%",
          "0.0%",
          "0.0%",
          "0.0%",
          "0.0%",
          "0.0%",
          "0.1%",
          "0.0%",
          "0.0%",
          "0.0%",
          "0.0%",
          "0.0%",
          "0.0%",
          "0.0%",
          "0.0%",
          "0.0%",
          "0.0%",
          "0.0%",
          "0.0%",
          "0.0%",
          "0.1%",
          "0.0%",
          "0.0%",
          "0.0%",
          "0.0%",
          "0.0%",
          "0.0%",
          "0.0%",
          "0.0%",
          "0.0%",
          "0.0%",
          "0.0%",
          "0.0%",
          "0.1%",
          "0.0%",
          "0.0%",
          "0.0%",
          "0.0%",
          "0.0%",
          "0.0%",
          "0.0%",
          "0.0%",
          "0.0%",
          "0.0%",
          "0.0%",
          "0.0%",
          "0.0%",
          "0.0%",
          "0.0%",
          "0.0%",
          "0.0%",
          "0.0%",
          "0.1%",
          "0.1%",
          "0.0%",
          "0.0%",
          "0.0%",
          "0.0%",
          "0.0%",
          "0.0%",
          "0.0%",
          "0.0%",
          "0.0%",
          "0.0%",
          "0.2%",
          "0.9%",
          "0.0%",
          "0.0%",
          "0.0%",
          "0.0%",
          "0.0%",
          "0.1%",
          "0.0%",
          "0.0%",
          "0.0%",
          "0.0%",
          "0.0%",
          "0.0%",
          "0.0%",
          "0.0%",
          "0.1%",
          "0.0%",
          "0.0%",
          "0.0%",
          "0.0%",
          "0.0%",
          "0.0%",
          "0.0%",
          "0.0%",
          "0.0%",
          "0.0%",
          "0.0%"
         ],
         "textposition": "auto",
         "type": "bar",
         "x": [
          "Affenpinscher",
          "Affenpinscher Mix",
          "Afghan Hound Mix",
          "Afghan Hound/Labrador Retriever",
          "Airedale Terrier",
          "Airedale Terrier Mix",
          "Airedale Terrier/Irish Terrier",
          "Airedale Terrier/Labrador Retriever",
          "Airedale Terrier/Miniature Schnauzer",
          "Airedale Terrier/Otterhound",
          "Airedale Terrier/Standard Poodle",
          "Akbash Mix",
          "Akita",
          "Akita Mix",
          "Akita/Australian Cattle Dog",
          "Akita/Border Collie",
          "Akita/German Shepherd",
          "Akita/Great Pyrenees",
          "Akita/Labrador Retriever",
          "Akita/Mastiff",
          "Akita/Pit Bull",
          "Akita/Siberian Husky",
          "Alaskan Husky",
          "Alaskan Husky Mix",
          "Alaskan Husky/Australian Shepherd",
          "Alaskan Husky/Border Collie",
          "Alaskan Husky/Catahoula",
          "Alaskan Husky/Chow Chow",
          "Alaskan Husky/German Shepherd",
          "Alaskan Husky/Labrador Retriever",
          "Alaskan Husky/Miniature Pinscher",
          "Alaskan Klee Kai",
          "Alaskan Malamute",
          "Alaskan Malamute Mix",
          "Alaskan Malamute/Akita",
          "Alaskan Malamute/Alaskan Husky",
          "Alaskan Malamute/Australian Kelpie",
          "Alaskan Malamute/Border Collie",
          "Alaskan Malamute/German Shepherd",
          "Alaskan Malamute/Labrador Retriever",
          "Alaskan Malamute/Siberian Husky",
          "American Bulldog",
          "American Bulldog Mix",
          "American Bulldog/American Staffordshire Terrier",
          "American Bulldog/Basset Hound",
          "American Bulldog/Blue Lacy",
          "American Bulldog/Boxer",
          "American Bulldog/Dalmatian",
          "American Bulldog/English Bulldog",
          "American Bulldog/Great Pyrenees",
          "American Bulldog/Labrador Retriever",
          "American Bulldog/Mastiff",
          "American Bulldog/Pit Bull",
          "American Bulldog/Pointer",
          "American Bulldog/Queensland Heeler",
          "American Eskimo",
          "American Eskimo Mix",
          "American Eskimo/Alaskan Husky",
          "American Eskimo/Australian Shepherd",
          "American Eskimo/Border Collie",
          "American Foxhound",
          "American Foxhound Mix",
          "American Foxhound/Beagle",
          "American Foxhound/Labrador Retriever",
          "American Foxhound/Pit Bull",
          "American Foxhound/Pointer",
          "American Pit Bull Terrier",
          "American Pit Bull Terrier Mix",
          "American Pit Bull Terrier/American Bulldog",
          "American Pit Bull Terrier/American Pit Bull Terrier",
          "American Pit Bull Terrier/Basenji",
          "American Pit Bull Terrier/Boxer",
          "American Pit Bull Terrier/Catahoula",
          "American Pit Bull Terrier/Dachshund",
          "American Pit Bull Terrier/Labrador Retriever",
          "American Pit Bull Terrier/Pit Bull",
          "American Pit Bull Terrier/Pointer",
          "American Pit Bull Terrier/Weimaraner",
          "American Staffordshire Terrier",
          "American Staffordshire Terrier Mix",
          "American Staffordshire Terrier/American Bulldog",
          "American Staffordshire Terrier/Australian Cattle Dog",
          "American Staffordshire Terrier/Boxer",
          "American Staffordshire Terrier/Catahoula",
          "American Staffordshire Terrier/Chinese Sharpei",
          "American Staffordshire Terrier/French Bulldog",
          "American Staffordshire Terrier/Jack Russell Terrier",
          "American Staffordshire Terrier/Labrador Retriever",
          "American Staffordshire Terrier/Pit Bull",
          "American Staffordshire Terrier/Plott Hound",
          "American Staffordshire Terrier/Rhod Ridgeback",
          "American Staffordshire Terrier/Rottweiler",
          "Anatol Shepherd",
          "Anatol Shepherd Mix",
          "Anatol Shepherd/Akita",
          "Anatol Shepherd/Alaskan Husky",
          "Anatol Shepherd/Australian Cattle Dog",
          "Anatol Shepherd/Australian Shepherd",
          "Anatol Shepherd/Belgian Malinois",
          "Anatol Shepherd/Black Mouth Cur",
          "Anatol Shepherd/Border Collie",
          "Anatol Shepherd/Boxer",
          "Anatol Shepherd/Catahoula",
          "Anatol Shepherd/Chow Chow",
          "Anatol Shepherd/Collie Rough",
          "Anatol Shepherd/German Shepherd",
          "Anatol Shepherd/German Shorthair Pointer",
          "Anatol Shepherd/Great Pyrenees",
          "Anatol Shepherd/Kangal",
          "Anatol Shepherd/Labrador Retriever",
          "Anatol Shepherd/Pit Bull",
          "Anatol Shepherd/Redbone Hound",
          "Anatol Shepherd/Rhod Ridgeback",
          "Anatol Shepherd/Saluki",
          "Anatol Shepherd/Siberian Husky",
          "Australian Cattle Dog",
          "Australian Cattle Dog Mix",
          "Australian Cattle Dog/Alaskan Husky",
          "Australian Cattle Dog/American Foxhound",
          "Australian Cattle Dog/American Pit Bull Terrier",
          "Australian Cattle Dog/American Staffordshire Terrier",
          "Australian Cattle Dog/Anatol Shepherd",
          "Australian Cattle Dog/Australian Cattle Dog",
          "Australian Cattle Dog/Australian Kelpie",
          "Australian Cattle Dog/Australian Shepherd",
          "Australian Cattle Dog/Basenji",
          "Australian Cattle Dog/Basset Hound",
          "Australian Cattle Dog/Beagle",
          "Australian Cattle Dog/Belgian Malinois",
          "Australian Cattle Dog/Bernese Mountain Dog",
          "Australian Cattle Dog/Black Mouth Cur",
          "Australian Cattle Dog/Bloodhound",
          "Australian Cattle Dog/Border Collie",
          "Australian Cattle Dog/Boston Terrier",
          "Australian Cattle Dog/Boxer",
          "Australian Cattle Dog/Bull Terrier",
          "Australian Cattle Dog/Cairn Terrier",
          "Australian Cattle Dog/Cardigan Welsh Corgi",
          "Australian Cattle Dog/Catahoula",
          "Australian Cattle Dog/Chihuahua Shorthair",
          "Australian Cattle Dog/Chinese Crested",
          "Australian Cattle Dog/Chinese Sharpei",
          "Australian Cattle Dog/Chow Chow",
          "Australian Cattle Dog/Collie Rough",
          "Australian Cattle Dog/Collie Smooth",
          "Australian Cattle Dog/Dachshund",
          "Australian Cattle Dog/Dalmatian",
          "Australian Cattle Dog/Dutch Shepherd",
          "Australian Cattle Dog/English Coonhound",
          "Australian Cattle Dog/German Shepherd",
          "Australian Cattle Dog/German Shorthair Pointer",
          "Australian Cattle Dog/Golden Retriever",
          "Australian Cattle Dog/Great Pyrenees",
          "Australian Cattle Dog/Jack Russell Terrier",
          "Australian Cattle Dog/Labrador Retriever",
          "Australian Cattle Dog/Norfolk Terrier",
          "Australian Cattle Dog/Parson Russell Terrier",
          "Australian Cattle Dog/Patterdale Terr",
          "Australian Cattle Dog/Pembroke Welsh Corgi",
          "Australian Cattle Dog/Pit Bull",
          "Australian Cattle Dog/Plott Hound",
          "Australian Cattle Dog/Pointer",
          "Australian Cattle Dog/Pug",
          "Australian Cattle Dog/Queensland Heeler",
          "Australian Cattle Dog/Rat Terrier",
          "Australian Cattle Dog/Rhod Ridgeback",
          "Australian Cattle Dog/Siberian Husky",
          "Australian Cattle Dog/St. Bernard Smooth Coat",
          "Australian Cattle Dog/Staffordshire",
          "Australian Cattle Dog/Treeing Walker Coonhound",
          "Australian Cattle Dog/Vizsla",
          "Australian Cattle Dog/Whippet",
          "Australian Kelpie",
          "Australian Kelpie Mix",
          "Australian Kelpie/Alaskan Husky",
          "Australian Kelpie/American Pit Bull Terrier",
          "Australian Kelpie/Australian Shepherd",
          "Australian Kelpie/Beagle",
          "Australian Kelpie/Blue Lacy",
          "Australian Kelpie/Border Collie",
          "Australian Kelpie/Bull Terrier",
          "Australian Kelpie/Catahoula",
          "Australian Kelpie/Chihuahua Longhair",
          "Australian Kelpie/Chihuahua Shorthair",
          "Australian Kelpie/Chinese Sharpei",
          "Australian Kelpie/Dachshund",
          "Australian Kelpie/Finnish Spitz",
          "Australian Kelpie/German Shepherd",
          "Australian Kelpie/Golden Retriever",
          "Australian Kelpie/Labrador Retriever",
          "Australian Kelpie/Miniature Pinscher",
          "Australian Kelpie/Pit Bull",
          "Australian Kelpie/Plott Hound",
          "Australian Kelpie/Rat Terrier",
          "Australian Kelpie/Shiba Inu",
          "Australian Kelpie/Siberian Husky",
          "Australian Kelpie/Staffordshire",
          "Australian Kelpie/Whippet",
          "Australian Shepherd",
          "Australian Shepherd Mix",
          "Australian Shepherd/Alaskan Malamute",
          "Australian Shepherd/Anatol Shepherd",
          "Australian Shepherd/Australian Cattle Dog",
          "Australian Shepherd/Australian Kelpie",
          "Australian Shepherd/Basset Hound",
          "Australian Shepherd/Beagle",
          "Australian Shepherd/Border Collie",
          "Australian Shepherd/Boxer",
          "Australian Shepherd/Brittany",
          "Australian Shepherd/Cardigan Welsh Corgi",
          "Australian Shepherd/Catahoula",
          "Australian Shepherd/Cavalier Span",
          "Australian Shepherd/Chihuahua Shorthair",
          "Australian Shepherd/Chow Chow",
          "Australian Shepherd/Cocker Spaniel",
          "Australian Shepherd/Collie Rough",
          "Australian Shepherd/Collie Smooth",
          "Australian Shepherd/Dachshund",
          "Australian Shepherd/Dalmatian",
          "Australian Shepherd/English Setter",
          "Australian Shepherd/English Springer Spaniel",
          "Australian Shepherd/Feist",
          "Australian Shepherd/Field Spaniel",
          "Australian Shepherd/German Shepherd",
          "Australian Shepherd/Golden Retriever",
          "Australian Shepherd/Great Pyrenees",
          "Australian Shepherd/Greyhound",
          "Australian Shepherd/Jack Russell Terrier",
          "Australian Shepherd/Labrador Retriever",
          "Australian Shepherd/Nova Scotia Duck Tolling Retriever",
          "Australian Shepherd/Parson Russell Terrier",
          "Australian Shepherd/Pembroke Welsh Corgi",
          "Australian Shepherd/Pit Bull",
          "Australian Shepherd/Plott Hound",
          "Australian Shepherd/Queensland Heeler",
          "Australian Shepherd/Rhod Ridgeback",
          "Australian Shepherd/Rottweiler",
          "Australian Shepherd/Siberian Husky",
          "Australian Shepherd/Staffordshire",
          "Australian Shepherd/Standard Poodle",
          "Australian Shepherd/Unknown",
          "Australian Terrier",
          "Australian Terrier Mix",
          "Australian Terrier/Standard Schnauzer",
          "Basenji",
          "Basenji Mix",
          "Basenji/Australian Cattle Dog",
          "Basenji/Australian Kelpie",
          "Basenji/Beagle",
          "Basenji/Carolina Dog",
          "Basenji/Chihuahua Longhair",
          "Basenji/Chihuahua Shorthair",
          "Basenji/Chow Chow",
          "Basenji/Jack Russell Terrier",
          "Basenji/Labrador Retriever",
          "Basenji/Pit Bull",
          "Basenji/Rhod Ridgeback",
          "Basset Hound",
          "Basset Hound Mix",
          "Basset Hound/American Pit Bull Terrier",
          "Basset Hound/Australian Cattle Dog",
          "Basset Hound/Australian Shepherd",
          "Basset Hound/Beagle",
          "Basset Hound/Beauceron",
          "Basset Hound/Black/Tan Hound",
          "Basset Hound/Blue Lacy",
          "Basset Hound/Border Collie",
          "Basset Hound/Boxer",
          "Basset Hound/Cardigan Welsh Corgi",
          "Basset Hound/Chinese Sharpei",
          "Basset Hound/Dachshund",
          "Basset Hound/English Cocker Spaniel",
          "Basset Hound/English Pointer",
          "Basset Hound/French Bulldog",
          "Basset Hound/German Shepherd",
          "Basset Hound/Golden Retriever",
          "Basset Hound/Great Pyrenees",
          "Basset Hound/Labrador Retriever",
          "Basset Hound/Pembroke Welsh Corgi",
          "Basset Hound/Pit Bull",
          "Basset Hound/Pointer",
          "Basset Hound/Rat Terrier",
          "Beagle",
          "Beagle Mix",
          "Beagle/American Staffordshire Terrier",
          "Beagle/Australian Cattle Dog",
          "Beagle/Australian Kelpie",
          "Beagle/Australian Shepherd",
          "Beagle/Basset Hound",
          "Beagle/Black Mouth Cur",
          "Beagle/Border Collie",
          "Beagle/Borzoi",
          "Beagle/Boston Terrier",
          "Beagle/Boxer",
          "Beagle/Cairn Terrier",
          "Beagle/Cardigan Welsh Corgi",
          "Beagle/Catahoula",
          "Beagle/Cavalier Span",
          "Beagle/Chihuahua Longhair",
          "Beagle/Chihuahua Shorthair",
          "Beagle/Chinese Sharpei",
          "Beagle/Cocker Spaniel",
          "Beagle/Dachshund",
          "Beagle/Dachshund Longhair",
          "Beagle/English Coonhound",
          "Beagle/German Shepherd",
          "Beagle/German Shorthair Pointer",
          "Beagle/Harrier",
          "Beagle/Jack Russell Terrier",
          "Beagle/Labrador Retriever",
          "Beagle/Manchester Terrier",
          "Beagle/Mastiff",
          "Beagle/Miniature Pinscher",
          "Beagle/Parson Russell Terrier",
          "Beagle/Pekingese",
          "Beagle/Pembroke Welsh Corgi",
          "Beagle/Pit Bull",
          "Beagle/Plott Hound",
          "Beagle/Pointer",
          "Beagle/Pug",
          "Beagle/Queensland Heeler",
          "Beagle/Rat Terrier",
          "Beagle/Staffordshire",
          "Beagle/Treeing Walker Coonhound",
          "Beagle/Vizsla",
          "Beagle/Whippet",
          "Bearded Collie",
          "Bearded Collie Mix",
          "Bearded Collie/Border Collie",
          "Beauceron",
          "Beauceron Mix",
          "Beauceron/Labrador Retriever",
          "Bedlington Terr Mix",
          "Belgian Malinois",
          "Belgian Malinois Mix",
          "Belgian Malinois/Australian Shepherd",
          "Belgian Malinois/Cardigan Welsh Corgi",
          "Belgian Malinois/German Shepherd",
          "Belgian Malinois/Great Pyrenees",
          "Belgian Malinois/Labrador Retriever",
          "Belgian Malinois/Pit Bull",
          "Belgian Malinois/Treeing Cur",
          "Belgian Sheepdog",
          "Belgian Sheepdog Mix",
          "Belgian Tervuren Mix",
          "Belgian Tervuren/German Shepherd",
          "Bernese Mountain Dog",
          "Bernese Mountain Dog Mix",
          "Bernese Mountain Dog/Great Pyrenees",
          "Bernese Mountain Dog/Rottweiler",
          "Bichon Frise",
          "Bichon Frise Mix",
          "Bichon Frise/Lhasa Apso",
          "Bichon Frise/Miniature Poodle",
          "Bichon Frise/Pekingese",
          "Bichon Frise/Toy Poodle",
          "Black Mouth Cur",
          "Black Mouth Cur Mix",
          "Black Mouth Cur/American Staffordshire Terrier",
          "Black Mouth Cur/Anatol Shepherd",
          "Black Mouth Cur/Australian Cattle Dog",
          "Black Mouth Cur/Basset Hound",
          "Black Mouth Cur/Beagle",
          "Black Mouth Cur/Belgian Malinois",
          "Black Mouth Cur/Blue Lacy",
          "Black Mouth Cur/Boxer",
          "Black Mouth Cur/Catahoula",
          "Black Mouth Cur/Chinese Sharpei",
          "Black Mouth Cur/Chow Chow",
          "Black Mouth Cur/Dachshund",
          "Black Mouth Cur/Doberman Pinsch",
          "Black Mouth Cur/German Shepherd",
          "Black Mouth Cur/Great Dane",
          "Black Mouth Cur/Greyhound",
          "Black Mouth Cur/Labrador Retriever",
          "Black Mouth Cur/Mastiff",
          "Black Mouth Cur/Pit Bull",
          "Black Mouth Cur/Plott Hound",
          "Black Mouth Cur/Pointer",
          "Black Mouth Cur/Rhod Ridgeback",
          "Black Mouth Cur/Siberian Husky",
          "Black Mouth Cur/Staffordshire",
          "Black/Tan Hound",
          "Black/Tan Hound Mix",
          "Black/Tan Hound/Beagle",
          "Black/Tan Hound/Black Mouth Cur",
          "Black/Tan Hound/Doberman Pinsch",
          "Black/Tan Hound/German Shepherd",
          "Black/Tan Hound/Great Dane",
          "Black/Tan Hound/Labrador Retriever",
          "Black/Tan Hound/Siberian Husky",
          "Bloodhound",
          "Bloodhound Mix",
          "Bloodhound/German Shepherd",
          "Bloodhound/Great Pyrenees",
          "Bloodhound/Labrador Retriever",
          "Blue Lacy",
          "Blue Lacy Mix",
          "Blue Lacy/American Bulldog",
          "Blue Lacy/American Staffordshire Terrier",
          "Blue Lacy/Australian Cattle Dog",
          "Blue Lacy/Australian Kelpie",
          "Blue Lacy/Basset Hound",
          "Blue Lacy/Beagle",
          "Blue Lacy/Black Mouth Cur",
          "Blue Lacy/Cardigan Welsh Corgi",
          "Blue Lacy/Collie Smooth",
          "Blue Lacy/Great Dane",
          "Blue Lacy/Labrador Retriever",
          "Blue Lacy/Pit Bull",
          "Blue Lacy/Pointer",
          "Blue Lacy/Staffordshire",
          "Blue Lacy/Weimaraner",
          "Bluetick Hound",
          "Bluetick Hound Mix",
          "Bluetick Hound/Australian Cattle Dog",
          "Bluetick Hound/Australian Kelpie",
          "Bluetick Hound/Chinese Sharpei",
          "Bluetick Hound/Great Pyrenees",
          "Bluetick Hound/Treeing Walker Coonhound",
          "Boerboel",
          "Boerboel Mix",
          "Border Collie",
          "Border Collie Mix",
          "Border Collie/Akita",
          "Border Collie/Alaskan Husky",
          "Border Collie/American Eskimo",
          "Border Collie/American Staffordshire Terrier",
          "Border Collie/Anatol Shepherd",
          "Border Collie/Australian Cattle Dog",
          "Border Collie/Australian Kelpie",
          "Border Collie/Australian Shepherd",
          "Border Collie/Basenji",
          "Border Collie/Basset Hound",
          "Border Collie/Beagle",
          "Border Collie/Bernese Mountain Dog",
          "Border Collie/Blue Lacy",
          "Border Collie/Border Collie",
          "Border Collie/Boxer",
          "Border Collie/Brittany",
          "Border Collie/Bull Terrier",
          "Border Collie/Canaan Dog",
          "Border Collie/Cardigan Welsh Corgi",
          "Border Collie/Catahoula",
          "Border Collie/Chow Chow",
          "Border Collie/Collie Rough",
          "Border Collie/Dachshund",
          "Border Collie/Dalmatian",
          "Border Collie/Doberman Pinsch",
          "Border Collie/English Pointer",
          "Border Collie/English Springer Spaniel",
          "Border Collie/German Shepherd",
          "Border Collie/German Shorthair Pointer",
          "Border Collie/Great Dane",
          "Border Collie/Great Pyrenees",
          "Border Collie/Greyhound",
          "Border Collie/Jack Russell Terrier",
          "Border Collie/Labrador Retriever",
          "Border Collie/Mastiff",
          "Border Collie/Miniature Pinscher",
          "Border Collie/Parson Russell Terrier",
          "Border Collie/Pembroke Welsh Corgi",
          "Border Collie/Pit Bull",
          "Border Collie/Pointer",
          "Border Collie/Pomeranian",
          "Border Collie/Queensland Heeler",
          "Border Collie/Shetland Sheepdog",
          "Border Collie/Siberian Husky",
          "Border Collie/Staffordshire",
          "Border Collie/Standard Schnauzer",
          "Border Collie/Whippet",
          "Border Terrier",
          "Border Terrier Mix",
          "Border Terrier/Affenpinscher",
          "Border Terrier/Border Collie",
          "Border Terrier/Cardigan Welsh Corgi",
          "Border Terrier/Chihuahua Longhair",
          "Border Terrier/Chihuahua Shorthair",
          "Border Terrier/Dachshund",
          "Border Terrier/Dachshund Wirehair",
          "Border Terrier/Jack Russell Terrier",
          "Border Terrier/Labrador Retriever",
          "Border Terrier/Maltese",
          "Border Terrier/Miniature Poodle",
          "Border Terrier/Rat Terrier",
          "Border Terrier/Shih Tzu",
          "Border Terrier/Soft Coated Wheaten Terrier",
          "Border Terrier/Standard Schnauzer",
          "Border Terrier/Toy Fox Terrier",
          "Border Terrier/Welsh Terrier",
          "Border Terrier/West Highland",
          "Border Terrier/Yorkshire Terrier",
          "Boston Terrier",
          "Boston Terrier Mix",
          "Boston Terrier/Australian Kelpie",
          "Boston Terrier/Beagle",
          "Boston Terrier/Chihuahua Shorthair",
          "Boston Terrier/Dachshund",
          "Boston Terrier/French Bulldog",
          "Boston Terrier/Labrador Retriever",
          "Boston Terrier/Miniature Schnauzer",
          "Boston Terrier/Pembroke Welsh Corgi",
          "Boston Terrier/Pit Bull",
          "Boston Terrier/Pointer",
          "Boston Terrier/Pug",
          "Boston Terrier/Rat Terrier",
          "Bouv Flandres/Otterhound",
          "Boxer",
          "Boxer Mix",
          "Boxer/Akita",
          "Boxer/American Bulldog",
          "Boxer/American Pit Bull Terrier",
          "Boxer/American Staffordshire Terrier",
          "Boxer/Anatol Shepherd",
          "Boxer/Australian Cattle Dog",
          "Boxer/Australian Kelpie",
          "Boxer/Beagle",
          "Boxer/Black Mouth Cur",
          "Boxer/Border Collie",
          "Boxer/Boston Terrier",
          "Boxer/Boxer",
          "Boxer/Bulldog",
          "Boxer/Bullmastiff",
          "Boxer/Cardigan Welsh Corgi",
          "Boxer/Catahoula",
          "Boxer/Chinese Sharpei",
          "Boxer/Chow Chow",
          "Boxer/Dachshund",
          "Boxer/Dalmatian",
          "Boxer/Doberman Pinsch",
          "Boxer/Dogue De Bordeaux",
          "Boxer/English Bulldog",
          "Boxer/German Shepherd",
          "Boxer/Great Dane",
          "Boxer/Great Pyrenees",
          "Boxer/Greyhound",
          "Boxer/Harrier",
          "Boxer/Italian Greyhound",
          "Boxer/Jack Russell Terrier",
          "Boxer/Labrador Retriever",
          "Boxer/Mastiff",
          "Boxer/Miniature Poodle",
          "Boxer/Neapolitan Mastiff",
          "Boxer/Pit Bull",
          "Boxer/Plott Hound",
          "Boxer/Pointer",
          "Boxer/Pug",
          "Boxer/Queensland Heeler",
          "Boxer/Redbone Hound",
          "Boxer/Rhod Ridgeback",
          "Boxer/Staffordshire",
          "Boxer/Whippet",
          "Boykin Span",
          "Boykin Span Mix",
          "Boykin Span/Cocker Spaniel",
          "Boykin Span/Dachshund",
          "Briard",
          "Brittany",
          "Brittany Mix",
          "Brittany/Border Collie",
          "Brittany/Chihuahua Shorthair",
          "Brittany/Cocker Spaniel",
          "Brittany/Collie Rough",
          "Brittany/Labrador Retriever",
          "Bruss Griffon",
          "Bruss Griffon Mix",
          "Bruss Griffon/Affenpinscher",
          "Bruss Griffon/Cairn Terrier",
          "Bruss Griffon/Chihuahua Longhair",
          "Bruss Griffon/Chihuahua Shorthair",
          "Bruss Griffon/Dachshund",
          "Bruss Griffon/Maltese",
          "Bruss Griffon/Pug",
          "Bruss Griffon/Yorkshire Terrier",
          "Bull Terrier",
          "Bull Terrier Miniature",
          "Bull Terrier Miniature Mix",
          "Bull Terrier Miniature/Chihuahua Shorthair",
          "Bull Terrier Miniature/Chinese Sharpei",
          "Bull Terrier Miniature/German Shepherd",
          "Bull Terrier Miniature/Greyhound",
          "Bull Terrier Mix",
          "Bull Terrier/Australian Kelpie",
          "Bull Terrier/Black Mouth Cur",
          "Bull Terrier/Boxer",
          "Bull Terrier/Jack Russell Terrier",
          "Bull Terrier/Pit Bull",
          "Bulldog",
          "Bulldog Mix",
          "Bulldog/American Bulldog",
          "Bulldog/Boston Terrier",
          "Bulldog/Boxer",
          "Bulldog/Chinese Sharpei",
          "Bulldog/Labrador Retriever",
          "Bulldog/Pit Bull",
          "Bulldog/Staffordshire",
          "Bullmastiff",
          "Bullmastiff Mix",
          "Bullmastiff/Black Mouth Cur",
          "Bullmastiff/Boxer",
          "Cairn Terrier",
          "Cairn Terrier Mix",
          "Cairn Terrier/Affenpinscher",
          "Cairn Terrier/Bichon Frise",
          "Cairn Terrier/Border Collie",
          "Cairn Terrier/Border Terrier",
          "Cairn Terrier/Cairn Terrier",
          "Cairn Terrier/Cardigan Welsh Corgi",
          "Cairn Terrier/Chihuahua Longhair",
          "Cairn Terrier/Chihuahua Shorthair",
          "Cairn Terrier/Dachshund",
          "Cairn Terrier/Dachshund Wirehair",
          "Cairn Terrier/Italian Greyhound",
          "Cairn Terrier/Miniature Poodle",
          "Cairn Terrier/Miniature Schnauzer",
          "Cairn Terrier/Norfolk Terrier",
          "Cairn Terrier/Scottish Terrier",
          "Cairn Terrier/Shih Tzu",
          "Cairn Terrier/West Highland",
          "Cairn Terrier/Yorkshire Terrier",
          "Canaan Dog Mix",
          "Canaan Dog/English Springer Spaniel",
          "Canaan Dog/Labrador Retriever",
          "Canaan Dog/Pit Bull",
          "Canaan Dog/Redbone Hound",
          "Cane Corso",
          "Cane Corso Mix",
          "Cane Corso/Blue Lacy",
          "Cane Corso/Mastiff",
          "Cardigan Welsh Corgi",
          "Cardigan Welsh Corgi Mix",
          "Cardigan Welsh Corgi/American Eskimo",
          "Cardigan Welsh Corgi/American Staffordshire Terrier",
          "Cardigan Welsh Corgi/Australian Cattle Dog",
          "Cardigan Welsh Corgi/Australian Kelpie",
          "Cardigan Welsh Corgi/Australian Shepherd",
          "Cardigan Welsh Corgi/Beagle",
          "Cardigan Welsh Corgi/Blue Lacy",
          "Cardigan Welsh Corgi/Cairn Terrier",
          "Cardigan Welsh Corgi/Cardigan Welsh Corgi",
          "Cardigan Welsh Corgi/Chihuahua Longhair",
          "Cardigan Welsh Corgi/Chihuahua Shorthair",
          "Cardigan Welsh Corgi/Cocker Spaniel",
          "Cardigan Welsh Corgi/Dachshund",
          "Cardigan Welsh Corgi/English Setter",
          "Cardigan Welsh Corgi/German Shepherd",
          "Cardigan Welsh Corgi/Golden Retriever",
          "Cardigan Welsh Corgi/Jack Russell Terrier",
          "Cardigan Welsh Corgi/Jindo",
          "Cardigan Welsh Corgi/Labrador Retriever",
          "Cardigan Welsh Corgi/Miniature Pinscher",
          "Cardigan Welsh Corgi/Miniature Schnauzer",
          "Cardigan Welsh Corgi/Pit Bull",
          "Cardigan Welsh Corgi/Pointer",
          "Cardigan Welsh Corgi/Pomeranian",
          "Cardigan Welsh Corgi/Rat Terrier",
          "Carolina Dog",
          "Carolina Dog Mix",
          "Carolina Dog/Alaskan Husky",
          "Carolina Dog/American Pit Bull Terrier",
          "Carolina Dog/Australian Cattle Dog",
          "Carolina Dog/Border Collie",
          "Carolina Dog/Catahoula",
          "Carolina Dog/Chihuahua Shorthair",
          "Carolina Dog/Labrador Retriever",
          "Catahoula",
          "Catahoula Mix",
          "Catahoula/Akita",
          "Catahoula/Alaskan Husky",
          "Catahoula/American Bulldog",
          "Catahoula/American Pit Bull Terrier",
          "Catahoula/Anatol Shepherd",
          "Catahoula/Australian Cattle Dog",
          "Catahoula/Australian Shepherd",
          "Catahoula/Beagle",
          "Catahoula/Black Mouth Cur",
          "Catahoula/Border Collie",
          "Catahoula/Boxer",
          "Catahoula/Cardigan Welsh Corgi",
          "Catahoula/Carolina Dog",
          "Catahoula/Chinese Sharpei",
          "Catahoula/Chow Chow",
          "Catahoula/Doberman Pinsch",
          "Catahoula/English Coonhound",
          "Catahoula/German Shepherd",
          "Catahoula/Great Dane",
          "Catahoula/Greyhound",
          "Catahoula/Irish Wolfhound",
          "Catahoula/Jack Russell Terrier",
          "Catahoula/Labrador Retriever",
          "Catahoula/Mastiff",
          "Catahoula/Pit Bull",
          "Catahoula/Plott Hound",
          "Catahoula/Pointer",
          "Catahoula/Queensland Heeler",
          "Catahoula/Rottweiler",
          "Catahoula/Siberian Husky",
          "Catahoula/Staffordshire",
          "Catahoula/Treeing Walker Coonhound",
          "Catahoula/Vizsla",
          "Catahoula/Whippet",
          "Cavalier Span",
          "Cavalier Span Mix",
          "Cavalier Span/Border Collie",
          "Cavalier Span/Chihuahua Longhair",
          "Cavalier Span/Chihuahua Shorthair",
          "Cavalier Span/Jack Russell Terrier",
          "Cavalier Span/Papillon",
          "Cavalier Span/Pug",
          "Cavalier Span/Toy Poodle",
          "Chesa Bay Retr",
          "Chesa Bay Retr Mix",
          "Chesa Bay Retr/Australian Cattle Dog",
          "Chesa Bay Retr/Chinese Sharpei",
          "Chesa Bay Retr/German Shepherd",
          "Chesa Bay Retr/Labrador Retriever",
          "Chesa Bay Retr/Pit Bull",
          "Chihuahua Longhair",
          "Chihuahua Longhair Mix",
          "Chihuahua Longhair/Australian Cattle Dog",
          "Chihuahua Longhair/Border Terrier",
          "Chihuahua Longhair/Cairn Terrier",
          "Chihuahua Longhair/Cardigan Welsh Corgi",
          "Chihuahua Longhair/Cavalier Span",
          "Chihuahua Longhair/Chihuahua Shorthair",
          "Chihuahua Longhair/Chow Chow",
          "Chihuahua Longhair/Cocker Spaniel",
          "Chihuahua Longhair/Dachshund",
          "Chihuahua Longhair/Dachshund Longhair",
          "Chihuahua Longhair/Dachshund Wirehair",
          "Chihuahua Longhair/Greyhound",
          "Chihuahua Longhair/Italian Greyhound",
          "Chihuahua Longhair/Jack Russell Terrier",
          "Chihuahua Longhair/Maltese",
          "Chihuahua Longhair/Miniature Poodle",
          "Chihuahua Longhair/Miniature Schnauzer",
          "Chihuahua Longhair/Norfolk Terrier",
          "Chihuahua Longhair/Papillon",
          "Chihuahua Longhair/Pekingese",
          "Chihuahua Longhair/Pomeranian",
          "Chihuahua Longhair/Pug",
          "Chihuahua Longhair/Queensland Heeler",
          "Chihuahua Longhair/Rat Terrier",
          "Chihuahua Longhair/Silky Terrier",
          "Chihuahua Longhair/West Highland",
          "Chihuahua Longhair/Yorkshire Terrier",
          "Chihuahua Shorthair",
          "Chihuahua Shorthair Mix",
          "Chihuahua Shorthair/Affenpinscher",
          "Chihuahua Shorthair/American Staffordshire Terrier",
          "Chihuahua Shorthair/Australian Cattle Dog",
          "Chihuahua Shorthair/Australian Terrier",
          "Chihuahua Shorthair/Basenji",
          "Chihuahua Shorthair/Basset Hound",
          "Chihuahua Shorthair/Beagle",
          "Chihuahua Shorthair/Bichon Frise",
          "Chihuahua Shorthair/Border Collie",
          "Chihuahua Shorthair/Border Terrier",
          "Chihuahua Shorthair/Boston Terrier",
          "Chihuahua Shorthair/Boxer",
          "Chihuahua Shorthair/Cairn Terrier",
          "Chihuahua Shorthair/Cardigan Welsh Corgi",
          "Chihuahua Shorthair/Catahoula",
          "Chihuahua Shorthair/Cavalier Span",
          "Chihuahua Shorthair/Chihuahua Shorthair",
          "Chihuahua Shorthair/Chinese Crested",
          "Chihuahua Shorthair/Chinese Sharpei",
          "Chihuahua Shorthair/Cirneco",
          "Chihuahua Shorthair/Cocker Spaniel",
          "Chihuahua Shorthair/Collie Smooth",
          "Chihuahua Shorthair/Dachshund",
          "Chihuahua Shorthair/Dachshund Longhair",
          "Chihuahua Shorthair/Dachshund Wirehair",
          "Chihuahua Shorthair/Doberman Pinsch",
          "Chihuahua Shorthair/Finnish Spitz",
          "Chihuahua Shorthair/French Bulldog",
          "Chihuahua Shorthair/German Shepherd",
          "Chihuahua Shorthair/Italian Greyhound",
          "Chihuahua Shorthair/Jack Russell Terrier",
          "Chihuahua Shorthair/Labrador Retriever",
          "Chihuahua Shorthair/Lhasa Apso",
          "Chihuahua Shorthair/Maltese",
          "Chihuahua Shorthair/Manchester Terrier",
          "Chihuahua Shorthair/Mexican Hairless",
          "Chihuahua Shorthair/Miniature Pinscher",
          "Chihuahua Shorthair/Miniature Poodle",
          "Chihuahua Shorthair/Miniature Schnauzer",
          "Chihuahua Shorthair/Norfolk Terrier",
          "Chihuahua Shorthair/Norwich Terrier",
          "Chihuahua Shorthair/Papillon",
          "Chihuahua Shorthair/Parson Russell Terrier",
          "Chihuahua Shorthair/Pekingese",
          "Chihuahua Shorthair/Pembroke Welsh Corgi",
          "Chihuahua Shorthair/Pit Bull",
          "Chihuahua Shorthair/Pomeranian",
          "Chihuahua Shorthair/Pug",
          "Chihuahua Shorthair/Queensland Heeler",
          "Chihuahua Shorthair/Rat Terrier",
          "Chihuahua Shorthair/Rhod Ridgeback",
          "Chihuahua Shorthair/Rottweiler",
          "Chihuahua Shorthair/Schipperke",
          "Chihuahua Shorthair/Shetland Sheepdog",
          "Chihuahua Shorthair/Shiba Inu",
          "Chihuahua Shorthair/Shih Tzu",
          "Chihuahua Shorthair/Smooth Fox Terrier",
          "Chihuahua Shorthair/Swedish Vallhund",
          "Chihuahua Shorthair/Toy Fox Terrier",
          "Chihuahua Shorthair/Toy Poodle",
          "Chihuahua Shorthair/Welsh Terrier",
          "Chihuahua Shorthair/Whippet",
          "Chihuahua Shorthair/Wire Hair Fox Terrier",
          "Chihuahua Shorthair/Yorkshire Terrier",
          "Chinese Crested",
          "Chinese Crested Mix",
          "Chinese Crested/Chihuahua Longhair",
          "Chinese Crested/Chihuahua Shorthair",
          "Chinese Crested/Cocker Spaniel",
          "Chinese Crested/Papillon",
          "Chinese Sharpei",
          "Chinese Sharpei Mix",
          "Chinese Sharpei/Airedale Terrier",
          "Chinese Sharpei/American Bulldog",
          "Chinese Sharpei/American Staffordshire Terrier",
          "Chinese Sharpei/Australian Cattle Dog",
          "Chinese Sharpei/Basset Hound",
          "Chinese Sharpei/Beagle",
          "Chinese Sharpei/Black Mouth Cur",
          "Chinese Sharpei/Border Collie",
          "Chinese Sharpei/Boxer",
          "Chinese Sharpei/Chow Chow",
          "Chinese Sharpei/German Shepherd",
          "Chinese Sharpei/Great Dane",
          "Chinese Sharpei/Great Pyrenees",
          "Chinese Sharpei/Labrador Retriever",
          "Chinese Sharpei/Pit Bull",
          "Chinese Sharpei/Pointer",
          "Chinese Sharpei/Rat Terrier",
          "Chinese Sharpei/Rhod Ridgeback",
          "Chinese Sharpei/Rottweiler",
          "Chow Chow",
          "Chow Chow Mix",
          "Chow Chow/American Eskimo",
          "Chow Chow/Australian Cattle Dog",
          "Chow Chow/Basset Hound",
          "Chow Chow/Border Collie",
          "Chow Chow/Cardigan Welsh Corgi",
          "Chow Chow/Chinese Sharpei",
          "Chow Chow/English Cocker Spaniel",
          "Chow Chow/German Shepherd",
          "Chow Chow/Golden Retriever",
          "Chow Chow/Irish Setter",
          "Chow Chow/Labrador Retriever",
          "Chow Chow/Pekingese",
          "Chow Chow/Pit Bull",
          "Chow Chow/Rottweiler",
          "Chow Chow/Siberian Husky",
          "Clumber Spaniel",
          "Clumber Spaniel Mix",
          "Clumber Spaniel/American Eskimo",
          "Cocker Spaniel",
          "Cocker Spaniel Mix",
          "Cocker Spaniel/Australian Shepherd",
          "Cocker Spaniel/Australian Terrier",
          "Cocker Spaniel/Basset Hound",
          "Cocker Spaniel/Beagle",
          "Cocker Spaniel/Chihuahua Longhair",
          "Cocker Spaniel/Chihuahua Shorthair",
          "Cocker Spaniel/Dachshund",
          "Cocker Spaniel/Dachshund Longhair",
          "Cocker Spaniel/German Shepherd",
          "Cocker Spaniel/Golden Retriever",
          "Cocker Spaniel/Labrador Retriever",
          "Cocker Spaniel/Miniature Poodle",
          "Cocker Spaniel/Miniature Schnauzer",
          "Cocker Spaniel/Pekingese",
          "Cocker Spaniel/Pembroke Welsh Corgi",
          "Cocker Spaniel/Pomeranian",
          "Cocker Spaniel/Shetland Sheepdog",
          "Cocker Spaniel/Standard Poodle",
          "Cocker Spaniel/Toy Poodle",
          "Collie Rough",
          "Collie Rough Mix",
          "Collie Rough/Anatol Shepherd",
          "Collie Rough/Australian Cattle Dog",
          "Collie Rough/Australian Shepherd",
          "Collie Rough/Catahoula",
          "Collie Rough/Chinese Sharpei",
          "Collie Rough/Chow Chow",
          "Collie Rough/German Shepherd",
          "Collie Rough/Golden Retriever",
          "Collie Rough/Great Pyrenees",
          "Collie Rough/Irish Setter",
          "Collie Rough/Keeshond",
          "Collie Rough/Labrador Retriever",
          "Collie Rough/Pembroke Welsh Corgi",
          "Collie Rough/Pointer",
          "Collie Rough/Spanish Water Dog",
          "Collie Smooth",
          "Collie Smooth Mix",
          "Collie Smooth/Australian Kelpie",
          "Collie Smooth/Beagle",
          "Collie Smooth/Boxer",
          "Collie Smooth/Bull Terrier",
          "Collie Smooth/Catahoula",
          "Collie Smooth/Chow Chow",
          "Collie Smooth/German Shepherd",
          "Collie Smooth/Golden Retriever",
          "Collie Smooth/Jack Russell Terrier",
          "Collie Smooth/Labrador Retriever",
          "Collie Smooth/Miniature Poodle",
          "Collie Smooth/Pointer",
          "Collie Smooth/Saluki",
          "Collie Smooth/Siberian Husky",
          "Coton De Tulear",
          "Coton De Tulear Mix",
          "Dachshund",
          "Dachshund Longhair",
          "Dachshund Longhair Mix",
          "Dachshund Longhair/Australian Cattle Dog",
          "Dachshund Longhair/Australian Shepherd",
          "Dachshund Longhair/Cairn Terrier",
          "Dachshund Longhair/Cardigan Welsh Corgi",
          "Dachshund Longhair/Chihuahua Longhair",
          "Dachshund Longhair/Chihuahua Shorthair",
          "Dachshund Longhair/Cocker Spaniel",
          "Dachshund Longhair/Golden Retriever",
          "Dachshund Longhair/Maltese",
          "Dachshund Longhair/Miniature Poodle",
          "Dachshund Longhair/Miniature Schnauzer",
          "Dachshund Longhair/Pembroke Welsh Corgi",
          "Dachshund Longhair/Pomeranian",
          "Dachshund Longhair/Rat Terrier",
          "Dachshund Longhair/Siberian Husky",
          "Dachshund Longhair/Tibetan Spaniel",
          "Dachshund Longhair/Toy Poodle",
          "Dachshund Mix",
          "Dachshund Stan Mix",
          "Dachshund Wirehair",
          "Dachshund Wirehair Mix",
          "Dachshund Wirehair/Border Terrier",
          "Dachshund Wirehair/Cairn Terrier",
          "Dachshund Wirehair/Chihuahua Longhair",
          "Dachshund Wirehair/Chihuahua Shorthair",
          "Dachshund Wirehair/Manchester Terrier",
          "Dachshund Wirehair/Miniature Poodle",
          "Dachshund Wirehair/Miniature Schnauzer",
          "Dachshund Wirehair/Norfolk Terrier",
          "Dachshund Wirehair/Pbgv",
          "Dachshund Wirehair/Rat Terrier",
          "Dachshund Wirehair/Shih Tzu",
          "Dachshund Wirehair/Standard Poodle",
          "Dachshund Wirehair/Toy Poodle",
          "Dachshund Wirehair/West Highland",
          "Dachshund Wirehair/Yorkshire Terrier",
          "Dachshund/American Staffordshire Terrier",
          "Dachshund/Australian Cattle Dog",
          "Dachshund/Australian Kelpie",
          "Dachshund/Basset Hound",
          "Dachshund/Beagle",
          "Dachshund/Belgian Malinois",
          "Dachshund/Black/Tan Hound",
          "Dachshund/Bloodhound",
          "Dachshund/Blue Lacy",
          "Dachshund/Border Collie",
          "Dachshund/Boston Terrier",
          "Dachshund/Boxer",
          "Dachshund/Bull Terrier",
          "Dachshund/Cardigan Welsh Corgi",
          "Dachshund/Catahoula",
          "Dachshund/Cavalier Span",
          "Dachshund/Chihuahua Longhair",
          "Dachshund/Chihuahua Shorthair",
          "Dachshund/Chinese Sharpei",
          "Dachshund/Dachshund",
          "Dachshund/English Bulldog",
          "Dachshund/English Foxhound",
          "Dachshund/German Pinscher",
          "Dachshund/German Shepherd",
          "Dachshund/Greyhound",
          "Dachshund/Harrier",
          "Dachshund/Havanese",
          "Dachshund/Italian Greyhound",
          "Dachshund/Jack Russell Terrier",
          "Dachshund/Labrador Retriever",
          "Dachshund/Maltese",
          "Dachshund/Manchester Terrier",
          "Dachshund/Miniature Pinscher",
          "Dachshund/Miniature Poodle",
          "Dachshund/Norfolk Terrier",
          "Dachshund/Parson Russell Terrier",
          "Dachshund/Pbgv",
          "Dachshund/Pembroke Welsh Corgi",
          "Dachshund/Pit Bull",
          "Dachshund/Plott Hound",
          "Dachshund/Pomeranian",
          "Dachshund/Pug",
          "Dachshund/Rat Terrier",
          "Dachshund/Shetland Sheepdog",
          "Dachshund/Shih Tzu",
          "Dachshund/Swedish Vallhund",
          "Dachshund/Toy Poodle",
          "Dachshund/Whippet",
          "Dachshund/Wire Hair Fox Terrier",
          "Dachshund/Yorkshire Terrier",
          "Dalmatian",
          "Dalmatian Mix",
          "Dalmatian/Australian Cattle Dog",
          "Dalmatian/Basset Hound",
          "Dalmatian/Boxer",
          "Dalmatian/Labrador Retriever",
          "Dalmatian/Pit Bull",
          "Dalmatian/Plott Hound",
          "Dalmatian/Pointer",
          "Dalmatian/Staffordshire",
          "Dandie Dinmont",
          "Dandie Dinmont Mix",
          "Dandie Dinmont/Miniature Poodle",
          "Doberman Pinsch",
          "Doberman Pinsch Mix",
          "Doberman Pinsch/Australian Cattle Dog",
          "Doberman Pinsch/Beagle",
          "Doberman Pinsch/Beauceron",
          "Doberman Pinsch/Black Mouth Cur",
          "Doberman Pinsch/Black/Tan Hound",
          "Doberman Pinsch/Border Collie",
          "Doberman Pinsch/Catahoula",
          "Doberman Pinsch/Chihuahua Shorthair",
          "Doberman Pinsch/German Shepherd",
          "Doberman Pinsch/Greyhound",
          "Doberman Pinsch/Labrador Retriever",
          "Doberman Pinsch/Pit Bull",
          "Doberman Pinsch/Rottweiler",
          "Doberman Pinsch/Vizsla",
          "Dogo Argentino",
          "Dogo Argentino Mix",
          "Dogo Argentino/Boxer",
          "Dogo Argentino/Chinese Sharpei",
          "Dogo Argentino/Labrador Retriever",
          "Dogo Argentino/Pit Bull",
          "Dogue De Bordeaux",
          "Dogue De Bordeaux Mix",
          "Dogue De Bordeaux/American Bulldog",
          "Dutch Shepherd",
          "Dutch Shepherd Mix",
          "Dutch Shepherd/Anatol Shepherd",
          "Dutch Shepherd/Australian Kelpie",
          "Dutch Shepherd/Belgian Malinois",
          "Dutch Shepherd/Boxer",
          "Dutch Shepherd/Great Pyrenees",
          "Dutch Shepherd/Labrador Retriever",
          "Dutch Shepherd/Mastiff",
          "Dutch Shepherd/Plott Hound",
          "Eng Toy Spaniel Mix",
          "English Bulldog",
          "English Bulldog Mix",
          "English Bulldog/American Bulldog",
          "English Bulldog/American Staffordshire Terrier",
          "English Bulldog/Australian Cattle Dog",
          "English Bulldog/Beagle",
          "English Bulldog/Boxer",
          "English Bulldog/Cairn Terrier",
          "English Bulldog/Dachshund",
          "English Bulldog/Mastiff",
          "English Bulldog/Pit Bull",
          "English Bulldog/Staffordshire",
          "English Cocker Spaniel",
          "English Cocker Spaniel Mix",
          "English Coonhound",
          "English Coonhound Mix",
          "English Coonhound/Border Collie",
          "English Coonhound/German Shepherd",
          "English Coonhound/Italian Greyhound",
          "English Coonhound/Labrador Retriever",
          "English Foxhound",
          "English Foxhound Mix",
          "English Foxhound/Labrador Retriever",
          "English Foxhound/Smooth Fox Terrier",
          "English Pointer",
          "English Pointer Mix",
          "English Pointer/Boxer",
          "English Pointer/Labrador Retriever",
          "English Setter Mix",
          "English Shepherd",
          "English Shepherd Mix",
          "English Springer Spaniel",
          "English Springer Spaniel Mix",
          "English Springer Spaniel/Beagle",
          "English Springer Spaniel/Cardigan Welsh Corgi",
          "English Springer Spaniel/Labrador Retriever",
          "English Springer Spaniel/Pointer",
          "Entlebucher Mix",
          "Entlebucher/Basset Hound",
          "Feist Mix",
          "Feist/Beagle",
          "Feist/Chihuahua Shorthair",
          "Field Spaniel Mix",
          "Field Spaniel/Cocker Spaniel",
          "Finnish Spitz",
          "Finnish Spitz Mix",
          "Finnish Spitz/Australian Shepherd",
          "Finnish Spitz/Cardigan Welsh Corgi",
          "Finnish Spitz/Chow Chow",
          "Finnish Spitz/Dachshund",
          "Finnish Spitz/Labrador Retriever",
          "Flat Coat Retriever",
          "Flat Coat Retriever Mix",
          "Flat Coat Retriever/Australian Cattle Dog",
          "Flat Coat Retriever/Chow Chow",
          "Flat Coat Retriever/German Shepherd",
          "Flat Coat Retriever/Golden Retriever",
          "Flat Coat Retriever/Labrador Retriever",
          "Flat Coat Retriever/Papillon",
          "Flat Coat Retriever/Pit Bull",
          "French Bulldog",
          "French Bulldog Mix",
          "French Bulldog/Chihuahua Shorthair",
          "French Bulldog/Dachshund",
          "French Bulldog/English Bulldog",
          "French Bulldog/Miniature Schnauzer",
          "French Bulldog/Pit Bull",
          "French Bulldog/Pug",
          "German Pinscher Mix",
          "German Pinscher/Whippet",
          "German Shepherd",
          "German Shepherd Mix",
          "German Shepherd/Airedale Terrier",
          "German Shepherd/Akita",
          "German Shepherd/Alaskan Husky",
          "German Shepherd/Alaskan Malamute",
          "German Shepherd/American Bulldog",
          "German Shepherd/Anatol Shepherd",
          "German Shepherd/Australian Cattle Dog",
          "German Shepherd/Australian Kelpie",
          "German Shepherd/Australian Shepherd",
          "German Shepherd/Basenji",
          "German Shepherd/Basset Hound",
          "German Shepherd/Beagle",
          "German Shepherd/Belgian Malinois",
          "German Shepherd/Black Mouth Cur",
          "German Shepherd/Black/Tan Hound",
          "German Shepherd/Border Collie",
          "German Shepherd/Border Terrier",
          "German Shepherd/Boxer",
          "German Shepherd/Bull Terrier",
          "German Shepherd/Bull Terrier Miniature",
          "German Shepherd/Cardigan Welsh Corgi",
          "German Shepherd/Carolina Dog",
          "German Shepherd/Catahoula",
          "German Shepherd/Chihuahua Shorthair",
          "German Shepherd/Chinese Sharpei",
          "German Shepherd/Chow Chow",
          "German Shepherd/Collie Rough",
          "German Shepherd/Collie Smooth",
          "German Shepherd/Doberman Pinsch",
          "German Shepherd/English Coonhound",
          "German Shepherd/Finnish Spitz",
          "German Shepherd/German Shepherd",
          "German Shepherd/Golden Retriever",
          "German Shepherd/Great Dane",
          "German Shepherd/Great Pyrenees",
          "German Shepherd/Greyhound",
          "German Shepherd/Ibizan Hound",
          "German Shepherd/Irish Wolfhound",
          "German Shepherd/Labrador Retriever",
          "German Shepherd/Mastiff",
          "German Shepherd/Nova Scotia Duck Tolling Retriever",
          "German Shepherd/Pembroke Welsh Corgi",
          "German Shepherd/Pit Bull",
          "German Shepherd/Plott Hound",
          "German Shepherd/Pointer",
          "German Shepherd/Queensland Heeler",
          "German Shepherd/Redbone Hound",
          "German Shepherd/Rottweiler",
          "German Shepherd/Siberian Husky",
          "German Shepherd/Smooth Fox Terrier",
          "German Shepherd/Swedish Vallhund",
          "German Shepherd/Vizsla",
          "German Shepherd/Weimaraner",
          "German Shepherd/Whippet",
          "German Shorthair Pointer",
          "German Shorthair Pointer Mix",
          "German Shorthair Pointer/American Pit Bull Terrier",
          "German Shorthair Pointer/Australian Cattle Dog",
          "German Shorthair Pointer/Bluetick Hound",
          "German Shorthair Pointer/Border Collie",
          "German Shorthair Pointer/Brittany",
          "German Shorthair Pointer/Labrador Retriever",
          "German Wirehaired Pointer",
          "German Wirehaired Pointer Mix",
          "German Wirehaired Pointer/Labrador Retriever",
          "Glen Of Imaal Mix",
          "Glen Of Imaal/Ibizan Hound",
          "Golden Retriever",
          "Golden Retriever Mix",
          "Golden Retriever/Akita",
          "Golden Retriever/Anatol Shepherd",
          "Golden Retriever/Australian Cattle Dog",
          "Golden Retriever/Australian Shepherd",
          "Golden Retriever/Beagle",
          "Golden Retriever/Bearded Collie",
          "Golden Retriever/Border Collie",
          "Golden Retriever/Border Terrier",
          "Golden Retriever/Catahoula",
          "Golden Retriever/Chow Chow",
          "Golden Retriever/Cocker Spaniel",
          "Golden Retriever/Collie Rough",
          "Golden Retriever/Dachshund",
          "Golden Retriever/Finnish Spitz",
          "Golden Retriever/German Shepherd",
          "Golden Retriever/Great Pyrenees",
          "Golden Retriever/Irish Setter",
          "Golden Retriever/Labrador Retriever",
          "Golden Retriever/Pembroke Welsh Corgi",
          "Golden Retriever/Pit Bull",
          "Golden Retriever/Siberian Husky",
          "Golden Retriever/Standard Poodle",
          "Golden Retriever/Whippet",
          "Gordon Setter Mix",
          "Grand Basset Griffon Vendeen Mix",
          "Great Dane",
          "Great Dane Mix",
          "Great Dane/Anatol Shepherd",
          "Great Dane/Australian Cattle Dog",
          "Great Dane/Australian Shepherd",
          "Great Dane/Blue Lacy",
          "Great Dane/Boerboel",
          "Great Dane/Border Collie",
          "Great Dane/Boxer",
          "Great Dane/Catahoula",
          "Great Dane/Doberman Pinsch",
          "Great Dane/German Shepherd",
          "Great Dane/Greyhound",
          "Great Dane/Labrador Retriever",
          "Great Dane/Mastiff",
          "Great Dane/Pit Bull",
          "Great Dane/Pointer",
          "Great Dane/Staffordshire",
          "Great Pyrenees",
          "Great Pyrenees Mix",
          "Great Pyrenees/Alaskan Husky",
          "Great Pyrenees/American Bulldog",
          "Great Pyrenees/Anatol Shepherd",
          "Great Pyrenees/Australian Cattle Dog",
          "Great Pyrenees/Australian Shepherd",
          "Great Pyrenees/Border Collie",
          "Great Pyrenees/Boxer",
          "Great Pyrenees/Catahoula",
          "Great Pyrenees/Chow Chow",
          "Great Pyrenees/Collie Rough",
          "Great Pyrenees/Dalmatian",
          "Great Pyrenees/English Pointer",
          "Great Pyrenees/English Setter",
          "Great Pyrenees/German Shepherd",
          "Great Pyrenees/Golden Retriever",
          "Great Pyrenees/Kuvasz",
          "Great Pyrenees/Labrador Retriever",
          "Great Pyrenees/Pit Bull",
          "Great Pyrenees/Pointer",
          "Great Pyrenees/Queensland Heeler",
          "Great Pyrenees/Rottweiler",
          "Great Pyrenees/Siberian Husky",
          "Great Pyrenees/St. Bernard Rough Coat",
          "Great Pyrenees/St. Bernard Smooth Coat",
          "Great Pyrenees/Standard Poodle",
          "Greater Swiss Mountain Dog",
          "Greater Swiss Mountain Dog Mix",
          "Greater Swiss Mountain Dog/Pointer",
          "Greyhound",
          "Greyhound Mix",
          "Greyhound/Airedale Terrier",
          "Greyhound/Australian Cattle Dog",
          "Greyhound/Border Collie",
          "Greyhound/Border Terrier",
          "Greyhound/Dalmatian",
          "Greyhound/German Shepherd",
          "Greyhound/Great Dane",
          "Greyhound/Labrador Retriever",
          "Greyhound/Pointer",
          "Greyhound/Saluki",
          "Greyhound/Weimaraner",
          "Harrier",
          "Harrier Mix",
          "Harrier/Catahoula",
          "Harrier/English Coonhound",
          "Harrier/German Shepherd",
          "Harrier/Great Dane",
          "Harrier/Labrador Retriever",
          "Harrier/Pit Bull",
          "Harrier/Pointer",
          "Havanese",
          "Havanese Mix",
          "Havanese/Miniature Poodle",
          "Hovawart",
          "Hovawart Mix",
          "Hovawart/Flat Coat Retriever",
          "Ibizan Hound",
          "Ibizan Hound Mix",
          "Ibizan Hound/Pit Bull",
          "Irish Setter Mix",
          "Irish Setter/Golden Retriever",
          "Irish Terrier",
          "Irish Terrier Mix",
          "Irish Terrier/Basset Hound",
          "Irish Terrier/Border Terrier",
          "Irish Terrier/Irish Wolfhound",
          "Irish Terrier/Labrador Retriever",
          "Irish Terrier/Norfolk Terrier",
          "Irish Wolfhound",
          "Irish Wolfhound Mix",
          "Irish Wolfhound/American Pit Bull Terrier",
          "Irish Wolfhound/Australian Shepherd",
          "Irish Wolfhound/Cardigan Welsh Corgi",
          "Irish Wolfhound/German Shepherd",
          "Irish Wolfhound/Great Dane",
          "Irish Wolfhound/Great Pyrenees",
          "Italian Greyhound",
          "Italian Greyhound Mix",
          "Italian Greyhound/Beagle",
          "Italian Greyhound/Cavalier Span",
          "Italian Greyhound/Chihuahua Shorthair",
          "Jack Russell Terrier",
          "Jack Russell Terrier Mix",
          "Jack Russell Terrier/American Staffordshire Terrier",
          "Jack Russell Terrier/Anatol Shepherd",
          "Jack Russell Terrier/Australian Cattle Dog",
          "Jack Russell Terrier/Australian Shepherd",
          "Jack Russell Terrier/Basenji",
          "Jack Russell Terrier/Basset Hound",
          "Jack Russell Terrier/Beagle",
          "Jack Russell Terrier/Border Collie",
          "Jack Russell Terrier/Boston Terrier",
          "Jack Russell Terrier/Brittany",
          "Jack Russell Terrier/Cairn Terrier",
          "Jack Russell Terrier/Cardigan Welsh Corgi",
          "Jack Russell Terrier/Cavalier Span",
          "Jack Russell Terrier/Chihuahua Longhair",
          "Jack Russell Terrier/Chihuahua Shorthair",
          "Jack Russell Terrier/Dachshund",
          "Jack Russell Terrier/Dachshund Wirehair",
          "Jack Russell Terrier/Italian Greyhound",
          "Jack Russell Terrier/Labrador Retriever",
          "Jack Russell Terrier/Maltese",
          "Jack Russell Terrier/Manchester Terrier",
          "Jack Russell Terrier/Miniature Poodle",
          "Jack Russell Terrier/Miniature Schnauzer",
          "Jack Russell Terrier/Papillon",
          "Jack Russell Terrier/Pembroke Welsh Corgi",
          "Jack Russell Terrier/Pit Bull",
          "Jack Russell Terrier/Pointer",
          "Jack Russell Terrier/Pug",
          "Jack Russell Terrier/Rat Terrier",
          "Jack Russell Terrier/Shetland Sheepdog",
          "Jack Russell Terrier/Shih Tzu",
          "Jack Russell Terrier/Standard Schnauzer",
          "Jack Russell Terrier/Unknown",
          "Jack Russell Terrier/Welsh Terrier",
          "Jack Russell Terrier/Whippet",
          "Jack Russell Terrier/Yorkshire Terrier",
          "Japanese Chin",
          "Japanese Chin Mix",
          "Jindo",
          "Jindo Mix",
          "Jindo/Labrador Retriever",
          "Jindo/Pembroke Welsh Corgi",
          "Jindo/Shiba Inu",
          "Jindo/Siberian Husky",
          "Kangal Mix",
          "Keeshond",
          "Keeshond Mix",
          "Keeshond/Finnish Spitz",
          "Kuvasz Mix",
          "Kuvasz/Labrador Retriever",
          "Labrador Retriever",
          "Labrador Retriever Mix",
          "Labrador Retriever/Akita",
          "Labrador Retriever/Alaskan Husky",
          "Labrador Retriever/Alaskan Malamute",
          "Labrador Retriever/American Bulldog",
          "Labrador Retriever/American Foxhound",
          "Labrador Retriever/American Pit Bull Terrier",
          "Labrador Retriever/American Staffordshire Terrier",
          "Labrador Retriever/Anatol Shepherd",
          "Labrador Retriever/Australian Cattle Dog",
          "Labrador Retriever/Australian Kelpie",
          "Labrador Retriever/Australian Shepherd",
          "Labrador Retriever/Basenji",
          "Labrador Retriever/Basset Hound",
          "Labrador Retriever/Beagle",
          "Labrador Retriever/Bearded Collie",
          "Labrador Retriever/Belgian Malinois",
          "Labrador Retriever/Bernese Mountain Dog",
          "Labrador Retriever/Black Mouth Cur",
          "Labrador Retriever/Black/Tan Hound",
          "Labrador Retriever/Bloodhound",
          "Labrador Retriever/Blue Lacy",
          "Labrador Retriever/Border Collie",
          "Labrador Retriever/Border Terrier",
          "Labrador Retriever/Boston Terrier",
          "Labrador Retriever/Boxer",
          "Labrador Retriever/Brittany",
          "Labrador Retriever/Bull Terrier Miniature",
          "Labrador Retriever/Bullmastiff",
          "Labrador Retriever/Cardigan Welsh Corgi",
          "Labrador Retriever/Catahoula",
          "Labrador Retriever/Chesa Bay Retr",
          "Labrador Retriever/Chihuahua Shorthair",
          "Labrador Retriever/Chinese Sharpei",
          "Labrador Retriever/Chow Chow",
          "Labrador Retriever/Cocker Spaniel",
          "Labrador Retriever/Collie Rough",
          "Labrador Retriever/Collie Smooth",
          "Labrador Retriever/Dachshund",
          "Labrador Retriever/Dachshund Wirehair",
          "Labrador Retriever/Dalmatian",
          "Labrador Retriever/Doberman Pinsch",
          "Labrador Retriever/English Bulldog",
          "Labrador Retriever/English Foxhound",
          "Labrador Retriever/English Pointer",
          "Labrador Retriever/English Springer Spaniel",
          "Labrador Retriever/Finnish Spitz",
          "Labrador Retriever/Flat Coat Retriever",
          "Labrador Retriever/German Shepherd",
          "Labrador Retriever/German Shorthair Pointer",
          "Labrador Retriever/Golden Retriever",
          "Labrador Retriever/Great Dane",
          "Labrador Retriever/Great Pyrenees",
          "Labrador Retriever/Greyhound",
          "Labrador Retriever/Harrier",
          "Labrador Retriever/Irish Setter",
          "Labrador Retriever/Irish Wolfhound",
          "Labrador Retriever/Italian Greyhound",
          "Labrador Retriever/Jack Russell Terrier",
          "Labrador Retriever/Labrador Retriever",
          "Labrador Retriever/Mastiff",
          "Labrador Retriever/Miniature Poodle",
          "Labrador Retriever/Newfoundland",
          "Labrador Retriever/Parson Russell Terrier",
          "Labrador Retriever/Patterdale Terr",
          "Labrador Retriever/Pekingese",
          "Labrador Retriever/Pembroke Welsh Corgi",
          "Labrador Retriever/Pharaoh Hound",
          "Labrador Retriever/Pit Bull",
          "Labrador Retriever/Plott Hound",
          "Labrador Retriever/Pointer",
          "Labrador Retriever/Pug",
          "Labrador Retriever/Queensland Heeler",
          "Labrador Retriever/Rat Terrier",
          "Labrador Retriever/Redbone Hound",
          "Labrador Retriever/Rhod Ridgeback",
          "Labrador Retriever/Rottweiler",
          "Labrador Retriever/Saluki",
          "Labrador Retriever/Shiba Inu",
          "Labrador Retriever/Siberian Husky",
          "Labrador Retriever/Smooth Fox Terrier",
          "Labrador Retriever/Spanish Water Dog",
          "Labrador Retriever/St. Bernard Rough Coat",
          "Labrador Retriever/St. Bernard Smooth Coat",
          "Labrador Retriever/Staffordshire",
          "Labrador Retriever/Standard Poodle",
          "Labrador Retriever/Standard Schnauzer",
          "Labrador Retriever/Treeing Walker Coonhound",
          "Labrador Retriever/Vizsla",
          "Labrador Retriever/Weimaraner",
          "Labrador Retriever/Whippet",
          "Lakeland Terrier Mix",
          "Landseer",
          "Landseer Mix",
          "Landseer/Border Collie",
          "Landseer/Collie Smooth",
          "Landseer/English Setter",
          "Landseer/Great Pyrenees",
          "Leonberger",
          "Leonberger Mix",
          "Leonberger/German Shepherd",
          "Lhasa Apso",
          "Lhasa Apso Mix",
          "Lhasa Apso/Border Terrier",
          "Lhasa Apso/Cairn Terrier",
          "Lhasa Apso/Cocker Spaniel",
          "Lhasa Apso/Dachshund",
          "Lhasa Apso/Havanese",
          "Lhasa Apso/Jack Russell Terrier",
          "Lhasa Apso/Miniature Poodle",
          "Lhasa Apso/Miniature Schnauzer",
          "Lhasa Apso/Pbgv",
          "Lhasa Apso/Pekingese",
          "Lhasa Apso/Shih Tzu",
          "Lhasa Apso/Standard Poodle",
          "Lhasa Apso/Toy Poodle",
          "Lhasa Apso/West Highland",
          "Lhasa Apso/Yorkshire Terrier",
          "Lowchen Mix",
          "Lowchen/Miniature Poodle",
          "Maltese",
          "Maltese Mix",
          "Maltese/Border Terrier",
          "Maltese/Chihuahua Shorthair",
          "Maltese/Cocker Spaniel",
          "Maltese/Dachshund",
          "Maltese/Dalmatian",
          "Maltese/Jack Russell Terrier",
          "Maltese/Lhasa Apso",
          "Maltese/Miniature Poodle",
          "Maltese/Papillon",
          "Maltese/Shih Tzu",
          "Maltese/Standard Poodle",
          "Maltese/Toy Poodle",
          "Maltese/Wirehaired Pointing Griffon",
          "Maltese/Yorkshire",
          "Maltese/Yorkshire Terrier",
          "Manchester Terrier",
          "Manchester Terrier Mix",
          "Manchester Terrier/Australian Kelpie",
          "Manchester Terrier/Beagle",
          "Manchester Terrier/Chihuahua Longhair",
          "Manchester Terrier/Chihuahua Shorthair",
          "Manchester Terrier/Dachshund",
          "Manchester Terrier/Jack Russell Terrier",
          "Manchester Terrier/Labrador Retriever",
          "Manchester Terrier/Miniature Pinscher",
          "Manchester Terrier/Norfolk Terrier",
          "Manchester Terrier/Pembroke Welsh Corgi",
          "Manchester Terrier/Toy Fox Terrier",
          "Mastiff",
          "Mastiff Mix",
          "Mastiff/Akita",
          "Mastiff/Anatol Shepherd",
          "Mastiff/Black Mouth Cur",
          "Mastiff/Bloodhound",
          "Mastiff/Boxer",
          "Mastiff/Cane Corso",
          "Mastiff/Chinese Sharpei",
          "Mastiff/Dutch Shepherd",
          "Mastiff/German Shepherd",
          "Mastiff/Great Dane",
          "Mastiff/Labrador Retriever",
          "Mastiff/Pit Bull",
          "Mastiff/Plott Hound",
          "Mastiff/Rottweiler",
          "Mastiff/Staffordshire",
          "Mexican Hairless",
          "Mexican Hairless Mix",
          "Mexican Hairless/Chihuahua Shorthair",
          "Miniature Pinscher",
          "Miniature Pinscher Mix",
          "Miniature Pinscher/Australian Cattle Dog",
          "Miniature Pinscher/Chihuahua Shorthair",
          "Miniature Pinscher/Dachshund",
          "Miniature Pinscher/Dachshund Wirehair",
          "Miniature Pinscher/Maltese",
          "Miniature Pinscher/Pomeranian",
          "Miniature Pinscher/Pug",
          "Miniature Pinscher/Smooth Fox Terrier",
          "Miniature Pinscher/Whippet",
          "Miniature Pinscher/Yorkshire Terrier",
          "Miniature Poodle",
          "Miniature Poodle Mix",
          "Miniature Poodle/American Eskimo",
          "Miniature Poodle/Australian Cattle Dog",
          "Miniature Poodle/Australian Shepherd",
          "Miniature Poodle/Beagle",
          "Miniature Poodle/Bichon Frise",
          "Miniature Poodle/Border Terrier",
          "Miniature Poodle/Cairn Terrier",
          "Miniature Poodle/Cavalier Span",
          "Miniature Poodle/Chihuahua Longhair",
          "Miniature Poodle/Chihuahua Shorthair",
          "Miniature Poodle/Cocker Spaniel",
          "Miniature Poodle/Dachshund",
          "Miniature Poodle/English Cocker Spaniel",
          "Miniature Poodle/Golden Retriever",
          "Miniature Poodle/Havanese",
          "Miniature Poodle/Italian Greyhound",
          "Miniature Poodle/Jack Russell Terrier",
          "Miniature Poodle/Labrador Retriever",
          "Miniature Poodle/Lhasa Apso",
          "Miniature Poodle/Maltese",
          "Miniature Poodle/Miniature Schnauzer",
          "Miniature Poodle/Pomeranian",
          "Miniature Poodle/Scottish Terrier",
          "Miniature Poodle/Shih Tzu",
          "Miniature Poodle/West Highland",
          "Miniature Poodle/Yorkshire Terrier",
          "Miniature Schnauzer",
          "Miniature Schnauzer Mix",
          "Miniature Schnauzer/Australian Cattle Dog",
          "Miniature Schnauzer/Beagle",
          "Miniature Schnauzer/Border Collie",
          "Miniature Schnauzer/Border Terrier",
          "Miniature Schnauzer/Cairn Terrier",
          "Miniature Schnauzer/Chihuahua Longhair",
          "Miniature Schnauzer/Chihuahua Shorthair",
          "Miniature Schnauzer/Cocker Spaniel",
          "Miniature Schnauzer/Dachshund",
          "Miniature Schnauzer/Dachshund Longhair",
          "Miniature Schnauzer/Dachshund Wirehair",
          "Miniature Schnauzer/Jack Russell Terrier",
          "Miniature Schnauzer/Labrador Retriever",
          "Miniature Schnauzer/Lhasa Apso",
          "Miniature Schnauzer/Maltese",
          "Miniature Schnauzer/Miniature Poodle",
          "Miniature Schnauzer/Pug",
          "Miniature Schnauzer/Queensland Heeler",
          "Miniature Schnauzer/Scottish Terrier",
          "Miniature Schnauzer/Shih Tzu",
          "Miniature Schnauzer/Soft Coated Wheaten Terrier",
          "Miniature Schnauzer/Standard Poodle",
          "Miniature Schnauzer/Toy Poodle",
          "Miniature Schnauzer/West Highland",
          "Miniature Schnauzer/Whippet",
          "Miniature Schnauzer/Wire Hair Fox Terrier",
          "Miniature Schnauzer/Yorkshire Terrier",
          "Neapolitan Mastiff",
          "Neapolitan Mastiff Mix",
          "Neapolitan Mastiff/Pit Bull",
          "Newfoundland",
          "Newfoundland Mix",
          "Newfoundland/Australian Cattle Dog",
          "Newfoundland/Border Collie",
          "Newfoundland/Great Pyrenees",
          "Newfoundland/Labrador Retriever",
          "Newfoundland/Queensland Heeler",
          "Norfolk Terrier",
          "Norfolk Terrier Mix",
          "Norfolk Terrier/Border Terrier",
          "Norfolk Terrier/Bruss Griffon",
          "Norfolk Terrier/Cairn Terrier",
          "Norfolk Terrier/Cardigan Welsh Corgi",
          "Norfolk Terrier/Chihuahua Shorthair",
          "Norfolk Terrier/Dachshund",
          "Norfolk Terrier/Dachshund Wirehair",
          "Norfolk Terrier/German Shepherd",
          "Norfolk Terrier/Lhasa Apso",
          "Norfolk Terrier/Miniature Poodle",
          "Norfolk Terrier/Pug",
          "Norfolk Terrier/Standard Poodle",
          "Norfolk Terrier/Yorkshire Terrier",
          "Norwegian Elkhound Mix",
          "Norwegian Elkhound/Alaskan Husky",
          "Norwich Terrier",
          "Norwich Terrier Mix",
          "Norwich Terrier/Australian Cattle Dog",
          "Norwich Terrier/Bichon Frise",
          "Norwich Terrier/Border Terrier",
          "Norwich Terrier/Cairn Terrier",
          "Norwich Terrier/Chihuahua Longhair",
          "Norwich Terrier/Chihuahua Shorthair",
          "Norwich Terrier/Yorkshire Terrier",
          "Nova Scotia Duck Tolling Retriever",
          "Nova Scotia Duck Tolling Retriever Mix",
          "Nova Scotia Duck Tolling Retriever/Golden Retriever",
          "Old English Bulldog",
          "Old English Bulldog Mix",
          "Old English Sheepdog",
          "Old English Sheepdog Mix",
          "Otterhound Mix",
          "Papillon",
          "Papillon Mix",
          "Papillon/Australian Cattle Dog",
          "Papillon/Border Collie",
          "Papillon/Brittany",
          "Papillon/Chihuahua Longhair",
          "Papillon/Chihuahua Shorthair",
          "Papillon/Dachshund",
          "Papillon/Miniature Poodle",
          "Papillon/Pembroke Welsh Corgi",
          "Papillon/Pomeranian",
          "Papillon/Skye Terrier",
          "Papillon/Yorkshire Terrier",
          "Parson Russell Terrier",
          "Parson Russell Terrier Mix",
          "Parson Russell Terrier/Beagle",
          "Parson Russell Terrier/Chihuahua Shorthair",
          "Patterdale Terr Mix",
          "Patterdale Terr/Chihuahua Shorthair",
          "Patterdale Terr/Labrador Retriever",
          "Pbgv",
          "Pbgv Mix",
          "Pbgv/Pit Bull",
          "Pekingese",
          "Pekingese Mix",
          "Pekingese/Boston Terrier",
          "Pekingese/Cardigan Welsh Corgi",
          "Pekingese/Catahoula",
          "Pekingese/Cavalier Span",
          "Pekingese/Chihuahua Shorthair",
          "Pekingese/Jack Russell Terrier",
          "Pekingese/Lhasa Apso",
          "Pekingese/Maltese",
          "Pekingese/Miniature Poodle",
          "Pekingese/Norfolk Terrier",
          "Pekingese/Pomeranian",
          "Pekingese/Pug",
          "Pekingese/Shih Tzu",
          "Pekingese/Tibetan Terrier",
          "Pekingese/Toy Poodle",
          "Pembroke Welsh Corgi",
          "Pembroke Welsh Corgi Mix",
          "Pembroke Welsh Corgi/Anatol Shepherd",
          "Pembroke Welsh Corgi/Australian Cattle Dog",
          "Pembroke Welsh Corgi/Australian Shepherd",
          "Pembroke Welsh Corgi/Basset Hound",
          "Pembroke Welsh Corgi/Brittany",
          "Pembroke Welsh Corgi/Chihuahua Longhair",
          "Pembroke Welsh Corgi/Chihuahua Shorthair",
          "Pembroke Welsh Corgi/Chinese Sharpei",
          "Pembroke Welsh Corgi/Collie Smooth",
          "Pembroke Welsh Corgi/Dachshund",
          "Pembroke Welsh Corgi/German Shepherd",
          "Pembroke Welsh Corgi/Golden Retriever",
          "Pembroke Welsh Corgi/Labrador Retriever",
          "Pembroke Welsh Corgi/Pit Bull",
          "Pharaoh Hound",
          "Pharaoh Hound Mix",
          "Pharaoh Hound/Australian Cattle Dog",
          "Pharaoh Hound/Black Mouth Cur",
          "Pharaoh Hound/Border Collie",
          "Pharaoh Hound/Boxer",
          "Picardy Sheepdog",
          "Picardy Sheepdog Mix",
          "Pit Bull",
          "Pit Bull Mix",
          "Pit Bull/Akita",
          "Pit Bull/Alaskan Husky",
          "Pit Bull/American Bulldog",
          "Pit Bull/American Foxhound",
          "Pit Bull/Anatol Shepherd",
          "Pit Bull/Australian Cattle Dog",
          "Pit Bull/Australian Kelpie",
          "Pit Bull/Basset Hound",
          "Pit Bull/Beagle",
          "Pit Bull/Belgian Malinois",
          "Pit Bull/Black Mouth Cur",
          "Pit Bull/Blue Lacy",
          "Pit Bull/Border Collie",
          "Pit Bull/Boston Terrier",
          "Pit Bull/Boxer",
          "Pit Bull/Bull Terrier",
          "Pit Bull/Bulldog",
          "Pit Bull/Bullmastiff",
          "Pit Bull/Cardigan Welsh Corgi",
          "Pit Bull/Carolina Dog",
          "Pit Bull/Catahoula",
          "Pit Bull/Chihuahua Shorthair",
          "Pit Bull/Chinese Sharpei",
          "Pit Bull/Chow Chow",
          "Pit Bull/Dachshund",
          "Pit Bull/Dalmatian",
          "Pit Bull/Doberman Pinsch",
          "Pit Bull/Dogue De Bordeaux",
          "Pit Bull/English Bulldog",
          "Pit Bull/Flat Coat Retriever",
          "Pit Bull/French Bulldog",
          "Pit Bull/German Shepherd",
          "Pit Bull/Jack Russell Terrier",
          "Pit Bull/Jindo",
          "Pit Bull/Labrador Retriever",
          "Pit Bull/Mastiff",
          "Pit Bull/Pharaoh Hound",
          "Pit Bull/Pit Bull",
          "Pit Bull/Plott Hound",
          "Pit Bull/Pointer",
          "Pit Bull/Pug",
          "Pit Bull/Queensland Heeler",
          "Pit Bull/Rat Terrier",
          "Pit Bull/Rhod Ridgeback",
          "Pit Bull/Rottweiler",
          "Pit Bull/Siberian Husky",
          "Pit Bull/St. Bernard Smooth Coat",
          "Pit Bull/Vizsla",
          "Pit Bull/Weimaraner",
          "Plott Hound",
          "Plott Hound Mix",
          "Plott Hound/Australian Cattle Dog",
          "Plott Hound/Beagle",
          "Plott Hound/Black/Tan Hound",
          "Plott Hound/Blue Lacy",
          "Plott Hound/Border Collie",
          "Plott Hound/Boxer",
          "Plott Hound/Bull Terrier",
          "Plott Hound/Carolina Dog",
          "Plott Hound/Catahoula",
          "Plott Hound/Dachshund",
          "Plott Hound/Dutch Shepherd",
          "Plott Hound/German Shepherd",
          "Plott Hound/Great Pyrenees",
          "Plott Hound/Labrador Retriever",
          "Plott Hound/Mastiff",
          "Plott Hound/Pit Bull",
          "Plott Hound/Rhod Ridgeback",
          "Plott Hound/Rottweiler",
          "Plott Hound/Whippet",
          "Podengo Pequeno Mix",
          "Pointer",
          "Pointer Mix",
          "Pointer/American Bulldog",
          "Pointer/American Pit Bull Terrier",
          "Pointer/American Staffordshire Terrier",
          "Pointer/Anatol Shepherd",
          "Pointer/Australian Cattle Dog",
          "Pointer/Australian Kelpie",
          "Pointer/Australian Shepherd",
          "Pointer/Basenji",
          "Pointer/Basset Hound",
          "Pointer/Beagle",
          "Pointer/Blue Lacy",
          "Pointer/Border Collie",
          "Pointer/Boston Terrier",
          "Pointer/Boxer",
          "Pointer/Brittany",
          "Pointer/Bull Terrier",
          "Pointer/Catahoula",
          "Pointer/Chihuahua Longhair",
          "Pointer/Chinese Sharpei",
          "Pointer/Collie Smooth",
          "Pointer/Dalmatian",
          "Pointer/German Shorthair Pointer",
          "Pointer/Great Dane",
          "Pointer/Great Pyrenees",
          "Pointer/Harrier",
          "Pointer/Ibizan Hound",
          "Pointer/Jack Russell Terrier",
          "Pointer/Labrador Retriever",
          "Pointer/Pit Bull",
          "Pointer/Plott Hound",
          "Pointer/Queensland Heeler",
          "Pointer/Rat Terrier",
          "Pointer/Rhod Ridgeback",
          "Pointer/Staffordshire",
          "Pomeranian",
          "Pomeranian Mix",
          "Pomeranian/American Eskimo",
          "Pomeranian/Beagle",
          "Pomeranian/Border Terrier",
          "Pomeranian/Cairn Terrier",
          "Pomeranian/Chihuahua Longhair",
          "Pomeranian/Chihuahua Shorthair",
          "Pomeranian/Cocker Spaniel",
          "Pomeranian/Jack Russell Terrier",
          "Pomeranian/Schipperke",
          "Pomeranian/Shetland Sheepdog",
          "Port Water Dog",
          "Port Water Dog Mix",
          "Presa Canario",
          "Presa Canario Mix",
          "Pug",
          "Pug Mix",
          "Pug/Beagle",
          "Pug/Border Terrier",
          "Pug/Boston Terrier",
          "Pug/Boxer",
          "Pug/Cairn Terrier",
          "Pug/Chihuahua Longhair",
          "Pug/Chihuahua Shorthair",
          "Pug/Cocker Spaniel",
          "Pug/Dachshund",
          "Pug/French Bulldog",
          "Pug/Italian Greyhound",
          "Pug/Labrador Retriever",
          "Pug/Miniature Pinscher",
          "Pug/Miniature Schnauzer",
          "Pug/Pekingese",
          "Pug/Pit Bull",
          "Pug/Pomeranian",
          "Pug/Schipperke",
          "Pug/Staffordshire",
          "Queensland Heeler",
          "Queensland Heeler Mix",
          "Queensland Heeler/Australian Cattle Dog",
          "Queensland Heeler/Basset Hound",
          "Queensland Heeler/Border Collie",
          "Queensland Heeler/Cardigan Welsh Corgi",
          "Queensland Heeler/Chihuahua Shorthair",
          "Queensland Heeler/Dachshund",
          "Queensland Heeler/German Shepherd",
          "Queensland Heeler/Great Dane",
          "Queensland Heeler/Great Pyrenees",
          "Queensland Heeler/Labrador Retriever",
          "Queensland Heeler/Parson Russell Terrier",
          "Queensland Heeler/Pit Bull",
          "Queensland Heeler/Pointer",
          "Queensland Heeler/Shetland Sheepdog",
          "Rat Terrier",
          "Rat Terrier Mix",
          "Rat Terrier/Australian Cattle Dog",
          "Rat Terrier/Basenji",
          "Rat Terrier/Basset Hound",
          "Rat Terrier/Beagle",
          "Rat Terrier/Border Collie",
          "Rat Terrier/Boston Terrier",
          "Rat Terrier/Cairn Terrier",
          "Rat Terrier/Cardigan Welsh Corgi",
          "Rat Terrier/Chihuahua Longhair",
          "Rat Terrier/Chihuahua Shorthair",
          "Rat Terrier/Dachshund",
          "Rat Terrier/English Pointer",
          "Rat Terrier/Jack Russell Terrier",
          "Rat Terrier/Labrador Retriever",
          "Rat Terrier/Lhasa Apso",
          "Rat Terrier/Miniature Pinscher",
          "Rat Terrier/Miniature Poodle",
          "Rat Terrier/Pekingese",
          "Rat Terrier/Pembroke Welsh Corgi",
          "Rat Terrier/Pit Bull",
          "Rat Terrier/Pointer",
          "Rat Terrier/Pug",
          "Rat Terrier/Queensland Heeler",
          "Rat Terrier/Smooth Fox Terrier",
          "Redbone Hound",
          "Redbone Hound Mix",
          "Redbone Hound/Anatol Shepherd",
          "Redbone Hound/Australian Cattle Dog",
          "Redbone Hound/Boxer",
          "Redbone Hound/Catahoula",
          "Redbone Hound/Dachshund",
          "Redbone Hound/Labrador Retriever",
          "Redbone Hound/Redbone Hound",
          "Redbone Hound/Rhod Ridgeback",
          "Rhod Ridgeback",
          "Rhod Ridgeback Mix",
          "Rhod Ridgeback/Australian Cattle Dog",
          "Rhod Ridgeback/Boxer",
          "Rhod Ridgeback/Bullmastiff",
          "Rhod Ridgeback/Chow Chow",
          "Rhod Ridgeback/German Shepherd",
          "Rhod Ridgeback/Great Dane",
          "Rhod Ridgeback/Harrier",
          "Rhod Ridgeback/Labrador Retriever",
          "Rhod Ridgeback/Mastiff",
          "Rhod Ridgeback/Pit Bull",
          "Rhod Ridgeback/Plott Hound",
          "Rhod Ridgeback/Pointer",
          "Rhod Ridgeback/Redbone Hound",
          "Rhod Ridgeback/Vizsla",
          "Rottweiler",
          "Rottweiler Mix",
          "Rottweiler/Australian Cattle Dog",
          "Rottweiler/Australian Kelpie",
          "Rottweiler/Australian Shepherd",
          "Rottweiler/Basset Hound",
          "Rottweiler/Beagle",
          "Rottweiler/Blue Lacy",
          "Rottweiler/Boxer",
          "Rottweiler/Chinese Sharpei",
          "Rottweiler/Chow Chow",
          "Rottweiler/Dachshund",
          "Rottweiler/Doberman Pinsch",
          "Rottweiler/English Bulldog",
          "Rottweiler/English Coonhound",
          "Rottweiler/German Shepherd",
          "Rottweiler/Great Pyrenees",
          "Rottweiler/Labrador Retriever",
          "Rottweiler/Pit Bull",
          "Rottweiler/Plott Hound",
          "Rottweiler/Rhod Ridgeback",
          "Rottweiler/Siberian Husky",
          "Rottweiler/Staffordshire",
          "Saluki",
          "Saluki Mix",
          "Saluki/Doberman Pinsch",
          "Saluki/Labrador Retriever",
          "Samoyed",
          "Samoyed Mix",
          "Schipperke Mix",
          "Schipperke/Catahoula",
          "Schipperke/Chihuahua Shorthair",
          "Schnauzer Giant",
          "Schnauzer Giant Mix",
          "Schnauzer Giant/Labrador Retriever",
          "Schnauzer Giant/Otterhound",
          "Scottish Terrier",
          "Scottish Terrier Mix",
          "Scottish Terrier/Basset Hound",
          "Scottish Terrier/Cairn Terrier",
          "Scottish Terrier/Chihuahua Shorthair",
          "Scottish Terrier/Dachshund",
          "Scottish Terrier/Miniature Poodle",
          "Scottish Terrier/Standard Schnauzer",
          "Sealyham Terr Mix",
          "Shetland Sheepdog",
          "Shetland Sheepdog Mix",
          "Shetland Sheepdog/Basenji",
          "Shetland Sheepdog/Border Collie",
          "Shetland Sheepdog/Brittany",
          "Shetland Sheepdog/Cardigan Welsh Corgi",
          "Shetland Sheepdog/Cavalier Span",
          "Shetland Sheepdog/Chihuahua Longhair",
          "Shetland Sheepdog/Dachshund Longhair",
          "Shetland Sheepdog/German Shepherd",
          "Shetland Sheepdog/Italian Greyhound",
          "Shetland Sheepdog/Keeshond",
          "Shiba Inu",
          "Shiba Inu Mix",
          "Shiba Inu/Australian Kelpie",
          "Shiba Inu/Chinese Sharpei",
          "Shiba Inu/Chow Chow",
          "Shiba Inu/German Shepherd",
          "Shiba Inu/Siberian Husky",
          "Shih Tzu",
          "Shih Tzu Mix",
          "Shih Tzu/Affenpinscher",
          "Shih Tzu/Australian Shepherd",
          "Shih Tzu/Bichon Frise",
          "Shih Tzu/Border Terrier",
          "Shih Tzu/Bruss Griffon",
          "Shih Tzu/Cavalier Span",
          "Shih Tzu/Chihuahua Longhair",
          "Shih Tzu/Chihuahua Shorthair",
          "Shih Tzu/Cocker Spaniel",
          "Shih Tzu/Dachshund",
          "Shih Tzu/Dachshund Longhair",
          "Shih Tzu/Havanese",
          "Shih Tzu/Maltese",
          "Shih Tzu/Miniature Poodle",
          "Shih Tzu/Miniature Schnauzer",
          "Shih Tzu/Norfolk Terrier",
          "Shih Tzu/Papillon",
          "Shih Tzu/Pekingese",
          "Shih Tzu/Pit Bull",
          "Shih Tzu/Pomeranian",
          "Shih Tzu/Pug",
          "Shih Tzu/Toy Poodle",
          "Shih Tzu/Yorkshire Terrier",
          "Siberian Husky",
          "Siberian Husky Mix",
          "Siberian Husky/Akita",
          "Siberian Husky/Alaskan Malamute",
          "Siberian Husky/American Pit Bull Terrier",
          "Siberian Husky/Anatol Shepherd",
          "Siberian Husky/Australian Cattle Dog",
          "Siberian Husky/Australian Shepherd",
          "Siberian Husky/Beagle",
          "Siberian Husky/Border Collie",
          "Siberian Husky/Cardigan Welsh Corgi",
          "Siberian Husky/Catahoula",
          "Siberian Husky/Chinese Sharpei",
          "Siberian Husky/French Bulldog",
          "Siberian Husky/German Shepherd",
          "Siberian Husky/Great Pyrenees",
          "Siberian Husky/Labrador Retriever",
          "Siberian Husky/Pit Bull",
          "Siberian Husky/Rottweiler",
          "Silky Terrier",
          "Silky Terrier Mix",
          "Silky Terrier/Maltese",
          "Silky Terrier/Yorkshire Terrier",
          "Skye Terrier",
          "Skye Terrier Mix",
          "Skye Terrier/Miniature Poodle",
          "Smooth Fox Terrier",
          "Smooth Fox Terrier Mix",
          "Smooth Fox Terrier/Basenji",
          "Smooth Fox Terrier/Beagle",
          "Smooth Fox Terrier/Border Collie",
          "Smooth Fox Terrier/Cardigan Welsh Corgi",
          "Smooth Fox Terrier/Chihuahua Shorthair",
          "Smooth Fox Terrier/French Bulldog",
          "Smooth Fox Terrier/Jack Russell Terrier",
          "Smooth Fox Terrier/Labrador Retriever",
          "Smooth Fox Terrier/Rat Terrier",
          "Soft Coated Wheaten Terrier",
          "Soft Coated Wheaten Terrier Mix",
          "Soft Coated Wheaten Terrier/Border Terrier",
          "Soft Coated Wheaten Terrier/Boxer",
          "Soft Coated Wheaten Terrier/Chihuahua Shorthair",
          "Soft Coated Wheaten Terrier/Dandie Dinmont",
          "Soft Coated Wheaten Terrier/Labrador Retriever",
          "Soft Coated Wheaten Terrier/Miniature Poodle",
          "Soft Coated Wheaten Terrier/Standard Poodle",
          "Soft Coated Wheaten Terrier/Yorkshire Terrier",
          "Spanish Mastiff Mix",
          "Spanish Water Dog",
          "Spinone Italiano Mix",
          "St. Bernard Rough Coat",
          "St. Bernard Rough Coat Mix",
          "St. Bernard Rough Coat/Anatol Shepherd",
          "St. Bernard Rough Coat/Beagle",
          "St. Bernard Rough Coat/Border Collie",
          "St. Bernard Rough Coat/German Shepherd",
          "St. Bernard Rough Coat/Labrador Retriever",
          "St. Bernard Rough Coat/Standard Schnauzer",
          "St. Bernard Smooth Coat",
          "St. Bernard Smooth Coat Mix",
          "St. Bernard Smooth Coat/Anatol Shepherd",
          "Staffordshire",
          "Staffordshire Mix",
          "Staffordshire/American Bulldog",
          "Staffordshire/Australian Cattle Dog",
          "Staffordshire/Basenji",
          "Staffordshire/Basset Hound",
          "Staffordshire/Beagle",
          "Staffordshire/Blue Lacy",
          "Staffordshire/Border Collie",
          "Staffordshire/Boston Terrier",
          "Staffordshire/Boxer",
          "Staffordshire/Bull Terrier",
          "Staffordshire/Bulldog",
          "Staffordshire/Chinese Sharpei",
          "Staffordshire/Dachshund",
          "Staffordshire/English Bulldog",
          "Staffordshire/French Bulldog",
          "Staffordshire/Labrador Retriever",
          "Staffordshire/Mastiff",
          "Staffordshire/Pit Bull",
          "Staffordshire/Plott Hound",
          "Staffordshire/Rat Terrier",
          "Standard Poodle",
          "Standard Poodle Mix",
          "Standard Poodle/Australian Shepherd",
          "Standard Poodle/Golden Retriever",
          "Standard Poodle/Jack Russell Terrier",
          "Standard Poodle/Labrador Retriever",
          "Standard Poodle/Whippet",
          "Standard Schnauzer",
          "Standard Schnauzer Mix",
          "Standard Schnauzer/Border Terrier",
          "Standard Schnauzer/German Shepherd",
          "Standard Schnauzer/Labrador Retriever",
          "Standard Schnauzer/Miniature Poodle",
          "Standard Schnauzer/Soft Coated Wheaten Terrier",
          "Standard Schnauzer/Standard Poodle",
          "Standard Schnauzer/Toy Poodle",
          "Sussex Span Mix",
          "Swedish Vallhund",
          "Swedish Vallhund Mix",
          "Swedish Vallhund/Chihuahua Longhair",
          "Swedish Vallhund/Miniature Poodle",
          "Swiss Hound Mix",
          "Swiss Hound/Pit Bull",
          "Tibetan Mastiff Mix",
          "Tibetan Spaniel",
          "Tibetan Spaniel Mix",
          "Tibetan Spaniel/Beagle",
          "Tibetan Spaniel/Chihuahua Longhair",
          "Tibetan Spaniel/Dachshund Longhair",
          "Tibetan Terrier",
          "Tibetan Terrier Mix",
          "Tibetan Terrier/Lhasa Apso",
          "Toy Fox Terrier",
          "Toy Fox Terrier Mix",
          "Toy Fox Terrier/Chihuahua Shorthair",
          "Toy Fox Terrier/Dachshund",
          "Toy Fox Terrier/Yorkshire Terrier",
          "Toy Poodle",
          "Toy Poodle Mix",
          "Toy Poodle/Bichon Frise",
          "Toy Poodle/Chihuahua Shorthair",
          "Toy Poodle/Cocker Spaniel",
          "Toy Poodle/Dachshund",
          "Toy Poodle/Lhasa Apso",
          "Toy Poodle/Maltese",
          "Toy Poodle/Miniature Schnauzer",
          "Toy Poodle/Yorkshire Terrier",
          "Treeing Cur",
          "Treeing Cur Mix",
          "Treeing Tennesse Brindle",
          "Treeing Tennesse Brindle Mix",
          "Treeing Walker Coonhound",
          "Treeing Walker Coonhound Mix",
          "Treeing Walker Coonhound/Australian Cattle Dog",
          "Treeing Walker Coonhound/Dachshund",
          "Treeing Walker Coonhound/German Shepherd",
          "Treeing Walker Coonhound/Great Dane",
          "Treeing Walker Coonhound/Labrador Retriever",
          "Treeing Walker Coonhound/Plott Hound",
          "Unknown",
          "Unknown Mix",
          "Vizsla",
          "Vizsla Mix",
          "Vizsla/Beagle",
          "Vizsla/Boxer",
          "Vizsla/Catahoula",
          "Vizsla/Dachshund",
          "Vizsla/German Shepherd",
          "Vizsla/Golden Retriever",
          "Vizsla/Great Pyrenees",
          "Vizsla/Greyhound",
          "Vizsla/Labrador Retriever",
          "Vizsla/Pit Bull",
          "Vizsla/Pointer",
          "Vizsla/Rhod Ridgeback",
          "Vizsla/Staffordshire",
          "Weimaraner",
          "Weimaraner Mix",
          "Weimaraner/American Bulldog",
          "Weimaraner/Labrador Retriever",
          "Weimaraner/Pit Bull",
          "Weimaraner/Plott Hound",
          "Weimaraner/Vizsla",
          "Welsh Springer Spaniel",
          "Welsh Springer Spaniel Mix",
          "Welsh Springer Spaniel/Labrador Retriever",
          "Welsh Terrier",
          "Welsh Terrier Mix",
          "Welsh Terrier/Miniature Poodle",
          "Welsh Terrier/Wire Hair Fox Terrier",
          "West Highland",
          "West Highland Mix",
          "West Highland/Cairn Terrier",
          "West Highland/Chihuahua Shorthair",
          "West Highland/Lhasa Apso",
          "West Highland/Maltese",
          "West Highland/Miniature Poodle",
          "West Highland/Patterdale Terr",
          "West Highland/Shetland Sheepdog",
          "West Highland/Soft Coated Wheaten Terrier",
          "West Highland/Standard Poodle",
          "West Highland/Toy Fox Terrier",
          "West Highland/Yorkshire Terrier",
          "Whippet",
          "Whippet Mix",
          "Whippet/Anatol Shepherd",
          "Whippet/Australian Cattle Dog",
          "Whippet/Australian Kelpie",
          "Whippet/Beagle",
          "Whippet/Borzoi",
          "Whippet/Catahoula",
          "Whippet/Chihuahua Shorthair",
          "Whippet/Dachshund",
          "Whippet/German Shepherd",
          "Whippet/Jack Russell Terrier",
          "Whippet/Labrador Retriever",
          "Whippet/Miniature Pinscher",
          "Whippet/Pit Bull",
          "Whippet/Plott Hound",
          "Whippet/Rat Terrier",
          "Whippet/Shetland Sheepdog",
          "Whippet/Treeing Cur",
          "Whippet/Whippet",
          "Wire Hair Fox Terrier",
          "Wire Hair Fox Terrier Mix",
          "Wire Hair Fox Terrier/Beagle",
          "Wire Hair Fox Terrier/Chihuahua Shorthair",
          "Wire Hair Fox Terrier/Dachshund",
          "Wire Hair Fox Terrier/German Shepherd",
          "Wire Hair Fox Terrier/Golden Retriever",
          "Wire Hair Fox Terrier/Miniature Schnauzer",
          "Wire Hair Fox Terrier/Standard Schnauzer",
          "Wirehaired Pointing Griffon",
          "Wirehaired Pointing Griffon Mix",
          "Wolf Hybrid Mix",
          "Yorkshire Terrier",
          "Yorkshire Terrier Mix",
          "Yorkshire Terrier/Australian Terrier",
          "Yorkshire Terrier/Border Terrier",
          "Yorkshire Terrier/Bruss Griffon",
          "Yorkshire Terrier/Cairn Terrier",
          "Yorkshire Terrier/Chihuahua Longhair",
          "Yorkshire Terrier/Chihuahua Shorthair",
          "Yorkshire Terrier/Chinese Crested",
          "Yorkshire Terrier/Dachshund",
          "Yorkshire Terrier/Dachshund Longhair",
          "Yorkshire Terrier/Dachshund Wirehair",
          "Yorkshire Terrier/Havanese",
          "Yorkshire Terrier/Jack Russell Terrier",
          "Yorkshire Terrier/Lhasa Apso",
          "Yorkshire Terrier/Maltese",
          "Yorkshire Terrier/Miniature Poodle",
          "Yorkshire Terrier/Miniature Schnauzer",
          "Yorkshire Terrier/Norfolk Terrier",
          "Yorkshire Terrier/Parson Russell Terrier",
          "Yorkshire Terrier/Pomeranian",
          "Yorkshire Terrier/Rat Terrier",
          "Yorkshire Terrier/Scottish Terrier",
          "Yorkshire Terrier/Shih Tzu",
          "Yorkshire Terrier/Soft Coated Wheaten Terrier",
          "Yorkshire Terrier/Standard Poodle",
          "Yorkshire Terrier/Toy Poodle",
          "Yorkshire Terrier/Yorkshire Terrier"
         ],
         "xaxis": "x",
         "y": [
          1,
          7,
          1,
          1,
          2,
          25,
          1,
          2,
          1,
          2,
          1,
          6,
          16,
          54,
          6,
          3,
          7,
          1,
          3,
          1,
          2,
          4,
          60,
          115,
          3,
          3,
          2,
          1,
          26,
          8,
          1,
          1,
          15,
          25,
          1,
          3,
          1,
          3,
          9,
          2,
          1,
          62,
          413,
          2,
          3,
          1,
          6,
          1,
          2,
          1,
          13,
          3,
          25,
          2,
          1,
          11,
          26,
          1,
          1,
          2,
          5,
          19,
          1,
          2,
          1,
          1,
          109,
          292,
          1,
          2,
          2,
          2,
          2,
          2,
          4,
          2,
          1,
          1,
          65,
          246,
          4,
          1,
          3,
          1,
          1,
          3,
          1,
          9,
          2,
          1,
          1,
          1,
          76,
          386,
          2,
          4,
          2,
          1,
          1,
          2,
          6,
          1,
          3,
          2,
          1,
          7,
          2,
          29,
          2,
          28,
          2,
          4,
          1,
          1,
          1,
          296,
          1449,
          2,
          1,
          2,
          2,
          5,
          3,
          3,
          11,
          5,
          1,
          17,
          8,
          1,
          1,
          2,
          26,
          1,
          14,
          3,
          1,
          6,
          11,
          2,
          1,
          4,
          4,
          1,
          2,
          6,
          3,
          1,
          1,
          53,
          3,
          1,
          7,
          6,
          89,
          1,
          2,
          2,
          5,
          40,
          5,
          12,
          1,
          4,
          3,
          2,
          3,
          3,
          13,
          1,
          1,
          2,
          30,
          343,
          1,
          2,
          2,
          6,
          5,
          4,
          2,
          3,
          1,
          1,
          1,
          3,
          1,
          4,
          2,
          8,
          4,
          8,
          1,
          3,
          1,
          2,
          1,
          3,
          88,
          636,
          1,
          7,
          8,
          1,
          4,
          1,
          24,
          3,
          1,
          5,
          3,
          1,
          5,
          9,
          4,
          2,
          1,
          1,
          1,
          1,
          1,
          1,
          1,
          15,
          2,
          10,
          1,
          1,
          37,
          2,
          1,
          3,
          5,
          5,
          1,
          1,
          2,
          3,
          1,
          1,
          1,
          3,
          19,
          1,
          4,
          69,
          4,
          1,
          1,
          1,
          2,
          7,
          1,
          2,
          1,
          2,
          3,
          57,
          144,
          1,
          7,
          2,
          10,
          1,
          1,
          1,
          3,
          5,
          2,
          5,
          2,
          1,
          1,
          1,
          2,
          1,
          1,
          18,
          1,
          11,
          4,
          1,
          109,
          531,
          2,
          11,
          1,
          1,
          12,
          4,
          1,
          1,
          2,
          9,
          1,
          3,
          9,
          1,
          1,
          36,
          2,
          1,
          45,
          1,
          1,
          20,
          1,
          2,
          10,
          50,
          1,
          1,
          2,
          3,
          1,
          1,
          8,
          2,
          5,
          27,
          3,
          9,
          1,
          1,
          5,
          3,
          3,
          8,
          1,
          3,
          30,
          1,
          5,
          31,
          80,
          2,
          2,
          7,
          3,
          3,
          1,
          2,
          1,
          5,
          2,
          2,
          6,
          29,
          1,
          1,
          20,
          62,
          1,
          2,
          1,
          3,
          36,
          355,
          1,
          2,
          2,
          4,
          2,
          1,
          2,
          5,
          7,
          2,
          1,
          2,
          7,
          8,
          1,
          1,
          10,
          2,
          11,
          1,
          1,
          1,
          1,
          1,
          20,
          123,
          2,
          2,
          1,
          2,
          1,
          12,
          1,
          15,
          35,
          1,
          2,
          1,
          27,
          165,
          6,
          1,
          1,
          3,
          1,
          2,
          2,
          1,
          1,
          1,
          5,
          12,
          2,
          1,
          2,
          6,
          25,
          1,
          1,
          2,
          1,
          1,
          1,
          7,
          116,
          863,
          3,
          2,
          1,
          1,
          1,
          28,
          2,
          14,
          3,
          1,
          7,
          4,
          2,
          2,
          4,
          1,
          6,
          1,
          2,
          10,
          8,
          1,
          5,
          1,
          1,
          1,
          1,
          38,
          1,
          1,
          28,
          4,
          2,
          101,
          2,
          1,
          3,
          3,
          4,
          3,
          2,
          2,
          1,
          3,
          1,
          1,
          5,
          38,
          192,
          1,
          1,
          1,
          2,
          14,
          1,
          1,
          1,
          1,
          1,
          2,
          2,
          1,
          1,
          1,
          4,
          1,
          1,
          9,
          54,
          116,
          1,
          2,
          12,
          3,
          2,
          2,
          1,
          2,
          3,
          2,
          4,
          1,
          1,
          188,
          902,
          1,
          4,
          1,
          4,
          4,
          10,
          1,
          18,
          4,
          3,
          2,
          3,
          2,
          1,
          2,
          7,
          11,
          2,
          2,
          1,
          1,
          1,
          3,
          5,
          4,
          1,
          3,
          1,
          2,
          1,
          75,
          5,
          2,
          1,
          83,
          4,
          10,
          1,
          2,
          1,
          2,
          6,
          1,
          1,
          11,
          1,
          1,
          1,
          9,
          26,
          3,
          1,
          1,
          1,
          3,
          7,
          51,
          1,
          1,
          1,
          1,
          2,
          1,
          4,
          1,
          38,
          5,
          11,
          1,
          1,
          1,
          1,
          87,
          1,
          1,
          2,
          1,
          2,
          9,
          48,
          1,
          1,
          3,
          1,
          1,
          2,
          4,
          14,
          31,
          1,
          1,
          119,
          478,
          1,
          1,
          2,
          1,
          1,
          1,
          5,
          33,
          7,
          4,
          2,
          8,
          7,
          1,
          2,
          2,
          1,
          10,
          9,
          1,
          1,
          1,
          3,
          7,
          15,
          3,
          1,
          16,
          137,
          2,
          2,
          10,
          2,
          1,
          6,
          1,
          1,
          1,
          1,
          24,
          3,
          3,
          1,
          5,
          2,
          2,
          1,
          9,
          2,
          1,
          1,
          4,
          2,
          1,
          20,
          88,
          1,
          2,
          3,
          1,
          1,
          5,
          2,
          77,
          654,
          1,
          2,
          2,
          1,
          2,
          17,
          2,
          6,
          1,
          1,
          4,
          4,
          1,
          8,
          1,
          1,
          3,
          8,
          5,
          1,
          1,
          1,
          41,
          1,
          21,
          15,
          8,
          1,
          2,
          3,
          2,
          2,
          1,
          5,
          15,
          25,
          1,
          1,
          2,
          1,
          1,
          1,
          1,
          3,
          23,
          1,
          1,
          1,
          3,
          1,
          79,
          481,
          1,
          1,
          5,
          4,
          1,
          2,
          1,
          3,
          15,
          3,
          2,
          1,
          1,
          2,
          5,
          2,
          1,
          3,
          3,
          3,
          13,
          2,
          1,
          7,
          1,
          2,
          5,
          961,
          5906,
          1,
          1,
          4,
          2,
          4,
          3,
          22,
          1,
          1,
          9,
          19,
          1,
          25,
          36,
          4,
          1,
          1,
          1,
          2,
          1,
          2,
          1,
          346,
          1,
          9,
          1,
          2,
          2,
          4,
          17,
          68,
          2,
          1,
          3,
          8,
          3,
          21,
          6,
          6,
          4,
          1,
          1,
          4,
          3,
          7,
          9,
          13,
          62,
          1,
          86,
          1,
          1,
          3,
          1,
          1,
          4,
          4,
          6,
          2,
          1,
          2,
          6,
          6,
          28,
          3,
          14,
          1,
          2,
          2,
          1,
          33,
          119,
          1,
          3,
          1,
          2,
          1,
          2,
          2,
          2,
          1,
          1,
          2,
          2,
          1,
          26,
          5,
          1,
          1,
          1,
          1,
          33,
          172,
          1,
          8,
          3,
          2,
          1,
          2,
          1,
          16,
          5,
          1,
          17,
          1,
          7,
          1,
          4,
          1,
          3,
          1,
          69,
          137,
          1,
          2,
          1,
          3,
          1,
          3,
          8,
          2,
          1,
          1,
          15,
          16,
          1,
          1,
          3,
          1,
          1,
          1,
          1,
          6,
          47,
          5,
          3,
          2,
          1,
          2,
          1,
          6,
          1,
          3,
          1,
          1,
          1,
          1,
          1,
          7,
          18,
          101,
          1,
          1,
          1,
          1,
          2,
          2,
          3,
          1,
          1,
          12,
          1,
          4,
          1,
          1,
          1,
          4,
          199,
          34,
          118,
          1,
          1,
          1,
          3,
          16,
          8,
          5,
          1,
          2,
          1,
          3,
          1,
          1,
          1,
          1,
          1,
          1,
          981,
          1,
          11,
          103,
          8,
          2,
          2,
          17,
          1,
          11,
          3,
          2,
          1,
          1,
          1,
          1,
          4,
          1,
          2,
          1,
          7,
          2,
          2,
          33,
          2,
          1,
          3,
          1,
          1,
          1,
          1,
          2,
          7,
          4,
          1,
          7,
          268,
          1,
          2,
          1,
          2,
          1,
          1,
          2,
          2,
          1,
          2,
          6,
          20,
          1,
          12,
          12,
          4,
          1,
          1,
          1,
          2,
          12,
          5,
          1,
          9,
          20,
          1,
          4,
          1,
          1,
          4,
          1,
          2,
          9,
          55,
          3,
          1,
          1,
          9,
          2,
          2,
          4,
          2,
          2,
          3,
          1,
          92,
          155,
          2,
          3,
          1,
          3,
          1,
          1,
          1,
          1,
          6,
          1,
          7,
          3,
          1,
          1,
          3,
          29,
          1,
          1,
          2,
          1,
          4,
          18,
          1,
          10,
          51,
          1,
          1,
          1,
          1,
          1,
          4,
          1,
          2,
          1,
          42,
          90,
          1,
          1,
          1,
          1,
          2,
          1,
          1,
          1,
          1,
          1,
          1,
          4,
          6,
          36,
          1,
          4,
          1,
          2,
          4,
          12,
          1,
          1,
          4,
          29,
          1,
          1,
          8,
          3,
          12,
          5,
          16,
          1,
          1,
          1,
          1,
          1,
          1,
          17,
          3,
          1,
          12,
          2,
          6,
          28,
          2,
          3,
          2,
          1,
          1,
          3,
          106,
          1,
          1,
          3,
          1,
          3,
          6,
          3,
          19,
          18,
          3,
          1,
          1,
          1,
          2,
          1,
          5,
          1,
          804,
          2770,
          2,
          4,
          28,
          6,
          1,
          9,
          35,
          15,
          12,
          1,
          1,
          3,
          3,
          17,
          8,
          14,
          1,
          22,
          2,
          1,
          9,
          1,
          16,
          4,
          9,
          27,
          6,
          4,
          11,
          1,
          1,
          1,
          7,
          2,
          23,
          3,
          3,
          3,
          246,
          8,
          5,
          5,
          17,
          4,
          3,
          1,
          3,
          26,
          52,
          1,
          3,
          1,
          1,
          2,
          18,
          48,
          1,
          12,
          1,
          1,
          1,
          2,
          4,
          16,
          2,
          13,
          1,
          46,
          213,
          2,
          2,
          2,
          1,
          4,
          1,
          5,
          1,
          1,
          15,
          1,
          3,
          2,
          1,
          3,
          7,
          1,
          34,
          2,
          1,
          1,
          5,
          1,
          2,
          1,
          57,
          112,
          2,
          2,
          1,
          1,
          1,
          2,
          4,
          1,
          1,
          2,
          3,
          21,
          3,
          5,
          2,
          1,
          189,
          532,
          1,
          8,
          18,
          6,
          6,
          19,
          1,
          8,
          5,
          1,
          1,
          2,
          1,
          9,
          10,
          1,
          68,
          5,
          5,
          1,
          3,
          1,
          2,
          7,
          4,
          1,
          4,
          1,
          15,
          35,
          1,
          1,
          1,
          1,
          1,
          1,
          2,
          6,
          1,
          1,
          1,
          12,
          73,
          3,
          1,
          1,
          1,
          4,
          1,
          1,
          8,
          38,
          4,
          1,
          1,
          2,
          1,
          6,
          1,
          3,
          3,
          5,
          23,
          4,
          2,
          1,
          2,
          1,
          3,
          11,
          1,
          1,
          1,
          1,
          1,
          1,
          2,
          30,
          1,
          1,
          4,
          83,
          502,
          1,
          1,
          15,
          1,
          2,
          2,
          27,
          3,
          1,
          1,
          6,
          2,
          1,
          1,
          62,
          14,
          2,
          2,
          9,
          2,
          1,
          5,
          1,
          1,
          4,
          6,
          1,
          3,
          9,
          1,
          4,
          1,
          2,
          2,
          2,
          5,
          2,
          8,
          2,
          11,
          1,
          2,
          1,
          1,
          2,
          1,
          11,
          1,
          7,
          2,
          980,
          6321,
          1,
          10,
          1,
          8,
          1,
          3,
          1,
          27,
          121,
          18,
          43,
          2,
          20,
          64,
          9,
          1,
          1,
          3,
          9,
          3,
          17,
          144,
          1,
          2,
          80,
          2,
          1,
          1,
          3,
          35,
          4,
          2,
          34,
          50,
          2,
          4,
          8,
          30,
          4,
          6,
          14,
          1,
          1,
          2,
          2,
          1,
          8,
          237,
          4,
          37,
          15,
          107,
          15,
          1,
          1,
          1,
          2,
          11,
          8,
          11,
          6,
          3,
          1,
          1,
          1,
          2,
          1,
          349,
          34,
          56,
          3,
          11,
          2,
          8,
          10,
          41,
          1,
          3,
          31,
          2,
          1,
          1,
          1,
          10,
          13,
          4,
          5,
          7,
          11,
          11,
          2,
          2,
          15,
          1,
          1,
          2,
          2,
          3,
          13,
          1,
          37,
          135,
          1,
          2,
          2,
          1,
          1,
          1,
          19,
          2,
          1,
          1,
          6,
          1,
          2,
          1,
          1,
          1,
          1,
          80,
          205,
          2,
          2,
          1,
          2,
          1,
          2,
          2,
          89,
          1,
          2,
          1,
          17,
          1,
          1,
          15,
          4,
          111,
          2,
          6,
          1,
          11,
          7,
          3,
          2,
          1,
          4,
          2,
          1,
          31,
          129,
          1,
          1,
          2,
          1,
          4,
          1,
          7,
          1,
          1,
          3,
          5,
          12,
          1,
          5,
          1,
          2,
          7,
          1,
          71,
          195,
          3,
          28,
          8,
          1,
          1,
          1,
          4,
          1,
          2,
          1,
          140,
          792,
          1,
          3,
          1,
          1,
          11,
          1,
          7,
          1,
          1,
          7,
          18,
          8,
          1,
          2,
          2,
          1,
          1,
          2,
          16,
          33,
          37,
          1,
          1,
          8,
          1,
          8,
          106,
          538,
          2,
          5,
          1,
          1,
          8,
          2,
          13,
          2,
          5,
          2,
          4,
          2,
          3,
          2,
          3,
          85,
          1,
          1,
          1,
          2,
          1,
          1,
          5,
          1,
          1,
          1,
          21,
          3,
          8,
          1,
          1,
          9,
          1,
          1,
          2,
          4,
          1,
          15,
          97,
          1,
          1,
          1,
          1,
          22,
          1,
          1,
          1,
          1,
          1,
          1,
          1,
          2,
          1,
          1,
          10,
          58,
          1,
          1,
          1,
          2,
          1,
          2,
          6,
          6,
          5,
          1,
          7,
          13,
          3,
          5,
          3,
          10,
          51,
          1,
          1,
          1,
          2,
          3,
          2,
          2,
          1,
          1,
          1,
          1,
          15,
          46,
          1,
          4,
          13,
          1,
          1,
          12,
          50,
          1,
          38,
          87,
          1,
          1,
          1,
          1,
          2,
          2,
          1,
          1,
          3,
          1,
          1,
          1,
          4,
          1,
          1,
          17,
          80,
          1,
          1,
          2,
          1,
          1,
          1,
          9,
          1,
          1,
          1,
          2,
          1,
          2,
          1,
          13,
          42,
          1,
          4,
          1,
          3,
          2,
          8,
          1216,
          7635,
          1,
          3,
          3,
          1,
          1,
          41,
          1,
          11,
          5,
          1,
          8,
          5,
          14,
          9,
          84,
          3,
          7,
          1,
          1,
          2,
          35,
          15,
          34,
          7,
          6,
          7,
          1,
          1,
          3,
          2,
          1,
          18,
          2,
          1,
          187,
          6,
          1,
          2,
          8,
          23,
          3,
          2,
          2,
          3,
          5,
          2,
          1,
          1,
          6,
          31,
          375,
          8,
          1,
          1,
          4,
          1,
          5,
          2,
          1,
          2,
          1,
          1,
          2,
          1,
          35,
          2,
          6,
          2,
          1,
          1,
          7,
          79,
          503,
          2,
          4,
          1,
          2,
          18,
          1,
          1,
          2,
          2,
          5,
          1,
          9,
          1,
          9,
          1,
          1,
          6,
          6,
          1,
          4,
          4,
          1,
          3,
          1,
          2,
          1,
          2,
          56,
          40,
          1,
          1,
          2,
          1,
          3,
          49,
          137,
          1,
          2,
          1,
          1,
          14,
          5,
          1,
          1,
          1,
          2,
          2,
          2,
          2,
          9,
          78,
          140,
          48,
          2,
          1,
          1,
          1,
          2,
          41,
          1,
          1,
          2,
          2,
          4,
          1,
          1,
          2,
          2,
          1,
          1,
          2,
          24,
          171,
          2,
          1,
          1,
          1,
          4,
          2,
          2,
          1,
          2,
          4,
          1,
          5,
          2,
          1,
          82,
          558,
          2,
          2,
          1,
          10,
          1,
          5,
          1,
          5,
          4,
          78,
          11,
          1,
          2,
          6,
          1,
          1,
          3,
          1,
          1,
          1,
          2,
          1,
          1,
          1,
          12,
          81,
          1,
          1,
          1,
          1,
          2,
          8,
          1,
          3,
          12,
          91,
          1,
          2,
          1,
          1,
          4,
          6,
          1,
          20,
          1,
          2,
          1,
          1,
          1,
          1,
          178,
          382,
          7,
          1,
          3,
          1,
          3,
          1,
          1,
          1,
          5,
          1,
          2,
          1,
          1,
          21,
          1,
          39,
          6,
          6,
          2,
          2,
          1,
          5,
          7,
          1,
          1,
          2,
          8,
          15,
          1,
          3,
          3,
          23,
          1,
          1,
          5,
          36,
          1,
          1,
          1,
          2,
          2,
          1,
          1,
          12,
          48,
          1,
          2,
          1,
          1,
          1,
          1,
          1,
          1,
          1,
          1,
          9,
          46,
          4,
          1,
          1,
          2,
          1,
          188,
          373,
          1,
          1,
          1,
          1,
          2,
          1,
          1,
          11,
          2,
          4,
          1,
          4,
          10,
          19,
          5,
          1,
          1,
          2,
          3,
          1,
          1,
          5,
          5,
          380,
          607,
          4,
          4,
          2,
          3,
          18,
          1,
          1,
          9,
          3,
          2,
          2,
          1,
          49,
          1,
          31,
          10,
          1,
          2,
          13,
          1,
          4,
          2,
          9,
          1,
          10,
          47,
          1,
          1,
          1,
          2,
          2,
          1,
          2,
          2,
          1,
          16,
          68,
          2,
          1,
          1,
          1,
          3,
          1,
          1,
          2,
          1,
          1,
          3,
          4,
          23,
          1,
          1,
          1,
          1,
          1,
          1,
          4,
          20,
          2,
          59,
          630,
          1,
          4,
          1,
          1,
          3,
          2,
          1,
          2,
          10,
          3,
          1,
          2,
          1,
          3,
          1,
          12,
          1,
          2,
          3,
          1,
          9,
          24,
          1,
          3,
          1,
          17,
          1,
          12,
          55,
          1,
          3,
          2,
          11,
          1,
          3,
          1,
          2,
          1,
          17,
          1,
          1,
          1,
          1,
          1,
          6,
          33,
          2,
          2,
          1,
          5,
          19,
          2,
          7,
          25,
          3,
          1,
          1,
          40,
          111,
          2,
          1,
          1,
          1,
          5,
          2,
          3,
          1,
          3,
          20,
          2,
          3,
          4,
          34,
          1,
          1,
          3,
          2,
          2,
          1,
          2,
          2,
          22,
          46,
          1,
          2,
          1,
          2,
          2,
          2,
          1,
          1,
          6,
          1,
          1,
          1,
          1,
          15,
          50,
          1,
          16,
          4,
          1,
          6,
          2,
          4,
          1,
          26,
          15,
          1,
          1,
          16,
          62,
          2,
          1,
          1,
          1,
          2,
          2,
          1,
          1,
          1,
          2,
          1,
          4,
          75,
          1,
          1,
          3,
          4,
          1,
          1,
          3,
          3,
          1,
          1,
          4,
          1,
          1,
          1,
          2,
          1,
          1,
          1,
          50,
          51,
          4,
          7,
          3,
          1,
          1,
          1,
          1,
          2,
          7,
          1,
          105,
          573,
          1,
          10,
          2,
          10,
          14,
          34,
          1,
          1,
          1,
          2,
          2,
          2,
          2,
          14,
          32,
          18,
          8,
          1,
          2,
          7,
          2,
          3,
          1,
          3,
          10,
          1
         ],
         "yaxis": "y"
        }
       ],
       "layout": {
        "barmode": "relative",
        "legend": {
         "tracegroupgap": 0
        },
        "template": {
         "data": {
          "bar": [
           {
            "error_x": {
             "color": "#2a3f5f"
            },
            "error_y": {
             "color": "#2a3f5f"
            },
            "marker": {
             "line": {
              "color": "#E5ECF6",
              "width": 0.5
             },
             "pattern": {
              "fillmode": "overlay",
              "size": 10,
              "solidity": 0.2
             }
            },
            "type": "bar"
           }
          ],
          "barpolar": [
           {
            "marker": {
             "line": {
              "color": "#E5ECF6",
              "width": 0.5
             },
             "pattern": {
              "fillmode": "overlay",
              "size": 10,
              "solidity": 0.2
             }
            },
            "type": "barpolar"
           }
          ],
          "carpet": [
           {
            "aaxis": {
             "endlinecolor": "#2a3f5f",
             "gridcolor": "white",
             "linecolor": "white",
             "minorgridcolor": "white",
             "startlinecolor": "#2a3f5f"
            },
            "baxis": {
             "endlinecolor": "#2a3f5f",
             "gridcolor": "white",
             "linecolor": "white",
             "minorgridcolor": "white",
             "startlinecolor": "#2a3f5f"
            },
            "type": "carpet"
           }
          ],
          "choropleth": [
           {
            "colorbar": {
             "outlinewidth": 0,
             "ticks": ""
            },
            "type": "choropleth"
           }
          ],
          "contour": [
           {
            "colorbar": {
             "outlinewidth": 0,
             "ticks": ""
            },
            "colorscale": [
             [
              0,
              "#0d0887"
             ],
             [
              0.1111111111111111,
              "#46039f"
             ],
             [
              0.2222222222222222,
              "#7201a8"
             ],
             [
              0.3333333333333333,
              "#9c179e"
             ],
             [
              0.4444444444444444,
              "#bd3786"
             ],
             [
              0.5555555555555556,
              "#d8576b"
             ],
             [
              0.6666666666666666,
              "#ed7953"
             ],
             [
              0.7777777777777778,
              "#fb9f3a"
             ],
             [
              0.8888888888888888,
              "#fdca26"
             ],
             [
              1,
              "#f0f921"
             ]
            ],
            "type": "contour"
           }
          ],
          "contourcarpet": [
           {
            "colorbar": {
             "outlinewidth": 0,
             "ticks": ""
            },
            "type": "contourcarpet"
           }
          ],
          "heatmap": [
           {
            "colorbar": {
             "outlinewidth": 0,
             "ticks": ""
            },
            "colorscale": [
             [
              0,
              "#0d0887"
             ],
             [
              0.1111111111111111,
              "#46039f"
             ],
             [
              0.2222222222222222,
              "#7201a8"
             ],
             [
              0.3333333333333333,
              "#9c179e"
             ],
             [
              0.4444444444444444,
              "#bd3786"
             ],
             [
              0.5555555555555556,
              "#d8576b"
             ],
             [
              0.6666666666666666,
              "#ed7953"
             ],
             [
              0.7777777777777778,
              "#fb9f3a"
             ],
             [
              0.8888888888888888,
              "#fdca26"
             ],
             [
              1,
              "#f0f921"
             ]
            ],
            "type": "heatmap"
           }
          ],
          "heatmapgl": [
           {
            "colorbar": {
             "outlinewidth": 0,
             "ticks": ""
            },
            "colorscale": [
             [
              0,
              "#0d0887"
             ],
             [
              0.1111111111111111,
              "#46039f"
             ],
             [
              0.2222222222222222,
              "#7201a8"
             ],
             [
              0.3333333333333333,
              "#9c179e"
             ],
             [
              0.4444444444444444,
              "#bd3786"
             ],
             [
              0.5555555555555556,
              "#d8576b"
             ],
             [
              0.6666666666666666,
              "#ed7953"
             ],
             [
              0.7777777777777778,
              "#fb9f3a"
             ],
             [
              0.8888888888888888,
              "#fdca26"
             ],
             [
              1,
              "#f0f921"
             ]
            ],
            "type": "heatmapgl"
           }
          ],
          "histogram": [
           {
            "marker": {
             "pattern": {
              "fillmode": "overlay",
              "size": 10,
              "solidity": 0.2
             }
            },
            "type": "histogram"
           }
          ],
          "histogram2d": [
           {
            "colorbar": {
             "outlinewidth": 0,
             "ticks": ""
            },
            "colorscale": [
             [
              0,
              "#0d0887"
             ],
             [
              0.1111111111111111,
              "#46039f"
             ],
             [
              0.2222222222222222,
              "#7201a8"
             ],
             [
              0.3333333333333333,
              "#9c179e"
             ],
             [
              0.4444444444444444,
              "#bd3786"
             ],
             [
              0.5555555555555556,
              "#d8576b"
             ],
             [
              0.6666666666666666,
              "#ed7953"
             ],
             [
              0.7777777777777778,
              "#fb9f3a"
             ],
             [
              0.8888888888888888,
              "#fdca26"
             ],
             [
              1,
              "#f0f921"
             ]
            ],
            "type": "histogram2d"
           }
          ],
          "histogram2dcontour": [
           {
            "colorbar": {
             "outlinewidth": 0,
             "ticks": ""
            },
            "colorscale": [
             [
              0,
              "#0d0887"
             ],
             [
              0.1111111111111111,
              "#46039f"
             ],
             [
              0.2222222222222222,
              "#7201a8"
             ],
             [
              0.3333333333333333,
              "#9c179e"
             ],
             [
              0.4444444444444444,
              "#bd3786"
             ],
             [
              0.5555555555555556,
              "#d8576b"
             ],
             [
              0.6666666666666666,
              "#ed7953"
             ],
             [
              0.7777777777777778,
              "#fb9f3a"
             ],
             [
              0.8888888888888888,
              "#fdca26"
             ],
             [
              1,
              "#f0f921"
             ]
            ],
            "type": "histogram2dcontour"
           }
          ],
          "mesh3d": [
           {
            "colorbar": {
             "outlinewidth": 0,
             "ticks": ""
            },
            "type": "mesh3d"
           }
          ],
          "parcoords": [
           {
            "line": {
             "colorbar": {
              "outlinewidth": 0,
              "ticks": ""
             }
            },
            "type": "parcoords"
           }
          ],
          "pie": [
           {
            "automargin": true,
            "type": "pie"
           }
          ],
          "scatter": [
           {
            "fillpattern": {
             "fillmode": "overlay",
             "size": 10,
             "solidity": 0.2
            },
            "type": "scatter"
           }
          ],
          "scatter3d": [
           {
            "line": {
             "colorbar": {
              "outlinewidth": 0,
              "ticks": ""
             }
            },
            "marker": {
             "colorbar": {
              "outlinewidth": 0,
              "ticks": ""
             }
            },
            "type": "scatter3d"
           }
          ],
          "scattercarpet": [
           {
            "marker": {
             "colorbar": {
              "outlinewidth": 0,
              "ticks": ""
             }
            },
            "type": "scattercarpet"
           }
          ],
          "scattergeo": [
           {
            "marker": {
             "colorbar": {
              "outlinewidth": 0,
              "ticks": ""
             }
            },
            "type": "scattergeo"
           }
          ],
          "scattergl": [
           {
            "marker": {
             "colorbar": {
              "outlinewidth": 0,
              "ticks": ""
             }
            },
            "type": "scattergl"
           }
          ],
          "scattermapbox": [
           {
            "marker": {
             "colorbar": {
              "outlinewidth": 0,
              "ticks": ""
             }
            },
            "type": "scattermapbox"
           }
          ],
          "scatterpolar": [
           {
            "marker": {
             "colorbar": {
              "outlinewidth": 0,
              "ticks": ""
             }
            },
            "type": "scatterpolar"
           }
          ],
          "scatterpolargl": [
           {
            "marker": {
             "colorbar": {
              "outlinewidth": 0,
              "ticks": ""
             }
            },
            "type": "scatterpolargl"
           }
          ],
          "scatterternary": [
           {
            "marker": {
             "colorbar": {
              "outlinewidth": 0,
              "ticks": ""
             }
            },
            "type": "scatterternary"
           }
          ],
          "surface": [
           {
            "colorbar": {
             "outlinewidth": 0,
             "ticks": ""
            },
            "colorscale": [
             [
              0,
              "#0d0887"
             ],
             [
              0.1111111111111111,
              "#46039f"
             ],
             [
              0.2222222222222222,
              "#7201a8"
             ],
             [
              0.3333333333333333,
              "#9c179e"
             ],
             [
              0.4444444444444444,
              "#bd3786"
             ],
             [
              0.5555555555555556,
              "#d8576b"
             ],
             [
              0.6666666666666666,
              "#ed7953"
             ],
             [
              0.7777777777777778,
              "#fb9f3a"
             ],
             [
              0.8888888888888888,
              "#fdca26"
             ],
             [
              1,
              "#f0f921"
             ]
            ],
            "type": "surface"
           }
          ],
          "table": [
           {
            "cells": {
             "fill": {
              "color": "#EBF0F8"
             },
             "line": {
              "color": "white"
             }
            },
            "header": {
             "fill": {
              "color": "#C8D4E3"
             },
             "line": {
              "color": "white"
             }
            },
            "type": "table"
           }
          ]
         },
         "layout": {
          "annotationdefaults": {
           "arrowcolor": "#2a3f5f",
           "arrowhead": 0,
           "arrowwidth": 1
          },
          "autotypenumbers": "strict",
          "coloraxis": {
           "colorbar": {
            "outlinewidth": 0,
            "ticks": ""
           }
          },
          "colorscale": {
           "diverging": [
            [
             0,
             "#8e0152"
            ],
            [
             0.1,
             "#c51b7d"
            ],
            [
             0.2,
             "#de77ae"
            ],
            [
             0.3,
             "#f1b6da"
            ],
            [
             0.4,
             "#fde0ef"
            ],
            [
             0.5,
             "#f7f7f7"
            ],
            [
             0.6,
             "#e6f5d0"
            ],
            [
             0.7,
             "#b8e186"
            ],
            [
             0.8,
             "#7fbc41"
            ],
            [
             0.9,
             "#4d9221"
            ],
            [
             1,
             "#276419"
            ]
           ],
           "sequential": [
            [
             0,
             "#0d0887"
            ],
            [
             0.1111111111111111,
             "#46039f"
            ],
            [
             0.2222222222222222,
             "#7201a8"
            ],
            [
             0.3333333333333333,
             "#9c179e"
            ],
            [
             0.4444444444444444,
             "#bd3786"
            ],
            [
             0.5555555555555556,
             "#d8576b"
            ],
            [
             0.6666666666666666,
             "#ed7953"
            ],
            [
             0.7777777777777778,
             "#fb9f3a"
            ],
            [
             0.8888888888888888,
             "#fdca26"
            ],
            [
             1,
             "#f0f921"
            ]
           ],
           "sequentialminus": [
            [
             0,
             "#0d0887"
            ],
            [
             0.1111111111111111,
             "#46039f"
            ],
            [
             0.2222222222222222,
             "#7201a8"
            ],
            [
             0.3333333333333333,
             "#9c179e"
            ],
            [
             0.4444444444444444,
             "#bd3786"
            ],
            [
             0.5555555555555556,
             "#d8576b"
            ],
            [
             0.6666666666666666,
             "#ed7953"
            ],
            [
             0.7777777777777778,
             "#fb9f3a"
            ],
            [
             0.8888888888888888,
             "#fdca26"
            ],
            [
             1,
             "#f0f921"
            ]
           ]
          },
          "colorway": [
           "#636efa",
           "#EF553B",
           "#00cc96",
           "#ab63fa",
           "#FFA15A",
           "#19d3f3",
           "#FF6692",
           "#B6E880",
           "#FF97FF",
           "#FECB52"
          ],
          "font": {
           "color": "#2a3f5f"
          },
          "geo": {
           "bgcolor": "white",
           "lakecolor": "white",
           "landcolor": "#E5ECF6",
           "showlakes": true,
           "showland": true,
           "subunitcolor": "white"
          },
          "hoverlabel": {
           "align": "left"
          },
          "hovermode": "closest",
          "mapbox": {
           "style": "light"
          },
          "paper_bgcolor": "white",
          "plot_bgcolor": "#E5ECF6",
          "polar": {
           "angularaxis": {
            "gridcolor": "white",
            "linecolor": "white",
            "ticks": ""
           },
           "bgcolor": "#E5ECF6",
           "radialaxis": {
            "gridcolor": "white",
            "linecolor": "white",
            "ticks": ""
           }
          },
          "scene": {
           "xaxis": {
            "backgroundcolor": "#E5ECF6",
            "gridcolor": "white",
            "gridwidth": 2,
            "linecolor": "white",
            "showbackground": true,
            "ticks": "",
            "zerolinecolor": "white"
           },
           "yaxis": {
            "backgroundcolor": "#E5ECF6",
            "gridcolor": "white",
            "gridwidth": 2,
            "linecolor": "white",
            "showbackground": true,
            "ticks": "",
            "zerolinecolor": "white"
           },
           "zaxis": {
            "backgroundcolor": "#E5ECF6",
            "gridcolor": "white",
            "gridwidth": 2,
            "linecolor": "white",
            "showbackground": true,
            "ticks": "",
            "zerolinecolor": "white"
           }
          },
          "shapedefaults": {
           "line": {
            "color": "#2a3f5f"
           }
          },
          "ternary": {
           "aaxis": {
            "gridcolor": "white",
            "linecolor": "white",
            "ticks": ""
           },
           "baxis": {
            "gridcolor": "white",
            "linecolor": "white",
            "ticks": ""
           },
           "bgcolor": "#E5ECF6",
           "caxis": {
            "gridcolor": "white",
            "linecolor": "white",
            "ticks": ""
           }
          },
          "title": {
           "x": 0.05
          },
          "xaxis": {
           "automargin": true,
           "gridcolor": "white",
           "linecolor": "white",
           "ticks": "",
           "title": {
            "standoff": 15
           },
           "zerolinecolor": "white",
           "zerolinewidth": 2
          },
          "yaxis": {
           "automargin": true,
           "gridcolor": "white",
           "linecolor": "white",
           "ticks": "",
           "title": {
            "standoff": 15
           },
           "zerolinecolor": "white",
           "zerolinewidth": 2
          }
         }
        },
        "title": {
         "text": "BREED Distribution [ Animal Type : Dog (#65251)]"
        },
        "xaxis": {
         "anchor": "y",
         "domain": [
          0,
          1
         ],
         "title": {
          "text": "BREED"
         }
        },
        "yaxis": {
         "anchor": "x",
         "domain": [
          0,
          1
         ],
         "title": {
          "text": "COUNT"
         }
        }
       }
      },
      "text/html": [
       "<div>                            <div id=\"bb8dc8ca-28d0-4677-b65a-5393bdaad2d1\" class=\"plotly-graph-div\" style=\"height:525px; width:100%;\"></div>            <script type=\"text/javascript\">                require([\"plotly\"], function(Plotly) {                    window.PLOTLYENV=window.PLOTLYENV || {};                                    if (document.getElementById(\"bb8dc8ca-28d0-4677-b65a-5393bdaad2d1\")) {                    Plotly.newPlot(                        \"bb8dc8ca-28d0-4677-b65a-5393bdaad2d1\",                        [{\"alignmentgroup\":\"True\",\"hovertemplate\":\"BREED=%{x}<br>COUNT=%{y}<br>text=%{text}<extra></extra>\",\"legendgroup\":\"\",\"marker\":{\"color\":\"#636efa\",\"pattern\":{\"shape\":\"\"}},\"name\":\"\",\"offsetgroup\":\"\",\"orientation\":\"v\",\"showlegend\":false,\"text\":[\"0.0%\",\"0.0%\",\"0.0%\",\"0.0%\",\"0.0%\",\"0.0%\",\"0.0%\",\"0.0%\",\"0.0%\",\"0.0%\",\"0.0%\",\"0.0%\",\"0.0%\",\"0.1%\",\"0.0%\",\"0.0%\",\"0.0%\",\"0.0%\",\"0.0%\",\"0.0%\",\"0.0%\",\"0.0%\",\"0.1%\",\"0.2%\",\"0.0%\",\"0.0%\",\"0.0%\",\"0.0%\",\"0.0%\",\"0.0%\",\"0.0%\",\"0.0%\",\"0.0%\",\"0.0%\",\"0.0%\",\"0.0%\",\"0.0%\",\"0.0%\",\"0.0%\",\"0.0%\",\"0.0%\",\"0.1%\",\"0.6%\",\"0.0%\",\"0.0%\",\"0.0%\",\"0.0%\",\"0.0%\",\"0.0%\",\"0.0%\",\"0.0%\",\"0.0%\",\"0.0%\",\"0.0%\",\"0.0%\",\"0.0%\",\"0.0%\",\"0.0%\",\"0.0%\",\"0.0%\",\"0.0%\",\"0.0%\",\"0.0%\",\"0.0%\",\"0.0%\",\"0.0%\",\"0.2%\",\"0.5%\",\"0.0%\",\"0.0%\",\"0.0%\",\"0.0%\",\"0.0%\",\"0.0%\",\"0.0%\",\"0.0%\",\"0.0%\",\"0.0%\",\"0.1%\",\"0.4%\",\"0.0%\",\"0.0%\",\"0.0%\",\"0.0%\",\"0.0%\",\"0.0%\",\"0.0%\",\"0.0%\",\"0.0%\",\"0.0%\",\"0.0%\",\"0.0%\",\"0.1%\",\"0.6%\",\"0.0%\",\"0.0%\",\"0.0%\",\"0.0%\",\"0.0%\",\"0.0%\",\"0.0%\",\"0.0%\",\"0.0%\",\"0.0%\",\"0.0%\",\"0.0%\",\"0.0%\",\"0.0%\",\"0.0%\",\"0.0%\",\"0.0%\",\"0.0%\",\"0.0%\",\"0.0%\",\"0.0%\",\"0.5%\",\"2.2%\",\"0.0%\",\"0.0%\",\"0.0%\",\"0.0%\",\"0.0%\",\"0.0%\",\"0.0%\",\"0.0%\",\"0.0%\",\"0.0%\",\"0.0%\",\"0.0%\",\"0.0%\",\"0.0%\",\"0.0%\",\"0.0%\",\"0.0%\",\"0.0%\",\"0.0%\",\"0.0%\",\"0.0%\",\"0.0%\",\"0.0%\",\"0.0%\",\"0.0%\",\"0.0%\",\"0.0%\",\"0.0%\",\"0.0%\",\"0.0%\",\"0.0%\",\"0.0%\",\"0.1%\",\"0.0%\",\"0.0%\",\"0.0%\",\"0.0%\",\"0.1%\",\"0.0%\",\"0.0%\",\"0.0%\",\"0.0%\",\"0.1%\",\"0.0%\",\"0.0%\",\"0.0%\",\"0.0%\",\"0.0%\",\"0.0%\",\"0.0%\",\"0.0%\",\"0.0%\",\"0.0%\",\"0.0%\",\"0.0%\",\"0.1%\",\"0.5%\",\"0.0%\",\"0.0%\",\"0.0%\",\"0.0%\",\"0.0%\",\"0.0%\",\"0.0%\",\"0.0%\",\"0.0%\",\"0.0%\",\"0.0%\",\"0.0%\",\"0.0%\",\"0.0%\",\"0.0%\",\"0.0%\",\"0.0%\",\"0.0%\",\"0.0%\",\"0.0%\",\"0.0%\",\"0.0%\",\"0.0%\",\"0.0%\",\"0.1%\",\"1.0%\",\"0.0%\",\"0.0%\",\"0.0%\",\"0.0%\",\"0.0%\",\"0.0%\",\"0.0%\",\"0.0%\",\"0.0%\",\"0.0%\",\"0.0%\",\"0.0%\",\"0.0%\",\"0.0%\",\"0.0%\",\"0.0%\",\"0.0%\",\"0.0%\",\"0.0%\",\"0.0%\",\"0.0%\",\"0.0%\",\"0.0%\",\"0.0%\",\"0.0%\",\"0.0%\",\"0.0%\",\"0.0%\",\"0.1%\",\"0.0%\",\"0.0%\",\"0.0%\",\"0.0%\",\"0.0%\",\"0.0%\",\"0.0%\",\"0.0%\",\"0.0%\",\"0.0%\",\"0.0%\",\"0.0%\",\"0.0%\",\"0.0%\",\"0.0%\",\"0.0%\",\"0.1%\",\"0.0%\",\"0.0%\",\"0.0%\",\"0.0%\",\"0.0%\",\"0.0%\",\"0.0%\",\"0.0%\",\"0.0%\",\"0.0%\",\"0.0%\",\"0.1%\",\"0.2%\",\"0.0%\",\"0.0%\",\"0.0%\",\"0.0%\",\"0.0%\",\"0.0%\",\"0.0%\",\"0.0%\",\"0.0%\",\"0.0%\",\"0.0%\",\"0.0%\",\"0.0%\",\"0.0%\",\"0.0%\",\"0.0%\",\"0.0%\",\"0.0%\",\"0.0%\",\"0.0%\",\"0.0%\",\"0.0%\",\"0.0%\",\"0.2%\",\"0.8%\",\"0.0%\",\"0.0%\",\"0.0%\",\"0.0%\",\"0.0%\",\"0.0%\",\"0.0%\",\"0.0%\",\"0.0%\",\"0.0%\",\"0.0%\",\"0.0%\",\"0.0%\",\"0.0%\",\"0.0%\",\"0.1%\",\"0.0%\",\"0.0%\",\"0.1%\",\"0.0%\",\"0.0%\",\"0.0%\",\"0.0%\",\"0.0%\",\"0.0%\",\"0.1%\",\"0.0%\",\"0.0%\",\"0.0%\",\"0.0%\",\"0.0%\",\"0.0%\",\"0.0%\",\"0.0%\",\"0.0%\",\"0.0%\",\"0.0%\",\"0.0%\",\"0.0%\",\"0.0%\",\"0.0%\",\"0.0%\",\"0.0%\",\"0.0%\",\"0.0%\",\"0.0%\",\"0.1%\",\"0.0%\",\"0.0%\",\"0.1%\",\"0.1%\",\"0.0%\",\"0.0%\",\"0.0%\",\"0.0%\",\"0.0%\",\"0.0%\",\"0.0%\",\"0.0%\",\"0.0%\",\"0.0%\",\"0.0%\",\"0.0%\",\"0.0%\",\"0.0%\",\"0.0%\",\"0.0%\",\"0.1%\",\"0.0%\",\"0.0%\",\"0.0%\",\"0.0%\",\"0.1%\",\"0.5%\",\"0.0%\",\"0.0%\",\"0.0%\",\"0.0%\",\"0.0%\",\"0.0%\",\"0.0%\",\"0.0%\",\"0.0%\",\"0.0%\",\"0.0%\",\"0.0%\",\"0.0%\",\"0.0%\",\"0.0%\",\"0.0%\",\"0.0%\",\"0.0%\",\"0.0%\",\"0.0%\",\"0.0%\",\"0.0%\",\"0.0%\",\"0.0%\",\"0.0%\",\"0.2%\",\"0.0%\",\"0.0%\",\"0.0%\",\"0.0%\",\"0.0%\",\"0.0%\",\"0.0%\",\"0.0%\",\"0.1%\",\"0.0%\",\"0.0%\",\"0.0%\",\"0.0%\",\"0.2%\",\"0.0%\",\"0.0%\",\"0.0%\",\"0.0%\",\"0.0%\",\"0.0%\",\"0.0%\",\"0.0%\",\"0.0%\",\"0.0%\",\"0.0%\",\"0.0%\",\"0.0%\",\"0.0%\",\"0.0%\",\"0.0%\",\"0.0%\",\"0.0%\",\"0.0%\",\"0.0%\",\"0.0%\",\"0.0%\",\"0.0%\",\"0.0%\",\"0.2%\",\"1.3%\",\"0.0%\",\"0.0%\",\"0.0%\",\"0.0%\",\"0.0%\",\"0.0%\",\"0.0%\",\"0.0%\",\"0.0%\",\"0.0%\",\"0.0%\",\"0.0%\",\"0.0%\",\"0.0%\",\"0.0%\",\"0.0%\",\"0.0%\",\"0.0%\",\"0.0%\",\"0.0%\",\"0.0%\",\"0.0%\",\"0.0%\",\"0.0%\",\"0.0%\",\"0.0%\",\"0.0%\",\"0.1%\",\"0.0%\",\"0.0%\",\"0.0%\",\"0.0%\",\"0.0%\",\"0.1%\",\"0.0%\",\"0.0%\",\"0.0%\",\"0.0%\",\"0.0%\",\"0.0%\",\"0.0%\",\"0.0%\",\"0.0%\",\"0.0%\",\"0.0%\",\"0.0%\",\"0.0%\",\"0.1%\",\"0.3%\",\"0.0%\",\"0.0%\",\"0.0%\",\"0.0%\",\"0.0%\",\"0.0%\",\"0.0%\",\"0.0%\",\"0.0%\",\"0.0%\",\"0.0%\",\"0.0%\",\"0.0%\",\"0.0%\",\"0.0%\",\"0.0%\",\"0.0%\",\"0.0%\",\"0.0%\",\"0.1%\",\"0.2%\",\"0.0%\",\"0.0%\",\"0.0%\",\"0.0%\",\"0.0%\",\"0.0%\",\"0.0%\",\"0.0%\",\"0.0%\",\"0.0%\",\"0.0%\",\"0.0%\",\"0.0%\",\"0.3%\",\"1.4%\",\"0.0%\",\"0.0%\",\"0.0%\",\"0.0%\",\"0.0%\",\"0.0%\",\"0.0%\",\"0.0%\",\"0.0%\",\"0.0%\",\"0.0%\",\"0.0%\",\"0.0%\",\"0.0%\",\"0.0%\",\"0.0%\",\"0.0%\",\"0.0%\",\"0.0%\",\"0.0%\",\"0.0%\",\"0.0%\",\"0.0%\",\"0.0%\",\"0.0%\",\"0.0%\",\"0.0%\",\"0.0%\",\"0.0%\",\"0.0%\",\"0.1%\",\"0.0%\",\"0.0%\",\"0.0%\",\"0.1%\",\"0.0%\",\"0.0%\",\"0.0%\",\"0.0%\",\"0.0%\",\"0.0%\",\"0.0%\",\"0.0%\",\"0.0%\",\"0.0%\",\"0.0%\",\"0.0%\",\"0.0%\",\"0.0%\",\"0.0%\",\"0.0%\",\"0.0%\",\"0.0%\",\"0.0%\",\"0.0%\",\"0.0%\",\"0.1%\",\"0.0%\",\"0.0%\",\"0.0%\",\"0.0%\",\"0.0%\",\"0.0%\",\"0.0%\",\"0.0%\",\"0.1%\",\"0.0%\",\"0.0%\",\"0.0%\",\"0.0%\",\"0.0%\",\"0.0%\",\"0.1%\",\"0.0%\",\"0.0%\",\"0.0%\",\"0.0%\",\"0.0%\",\"0.0%\",\"0.1%\",\"0.0%\",\"0.0%\",\"0.0%\",\"0.0%\",\"0.0%\",\"0.0%\",\"0.0%\",\"0.0%\",\"0.1%\",\"0.0%\",\"0.0%\",\"0.2%\",\"0.7%\",\"0.0%\",\"0.0%\",\"0.0%\",\"0.0%\",\"0.0%\",\"0.0%\",\"0.0%\",\"0.1%\",\"0.0%\",\"0.0%\",\"0.0%\",\"0.0%\",\"0.0%\",\"0.0%\",\"0.0%\",\"0.0%\",\"0.0%\",\"0.0%\",\"0.0%\",\"0.0%\",\"0.0%\",\"0.0%\",\"0.0%\",\"0.0%\",\"0.0%\",\"0.0%\",\"0.0%\",\"0.0%\",\"0.2%\",\"0.0%\",\"0.0%\",\"0.0%\",\"0.0%\",\"0.0%\",\"0.0%\",\"0.0%\",\"0.0%\",\"0.0%\",\"0.0%\",\"0.0%\",\"0.0%\",\"0.0%\",\"0.0%\",\"0.0%\",\"0.0%\",\"0.0%\",\"0.0%\",\"0.0%\",\"0.0%\",\"0.0%\",\"0.0%\",\"0.0%\",\"0.0%\",\"0.0%\",\"0.0%\",\"0.1%\",\"0.0%\",\"0.0%\",\"0.0%\",\"0.0%\",\"0.0%\",\"0.0%\",\"0.0%\",\"0.1%\",\"1.0%\",\"0.0%\",\"0.0%\",\"0.0%\",\"0.0%\",\"0.0%\",\"0.0%\",\"0.0%\",\"0.0%\",\"0.0%\",\"0.0%\",\"0.0%\",\"0.0%\",\"0.0%\",\"0.0%\",\"0.0%\",\"0.0%\",\"0.0%\",\"0.0%\",\"0.0%\",\"0.0%\",\"0.0%\",\"0.0%\",\"0.1%\",\"0.0%\",\"0.0%\",\"0.0%\",\"0.0%\",\"0.0%\",\"0.0%\",\"0.0%\",\"0.0%\",\"0.0%\",\"0.0%\",\"0.0%\",\"0.0%\",\"0.0%\",\"0.0%\",\"0.0%\",\"0.0%\",\"0.0%\",\"0.0%\",\"0.0%\",\"0.0%\",\"0.0%\",\"0.0%\",\"0.0%\",\"0.0%\",\"0.0%\",\"0.0%\",\"0.0%\",\"0.1%\",\"0.7%\",\"0.0%\",\"0.0%\",\"0.0%\",\"0.0%\",\"0.0%\",\"0.0%\",\"0.0%\",\"0.0%\",\"0.0%\",\"0.0%\",\"0.0%\",\"0.0%\",\"0.0%\",\"0.0%\",\"0.0%\",\"0.0%\",\"0.0%\",\"0.0%\",\"0.0%\",\"0.0%\",\"0.0%\",\"0.0%\",\"0.0%\",\"0.0%\",\"0.0%\",\"0.0%\",\"0.0%\",\"1.5%\",\"9.1%\",\"0.0%\",\"0.0%\",\"0.0%\",\"0.0%\",\"0.0%\",\"0.0%\",\"0.0%\",\"0.0%\",\"0.0%\",\"0.0%\",\"0.0%\",\"0.0%\",\"0.0%\",\"0.1%\",\"0.0%\",\"0.0%\",\"0.0%\",\"0.0%\",\"0.0%\",\"0.0%\",\"0.0%\",\"0.0%\",\"0.5%\",\"0.0%\",\"0.0%\",\"0.0%\",\"0.0%\",\"0.0%\",\"0.0%\",\"0.0%\",\"0.1%\",\"0.0%\",\"0.0%\",\"0.0%\",\"0.0%\",\"0.0%\",\"0.0%\",\"0.0%\",\"0.0%\",\"0.0%\",\"0.0%\",\"0.0%\",\"0.0%\",\"0.0%\",\"0.0%\",\"0.0%\",\"0.0%\",\"0.1%\",\"0.0%\",\"0.1%\",\"0.0%\",\"0.0%\",\"0.0%\",\"0.0%\",\"0.0%\",\"0.0%\",\"0.0%\",\"0.0%\",\"0.0%\",\"0.0%\",\"0.0%\",\"0.0%\",\"0.0%\",\"0.0%\",\"0.0%\",\"0.0%\",\"0.0%\",\"0.0%\",\"0.0%\",\"0.0%\",\"0.1%\",\"0.2%\",\"0.0%\",\"0.0%\",\"0.0%\",\"0.0%\",\"0.0%\",\"0.0%\",\"0.0%\",\"0.0%\",\"0.0%\",\"0.0%\",\"0.0%\",\"0.0%\",\"0.0%\",\"0.0%\",\"0.0%\",\"0.0%\",\"0.0%\",\"0.0%\",\"0.0%\",\"0.1%\",\"0.3%\",\"0.0%\",\"0.0%\",\"0.0%\",\"0.0%\",\"0.0%\",\"0.0%\",\"0.0%\",\"0.0%\",\"0.0%\",\"0.0%\",\"0.0%\",\"0.0%\",\"0.0%\",\"0.0%\",\"0.0%\",\"0.0%\",\"0.0%\",\"0.0%\",\"0.1%\",\"0.2%\",\"0.0%\",\"0.0%\",\"0.0%\",\"0.0%\",\"0.0%\",\"0.0%\",\"0.0%\",\"0.0%\",\"0.0%\",\"0.0%\",\"0.0%\",\"0.0%\",\"0.0%\",\"0.0%\",\"0.0%\",\"0.0%\",\"0.0%\",\"0.0%\",\"0.0%\",\"0.0%\",\"0.1%\",\"0.0%\",\"0.0%\",\"0.0%\",\"0.0%\",\"0.0%\",\"0.0%\",\"0.0%\",\"0.0%\",\"0.0%\",\"0.0%\",\"0.0%\",\"0.0%\",\"0.0%\",\"0.0%\",\"0.0%\",\"0.0%\",\"0.1%\",\"0.0%\",\"0.0%\",\"0.0%\",\"0.0%\",\"0.0%\",\"0.0%\",\"0.0%\",\"0.0%\",\"0.0%\",\"0.0%\",\"0.0%\",\"0.0%\",\"0.0%\",\"0.0%\",\"0.0%\",\"0.0%\",\"0.3%\",\"0.1%\",\"0.2%\",\"0.0%\",\"0.0%\",\"0.0%\",\"0.0%\",\"0.0%\",\"0.0%\",\"0.0%\",\"0.0%\",\"0.0%\",\"0.0%\",\"0.0%\",\"0.0%\",\"0.0%\",\"0.0%\",\"0.0%\",\"0.0%\",\"0.0%\",\"1.5%\",\"0.0%\",\"0.0%\",\"0.2%\",\"0.0%\",\"0.0%\",\"0.0%\",\"0.0%\",\"0.0%\",\"0.0%\",\"0.0%\",\"0.0%\",\"0.0%\",\"0.0%\",\"0.0%\",\"0.0%\",\"0.0%\",\"0.0%\",\"0.0%\",\"0.0%\",\"0.0%\",\"0.0%\",\"0.0%\",\"0.1%\",\"0.0%\",\"0.0%\",\"0.0%\",\"0.0%\",\"0.0%\",\"0.0%\",\"0.0%\",\"0.0%\",\"0.0%\",\"0.0%\",\"0.0%\",\"0.0%\",\"0.4%\",\"0.0%\",\"0.0%\",\"0.0%\",\"0.0%\",\"0.0%\",\"0.0%\",\"0.0%\",\"0.0%\",\"0.0%\",\"0.0%\",\"0.0%\",\"0.0%\",\"0.0%\",\"0.0%\",\"0.0%\",\"0.0%\",\"0.0%\",\"0.0%\",\"0.0%\",\"0.0%\",\"0.0%\",\"0.0%\",\"0.0%\",\"0.0%\",\"0.0%\",\"0.0%\",\"0.0%\",\"0.0%\",\"0.0%\",\"0.0%\",\"0.0%\",\"0.0%\",\"0.0%\",\"0.1%\",\"0.0%\",\"0.0%\",\"0.0%\",\"0.0%\",\"0.0%\",\"0.0%\",\"0.0%\",\"0.0%\",\"0.0%\",\"0.0%\",\"0.0%\",\"0.1%\",\"0.2%\",\"0.0%\",\"0.0%\",\"0.0%\",\"0.0%\",\"0.0%\",\"0.0%\",\"0.0%\",\"0.0%\",\"0.0%\",\"0.0%\",\"0.0%\",\"0.0%\",\"0.0%\",\"0.0%\",\"0.0%\",\"0.0%\",\"0.0%\",\"0.0%\",\"0.0%\",\"0.0%\",\"0.0%\",\"0.0%\",\"0.0%\",\"0.0%\",\"0.1%\",\"0.0%\",\"0.0%\",\"0.0%\",\"0.0%\",\"0.0%\",\"0.0%\",\"0.0%\",\"0.0%\",\"0.0%\",\"0.1%\",\"0.1%\",\"0.0%\",\"0.0%\",\"0.0%\",\"0.0%\",\"0.0%\",\"0.0%\",\"0.0%\",\"0.0%\",\"0.0%\",\"0.0%\",\"0.0%\",\"0.0%\",\"0.0%\",\"0.1%\",\"0.0%\",\"0.0%\",\"0.0%\",\"0.0%\",\"0.0%\",\"0.0%\",\"0.0%\",\"0.0%\",\"0.0%\",\"0.0%\",\"0.0%\",\"0.0%\",\"0.0%\",\"0.0%\",\"0.0%\",\"0.0%\",\"0.0%\",\"0.0%\",\"0.0%\",\"0.0%\",\"0.0%\",\"0.0%\",\"0.0%\",\"0.0%\",\"0.0%\",\"0.0%\",\"0.0%\",\"0.0%\",\"0.0%\",\"0.0%\",\"0.0%\",\"0.0%\",\"0.0%\",\"0.0%\",\"0.0%\",\"0.0%\",\"0.2%\",\"0.0%\",\"0.0%\",\"0.0%\",\"0.0%\",\"0.0%\",\"0.0%\",\"0.0%\",\"0.0%\",\"0.0%\",\"0.0%\",\"0.0%\",\"0.0%\",\"0.0%\",\"0.0%\",\"0.0%\",\"0.0%\",\"0.0%\",\"1.2%\",\"4.2%\",\"0.0%\",\"0.0%\",\"0.0%\",\"0.0%\",\"0.0%\",\"0.0%\",\"0.1%\",\"0.0%\",\"0.0%\",\"0.0%\",\"0.0%\",\"0.0%\",\"0.0%\",\"0.0%\",\"0.0%\",\"0.0%\",\"0.0%\",\"0.0%\",\"0.0%\",\"0.0%\",\"0.0%\",\"0.0%\",\"0.0%\",\"0.0%\",\"0.0%\",\"0.0%\",\"0.0%\",\"0.0%\",\"0.0%\",\"0.0%\",\"0.0%\",\"0.0%\",\"0.0%\",\"0.0%\",\"0.0%\",\"0.0%\",\"0.0%\",\"0.0%\",\"0.4%\",\"0.0%\",\"0.0%\",\"0.0%\",\"0.0%\",\"0.0%\",\"0.0%\",\"0.0%\",\"0.0%\",\"0.0%\",\"0.1%\",\"0.0%\",\"0.0%\",\"0.0%\",\"0.0%\",\"0.0%\",\"0.0%\",\"0.1%\",\"0.0%\",\"0.0%\",\"0.0%\",\"0.0%\",\"0.0%\",\"0.0%\",\"0.0%\",\"0.0%\",\"0.0%\",\"0.0%\",\"0.0%\",\"0.1%\",\"0.3%\",\"0.0%\",\"0.0%\",\"0.0%\",\"0.0%\",\"0.0%\",\"0.0%\",\"0.0%\",\"0.0%\",\"0.0%\",\"0.0%\",\"0.0%\",\"0.0%\",\"0.0%\",\"0.0%\",\"0.0%\",\"0.0%\",\"0.0%\",\"0.1%\",\"0.0%\",\"0.0%\",\"0.0%\",\"0.0%\",\"0.0%\",\"0.0%\",\"0.0%\",\"0.1%\",\"0.2%\",\"0.0%\",\"0.0%\",\"0.0%\",\"0.0%\",\"0.0%\",\"0.0%\",\"0.0%\",\"0.0%\",\"0.0%\",\"0.0%\",\"0.0%\",\"0.0%\",\"0.0%\",\"0.0%\",\"0.0%\",\"0.0%\",\"0.3%\",\"0.8%\",\"0.0%\",\"0.0%\",\"0.0%\",\"0.0%\",\"0.0%\",\"0.0%\",\"0.0%\",\"0.0%\",\"0.0%\",\"0.0%\",\"0.0%\",\"0.0%\",\"0.0%\",\"0.0%\",\"0.0%\",\"0.0%\",\"0.1%\",\"0.0%\",\"0.0%\",\"0.0%\",\"0.0%\",\"0.0%\",\"0.0%\",\"0.0%\",\"0.0%\",\"0.0%\",\"0.0%\",\"0.0%\",\"0.0%\",\"0.1%\",\"0.0%\",\"0.0%\",\"0.0%\",\"0.0%\",\"0.0%\",\"0.0%\",\"0.0%\",\"0.0%\",\"0.0%\",\"0.0%\",\"0.0%\",\"0.0%\",\"0.1%\",\"0.0%\",\"0.0%\",\"0.0%\",\"0.0%\",\"0.0%\",\"0.0%\",\"0.0%\",\"0.0%\",\"0.1%\",\"0.0%\",\"0.0%\",\"0.0%\",\"0.0%\",\"0.0%\",\"0.0%\",\"0.0%\",\"0.0%\",\"0.0%\",\"0.0%\",\"0.0%\",\"0.0%\",\"0.0%\",\"0.0%\",\"0.0%\",\"0.0%\",\"0.0%\",\"0.0%\",\"0.0%\",\"0.0%\",\"0.0%\",\"0.0%\",\"0.0%\",\"0.0%\",\"0.0%\",\"0.1%\",\"0.0%\",\"0.0%\",\"0.0%\",\"0.1%\",\"0.8%\",\"0.0%\",\"0.0%\",\"0.0%\",\"0.0%\",\"0.0%\",\"0.0%\",\"0.0%\",\"0.0%\",\"0.0%\",\"0.0%\",\"0.0%\",\"0.0%\",\"0.0%\",\"0.0%\",\"0.1%\",\"0.0%\",\"0.0%\",\"0.0%\",\"0.0%\",\"0.0%\",\"0.0%\",\"0.0%\",\"0.0%\",\"0.0%\",\"0.0%\",\"0.0%\",\"0.0%\",\"0.0%\",\"0.0%\",\"0.0%\",\"0.0%\",\"0.0%\",\"0.0%\",\"0.0%\",\"0.0%\",\"0.0%\",\"0.0%\",\"0.0%\",\"0.0%\",\"0.0%\",\"0.0%\",\"0.0%\",\"0.0%\",\"0.0%\",\"0.0%\",\"0.0%\",\"0.0%\",\"0.0%\",\"0.0%\",\"0.0%\",\"1.5%\",\"9.7%\",\"0.0%\",\"0.0%\",\"0.0%\",\"0.0%\",\"0.0%\",\"0.0%\",\"0.0%\",\"0.0%\",\"0.2%\",\"0.0%\",\"0.1%\",\"0.0%\",\"0.0%\",\"0.1%\",\"0.0%\",\"0.0%\",\"0.0%\",\"0.0%\",\"0.0%\",\"0.0%\",\"0.0%\",\"0.2%\",\"0.0%\",\"0.0%\",\"0.1%\",\"0.0%\",\"0.0%\",\"0.0%\",\"0.0%\",\"0.1%\",\"0.0%\",\"0.0%\",\"0.1%\",\"0.1%\",\"0.0%\",\"0.0%\",\"0.0%\",\"0.1%\",\"0.0%\",\"0.0%\",\"0.0%\",\"0.0%\",\"0.0%\",\"0.0%\",\"0.0%\",\"0.0%\",\"0.0%\",\"0.4%\",\"0.0%\",\"0.1%\",\"0.0%\",\"0.2%\",\"0.0%\",\"0.0%\",\"0.0%\",\"0.0%\",\"0.0%\",\"0.0%\",\"0.0%\",\"0.0%\",\"0.0%\",\"0.0%\",\"0.0%\",\"0.0%\",\"0.0%\",\"0.0%\",\"0.0%\",\"0.5%\",\"0.1%\",\"0.1%\",\"0.0%\",\"0.0%\",\"0.0%\",\"0.0%\",\"0.0%\",\"0.1%\",\"0.0%\",\"0.0%\",\"0.1%\",\"0.0%\",\"0.0%\",\"0.0%\",\"0.0%\",\"0.0%\",\"0.0%\",\"0.0%\",\"0.0%\",\"0.0%\",\"0.0%\",\"0.0%\",\"0.0%\",\"0.0%\",\"0.0%\",\"0.0%\",\"0.0%\",\"0.0%\",\"0.0%\",\"0.0%\",\"0.0%\",\"0.0%\",\"0.1%\",\"0.2%\",\"0.0%\",\"0.0%\",\"0.0%\",\"0.0%\",\"0.0%\",\"0.0%\",\"0.0%\",\"0.0%\",\"0.0%\",\"0.0%\",\"0.0%\",\"0.0%\",\"0.0%\",\"0.0%\",\"0.0%\",\"0.0%\",\"0.0%\",\"0.1%\",\"0.3%\",\"0.0%\",\"0.0%\",\"0.0%\",\"0.0%\",\"0.0%\",\"0.0%\",\"0.0%\",\"0.1%\",\"0.0%\",\"0.0%\",\"0.0%\",\"0.0%\",\"0.0%\",\"0.0%\",\"0.0%\",\"0.0%\",\"0.2%\",\"0.0%\",\"0.0%\",\"0.0%\",\"0.0%\",\"0.0%\",\"0.0%\",\"0.0%\",\"0.0%\",\"0.0%\",\"0.0%\",\"0.0%\",\"0.1%\",\"0.2%\",\"0.0%\",\"0.0%\",\"0.0%\",\"0.0%\",\"0.0%\",\"0.0%\",\"0.0%\",\"0.0%\",\"0.0%\",\"0.0%\",\"0.0%\",\"0.0%\",\"0.0%\",\"0.0%\",\"0.0%\",\"0.0%\",\"0.0%\",\"0.0%\",\"0.1%\",\"0.3%\",\"0.0%\",\"0.0%\",\"0.0%\",\"0.0%\",\"0.0%\",\"0.0%\",\"0.0%\",\"0.0%\",\"0.0%\",\"0.0%\",\"0.2%\",\"1.2%\",\"0.0%\",\"0.0%\",\"0.0%\",\"0.0%\",\"0.0%\",\"0.0%\",\"0.0%\",\"0.0%\",\"0.0%\",\"0.0%\",\"0.0%\",\"0.0%\",\"0.0%\",\"0.0%\",\"0.0%\",\"0.0%\",\"0.0%\",\"0.0%\",\"0.0%\",\"0.1%\",\"0.1%\",\"0.0%\",\"0.0%\",\"0.0%\",\"0.0%\",\"0.0%\",\"0.2%\",\"0.8%\",\"0.0%\",\"0.0%\",\"0.0%\",\"0.0%\",\"0.0%\",\"0.0%\",\"0.0%\",\"0.0%\",\"0.0%\",\"0.0%\",\"0.0%\",\"0.0%\",\"0.0%\",\"0.0%\",\"0.0%\",\"0.1%\",\"0.0%\",\"0.0%\",\"0.0%\",\"0.0%\",\"0.0%\",\"0.0%\",\"0.0%\",\"0.0%\",\"0.0%\",\"0.0%\",\"0.0%\",\"0.0%\",\"0.0%\",\"0.0%\",\"0.0%\",\"0.0%\",\"0.0%\",\"0.0%\",\"0.0%\",\"0.0%\",\"0.0%\",\"0.0%\",\"0.1%\",\"0.0%\",\"0.0%\",\"0.0%\",\"0.0%\",\"0.0%\",\"0.0%\",\"0.0%\",\"0.0%\",\"0.0%\",\"0.0%\",\"0.0%\",\"0.0%\",\"0.0%\",\"0.0%\",\"0.0%\",\"0.0%\",\"0.1%\",\"0.0%\",\"0.0%\",\"0.0%\",\"0.0%\",\"0.0%\",\"0.0%\",\"0.0%\",\"0.0%\",\"0.0%\",\"0.0%\",\"0.0%\",\"0.0%\",\"0.0%\",\"0.0%\",\"0.0%\",\"0.0%\",\"0.1%\",\"0.0%\",\"0.0%\",\"0.0%\",\"0.0%\",\"0.0%\",\"0.0%\",\"0.0%\",\"0.0%\",\"0.0%\",\"0.0%\",\"0.0%\",\"0.0%\",\"0.1%\",\"0.0%\",\"0.0%\",\"0.0%\",\"0.0%\",\"0.0%\",\"0.0%\",\"0.1%\",\"0.0%\",\"0.1%\",\"0.1%\",\"0.0%\",\"0.0%\",\"0.0%\",\"0.0%\",\"0.0%\",\"0.0%\",\"0.0%\",\"0.0%\",\"0.0%\",\"0.0%\",\"0.0%\",\"0.0%\",\"0.0%\",\"0.0%\",\"0.0%\",\"0.0%\",\"0.1%\",\"0.0%\",\"0.0%\",\"0.0%\",\"0.0%\",\"0.0%\",\"0.0%\",\"0.0%\",\"0.0%\",\"0.0%\",\"0.0%\",\"0.0%\",\"0.0%\",\"0.0%\",\"0.0%\",\"0.0%\",\"0.1%\",\"0.0%\",\"0.0%\",\"0.0%\",\"0.0%\",\"0.0%\",\"0.0%\",\"1.9%\",\"11.7%\",\"0.0%\",\"0.0%\",\"0.0%\",\"0.0%\",\"0.0%\",\"0.1%\",\"0.0%\",\"0.0%\",\"0.0%\",\"0.0%\",\"0.0%\",\"0.0%\",\"0.0%\",\"0.0%\",\"0.1%\",\"0.0%\",\"0.0%\",\"0.0%\",\"0.0%\",\"0.0%\",\"0.1%\",\"0.0%\",\"0.1%\",\"0.0%\",\"0.0%\",\"0.0%\",\"0.0%\",\"0.0%\",\"0.0%\",\"0.0%\",\"0.0%\",\"0.0%\",\"0.0%\",\"0.0%\",\"0.3%\",\"0.0%\",\"0.0%\",\"0.0%\",\"0.0%\",\"0.0%\",\"0.0%\",\"0.0%\",\"0.0%\",\"0.0%\",\"0.0%\",\"0.0%\",\"0.0%\",\"0.0%\",\"0.0%\",\"0.1%\",\"0.6%\",\"0.0%\",\"0.0%\",\"0.0%\",\"0.0%\",\"0.0%\",\"0.0%\",\"0.0%\",\"0.0%\",\"0.0%\",\"0.0%\",\"0.0%\",\"0.0%\",\"0.0%\",\"0.1%\",\"0.0%\",\"0.0%\",\"0.0%\",\"0.0%\",\"0.0%\",\"0.0%\",\"0.1%\",\"0.8%\",\"0.0%\",\"0.0%\",\"0.0%\",\"0.0%\",\"0.0%\",\"0.0%\",\"0.0%\",\"0.0%\",\"0.0%\",\"0.0%\",\"0.0%\",\"0.0%\",\"0.0%\",\"0.0%\",\"0.0%\",\"0.0%\",\"0.0%\",\"0.0%\",\"0.0%\",\"0.0%\",\"0.0%\",\"0.0%\",\"0.0%\",\"0.0%\",\"0.0%\",\"0.0%\",\"0.0%\",\"0.1%\",\"0.1%\",\"0.0%\",\"0.0%\",\"0.0%\",\"0.0%\",\"0.0%\",\"0.1%\",\"0.2%\",\"0.0%\",\"0.0%\",\"0.0%\",\"0.0%\",\"0.0%\",\"0.0%\",\"0.0%\",\"0.0%\",\"0.0%\",\"0.0%\",\"0.0%\",\"0.0%\",\"0.0%\",\"0.0%\",\"0.1%\",\"0.2%\",\"0.1%\",\"0.0%\",\"0.0%\",\"0.0%\",\"0.0%\",\"0.0%\",\"0.1%\",\"0.0%\",\"0.0%\",\"0.0%\",\"0.0%\",\"0.0%\",\"0.0%\",\"0.0%\",\"0.0%\",\"0.0%\",\"0.0%\",\"0.0%\",\"0.0%\",\"0.0%\",\"0.3%\",\"0.0%\",\"0.0%\",\"0.0%\",\"0.0%\",\"0.0%\",\"0.0%\",\"0.0%\",\"0.0%\",\"0.0%\",\"0.0%\",\"0.0%\",\"0.0%\",\"0.0%\",\"0.0%\",\"0.1%\",\"0.9%\",\"0.0%\",\"0.0%\",\"0.0%\",\"0.0%\",\"0.0%\",\"0.0%\",\"0.0%\",\"0.0%\",\"0.0%\",\"0.1%\",\"0.0%\",\"0.0%\",\"0.0%\",\"0.0%\",\"0.0%\",\"0.0%\",\"0.0%\",\"0.0%\",\"0.0%\",\"0.0%\",\"0.0%\",\"0.0%\",\"0.0%\",\"0.0%\",\"0.0%\",\"0.1%\",\"0.0%\",\"0.0%\",\"0.0%\",\"0.0%\",\"0.0%\",\"0.0%\",\"0.0%\",\"0.0%\",\"0.0%\",\"0.1%\",\"0.0%\",\"0.0%\",\"0.0%\",\"0.0%\",\"0.0%\",\"0.0%\",\"0.0%\",\"0.0%\",\"0.0%\",\"0.0%\",\"0.0%\",\"0.0%\",\"0.0%\",\"0.0%\",\"0.3%\",\"0.6%\",\"0.0%\",\"0.0%\",\"0.0%\",\"0.0%\",\"0.0%\",\"0.0%\",\"0.0%\",\"0.0%\",\"0.0%\",\"0.0%\",\"0.0%\",\"0.0%\",\"0.0%\",\"0.0%\",\"0.0%\",\"0.1%\",\"0.0%\",\"0.0%\",\"0.0%\",\"0.0%\",\"0.0%\",\"0.0%\",\"0.0%\",\"0.0%\",\"0.0%\",\"0.0%\",\"0.0%\",\"0.0%\",\"0.0%\",\"0.0%\",\"0.0%\",\"0.0%\",\"0.0%\",\"0.0%\",\"0.0%\",\"0.1%\",\"0.0%\",\"0.0%\",\"0.0%\",\"0.0%\",\"0.0%\",\"0.0%\",\"0.0%\",\"0.0%\",\"0.1%\",\"0.0%\",\"0.0%\",\"0.0%\",\"0.0%\",\"0.0%\",\"0.0%\",\"0.0%\",\"0.0%\",\"0.0%\",\"0.0%\",\"0.0%\",\"0.1%\",\"0.0%\",\"0.0%\",\"0.0%\",\"0.0%\",\"0.0%\",\"0.3%\",\"0.6%\",\"0.0%\",\"0.0%\",\"0.0%\",\"0.0%\",\"0.0%\",\"0.0%\",\"0.0%\",\"0.0%\",\"0.0%\",\"0.0%\",\"0.0%\",\"0.0%\",\"0.0%\",\"0.0%\",\"0.0%\",\"0.0%\",\"0.0%\",\"0.0%\",\"0.0%\",\"0.0%\",\"0.0%\",\"0.0%\",\"0.0%\",\"0.6%\",\"0.9%\",\"0.0%\",\"0.0%\",\"0.0%\",\"0.0%\",\"0.0%\",\"0.0%\",\"0.0%\",\"0.0%\",\"0.0%\",\"0.0%\",\"0.0%\",\"0.0%\",\"0.1%\",\"0.0%\",\"0.1%\",\"0.0%\",\"0.0%\",\"0.0%\",\"0.0%\",\"0.0%\",\"0.0%\",\"0.0%\",\"0.0%\",\"0.0%\",\"0.0%\",\"0.1%\",\"0.0%\",\"0.0%\",\"0.0%\",\"0.0%\",\"0.0%\",\"0.0%\",\"0.0%\",\"0.0%\",\"0.0%\",\"0.0%\",\"0.1%\",\"0.0%\",\"0.0%\",\"0.0%\",\"0.0%\",\"0.0%\",\"0.0%\",\"0.0%\",\"0.0%\",\"0.0%\",\"0.0%\",\"0.0%\",\"0.0%\",\"0.0%\",\"0.0%\",\"0.0%\",\"0.0%\",\"0.0%\",\"0.0%\",\"0.0%\",\"0.0%\",\"0.0%\",\"0.0%\",\"0.1%\",\"1.0%\",\"0.0%\",\"0.0%\",\"0.0%\",\"0.0%\",\"0.0%\",\"0.0%\",\"0.0%\",\"0.0%\",\"0.0%\",\"0.0%\",\"0.0%\",\"0.0%\",\"0.0%\",\"0.0%\",\"0.0%\",\"0.0%\",\"0.0%\",\"0.0%\",\"0.0%\",\"0.0%\",\"0.0%\",\"0.0%\",\"0.0%\",\"0.0%\",\"0.0%\",\"0.0%\",\"0.0%\",\"0.0%\",\"0.1%\",\"0.0%\",\"0.0%\",\"0.0%\",\"0.0%\",\"0.0%\",\"0.0%\",\"0.0%\",\"0.0%\",\"0.0%\",\"0.0%\",\"0.0%\",\"0.0%\",\"0.0%\",\"0.0%\",\"0.0%\",\"0.0%\",\"0.1%\",\"0.0%\",\"0.0%\",\"0.0%\",\"0.0%\",\"0.0%\",\"0.0%\",\"0.0%\",\"0.0%\",\"0.0%\",\"0.0%\",\"0.0%\",\"0.1%\",\"0.2%\",\"0.0%\",\"0.0%\",\"0.0%\",\"0.0%\",\"0.0%\",\"0.0%\",\"0.0%\",\"0.0%\",\"0.0%\",\"0.0%\",\"0.0%\",\"0.0%\",\"0.0%\",\"0.1%\",\"0.0%\",\"0.0%\",\"0.0%\",\"0.0%\",\"0.0%\",\"0.0%\",\"0.0%\",\"0.0%\",\"0.0%\",\"0.1%\",\"0.0%\",\"0.0%\",\"0.0%\",\"0.0%\",\"0.0%\",\"0.0%\",\"0.0%\",\"0.0%\",\"0.0%\",\"0.0%\",\"0.0%\",\"0.0%\",\"0.0%\",\"0.0%\",\"0.1%\",\"0.0%\",\"0.0%\",\"0.0%\",\"0.0%\",\"0.0%\",\"0.0%\",\"0.0%\",\"0.0%\",\"0.0%\",\"0.0%\",\"0.0%\",\"0.0%\",\"0.0%\",\"0.1%\",\"0.0%\",\"0.0%\",\"0.0%\",\"0.0%\",\"0.0%\",\"0.0%\",\"0.0%\",\"0.0%\",\"0.0%\",\"0.0%\",\"0.0%\",\"0.0%\",\"0.1%\",\"0.0%\",\"0.0%\",\"0.0%\",\"0.0%\",\"0.0%\",\"0.0%\",\"0.0%\",\"0.0%\",\"0.0%\",\"0.0%\",\"0.0%\",\"0.0%\",\"0.0%\",\"0.0%\",\"0.0%\",\"0.0%\",\"0.0%\",\"0.0%\",\"0.1%\",\"0.1%\",\"0.0%\",\"0.0%\",\"0.0%\",\"0.0%\",\"0.0%\",\"0.0%\",\"0.0%\",\"0.0%\",\"0.0%\",\"0.0%\",\"0.2%\",\"0.9%\",\"0.0%\",\"0.0%\",\"0.0%\",\"0.0%\",\"0.0%\",\"0.1%\",\"0.0%\",\"0.0%\",\"0.0%\",\"0.0%\",\"0.0%\",\"0.0%\",\"0.0%\",\"0.0%\",\"0.1%\",\"0.0%\",\"0.0%\",\"0.0%\",\"0.0%\",\"0.0%\",\"0.0%\",\"0.0%\",\"0.0%\",\"0.0%\",\"0.0%\",\"0.0%\"],\"textposition\":\"auto\",\"x\":[\"Affenpinscher\",\"Affenpinscher Mix\",\"Afghan Hound Mix\",\"Afghan Hound/Labrador Retriever\",\"Airedale Terrier\",\"Airedale Terrier Mix\",\"Airedale Terrier/Irish Terrier\",\"Airedale Terrier/Labrador Retriever\",\"Airedale Terrier/Miniature Schnauzer\",\"Airedale Terrier/Otterhound\",\"Airedale Terrier/Standard Poodle\",\"Akbash Mix\",\"Akita\",\"Akita Mix\",\"Akita/Australian Cattle Dog\",\"Akita/Border Collie\",\"Akita/German Shepherd\",\"Akita/Great Pyrenees\",\"Akita/Labrador Retriever\",\"Akita/Mastiff\",\"Akita/Pit Bull\",\"Akita/Siberian Husky\",\"Alaskan Husky\",\"Alaskan Husky Mix\",\"Alaskan Husky/Australian Shepherd\",\"Alaskan Husky/Border Collie\",\"Alaskan Husky/Catahoula\",\"Alaskan Husky/Chow Chow\",\"Alaskan Husky/German Shepherd\",\"Alaskan Husky/Labrador Retriever\",\"Alaskan Husky/Miniature Pinscher\",\"Alaskan Klee Kai\",\"Alaskan Malamute\",\"Alaskan Malamute Mix\",\"Alaskan Malamute/Akita\",\"Alaskan Malamute/Alaskan Husky\",\"Alaskan Malamute/Australian Kelpie\",\"Alaskan Malamute/Border Collie\",\"Alaskan Malamute/German Shepherd\",\"Alaskan Malamute/Labrador Retriever\",\"Alaskan Malamute/Siberian Husky\",\"American Bulldog\",\"American Bulldog Mix\",\"American Bulldog/American Staffordshire Terrier\",\"American Bulldog/Basset Hound\",\"American Bulldog/Blue Lacy\",\"American Bulldog/Boxer\",\"American Bulldog/Dalmatian\",\"American Bulldog/English Bulldog\",\"American Bulldog/Great Pyrenees\",\"American Bulldog/Labrador Retriever\",\"American Bulldog/Mastiff\",\"American Bulldog/Pit Bull\",\"American Bulldog/Pointer\",\"American Bulldog/Queensland Heeler\",\"American Eskimo\",\"American Eskimo Mix\",\"American Eskimo/Alaskan Husky\",\"American Eskimo/Australian Shepherd\",\"American Eskimo/Border Collie\",\"American Foxhound\",\"American Foxhound Mix\",\"American Foxhound/Beagle\",\"American Foxhound/Labrador Retriever\",\"American Foxhound/Pit Bull\",\"American Foxhound/Pointer\",\"American Pit Bull Terrier\",\"American Pit Bull Terrier Mix\",\"American Pit Bull Terrier/American Bulldog\",\"American Pit Bull Terrier/American Pit Bull Terrier\",\"American Pit Bull Terrier/Basenji\",\"American Pit Bull Terrier/Boxer\",\"American Pit Bull Terrier/Catahoula\",\"American Pit Bull Terrier/Dachshund\",\"American Pit Bull Terrier/Labrador Retriever\",\"American Pit Bull Terrier/Pit Bull\",\"American Pit Bull Terrier/Pointer\",\"American Pit Bull Terrier/Weimaraner\",\"American Staffordshire Terrier\",\"American Staffordshire Terrier Mix\",\"American Staffordshire Terrier/American Bulldog\",\"American Staffordshire Terrier/Australian Cattle Dog\",\"American Staffordshire Terrier/Boxer\",\"American Staffordshire Terrier/Catahoula\",\"American Staffordshire Terrier/Chinese Sharpei\",\"American Staffordshire Terrier/French Bulldog\",\"American Staffordshire Terrier/Jack Russell Terrier\",\"American Staffordshire Terrier/Labrador Retriever\",\"American Staffordshire Terrier/Pit Bull\",\"American Staffordshire Terrier/Plott Hound\",\"American Staffordshire Terrier/Rhod Ridgeback\",\"American Staffordshire Terrier/Rottweiler\",\"Anatol Shepherd\",\"Anatol Shepherd Mix\",\"Anatol Shepherd/Akita\",\"Anatol Shepherd/Alaskan Husky\",\"Anatol Shepherd/Australian Cattle Dog\",\"Anatol Shepherd/Australian Shepherd\",\"Anatol Shepherd/Belgian Malinois\",\"Anatol Shepherd/Black Mouth Cur\",\"Anatol Shepherd/Border Collie\",\"Anatol Shepherd/Boxer\",\"Anatol Shepherd/Catahoula\",\"Anatol Shepherd/Chow Chow\",\"Anatol Shepherd/Collie Rough\",\"Anatol Shepherd/German Shepherd\",\"Anatol Shepherd/German Shorthair Pointer\",\"Anatol Shepherd/Great Pyrenees\",\"Anatol Shepherd/Kangal\",\"Anatol Shepherd/Labrador Retriever\",\"Anatol Shepherd/Pit Bull\",\"Anatol Shepherd/Redbone Hound\",\"Anatol Shepherd/Rhod Ridgeback\",\"Anatol Shepherd/Saluki\",\"Anatol Shepherd/Siberian Husky\",\"Australian Cattle Dog\",\"Australian Cattle Dog Mix\",\"Australian Cattle Dog/Alaskan Husky\",\"Australian Cattle Dog/American Foxhound\",\"Australian Cattle Dog/American Pit Bull Terrier\",\"Australian Cattle Dog/American Staffordshire Terrier\",\"Australian Cattle Dog/Anatol Shepherd\",\"Australian Cattle Dog/Australian Cattle Dog\",\"Australian Cattle Dog/Australian Kelpie\",\"Australian Cattle Dog/Australian Shepherd\",\"Australian Cattle Dog/Basenji\",\"Australian Cattle Dog/Basset Hound\",\"Australian Cattle Dog/Beagle\",\"Australian Cattle Dog/Belgian Malinois\",\"Australian Cattle Dog/Bernese Mountain Dog\",\"Australian Cattle Dog/Black Mouth Cur\",\"Australian Cattle Dog/Bloodhound\",\"Australian Cattle Dog/Border Collie\",\"Australian Cattle Dog/Boston Terrier\",\"Australian Cattle Dog/Boxer\",\"Australian Cattle Dog/Bull Terrier\",\"Australian Cattle Dog/Cairn Terrier\",\"Australian Cattle Dog/Cardigan Welsh Corgi\",\"Australian Cattle Dog/Catahoula\",\"Australian Cattle Dog/Chihuahua Shorthair\",\"Australian Cattle Dog/Chinese Crested\",\"Australian Cattle Dog/Chinese Sharpei\",\"Australian Cattle Dog/Chow Chow\",\"Australian Cattle Dog/Collie Rough\",\"Australian Cattle Dog/Collie Smooth\",\"Australian Cattle Dog/Dachshund\",\"Australian Cattle Dog/Dalmatian\",\"Australian Cattle Dog/Dutch Shepherd\",\"Australian Cattle Dog/English Coonhound\",\"Australian Cattle Dog/German Shepherd\",\"Australian Cattle Dog/German Shorthair Pointer\",\"Australian Cattle Dog/Golden Retriever\",\"Australian Cattle Dog/Great Pyrenees\",\"Australian Cattle Dog/Jack Russell Terrier\",\"Australian Cattle Dog/Labrador Retriever\",\"Australian Cattle Dog/Norfolk Terrier\",\"Australian Cattle Dog/Parson Russell Terrier\",\"Australian Cattle Dog/Patterdale Terr\",\"Australian Cattle Dog/Pembroke Welsh Corgi\",\"Australian Cattle Dog/Pit Bull\",\"Australian Cattle Dog/Plott Hound\",\"Australian Cattle Dog/Pointer\",\"Australian Cattle Dog/Pug\",\"Australian Cattle Dog/Queensland Heeler\",\"Australian Cattle Dog/Rat Terrier\",\"Australian Cattle Dog/Rhod Ridgeback\",\"Australian Cattle Dog/Siberian Husky\",\"Australian Cattle Dog/St. Bernard Smooth Coat\",\"Australian Cattle Dog/Staffordshire\",\"Australian Cattle Dog/Treeing Walker Coonhound\",\"Australian Cattle Dog/Vizsla\",\"Australian Cattle Dog/Whippet\",\"Australian Kelpie\",\"Australian Kelpie Mix\",\"Australian Kelpie/Alaskan Husky\",\"Australian Kelpie/American Pit Bull Terrier\",\"Australian Kelpie/Australian Shepherd\",\"Australian Kelpie/Beagle\",\"Australian Kelpie/Blue Lacy\",\"Australian Kelpie/Border Collie\",\"Australian Kelpie/Bull Terrier\",\"Australian Kelpie/Catahoula\",\"Australian Kelpie/Chihuahua Longhair\",\"Australian Kelpie/Chihuahua Shorthair\",\"Australian Kelpie/Chinese Sharpei\",\"Australian Kelpie/Dachshund\",\"Australian Kelpie/Finnish Spitz\",\"Australian Kelpie/German Shepherd\",\"Australian Kelpie/Golden Retriever\",\"Australian Kelpie/Labrador Retriever\",\"Australian Kelpie/Miniature Pinscher\",\"Australian Kelpie/Pit Bull\",\"Australian Kelpie/Plott Hound\",\"Australian Kelpie/Rat Terrier\",\"Australian Kelpie/Shiba Inu\",\"Australian Kelpie/Siberian Husky\",\"Australian Kelpie/Staffordshire\",\"Australian Kelpie/Whippet\",\"Australian Shepherd\",\"Australian Shepherd Mix\",\"Australian Shepherd/Alaskan Malamute\",\"Australian Shepherd/Anatol Shepherd\",\"Australian Shepherd/Australian Cattle Dog\",\"Australian Shepherd/Australian Kelpie\",\"Australian Shepherd/Basset Hound\",\"Australian Shepherd/Beagle\",\"Australian Shepherd/Border Collie\",\"Australian Shepherd/Boxer\",\"Australian Shepherd/Brittany\",\"Australian Shepherd/Cardigan Welsh Corgi\",\"Australian Shepherd/Catahoula\",\"Australian Shepherd/Cavalier Span\",\"Australian Shepherd/Chihuahua Shorthair\",\"Australian Shepherd/Chow Chow\",\"Australian Shepherd/Cocker Spaniel\",\"Australian Shepherd/Collie Rough\",\"Australian Shepherd/Collie Smooth\",\"Australian Shepherd/Dachshund\",\"Australian Shepherd/Dalmatian\",\"Australian Shepherd/English Setter\",\"Australian Shepherd/English Springer Spaniel\",\"Australian Shepherd/Feist\",\"Australian Shepherd/Field Spaniel\",\"Australian Shepherd/German Shepherd\",\"Australian Shepherd/Golden Retriever\",\"Australian Shepherd/Great Pyrenees\",\"Australian Shepherd/Greyhound\",\"Australian Shepherd/Jack Russell Terrier\",\"Australian Shepherd/Labrador Retriever\",\"Australian Shepherd/Nova Scotia Duck Tolling Retriever\",\"Australian Shepherd/Parson Russell Terrier\",\"Australian Shepherd/Pembroke Welsh Corgi\",\"Australian Shepherd/Pit Bull\",\"Australian Shepherd/Plott Hound\",\"Australian Shepherd/Queensland Heeler\",\"Australian Shepherd/Rhod Ridgeback\",\"Australian Shepherd/Rottweiler\",\"Australian Shepherd/Siberian Husky\",\"Australian Shepherd/Staffordshire\",\"Australian Shepherd/Standard Poodle\",\"Australian Shepherd/Unknown\",\"Australian Terrier\",\"Australian Terrier Mix\",\"Australian Terrier/Standard Schnauzer\",\"Basenji\",\"Basenji Mix\",\"Basenji/Australian Cattle Dog\",\"Basenji/Australian Kelpie\",\"Basenji/Beagle\",\"Basenji/Carolina Dog\",\"Basenji/Chihuahua Longhair\",\"Basenji/Chihuahua Shorthair\",\"Basenji/Chow Chow\",\"Basenji/Jack Russell Terrier\",\"Basenji/Labrador Retriever\",\"Basenji/Pit Bull\",\"Basenji/Rhod Ridgeback\",\"Basset Hound\",\"Basset Hound Mix\",\"Basset Hound/American Pit Bull Terrier\",\"Basset Hound/Australian Cattle Dog\",\"Basset Hound/Australian Shepherd\",\"Basset Hound/Beagle\",\"Basset Hound/Beauceron\",\"Basset Hound/Black/Tan Hound\",\"Basset Hound/Blue Lacy\",\"Basset Hound/Border Collie\",\"Basset Hound/Boxer\",\"Basset Hound/Cardigan Welsh Corgi\",\"Basset Hound/Chinese Sharpei\",\"Basset Hound/Dachshund\",\"Basset Hound/English Cocker Spaniel\",\"Basset Hound/English Pointer\",\"Basset Hound/French Bulldog\",\"Basset Hound/German Shepherd\",\"Basset Hound/Golden Retriever\",\"Basset Hound/Great Pyrenees\",\"Basset Hound/Labrador Retriever\",\"Basset Hound/Pembroke Welsh Corgi\",\"Basset Hound/Pit Bull\",\"Basset Hound/Pointer\",\"Basset Hound/Rat Terrier\",\"Beagle\",\"Beagle Mix\",\"Beagle/American Staffordshire Terrier\",\"Beagle/Australian Cattle Dog\",\"Beagle/Australian Kelpie\",\"Beagle/Australian Shepherd\",\"Beagle/Basset Hound\",\"Beagle/Black Mouth Cur\",\"Beagle/Border Collie\",\"Beagle/Borzoi\",\"Beagle/Boston Terrier\",\"Beagle/Boxer\",\"Beagle/Cairn Terrier\",\"Beagle/Cardigan Welsh Corgi\",\"Beagle/Catahoula\",\"Beagle/Cavalier Span\",\"Beagle/Chihuahua Longhair\",\"Beagle/Chihuahua Shorthair\",\"Beagle/Chinese Sharpei\",\"Beagle/Cocker Spaniel\",\"Beagle/Dachshund\",\"Beagle/Dachshund Longhair\",\"Beagle/English Coonhound\",\"Beagle/German Shepherd\",\"Beagle/German Shorthair Pointer\",\"Beagle/Harrier\",\"Beagle/Jack Russell Terrier\",\"Beagle/Labrador Retriever\",\"Beagle/Manchester Terrier\",\"Beagle/Mastiff\",\"Beagle/Miniature Pinscher\",\"Beagle/Parson Russell Terrier\",\"Beagle/Pekingese\",\"Beagle/Pembroke Welsh Corgi\",\"Beagle/Pit Bull\",\"Beagle/Plott Hound\",\"Beagle/Pointer\",\"Beagle/Pug\",\"Beagle/Queensland Heeler\",\"Beagle/Rat Terrier\",\"Beagle/Staffordshire\",\"Beagle/Treeing Walker Coonhound\",\"Beagle/Vizsla\",\"Beagle/Whippet\",\"Bearded Collie\",\"Bearded Collie Mix\",\"Bearded Collie/Border Collie\",\"Beauceron\",\"Beauceron Mix\",\"Beauceron/Labrador Retriever\",\"Bedlington Terr Mix\",\"Belgian Malinois\",\"Belgian Malinois Mix\",\"Belgian Malinois/Australian Shepherd\",\"Belgian Malinois/Cardigan Welsh Corgi\",\"Belgian Malinois/German Shepherd\",\"Belgian Malinois/Great Pyrenees\",\"Belgian Malinois/Labrador Retriever\",\"Belgian Malinois/Pit Bull\",\"Belgian Malinois/Treeing Cur\",\"Belgian Sheepdog\",\"Belgian Sheepdog Mix\",\"Belgian Tervuren Mix\",\"Belgian Tervuren/German Shepherd\",\"Bernese Mountain Dog\",\"Bernese Mountain Dog Mix\",\"Bernese Mountain Dog/Great Pyrenees\",\"Bernese Mountain Dog/Rottweiler\",\"Bichon Frise\",\"Bichon Frise Mix\",\"Bichon Frise/Lhasa Apso\",\"Bichon Frise/Miniature Poodle\",\"Bichon Frise/Pekingese\",\"Bichon Frise/Toy Poodle\",\"Black Mouth Cur\",\"Black Mouth Cur Mix\",\"Black Mouth Cur/American Staffordshire Terrier\",\"Black Mouth Cur/Anatol Shepherd\",\"Black Mouth Cur/Australian Cattle Dog\",\"Black Mouth Cur/Basset Hound\",\"Black Mouth Cur/Beagle\",\"Black Mouth Cur/Belgian Malinois\",\"Black Mouth Cur/Blue Lacy\",\"Black Mouth Cur/Boxer\",\"Black Mouth Cur/Catahoula\",\"Black Mouth Cur/Chinese Sharpei\",\"Black Mouth Cur/Chow Chow\",\"Black Mouth Cur/Dachshund\",\"Black Mouth Cur/Doberman Pinsch\",\"Black Mouth Cur/German Shepherd\",\"Black Mouth Cur/Great Dane\",\"Black Mouth Cur/Greyhound\",\"Black Mouth Cur/Labrador Retriever\",\"Black Mouth Cur/Mastiff\",\"Black Mouth Cur/Pit Bull\",\"Black Mouth Cur/Plott Hound\",\"Black Mouth Cur/Pointer\",\"Black Mouth Cur/Rhod Ridgeback\",\"Black Mouth Cur/Siberian Husky\",\"Black Mouth Cur/Staffordshire\",\"Black/Tan Hound\",\"Black/Tan Hound Mix\",\"Black/Tan Hound/Beagle\",\"Black/Tan Hound/Black Mouth Cur\",\"Black/Tan Hound/Doberman Pinsch\",\"Black/Tan Hound/German Shepherd\",\"Black/Tan Hound/Great Dane\",\"Black/Tan Hound/Labrador Retriever\",\"Black/Tan Hound/Siberian Husky\",\"Bloodhound\",\"Bloodhound Mix\",\"Bloodhound/German Shepherd\",\"Bloodhound/Great Pyrenees\",\"Bloodhound/Labrador Retriever\",\"Blue Lacy\",\"Blue Lacy Mix\",\"Blue Lacy/American Bulldog\",\"Blue Lacy/American Staffordshire Terrier\",\"Blue Lacy/Australian Cattle Dog\",\"Blue Lacy/Australian Kelpie\",\"Blue Lacy/Basset Hound\",\"Blue Lacy/Beagle\",\"Blue Lacy/Black Mouth Cur\",\"Blue Lacy/Cardigan Welsh Corgi\",\"Blue Lacy/Collie Smooth\",\"Blue Lacy/Great Dane\",\"Blue Lacy/Labrador Retriever\",\"Blue Lacy/Pit Bull\",\"Blue Lacy/Pointer\",\"Blue Lacy/Staffordshire\",\"Blue Lacy/Weimaraner\",\"Bluetick Hound\",\"Bluetick Hound Mix\",\"Bluetick Hound/Australian Cattle Dog\",\"Bluetick Hound/Australian Kelpie\",\"Bluetick Hound/Chinese Sharpei\",\"Bluetick Hound/Great Pyrenees\",\"Bluetick Hound/Treeing Walker Coonhound\",\"Boerboel\",\"Boerboel Mix\",\"Border Collie\",\"Border Collie Mix\",\"Border Collie/Akita\",\"Border Collie/Alaskan Husky\",\"Border Collie/American Eskimo\",\"Border Collie/American Staffordshire Terrier\",\"Border Collie/Anatol Shepherd\",\"Border Collie/Australian Cattle Dog\",\"Border Collie/Australian Kelpie\",\"Border Collie/Australian Shepherd\",\"Border Collie/Basenji\",\"Border Collie/Basset Hound\",\"Border Collie/Beagle\",\"Border Collie/Bernese Mountain Dog\",\"Border Collie/Blue Lacy\",\"Border Collie/Border Collie\",\"Border Collie/Boxer\",\"Border Collie/Brittany\",\"Border Collie/Bull Terrier\",\"Border Collie/Canaan Dog\",\"Border Collie/Cardigan Welsh Corgi\",\"Border Collie/Catahoula\",\"Border Collie/Chow Chow\",\"Border Collie/Collie Rough\",\"Border Collie/Dachshund\",\"Border Collie/Dalmatian\",\"Border Collie/Doberman Pinsch\",\"Border Collie/English Pointer\",\"Border Collie/English Springer Spaniel\",\"Border Collie/German Shepherd\",\"Border Collie/German Shorthair Pointer\",\"Border Collie/Great Dane\",\"Border Collie/Great Pyrenees\",\"Border Collie/Greyhound\",\"Border Collie/Jack Russell Terrier\",\"Border Collie/Labrador Retriever\",\"Border Collie/Mastiff\",\"Border Collie/Miniature Pinscher\",\"Border Collie/Parson Russell Terrier\",\"Border Collie/Pembroke Welsh Corgi\",\"Border Collie/Pit Bull\",\"Border Collie/Pointer\",\"Border Collie/Pomeranian\",\"Border Collie/Queensland Heeler\",\"Border Collie/Shetland Sheepdog\",\"Border Collie/Siberian Husky\",\"Border Collie/Staffordshire\",\"Border Collie/Standard Schnauzer\",\"Border Collie/Whippet\",\"Border Terrier\",\"Border Terrier Mix\",\"Border Terrier/Affenpinscher\",\"Border Terrier/Border Collie\",\"Border Terrier/Cardigan Welsh Corgi\",\"Border Terrier/Chihuahua Longhair\",\"Border Terrier/Chihuahua Shorthair\",\"Border Terrier/Dachshund\",\"Border Terrier/Dachshund Wirehair\",\"Border Terrier/Jack Russell Terrier\",\"Border Terrier/Labrador Retriever\",\"Border Terrier/Maltese\",\"Border Terrier/Miniature Poodle\",\"Border Terrier/Rat Terrier\",\"Border Terrier/Shih Tzu\",\"Border Terrier/Soft Coated Wheaten Terrier\",\"Border Terrier/Standard Schnauzer\",\"Border Terrier/Toy Fox Terrier\",\"Border Terrier/Welsh Terrier\",\"Border Terrier/West Highland\",\"Border Terrier/Yorkshire Terrier\",\"Boston Terrier\",\"Boston Terrier Mix\",\"Boston Terrier/Australian Kelpie\",\"Boston Terrier/Beagle\",\"Boston Terrier/Chihuahua Shorthair\",\"Boston Terrier/Dachshund\",\"Boston Terrier/French Bulldog\",\"Boston Terrier/Labrador Retriever\",\"Boston Terrier/Miniature Schnauzer\",\"Boston Terrier/Pembroke Welsh Corgi\",\"Boston Terrier/Pit Bull\",\"Boston Terrier/Pointer\",\"Boston Terrier/Pug\",\"Boston Terrier/Rat Terrier\",\"Bouv Flandres/Otterhound\",\"Boxer\",\"Boxer Mix\",\"Boxer/Akita\",\"Boxer/American Bulldog\",\"Boxer/American Pit Bull Terrier\",\"Boxer/American Staffordshire Terrier\",\"Boxer/Anatol Shepherd\",\"Boxer/Australian Cattle Dog\",\"Boxer/Australian Kelpie\",\"Boxer/Beagle\",\"Boxer/Black Mouth Cur\",\"Boxer/Border Collie\",\"Boxer/Boston Terrier\",\"Boxer/Boxer\",\"Boxer/Bulldog\",\"Boxer/Bullmastiff\",\"Boxer/Cardigan Welsh Corgi\",\"Boxer/Catahoula\",\"Boxer/Chinese Sharpei\",\"Boxer/Chow Chow\",\"Boxer/Dachshund\",\"Boxer/Dalmatian\",\"Boxer/Doberman Pinsch\",\"Boxer/Dogue De Bordeaux\",\"Boxer/English Bulldog\",\"Boxer/German Shepherd\",\"Boxer/Great Dane\",\"Boxer/Great Pyrenees\",\"Boxer/Greyhound\",\"Boxer/Harrier\",\"Boxer/Italian Greyhound\",\"Boxer/Jack Russell Terrier\",\"Boxer/Labrador Retriever\",\"Boxer/Mastiff\",\"Boxer/Miniature Poodle\",\"Boxer/Neapolitan Mastiff\",\"Boxer/Pit Bull\",\"Boxer/Plott Hound\",\"Boxer/Pointer\",\"Boxer/Pug\",\"Boxer/Queensland Heeler\",\"Boxer/Redbone Hound\",\"Boxer/Rhod Ridgeback\",\"Boxer/Staffordshire\",\"Boxer/Whippet\",\"Boykin Span\",\"Boykin Span Mix\",\"Boykin Span/Cocker Spaniel\",\"Boykin Span/Dachshund\",\"Briard\",\"Brittany\",\"Brittany Mix\",\"Brittany/Border Collie\",\"Brittany/Chihuahua Shorthair\",\"Brittany/Cocker Spaniel\",\"Brittany/Collie Rough\",\"Brittany/Labrador Retriever\",\"Bruss Griffon\",\"Bruss Griffon Mix\",\"Bruss Griffon/Affenpinscher\",\"Bruss Griffon/Cairn Terrier\",\"Bruss Griffon/Chihuahua Longhair\",\"Bruss Griffon/Chihuahua Shorthair\",\"Bruss Griffon/Dachshund\",\"Bruss Griffon/Maltese\",\"Bruss Griffon/Pug\",\"Bruss Griffon/Yorkshire Terrier\",\"Bull Terrier\",\"Bull Terrier Miniature\",\"Bull Terrier Miniature Mix\",\"Bull Terrier Miniature/Chihuahua Shorthair\",\"Bull Terrier Miniature/Chinese Sharpei\",\"Bull Terrier Miniature/German Shepherd\",\"Bull Terrier Miniature/Greyhound\",\"Bull Terrier Mix\",\"Bull Terrier/Australian Kelpie\",\"Bull Terrier/Black Mouth Cur\",\"Bull Terrier/Boxer\",\"Bull Terrier/Jack Russell Terrier\",\"Bull Terrier/Pit Bull\",\"Bulldog\",\"Bulldog Mix\",\"Bulldog/American Bulldog\",\"Bulldog/Boston Terrier\",\"Bulldog/Boxer\",\"Bulldog/Chinese Sharpei\",\"Bulldog/Labrador Retriever\",\"Bulldog/Pit Bull\",\"Bulldog/Staffordshire\",\"Bullmastiff\",\"Bullmastiff Mix\",\"Bullmastiff/Black Mouth Cur\",\"Bullmastiff/Boxer\",\"Cairn Terrier\",\"Cairn Terrier Mix\",\"Cairn Terrier/Affenpinscher\",\"Cairn Terrier/Bichon Frise\",\"Cairn Terrier/Border Collie\",\"Cairn Terrier/Border Terrier\",\"Cairn Terrier/Cairn Terrier\",\"Cairn Terrier/Cardigan Welsh Corgi\",\"Cairn Terrier/Chihuahua Longhair\",\"Cairn Terrier/Chihuahua Shorthair\",\"Cairn Terrier/Dachshund\",\"Cairn Terrier/Dachshund Wirehair\",\"Cairn Terrier/Italian Greyhound\",\"Cairn Terrier/Miniature Poodle\",\"Cairn Terrier/Miniature Schnauzer\",\"Cairn Terrier/Norfolk Terrier\",\"Cairn Terrier/Scottish Terrier\",\"Cairn Terrier/Shih Tzu\",\"Cairn Terrier/West Highland\",\"Cairn Terrier/Yorkshire Terrier\",\"Canaan Dog Mix\",\"Canaan Dog/English Springer Spaniel\",\"Canaan Dog/Labrador Retriever\",\"Canaan Dog/Pit Bull\",\"Canaan Dog/Redbone Hound\",\"Cane Corso\",\"Cane Corso Mix\",\"Cane Corso/Blue Lacy\",\"Cane Corso/Mastiff\",\"Cardigan Welsh Corgi\",\"Cardigan Welsh Corgi Mix\",\"Cardigan Welsh Corgi/American Eskimo\",\"Cardigan Welsh Corgi/American Staffordshire Terrier\",\"Cardigan Welsh Corgi/Australian Cattle Dog\",\"Cardigan Welsh Corgi/Australian Kelpie\",\"Cardigan Welsh Corgi/Australian Shepherd\",\"Cardigan Welsh Corgi/Beagle\",\"Cardigan Welsh Corgi/Blue Lacy\",\"Cardigan Welsh Corgi/Cairn Terrier\",\"Cardigan Welsh Corgi/Cardigan Welsh Corgi\",\"Cardigan Welsh Corgi/Chihuahua Longhair\",\"Cardigan Welsh Corgi/Chihuahua Shorthair\",\"Cardigan Welsh Corgi/Cocker Spaniel\",\"Cardigan Welsh Corgi/Dachshund\",\"Cardigan Welsh Corgi/English Setter\",\"Cardigan Welsh Corgi/German Shepherd\",\"Cardigan Welsh Corgi/Golden Retriever\",\"Cardigan Welsh Corgi/Jack Russell Terrier\",\"Cardigan Welsh Corgi/Jindo\",\"Cardigan Welsh Corgi/Labrador Retriever\",\"Cardigan Welsh Corgi/Miniature Pinscher\",\"Cardigan Welsh Corgi/Miniature Schnauzer\",\"Cardigan Welsh Corgi/Pit Bull\",\"Cardigan Welsh Corgi/Pointer\",\"Cardigan Welsh Corgi/Pomeranian\",\"Cardigan Welsh Corgi/Rat Terrier\",\"Carolina Dog\",\"Carolina Dog Mix\",\"Carolina Dog/Alaskan Husky\",\"Carolina Dog/American Pit Bull Terrier\",\"Carolina Dog/Australian Cattle Dog\",\"Carolina Dog/Border Collie\",\"Carolina Dog/Catahoula\",\"Carolina Dog/Chihuahua Shorthair\",\"Carolina Dog/Labrador Retriever\",\"Catahoula\",\"Catahoula Mix\",\"Catahoula/Akita\",\"Catahoula/Alaskan Husky\",\"Catahoula/American Bulldog\",\"Catahoula/American Pit Bull Terrier\",\"Catahoula/Anatol Shepherd\",\"Catahoula/Australian Cattle Dog\",\"Catahoula/Australian Shepherd\",\"Catahoula/Beagle\",\"Catahoula/Black Mouth Cur\",\"Catahoula/Border Collie\",\"Catahoula/Boxer\",\"Catahoula/Cardigan Welsh Corgi\",\"Catahoula/Carolina Dog\",\"Catahoula/Chinese Sharpei\",\"Catahoula/Chow Chow\",\"Catahoula/Doberman Pinsch\",\"Catahoula/English Coonhound\",\"Catahoula/German Shepherd\",\"Catahoula/Great Dane\",\"Catahoula/Greyhound\",\"Catahoula/Irish Wolfhound\",\"Catahoula/Jack Russell Terrier\",\"Catahoula/Labrador Retriever\",\"Catahoula/Mastiff\",\"Catahoula/Pit Bull\",\"Catahoula/Plott Hound\",\"Catahoula/Pointer\",\"Catahoula/Queensland Heeler\",\"Catahoula/Rottweiler\",\"Catahoula/Siberian Husky\",\"Catahoula/Staffordshire\",\"Catahoula/Treeing Walker Coonhound\",\"Catahoula/Vizsla\",\"Catahoula/Whippet\",\"Cavalier Span\",\"Cavalier Span Mix\",\"Cavalier Span/Border Collie\",\"Cavalier Span/Chihuahua Longhair\",\"Cavalier Span/Chihuahua Shorthair\",\"Cavalier Span/Jack Russell Terrier\",\"Cavalier Span/Papillon\",\"Cavalier Span/Pug\",\"Cavalier Span/Toy Poodle\",\"Chesa Bay Retr\",\"Chesa Bay Retr Mix\",\"Chesa Bay Retr/Australian Cattle Dog\",\"Chesa Bay Retr/Chinese Sharpei\",\"Chesa Bay Retr/German Shepherd\",\"Chesa Bay Retr/Labrador Retriever\",\"Chesa Bay Retr/Pit Bull\",\"Chihuahua Longhair\",\"Chihuahua Longhair Mix\",\"Chihuahua Longhair/Australian Cattle Dog\",\"Chihuahua Longhair/Border Terrier\",\"Chihuahua Longhair/Cairn Terrier\",\"Chihuahua Longhair/Cardigan Welsh Corgi\",\"Chihuahua Longhair/Cavalier Span\",\"Chihuahua Longhair/Chihuahua Shorthair\",\"Chihuahua Longhair/Chow Chow\",\"Chihuahua Longhair/Cocker Spaniel\",\"Chihuahua Longhair/Dachshund\",\"Chihuahua Longhair/Dachshund Longhair\",\"Chihuahua Longhair/Dachshund Wirehair\",\"Chihuahua Longhair/Greyhound\",\"Chihuahua Longhair/Italian Greyhound\",\"Chihuahua Longhair/Jack Russell Terrier\",\"Chihuahua Longhair/Maltese\",\"Chihuahua Longhair/Miniature Poodle\",\"Chihuahua Longhair/Miniature Schnauzer\",\"Chihuahua Longhair/Norfolk Terrier\",\"Chihuahua Longhair/Papillon\",\"Chihuahua Longhair/Pekingese\",\"Chihuahua Longhair/Pomeranian\",\"Chihuahua Longhair/Pug\",\"Chihuahua Longhair/Queensland Heeler\",\"Chihuahua Longhair/Rat Terrier\",\"Chihuahua Longhair/Silky Terrier\",\"Chihuahua Longhair/West Highland\",\"Chihuahua Longhair/Yorkshire Terrier\",\"Chihuahua Shorthair\",\"Chihuahua Shorthair Mix\",\"Chihuahua Shorthair/Affenpinscher\",\"Chihuahua Shorthair/American Staffordshire Terrier\",\"Chihuahua Shorthair/Australian Cattle Dog\",\"Chihuahua Shorthair/Australian Terrier\",\"Chihuahua Shorthair/Basenji\",\"Chihuahua Shorthair/Basset Hound\",\"Chihuahua Shorthair/Beagle\",\"Chihuahua Shorthair/Bichon Frise\",\"Chihuahua Shorthair/Border Collie\",\"Chihuahua Shorthair/Border Terrier\",\"Chihuahua Shorthair/Boston Terrier\",\"Chihuahua Shorthair/Boxer\",\"Chihuahua Shorthair/Cairn Terrier\",\"Chihuahua Shorthair/Cardigan Welsh Corgi\",\"Chihuahua Shorthair/Catahoula\",\"Chihuahua Shorthair/Cavalier Span\",\"Chihuahua Shorthair/Chihuahua Shorthair\",\"Chihuahua Shorthair/Chinese Crested\",\"Chihuahua Shorthair/Chinese Sharpei\",\"Chihuahua Shorthair/Cirneco\",\"Chihuahua Shorthair/Cocker Spaniel\",\"Chihuahua Shorthair/Collie Smooth\",\"Chihuahua Shorthair/Dachshund\",\"Chihuahua Shorthair/Dachshund Longhair\",\"Chihuahua Shorthair/Dachshund Wirehair\",\"Chihuahua Shorthair/Doberman Pinsch\",\"Chihuahua Shorthair/Finnish Spitz\",\"Chihuahua Shorthair/French Bulldog\",\"Chihuahua Shorthair/German Shepherd\",\"Chihuahua Shorthair/Italian Greyhound\",\"Chihuahua Shorthair/Jack Russell Terrier\",\"Chihuahua Shorthair/Labrador Retriever\",\"Chihuahua Shorthair/Lhasa Apso\",\"Chihuahua Shorthair/Maltese\",\"Chihuahua Shorthair/Manchester Terrier\",\"Chihuahua Shorthair/Mexican Hairless\",\"Chihuahua Shorthair/Miniature Pinscher\",\"Chihuahua Shorthair/Miniature Poodle\",\"Chihuahua Shorthair/Miniature Schnauzer\",\"Chihuahua Shorthair/Norfolk Terrier\",\"Chihuahua Shorthair/Norwich Terrier\",\"Chihuahua Shorthair/Papillon\",\"Chihuahua Shorthair/Parson Russell Terrier\",\"Chihuahua Shorthair/Pekingese\",\"Chihuahua Shorthair/Pembroke Welsh Corgi\",\"Chihuahua Shorthair/Pit Bull\",\"Chihuahua Shorthair/Pomeranian\",\"Chihuahua Shorthair/Pug\",\"Chihuahua Shorthair/Queensland Heeler\",\"Chihuahua Shorthair/Rat Terrier\",\"Chihuahua Shorthair/Rhod Ridgeback\",\"Chihuahua Shorthair/Rottweiler\",\"Chihuahua Shorthair/Schipperke\",\"Chihuahua Shorthair/Shetland Sheepdog\",\"Chihuahua Shorthair/Shiba Inu\",\"Chihuahua Shorthair/Shih Tzu\",\"Chihuahua Shorthair/Smooth Fox Terrier\",\"Chihuahua Shorthair/Swedish Vallhund\",\"Chihuahua Shorthair/Toy Fox Terrier\",\"Chihuahua Shorthair/Toy Poodle\",\"Chihuahua Shorthair/Welsh Terrier\",\"Chihuahua Shorthair/Whippet\",\"Chihuahua Shorthair/Wire Hair Fox Terrier\",\"Chihuahua Shorthair/Yorkshire Terrier\",\"Chinese Crested\",\"Chinese Crested Mix\",\"Chinese Crested/Chihuahua Longhair\",\"Chinese Crested/Chihuahua Shorthair\",\"Chinese Crested/Cocker Spaniel\",\"Chinese Crested/Papillon\",\"Chinese Sharpei\",\"Chinese Sharpei Mix\",\"Chinese Sharpei/Airedale Terrier\",\"Chinese Sharpei/American Bulldog\",\"Chinese Sharpei/American Staffordshire Terrier\",\"Chinese Sharpei/Australian Cattle Dog\",\"Chinese Sharpei/Basset Hound\",\"Chinese Sharpei/Beagle\",\"Chinese Sharpei/Black Mouth Cur\",\"Chinese Sharpei/Border Collie\",\"Chinese Sharpei/Boxer\",\"Chinese Sharpei/Chow Chow\",\"Chinese Sharpei/German Shepherd\",\"Chinese Sharpei/Great Dane\",\"Chinese Sharpei/Great Pyrenees\",\"Chinese Sharpei/Labrador Retriever\",\"Chinese Sharpei/Pit Bull\",\"Chinese Sharpei/Pointer\",\"Chinese Sharpei/Rat Terrier\",\"Chinese Sharpei/Rhod Ridgeback\",\"Chinese Sharpei/Rottweiler\",\"Chow Chow\",\"Chow Chow Mix\",\"Chow Chow/American Eskimo\",\"Chow Chow/Australian Cattle Dog\",\"Chow Chow/Basset Hound\",\"Chow Chow/Border Collie\",\"Chow Chow/Cardigan Welsh Corgi\",\"Chow Chow/Chinese Sharpei\",\"Chow Chow/English Cocker Spaniel\",\"Chow Chow/German Shepherd\",\"Chow Chow/Golden Retriever\",\"Chow Chow/Irish Setter\",\"Chow Chow/Labrador Retriever\",\"Chow Chow/Pekingese\",\"Chow Chow/Pit Bull\",\"Chow Chow/Rottweiler\",\"Chow Chow/Siberian Husky\",\"Clumber Spaniel\",\"Clumber Spaniel Mix\",\"Clumber Spaniel/American Eskimo\",\"Cocker Spaniel\",\"Cocker Spaniel Mix\",\"Cocker Spaniel/Australian Shepherd\",\"Cocker Spaniel/Australian Terrier\",\"Cocker Spaniel/Basset Hound\",\"Cocker Spaniel/Beagle\",\"Cocker Spaniel/Chihuahua Longhair\",\"Cocker Spaniel/Chihuahua Shorthair\",\"Cocker Spaniel/Dachshund\",\"Cocker Spaniel/Dachshund Longhair\",\"Cocker Spaniel/German Shepherd\",\"Cocker Spaniel/Golden Retriever\",\"Cocker Spaniel/Labrador Retriever\",\"Cocker Spaniel/Miniature Poodle\",\"Cocker Spaniel/Miniature Schnauzer\",\"Cocker Spaniel/Pekingese\",\"Cocker Spaniel/Pembroke Welsh Corgi\",\"Cocker Spaniel/Pomeranian\",\"Cocker Spaniel/Shetland Sheepdog\",\"Cocker Spaniel/Standard Poodle\",\"Cocker Spaniel/Toy Poodle\",\"Collie Rough\",\"Collie Rough Mix\",\"Collie Rough/Anatol Shepherd\",\"Collie Rough/Australian Cattle Dog\",\"Collie Rough/Australian Shepherd\",\"Collie Rough/Catahoula\",\"Collie Rough/Chinese Sharpei\",\"Collie Rough/Chow Chow\",\"Collie Rough/German Shepherd\",\"Collie Rough/Golden Retriever\",\"Collie Rough/Great Pyrenees\",\"Collie Rough/Irish Setter\",\"Collie Rough/Keeshond\",\"Collie Rough/Labrador Retriever\",\"Collie Rough/Pembroke Welsh Corgi\",\"Collie Rough/Pointer\",\"Collie Rough/Spanish Water Dog\",\"Collie Smooth\",\"Collie Smooth Mix\",\"Collie Smooth/Australian Kelpie\",\"Collie Smooth/Beagle\",\"Collie Smooth/Boxer\",\"Collie Smooth/Bull Terrier\",\"Collie Smooth/Catahoula\",\"Collie Smooth/Chow Chow\",\"Collie Smooth/German Shepherd\",\"Collie Smooth/Golden Retriever\",\"Collie Smooth/Jack Russell Terrier\",\"Collie Smooth/Labrador Retriever\",\"Collie Smooth/Miniature Poodle\",\"Collie Smooth/Pointer\",\"Collie Smooth/Saluki\",\"Collie Smooth/Siberian Husky\",\"Coton De Tulear\",\"Coton De Tulear Mix\",\"Dachshund\",\"Dachshund Longhair\",\"Dachshund Longhair Mix\",\"Dachshund Longhair/Australian Cattle Dog\",\"Dachshund Longhair/Australian Shepherd\",\"Dachshund Longhair/Cairn Terrier\",\"Dachshund Longhair/Cardigan Welsh Corgi\",\"Dachshund Longhair/Chihuahua Longhair\",\"Dachshund Longhair/Chihuahua Shorthair\",\"Dachshund Longhair/Cocker Spaniel\",\"Dachshund Longhair/Golden Retriever\",\"Dachshund Longhair/Maltese\",\"Dachshund Longhair/Miniature Poodle\",\"Dachshund Longhair/Miniature Schnauzer\",\"Dachshund Longhair/Pembroke Welsh Corgi\",\"Dachshund Longhair/Pomeranian\",\"Dachshund Longhair/Rat Terrier\",\"Dachshund Longhair/Siberian Husky\",\"Dachshund Longhair/Tibetan Spaniel\",\"Dachshund Longhair/Toy Poodle\",\"Dachshund Mix\",\"Dachshund Stan Mix\",\"Dachshund Wirehair\",\"Dachshund Wirehair Mix\",\"Dachshund Wirehair/Border Terrier\",\"Dachshund Wirehair/Cairn Terrier\",\"Dachshund Wirehair/Chihuahua Longhair\",\"Dachshund Wirehair/Chihuahua Shorthair\",\"Dachshund Wirehair/Manchester Terrier\",\"Dachshund Wirehair/Miniature Poodle\",\"Dachshund Wirehair/Miniature Schnauzer\",\"Dachshund Wirehair/Norfolk Terrier\",\"Dachshund Wirehair/Pbgv\",\"Dachshund Wirehair/Rat Terrier\",\"Dachshund Wirehair/Shih Tzu\",\"Dachshund Wirehair/Standard Poodle\",\"Dachshund Wirehair/Toy Poodle\",\"Dachshund Wirehair/West Highland\",\"Dachshund Wirehair/Yorkshire Terrier\",\"Dachshund/American Staffordshire Terrier\",\"Dachshund/Australian Cattle Dog\",\"Dachshund/Australian Kelpie\",\"Dachshund/Basset Hound\",\"Dachshund/Beagle\",\"Dachshund/Belgian Malinois\",\"Dachshund/Black/Tan Hound\",\"Dachshund/Bloodhound\",\"Dachshund/Blue Lacy\",\"Dachshund/Border Collie\",\"Dachshund/Boston Terrier\",\"Dachshund/Boxer\",\"Dachshund/Bull Terrier\",\"Dachshund/Cardigan Welsh Corgi\",\"Dachshund/Catahoula\",\"Dachshund/Cavalier Span\",\"Dachshund/Chihuahua Longhair\",\"Dachshund/Chihuahua Shorthair\",\"Dachshund/Chinese Sharpei\",\"Dachshund/Dachshund\",\"Dachshund/English Bulldog\",\"Dachshund/English Foxhound\",\"Dachshund/German Pinscher\",\"Dachshund/German Shepherd\",\"Dachshund/Greyhound\",\"Dachshund/Harrier\",\"Dachshund/Havanese\",\"Dachshund/Italian Greyhound\",\"Dachshund/Jack Russell Terrier\",\"Dachshund/Labrador Retriever\",\"Dachshund/Maltese\",\"Dachshund/Manchester Terrier\",\"Dachshund/Miniature Pinscher\",\"Dachshund/Miniature Poodle\",\"Dachshund/Norfolk Terrier\",\"Dachshund/Parson Russell Terrier\",\"Dachshund/Pbgv\",\"Dachshund/Pembroke Welsh Corgi\",\"Dachshund/Pit Bull\",\"Dachshund/Plott Hound\",\"Dachshund/Pomeranian\",\"Dachshund/Pug\",\"Dachshund/Rat Terrier\",\"Dachshund/Shetland Sheepdog\",\"Dachshund/Shih Tzu\",\"Dachshund/Swedish Vallhund\",\"Dachshund/Toy Poodle\",\"Dachshund/Whippet\",\"Dachshund/Wire Hair Fox Terrier\",\"Dachshund/Yorkshire Terrier\",\"Dalmatian\",\"Dalmatian Mix\",\"Dalmatian/Australian Cattle Dog\",\"Dalmatian/Basset Hound\",\"Dalmatian/Boxer\",\"Dalmatian/Labrador Retriever\",\"Dalmatian/Pit Bull\",\"Dalmatian/Plott Hound\",\"Dalmatian/Pointer\",\"Dalmatian/Staffordshire\",\"Dandie Dinmont\",\"Dandie Dinmont Mix\",\"Dandie Dinmont/Miniature Poodle\",\"Doberman Pinsch\",\"Doberman Pinsch Mix\",\"Doberman Pinsch/Australian Cattle Dog\",\"Doberman Pinsch/Beagle\",\"Doberman Pinsch/Beauceron\",\"Doberman Pinsch/Black Mouth Cur\",\"Doberman Pinsch/Black/Tan Hound\",\"Doberman Pinsch/Border Collie\",\"Doberman Pinsch/Catahoula\",\"Doberman Pinsch/Chihuahua Shorthair\",\"Doberman Pinsch/German Shepherd\",\"Doberman Pinsch/Greyhound\",\"Doberman Pinsch/Labrador Retriever\",\"Doberman Pinsch/Pit Bull\",\"Doberman Pinsch/Rottweiler\",\"Doberman Pinsch/Vizsla\",\"Dogo Argentino\",\"Dogo Argentino Mix\",\"Dogo Argentino/Boxer\",\"Dogo Argentino/Chinese Sharpei\",\"Dogo Argentino/Labrador Retriever\",\"Dogo Argentino/Pit Bull\",\"Dogue De Bordeaux\",\"Dogue De Bordeaux Mix\",\"Dogue De Bordeaux/American Bulldog\",\"Dutch Shepherd\",\"Dutch Shepherd Mix\",\"Dutch Shepherd/Anatol Shepherd\",\"Dutch Shepherd/Australian Kelpie\",\"Dutch Shepherd/Belgian Malinois\",\"Dutch Shepherd/Boxer\",\"Dutch Shepherd/Great Pyrenees\",\"Dutch Shepherd/Labrador Retriever\",\"Dutch Shepherd/Mastiff\",\"Dutch Shepherd/Plott Hound\",\"Eng Toy Spaniel Mix\",\"English Bulldog\",\"English Bulldog Mix\",\"English Bulldog/American Bulldog\",\"English Bulldog/American Staffordshire Terrier\",\"English Bulldog/Australian Cattle Dog\",\"English Bulldog/Beagle\",\"English Bulldog/Boxer\",\"English Bulldog/Cairn Terrier\",\"English Bulldog/Dachshund\",\"English Bulldog/Mastiff\",\"English Bulldog/Pit Bull\",\"English Bulldog/Staffordshire\",\"English Cocker Spaniel\",\"English Cocker Spaniel Mix\",\"English Coonhound\",\"English Coonhound Mix\",\"English Coonhound/Border Collie\",\"English Coonhound/German Shepherd\",\"English Coonhound/Italian Greyhound\",\"English Coonhound/Labrador Retriever\",\"English Foxhound\",\"English Foxhound Mix\",\"English Foxhound/Labrador Retriever\",\"English Foxhound/Smooth Fox Terrier\",\"English Pointer\",\"English Pointer Mix\",\"English Pointer/Boxer\",\"English Pointer/Labrador Retriever\",\"English Setter Mix\",\"English Shepherd\",\"English Shepherd Mix\",\"English Springer Spaniel\",\"English Springer Spaniel Mix\",\"English Springer Spaniel/Beagle\",\"English Springer Spaniel/Cardigan Welsh Corgi\",\"English Springer Spaniel/Labrador Retriever\",\"English Springer Spaniel/Pointer\",\"Entlebucher Mix\",\"Entlebucher/Basset Hound\",\"Feist Mix\",\"Feist/Beagle\",\"Feist/Chihuahua Shorthair\",\"Field Spaniel Mix\",\"Field Spaniel/Cocker Spaniel\",\"Finnish Spitz\",\"Finnish Spitz Mix\",\"Finnish Spitz/Australian Shepherd\",\"Finnish Spitz/Cardigan Welsh Corgi\",\"Finnish Spitz/Chow Chow\",\"Finnish Spitz/Dachshund\",\"Finnish Spitz/Labrador Retriever\",\"Flat Coat Retriever\",\"Flat Coat Retriever Mix\",\"Flat Coat Retriever/Australian Cattle Dog\",\"Flat Coat Retriever/Chow Chow\",\"Flat Coat Retriever/German Shepherd\",\"Flat Coat Retriever/Golden Retriever\",\"Flat Coat Retriever/Labrador Retriever\",\"Flat Coat Retriever/Papillon\",\"Flat Coat Retriever/Pit Bull\",\"French Bulldog\",\"French Bulldog Mix\",\"French Bulldog/Chihuahua Shorthair\",\"French Bulldog/Dachshund\",\"French Bulldog/English Bulldog\",\"French Bulldog/Miniature Schnauzer\",\"French Bulldog/Pit Bull\",\"French Bulldog/Pug\",\"German Pinscher Mix\",\"German Pinscher/Whippet\",\"German Shepherd\",\"German Shepherd Mix\",\"German Shepherd/Airedale Terrier\",\"German Shepherd/Akita\",\"German Shepherd/Alaskan Husky\",\"German Shepherd/Alaskan Malamute\",\"German Shepherd/American Bulldog\",\"German Shepherd/Anatol Shepherd\",\"German Shepherd/Australian Cattle Dog\",\"German Shepherd/Australian Kelpie\",\"German Shepherd/Australian Shepherd\",\"German Shepherd/Basenji\",\"German Shepherd/Basset Hound\",\"German Shepherd/Beagle\",\"German Shepherd/Belgian Malinois\",\"German Shepherd/Black Mouth Cur\",\"German Shepherd/Black/Tan Hound\",\"German Shepherd/Border Collie\",\"German Shepherd/Border Terrier\",\"German Shepherd/Boxer\",\"German Shepherd/Bull Terrier\",\"German Shepherd/Bull Terrier Miniature\",\"German Shepherd/Cardigan Welsh Corgi\",\"German Shepherd/Carolina Dog\",\"German Shepherd/Catahoula\",\"German Shepherd/Chihuahua Shorthair\",\"German Shepherd/Chinese Sharpei\",\"German Shepherd/Chow Chow\",\"German Shepherd/Collie Rough\",\"German Shepherd/Collie Smooth\",\"German Shepherd/Doberman Pinsch\",\"German Shepherd/English Coonhound\",\"German Shepherd/Finnish Spitz\",\"German Shepherd/German Shepherd\",\"German Shepherd/Golden Retriever\",\"German Shepherd/Great Dane\",\"German Shepherd/Great Pyrenees\",\"German Shepherd/Greyhound\",\"German Shepherd/Ibizan Hound\",\"German Shepherd/Irish Wolfhound\",\"German Shepherd/Labrador Retriever\",\"German Shepherd/Mastiff\",\"German Shepherd/Nova Scotia Duck Tolling Retriever\",\"German Shepherd/Pembroke Welsh Corgi\",\"German Shepherd/Pit Bull\",\"German Shepherd/Plott Hound\",\"German Shepherd/Pointer\",\"German Shepherd/Queensland Heeler\",\"German Shepherd/Redbone Hound\",\"German Shepherd/Rottweiler\",\"German Shepherd/Siberian Husky\",\"German Shepherd/Smooth Fox Terrier\",\"German Shepherd/Swedish Vallhund\",\"German Shepherd/Vizsla\",\"German Shepherd/Weimaraner\",\"German Shepherd/Whippet\",\"German Shorthair Pointer\",\"German Shorthair Pointer Mix\",\"German Shorthair Pointer/American Pit Bull Terrier\",\"German Shorthair Pointer/Australian Cattle Dog\",\"German Shorthair Pointer/Bluetick Hound\",\"German Shorthair Pointer/Border Collie\",\"German Shorthair Pointer/Brittany\",\"German Shorthair Pointer/Labrador Retriever\",\"German Wirehaired Pointer\",\"German Wirehaired Pointer Mix\",\"German Wirehaired Pointer/Labrador Retriever\",\"Glen Of Imaal Mix\",\"Glen Of Imaal/Ibizan Hound\",\"Golden Retriever\",\"Golden Retriever Mix\",\"Golden Retriever/Akita\",\"Golden Retriever/Anatol Shepherd\",\"Golden Retriever/Australian Cattle Dog\",\"Golden Retriever/Australian Shepherd\",\"Golden Retriever/Beagle\",\"Golden Retriever/Bearded Collie\",\"Golden Retriever/Border Collie\",\"Golden Retriever/Border Terrier\",\"Golden Retriever/Catahoula\",\"Golden Retriever/Chow Chow\",\"Golden Retriever/Cocker Spaniel\",\"Golden Retriever/Collie Rough\",\"Golden Retriever/Dachshund\",\"Golden Retriever/Finnish Spitz\",\"Golden Retriever/German Shepherd\",\"Golden Retriever/Great Pyrenees\",\"Golden Retriever/Irish Setter\",\"Golden Retriever/Labrador Retriever\",\"Golden Retriever/Pembroke Welsh Corgi\",\"Golden Retriever/Pit Bull\",\"Golden Retriever/Siberian Husky\",\"Golden Retriever/Standard Poodle\",\"Golden Retriever/Whippet\",\"Gordon Setter Mix\",\"Grand Basset Griffon Vendeen Mix\",\"Great Dane\",\"Great Dane Mix\",\"Great Dane/Anatol Shepherd\",\"Great Dane/Australian Cattle Dog\",\"Great Dane/Australian Shepherd\",\"Great Dane/Blue Lacy\",\"Great Dane/Boerboel\",\"Great Dane/Border Collie\",\"Great Dane/Boxer\",\"Great Dane/Catahoula\",\"Great Dane/Doberman Pinsch\",\"Great Dane/German Shepherd\",\"Great Dane/Greyhound\",\"Great Dane/Labrador Retriever\",\"Great Dane/Mastiff\",\"Great Dane/Pit Bull\",\"Great Dane/Pointer\",\"Great Dane/Staffordshire\",\"Great Pyrenees\",\"Great Pyrenees Mix\",\"Great Pyrenees/Alaskan Husky\",\"Great Pyrenees/American Bulldog\",\"Great Pyrenees/Anatol Shepherd\",\"Great Pyrenees/Australian Cattle Dog\",\"Great Pyrenees/Australian Shepherd\",\"Great Pyrenees/Border Collie\",\"Great Pyrenees/Boxer\",\"Great Pyrenees/Catahoula\",\"Great Pyrenees/Chow Chow\",\"Great Pyrenees/Collie Rough\",\"Great Pyrenees/Dalmatian\",\"Great Pyrenees/English Pointer\",\"Great Pyrenees/English Setter\",\"Great Pyrenees/German Shepherd\",\"Great Pyrenees/Golden Retriever\",\"Great Pyrenees/Kuvasz\",\"Great Pyrenees/Labrador Retriever\",\"Great Pyrenees/Pit Bull\",\"Great Pyrenees/Pointer\",\"Great Pyrenees/Queensland Heeler\",\"Great Pyrenees/Rottweiler\",\"Great Pyrenees/Siberian Husky\",\"Great Pyrenees/St. Bernard Rough Coat\",\"Great Pyrenees/St. Bernard Smooth Coat\",\"Great Pyrenees/Standard Poodle\",\"Greater Swiss Mountain Dog\",\"Greater Swiss Mountain Dog Mix\",\"Greater Swiss Mountain Dog/Pointer\",\"Greyhound\",\"Greyhound Mix\",\"Greyhound/Airedale Terrier\",\"Greyhound/Australian Cattle Dog\",\"Greyhound/Border Collie\",\"Greyhound/Border Terrier\",\"Greyhound/Dalmatian\",\"Greyhound/German Shepherd\",\"Greyhound/Great Dane\",\"Greyhound/Labrador Retriever\",\"Greyhound/Pointer\",\"Greyhound/Saluki\",\"Greyhound/Weimaraner\",\"Harrier\",\"Harrier Mix\",\"Harrier/Catahoula\",\"Harrier/English Coonhound\",\"Harrier/German Shepherd\",\"Harrier/Great Dane\",\"Harrier/Labrador Retriever\",\"Harrier/Pit Bull\",\"Harrier/Pointer\",\"Havanese\",\"Havanese Mix\",\"Havanese/Miniature Poodle\",\"Hovawart\",\"Hovawart Mix\",\"Hovawart/Flat Coat Retriever\",\"Ibizan Hound\",\"Ibizan Hound Mix\",\"Ibizan Hound/Pit Bull\",\"Irish Setter Mix\",\"Irish Setter/Golden Retriever\",\"Irish Terrier\",\"Irish Terrier Mix\",\"Irish Terrier/Basset Hound\",\"Irish Terrier/Border Terrier\",\"Irish Terrier/Irish Wolfhound\",\"Irish Terrier/Labrador Retriever\",\"Irish Terrier/Norfolk Terrier\",\"Irish Wolfhound\",\"Irish Wolfhound Mix\",\"Irish Wolfhound/American Pit Bull Terrier\",\"Irish Wolfhound/Australian Shepherd\",\"Irish Wolfhound/Cardigan Welsh Corgi\",\"Irish Wolfhound/German Shepherd\",\"Irish Wolfhound/Great Dane\",\"Irish Wolfhound/Great Pyrenees\",\"Italian Greyhound\",\"Italian Greyhound Mix\",\"Italian Greyhound/Beagle\",\"Italian Greyhound/Cavalier Span\",\"Italian Greyhound/Chihuahua Shorthair\",\"Jack Russell Terrier\",\"Jack Russell Terrier Mix\",\"Jack Russell Terrier/American Staffordshire Terrier\",\"Jack Russell Terrier/Anatol Shepherd\",\"Jack Russell Terrier/Australian Cattle Dog\",\"Jack Russell Terrier/Australian Shepherd\",\"Jack Russell Terrier/Basenji\",\"Jack Russell Terrier/Basset Hound\",\"Jack Russell Terrier/Beagle\",\"Jack Russell Terrier/Border Collie\",\"Jack Russell Terrier/Boston Terrier\",\"Jack Russell Terrier/Brittany\",\"Jack Russell Terrier/Cairn Terrier\",\"Jack Russell Terrier/Cardigan Welsh Corgi\",\"Jack Russell Terrier/Cavalier Span\",\"Jack Russell Terrier/Chihuahua Longhair\",\"Jack Russell Terrier/Chihuahua Shorthair\",\"Jack Russell Terrier/Dachshund\",\"Jack Russell Terrier/Dachshund Wirehair\",\"Jack Russell Terrier/Italian Greyhound\",\"Jack Russell Terrier/Labrador Retriever\",\"Jack Russell Terrier/Maltese\",\"Jack Russell Terrier/Manchester Terrier\",\"Jack Russell Terrier/Miniature Poodle\",\"Jack Russell Terrier/Miniature Schnauzer\",\"Jack Russell Terrier/Papillon\",\"Jack Russell Terrier/Pembroke Welsh Corgi\",\"Jack Russell Terrier/Pit Bull\",\"Jack Russell Terrier/Pointer\",\"Jack Russell Terrier/Pug\",\"Jack Russell Terrier/Rat Terrier\",\"Jack Russell Terrier/Shetland Sheepdog\",\"Jack Russell Terrier/Shih Tzu\",\"Jack Russell Terrier/Standard Schnauzer\",\"Jack Russell Terrier/Unknown\",\"Jack Russell Terrier/Welsh Terrier\",\"Jack Russell Terrier/Whippet\",\"Jack Russell Terrier/Yorkshire Terrier\",\"Japanese Chin\",\"Japanese Chin Mix\",\"Jindo\",\"Jindo Mix\",\"Jindo/Labrador Retriever\",\"Jindo/Pembroke Welsh Corgi\",\"Jindo/Shiba Inu\",\"Jindo/Siberian Husky\",\"Kangal Mix\",\"Keeshond\",\"Keeshond Mix\",\"Keeshond/Finnish Spitz\",\"Kuvasz Mix\",\"Kuvasz/Labrador Retriever\",\"Labrador Retriever\",\"Labrador Retriever Mix\",\"Labrador Retriever/Akita\",\"Labrador Retriever/Alaskan Husky\",\"Labrador Retriever/Alaskan Malamute\",\"Labrador Retriever/American Bulldog\",\"Labrador Retriever/American Foxhound\",\"Labrador Retriever/American Pit Bull Terrier\",\"Labrador Retriever/American Staffordshire Terrier\",\"Labrador Retriever/Anatol Shepherd\",\"Labrador Retriever/Australian Cattle Dog\",\"Labrador Retriever/Australian Kelpie\",\"Labrador Retriever/Australian Shepherd\",\"Labrador Retriever/Basenji\",\"Labrador Retriever/Basset Hound\",\"Labrador Retriever/Beagle\",\"Labrador Retriever/Bearded Collie\",\"Labrador Retriever/Belgian Malinois\",\"Labrador Retriever/Bernese Mountain Dog\",\"Labrador Retriever/Black Mouth Cur\",\"Labrador Retriever/Black/Tan Hound\",\"Labrador Retriever/Bloodhound\",\"Labrador Retriever/Blue Lacy\",\"Labrador Retriever/Border Collie\",\"Labrador Retriever/Border Terrier\",\"Labrador Retriever/Boston Terrier\",\"Labrador Retriever/Boxer\",\"Labrador Retriever/Brittany\",\"Labrador Retriever/Bull Terrier Miniature\",\"Labrador Retriever/Bullmastiff\",\"Labrador Retriever/Cardigan Welsh Corgi\",\"Labrador Retriever/Catahoula\",\"Labrador Retriever/Chesa Bay Retr\",\"Labrador Retriever/Chihuahua Shorthair\",\"Labrador Retriever/Chinese Sharpei\",\"Labrador Retriever/Chow Chow\",\"Labrador Retriever/Cocker Spaniel\",\"Labrador Retriever/Collie Rough\",\"Labrador Retriever/Collie Smooth\",\"Labrador Retriever/Dachshund\",\"Labrador Retriever/Dachshund Wirehair\",\"Labrador Retriever/Dalmatian\",\"Labrador Retriever/Doberman Pinsch\",\"Labrador Retriever/English Bulldog\",\"Labrador Retriever/English Foxhound\",\"Labrador Retriever/English Pointer\",\"Labrador Retriever/English Springer Spaniel\",\"Labrador Retriever/Finnish Spitz\",\"Labrador Retriever/Flat Coat Retriever\",\"Labrador Retriever/German Shepherd\",\"Labrador Retriever/German Shorthair Pointer\",\"Labrador Retriever/Golden Retriever\",\"Labrador Retriever/Great Dane\",\"Labrador Retriever/Great Pyrenees\",\"Labrador Retriever/Greyhound\",\"Labrador Retriever/Harrier\",\"Labrador Retriever/Irish Setter\",\"Labrador Retriever/Irish Wolfhound\",\"Labrador Retriever/Italian Greyhound\",\"Labrador Retriever/Jack Russell Terrier\",\"Labrador Retriever/Labrador Retriever\",\"Labrador Retriever/Mastiff\",\"Labrador Retriever/Miniature Poodle\",\"Labrador Retriever/Newfoundland\",\"Labrador Retriever/Parson Russell Terrier\",\"Labrador Retriever/Patterdale Terr\",\"Labrador Retriever/Pekingese\",\"Labrador Retriever/Pembroke Welsh Corgi\",\"Labrador Retriever/Pharaoh Hound\",\"Labrador Retriever/Pit Bull\",\"Labrador Retriever/Plott Hound\",\"Labrador Retriever/Pointer\",\"Labrador Retriever/Pug\",\"Labrador Retriever/Queensland Heeler\",\"Labrador Retriever/Rat Terrier\",\"Labrador Retriever/Redbone Hound\",\"Labrador Retriever/Rhod Ridgeback\",\"Labrador Retriever/Rottweiler\",\"Labrador Retriever/Saluki\",\"Labrador Retriever/Shiba Inu\",\"Labrador Retriever/Siberian Husky\",\"Labrador Retriever/Smooth Fox Terrier\",\"Labrador Retriever/Spanish Water Dog\",\"Labrador Retriever/St. Bernard Rough Coat\",\"Labrador Retriever/St. Bernard Smooth Coat\",\"Labrador Retriever/Staffordshire\",\"Labrador Retriever/Standard Poodle\",\"Labrador Retriever/Standard Schnauzer\",\"Labrador Retriever/Treeing Walker Coonhound\",\"Labrador Retriever/Vizsla\",\"Labrador Retriever/Weimaraner\",\"Labrador Retriever/Whippet\",\"Lakeland Terrier Mix\",\"Landseer\",\"Landseer Mix\",\"Landseer/Border Collie\",\"Landseer/Collie Smooth\",\"Landseer/English Setter\",\"Landseer/Great Pyrenees\",\"Leonberger\",\"Leonberger Mix\",\"Leonberger/German Shepherd\",\"Lhasa Apso\",\"Lhasa Apso Mix\",\"Lhasa Apso/Border Terrier\",\"Lhasa Apso/Cairn Terrier\",\"Lhasa Apso/Cocker Spaniel\",\"Lhasa Apso/Dachshund\",\"Lhasa Apso/Havanese\",\"Lhasa Apso/Jack Russell Terrier\",\"Lhasa Apso/Miniature Poodle\",\"Lhasa Apso/Miniature Schnauzer\",\"Lhasa Apso/Pbgv\",\"Lhasa Apso/Pekingese\",\"Lhasa Apso/Shih Tzu\",\"Lhasa Apso/Standard Poodle\",\"Lhasa Apso/Toy Poodle\",\"Lhasa Apso/West Highland\",\"Lhasa Apso/Yorkshire Terrier\",\"Lowchen Mix\",\"Lowchen/Miniature Poodle\",\"Maltese\",\"Maltese Mix\",\"Maltese/Border Terrier\",\"Maltese/Chihuahua Shorthair\",\"Maltese/Cocker Spaniel\",\"Maltese/Dachshund\",\"Maltese/Dalmatian\",\"Maltese/Jack Russell Terrier\",\"Maltese/Lhasa Apso\",\"Maltese/Miniature Poodle\",\"Maltese/Papillon\",\"Maltese/Shih Tzu\",\"Maltese/Standard Poodle\",\"Maltese/Toy Poodle\",\"Maltese/Wirehaired Pointing Griffon\",\"Maltese/Yorkshire\",\"Maltese/Yorkshire Terrier\",\"Manchester Terrier\",\"Manchester Terrier Mix\",\"Manchester Terrier/Australian Kelpie\",\"Manchester Terrier/Beagle\",\"Manchester Terrier/Chihuahua Longhair\",\"Manchester Terrier/Chihuahua Shorthair\",\"Manchester Terrier/Dachshund\",\"Manchester Terrier/Jack Russell Terrier\",\"Manchester Terrier/Labrador Retriever\",\"Manchester Terrier/Miniature Pinscher\",\"Manchester Terrier/Norfolk Terrier\",\"Manchester Terrier/Pembroke Welsh Corgi\",\"Manchester Terrier/Toy Fox Terrier\",\"Mastiff\",\"Mastiff Mix\",\"Mastiff/Akita\",\"Mastiff/Anatol Shepherd\",\"Mastiff/Black Mouth Cur\",\"Mastiff/Bloodhound\",\"Mastiff/Boxer\",\"Mastiff/Cane Corso\",\"Mastiff/Chinese Sharpei\",\"Mastiff/Dutch Shepherd\",\"Mastiff/German Shepherd\",\"Mastiff/Great Dane\",\"Mastiff/Labrador Retriever\",\"Mastiff/Pit Bull\",\"Mastiff/Plott Hound\",\"Mastiff/Rottweiler\",\"Mastiff/Staffordshire\",\"Mexican Hairless\",\"Mexican Hairless Mix\",\"Mexican Hairless/Chihuahua Shorthair\",\"Miniature Pinscher\",\"Miniature Pinscher Mix\",\"Miniature Pinscher/Australian Cattle Dog\",\"Miniature Pinscher/Chihuahua Shorthair\",\"Miniature Pinscher/Dachshund\",\"Miniature Pinscher/Dachshund Wirehair\",\"Miniature Pinscher/Maltese\",\"Miniature Pinscher/Pomeranian\",\"Miniature Pinscher/Pug\",\"Miniature Pinscher/Smooth Fox Terrier\",\"Miniature Pinscher/Whippet\",\"Miniature Pinscher/Yorkshire Terrier\",\"Miniature Poodle\",\"Miniature Poodle Mix\",\"Miniature Poodle/American Eskimo\",\"Miniature Poodle/Australian Cattle Dog\",\"Miniature Poodle/Australian Shepherd\",\"Miniature Poodle/Beagle\",\"Miniature Poodle/Bichon Frise\",\"Miniature Poodle/Border Terrier\",\"Miniature Poodle/Cairn Terrier\",\"Miniature Poodle/Cavalier Span\",\"Miniature Poodle/Chihuahua Longhair\",\"Miniature Poodle/Chihuahua Shorthair\",\"Miniature Poodle/Cocker Spaniel\",\"Miniature Poodle/Dachshund\",\"Miniature Poodle/English Cocker Spaniel\",\"Miniature Poodle/Golden Retriever\",\"Miniature Poodle/Havanese\",\"Miniature Poodle/Italian Greyhound\",\"Miniature Poodle/Jack Russell Terrier\",\"Miniature Poodle/Labrador Retriever\",\"Miniature Poodle/Lhasa Apso\",\"Miniature Poodle/Maltese\",\"Miniature Poodle/Miniature Schnauzer\",\"Miniature Poodle/Pomeranian\",\"Miniature Poodle/Scottish Terrier\",\"Miniature Poodle/Shih Tzu\",\"Miniature Poodle/West Highland\",\"Miniature Poodle/Yorkshire Terrier\",\"Miniature Schnauzer\",\"Miniature Schnauzer Mix\",\"Miniature Schnauzer/Australian Cattle Dog\",\"Miniature Schnauzer/Beagle\",\"Miniature Schnauzer/Border Collie\",\"Miniature Schnauzer/Border Terrier\",\"Miniature Schnauzer/Cairn Terrier\",\"Miniature Schnauzer/Chihuahua Longhair\",\"Miniature Schnauzer/Chihuahua Shorthair\",\"Miniature Schnauzer/Cocker Spaniel\",\"Miniature Schnauzer/Dachshund\",\"Miniature Schnauzer/Dachshund Longhair\",\"Miniature Schnauzer/Dachshund Wirehair\",\"Miniature Schnauzer/Jack Russell Terrier\",\"Miniature Schnauzer/Labrador Retriever\",\"Miniature Schnauzer/Lhasa Apso\",\"Miniature Schnauzer/Maltese\",\"Miniature Schnauzer/Miniature Poodle\",\"Miniature Schnauzer/Pug\",\"Miniature Schnauzer/Queensland Heeler\",\"Miniature Schnauzer/Scottish Terrier\",\"Miniature Schnauzer/Shih Tzu\",\"Miniature Schnauzer/Soft Coated Wheaten Terrier\",\"Miniature Schnauzer/Standard Poodle\",\"Miniature Schnauzer/Toy Poodle\",\"Miniature Schnauzer/West Highland\",\"Miniature Schnauzer/Whippet\",\"Miniature Schnauzer/Wire Hair Fox Terrier\",\"Miniature Schnauzer/Yorkshire Terrier\",\"Neapolitan Mastiff\",\"Neapolitan Mastiff Mix\",\"Neapolitan Mastiff/Pit Bull\",\"Newfoundland\",\"Newfoundland Mix\",\"Newfoundland/Australian Cattle Dog\",\"Newfoundland/Border Collie\",\"Newfoundland/Great Pyrenees\",\"Newfoundland/Labrador Retriever\",\"Newfoundland/Queensland Heeler\",\"Norfolk Terrier\",\"Norfolk Terrier Mix\",\"Norfolk Terrier/Border Terrier\",\"Norfolk Terrier/Bruss Griffon\",\"Norfolk Terrier/Cairn Terrier\",\"Norfolk Terrier/Cardigan Welsh Corgi\",\"Norfolk Terrier/Chihuahua Shorthair\",\"Norfolk Terrier/Dachshund\",\"Norfolk Terrier/Dachshund Wirehair\",\"Norfolk Terrier/German Shepherd\",\"Norfolk Terrier/Lhasa Apso\",\"Norfolk Terrier/Miniature Poodle\",\"Norfolk Terrier/Pug\",\"Norfolk Terrier/Standard Poodle\",\"Norfolk Terrier/Yorkshire Terrier\",\"Norwegian Elkhound Mix\",\"Norwegian Elkhound/Alaskan Husky\",\"Norwich Terrier\",\"Norwich Terrier Mix\",\"Norwich Terrier/Australian Cattle Dog\",\"Norwich Terrier/Bichon Frise\",\"Norwich Terrier/Border Terrier\",\"Norwich Terrier/Cairn Terrier\",\"Norwich Terrier/Chihuahua Longhair\",\"Norwich Terrier/Chihuahua Shorthair\",\"Norwich Terrier/Yorkshire Terrier\",\"Nova Scotia Duck Tolling Retriever\",\"Nova Scotia Duck Tolling Retriever Mix\",\"Nova Scotia Duck Tolling Retriever/Golden Retriever\",\"Old English Bulldog\",\"Old English Bulldog Mix\",\"Old English Sheepdog\",\"Old English Sheepdog Mix\",\"Otterhound Mix\",\"Papillon\",\"Papillon Mix\",\"Papillon/Australian Cattle Dog\",\"Papillon/Border Collie\",\"Papillon/Brittany\",\"Papillon/Chihuahua Longhair\",\"Papillon/Chihuahua Shorthair\",\"Papillon/Dachshund\",\"Papillon/Miniature Poodle\",\"Papillon/Pembroke Welsh Corgi\",\"Papillon/Pomeranian\",\"Papillon/Skye Terrier\",\"Papillon/Yorkshire Terrier\",\"Parson Russell Terrier\",\"Parson Russell Terrier Mix\",\"Parson Russell Terrier/Beagle\",\"Parson Russell Terrier/Chihuahua Shorthair\",\"Patterdale Terr Mix\",\"Patterdale Terr/Chihuahua Shorthair\",\"Patterdale Terr/Labrador Retriever\",\"Pbgv\",\"Pbgv Mix\",\"Pbgv/Pit Bull\",\"Pekingese\",\"Pekingese Mix\",\"Pekingese/Boston Terrier\",\"Pekingese/Cardigan Welsh Corgi\",\"Pekingese/Catahoula\",\"Pekingese/Cavalier Span\",\"Pekingese/Chihuahua Shorthair\",\"Pekingese/Jack Russell Terrier\",\"Pekingese/Lhasa Apso\",\"Pekingese/Maltese\",\"Pekingese/Miniature Poodle\",\"Pekingese/Norfolk Terrier\",\"Pekingese/Pomeranian\",\"Pekingese/Pug\",\"Pekingese/Shih Tzu\",\"Pekingese/Tibetan Terrier\",\"Pekingese/Toy Poodle\",\"Pembroke Welsh Corgi\",\"Pembroke Welsh Corgi Mix\",\"Pembroke Welsh Corgi/Anatol Shepherd\",\"Pembroke Welsh Corgi/Australian Cattle Dog\",\"Pembroke Welsh Corgi/Australian Shepherd\",\"Pembroke Welsh Corgi/Basset Hound\",\"Pembroke Welsh Corgi/Brittany\",\"Pembroke Welsh Corgi/Chihuahua Longhair\",\"Pembroke Welsh Corgi/Chihuahua Shorthair\",\"Pembroke Welsh Corgi/Chinese Sharpei\",\"Pembroke Welsh Corgi/Collie Smooth\",\"Pembroke Welsh Corgi/Dachshund\",\"Pembroke Welsh Corgi/German Shepherd\",\"Pembroke Welsh Corgi/Golden Retriever\",\"Pembroke Welsh Corgi/Labrador Retriever\",\"Pembroke Welsh Corgi/Pit Bull\",\"Pharaoh Hound\",\"Pharaoh Hound Mix\",\"Pharaoh Hound/Australian Cattle Dog\",\"Pharaoh Hound/Black Mouth Cur\",\"Pharaoh Hound/Border Collie\",\"Pharaoh Hound/Boxer\",\"Picardy Sheepdog\",\"Picardy Sheepdog Mix\",\"Pit Bull\",\"Pit Bull Mix\",\"Pit Bull/Akita\",\"Pit Bull/Alaskan Husky\",\"Pit Bull/American Bulldog\",\"Pit Bull/American Foxhound\",\"Pit Bull/Anatol Shepherd\",\"Pit Bull/Australian Cattle Dog\",\"Pit Bull/Australian Kelpie\",\"Pit Bull/Basset Hound\",\"Pit Bull/Beagle\",\"Pit Bull/Belgian Malinois\",\"Pit Bull/Black Mouth Cur\",\"Pit Bull/Blue Lacy\",\"Pit Bull/Border Collie\",\"Pit Bull/Boston Terrier\",\"Pit Bull/Boxer\",\"Pit Bull/Bull Terrier\",\"Pit Bull/Bulldog\",\"Pit Bull/Bullmastiff\",\"Pit Bull/Cardigan Welsh Corgi\",\"Pit Bull/Carolina Dog\",\"Pit Bull/Catahoula\",\"Pit Bull/Chihuahua Shorthair\",\"Pit Bull/Chinese Sharpei\",\"Pit Bull/Chow Chow\",\"Pit Bull/Dachshund\",\"Pit Bull/Dalmatian\",\"Pit Bull/Doberman Pinsch\",\"Pit Bull/Dogue De Bordeaux\",\"Pit Bull/English Bulldog\",\"Pit Bull/Flat Coat Retriever\",\"Pit Bull/French Bulldog\",\"Pit Bull/German Shepherd\",\"Pit Bull/Jack Russell Terrier\",\"Pit Bull/Jindo\",\"Pit Bull/Labrador Retriever\",\"Pit Bull/Mastiff\",\"Pit Bull/Pharaoh Hound\",\"Pit Bull/Pit Bull\",\"Pit Bull/Plott Hound\",\"Pit Bull/Pointer\",\"Pit Bull/Pug\",\"Pit Bull/Queensland Heeler\",\"Pit Bull/Rat Terrier\",\"Pit Bull/Rhod Ridgeback\",\"Pit Bull/Rottweiler\",\"Pit Bull/Siberian Husky\",\"Pit Bull/St. Bernard Smooth Coat\",\"Pit Bull/Vizsla\",\"Pit Bull/Weimaraner\",\"Plott Hound\",\"Plott Hound Mix\",\"Plott Hound/Australian Cattle Dog\",\"Plott Hound/Beagle\",\"Plott Hound/Black/Tan Hound\",\"Plott Hound/Blue Lacy\",\"Plott Hound/Border Collie\",\"Plott Hound/Boxer\",\"Plott Hound/Bull Terrier\",\"Plott Hound/Carolina Dog\",\"Plott Hound/Catahoula\",\"Plott Hound/Dachshund\",\"Plott Hound/Dutch Shepherd\",\"Plott Hound/German Shepherd\",\"Plott Hound/Great Pyrenees\",\"Plott Hound/Labrador Retriever\",\"Plott Hound/Mastiff\",\"Plott Hound/Pit Bull\",\"Plott Hound/Rhod Ridgeback\",\"Plott Hound/Rottweiler\",\"Plott Hound/Whippet\",\"Podengo Pequeno Mix\",\"Pointer\",\"Pointer Mix\",\"Pointer/American Bulldog\",\"Pointer/American Pit Bull Terrier\",\"Pointer/American Staffordshire Terrier\",\"Pointer/Anatol Shepherd\",\"Pointer/Australian Cattle Dog\",\"Pointer/Australian Kelpie\",\"Pointer/Australian Shepherd\",\"Pointer/Basenji\",\"Pointer/Basset Hound\",\"Pointer/Beagle\",\"Pointer/Blue Lacy\",\"Pointer/Border Collie\",\"Pointer/Boston Terrier\",\"Pointer/Boxer\",\"Pointer/Brittany\",\"Pointer/Bull Terrier\",\"Pointer/Catahoula\",\"Pointer/Chihuahua Longhair\",\"Pointer/Chinese Sharpei\",\"Pointer/Collie Smooth\",\"Pointer/Dalmatian\",\"Pointer/German Shorthair Pointer\",\"Pointer/Great Dane\",\"Pointer/Great Pyrenees\",\"Pointer/Harrier\",\"Pointer/Ibizan Hound\",\"Pointer/Jack Russell Terrier\",\"Pointer/Labrador Retriever\",\"Pointer/Pit Bull\",\"Pointer/Plott Hound\",\"Pointer/Queensland Heeler\",\"Pointer/Rat Terrier\",\"Pointer/Rhod Ridgeback\",\"Pointer/Staffordshire\",\"Pomeranian\",\"Pomeranian Mix\",\"Pomeranian/American Eskimo\",\"Pomeranian/Beagle\",\"Pomeranian/Border Terrier\",\"Pomeranian/Cairn Terrier\",\"Pomeranian/Chihuahua Longhair\",\"Pomeranian/Chihuahua Shorthair\",\"Pomeranian/Cocker Spaniel\",\"Pomeranian/Jack Russell Terrier\",\"Pomeranian/Schipperke\",\"Pomeranian/Shetland Sheepdog\",\"Port Water Dog\",\"Port Water Dog Mix\",\"Presa Canario\",\"Presa Canario Mix\",\"Pug\",\"Pug Mix\",\"Pug/Beagle\",\"Pug/Border Terrier\",\"Pug/Boston Terrier\",\"Pug/Boxer\",\"Pug/Cairn Terrier\",\"Pug/Chihuahua Longhair\",\"Pug/Chihuahua Shorthair\",\"Pug/Cocker Spaniel\",\"Pug/Dachshund\",\"Pug/French Bulldog\",\"Pug/Italian Greyhound\",\"Pug/Labrador Retriever\",\"Pug/Miniature Pinscher\",\"Pug/Miniature Schnauzer\",\"Pug/Pekingese\",\"Pug/Pit Bull\",\"Pug/Pomeranian\",\"Pug/Schipperke\",\"Pug/Staffordshire\",\"Queensland Heeler\",\"Queensland Heeler Mix\",\"Queensland Heeler/Australian Cattle Dog\",\"Queensland Heeler/Basset Hound\",\"Queensland Heeler/Border Collie\",\"Queensland Heeler/Cardigan Welsh Corgi\",\"Queensland Heeler/Chihuahua Shorthair\",\"Queensland Heeler/Dachshund\",\"Queensland Heeler/German Shepherd\",\"Queensland Heeler/Great Dane\",\"Queensland Heeler/Great Pyrenees\",\"Queensland Heeler/Labrador Retriever\",\"Queensland Heeler/Parson Russell Terrier\",\"Queensland Heeler/Pit Bull\",\"Queensland Heeler/Pointer\",\"Queensland Heeler/Shetland Sheepdog\",\"Rat Terrier\",\"Rat Terrier Mix\",\"Rat Terrier/Australian Cattle Dog\",\"Rat Terrier/Basenji\",\"Rat Terrier/Basset Hound\",\"Rat Terrier/Beagle\",\"Rat Terrier/Border Collie\",\"Rat Terrier/Boston Terrier\",\"Rat Terrier/Cairn Terrier\",\"Rat Terrier/Cardigan Welsh Corgi\",\"Rat Terrier/Chihuahua Longhair\",\"Rat Terrier/Chihuahua Shorthair\",\"Rat Terrier/Dachshund\",\"Rat Terrier/English Pointer\",\"Rat Terrier/Jack Russell Terrier\",\"Rat Terrier/Labrador Retriever\",\"Rat Terrier/Lhasa Apso\",\"Rat Terrier/Miniature Pinscher\",\"Rat Terrier/Miniature Poodle\",\"Rat Terrier/Pekingese\",\"Rat Terrier/Pembroke Welsh Corgi\",\"Rat Terrier/Pit Bull\",\"Rat Terrier/Pointer\",\"Rat Terrier/Pug\",\"Rat Terrier/Queensland Heeler\",\"Rat Terrier/Smooth Fox Terrier\",\"Redbone Hound\",\"Redbone Hound Mix\",\"Redbone Hound/Anatol Shepherd\",\"Redbone Hound/Australian Cattle Dog\",\"Redbone Hound/Boxer\",\"Redbone Hound/Catahoula\",\"Redbone Hound/Dachshund\",\"Redbone Hound/Labrador Retriever\",\"Redbone Hound/Redbone Hound\",\"Redbone Hound/Rhod Ridgeback\",\"Rhod Ridgeback\",\"Rhod Ridgeback Mix\",\"Rhod Ridgeback/Australian Cattle Dog\",\"Rhod Ridgeback/Boxer\",\"Rhod Ridgeback/Bullmastiff\",\"Rhod Ridgeback/Chow Chow\",\"Rhod Ridgeback/German Shepherd\",\"Rhod Ridgeback/Great Dane\",\"Rhod Ridgeback/Harrier\",\"Rhod Ridgeback/Labrador Retriever\",\"Rhod Ridgeback/Mastiff\",\"Rhod Ridgeback/Pit Bull\",\"Rhod Ridgeback/Plott Hound\",\"Rhod Ridgeback/Pointer\",\"Rhod Ridgeback/Redbone Hound\",\"Rhod Ridgeback/Vizsla\",\"Rottweiler\",\"Rottweiler Mix\",\"Rottweiler/Australian Cattle Dog\",\"Rottweiler/Australian Kelpie\",\"Rottweiler/Australian Shepherd\",\"Rottweiler/Basset Hound\",\"Rottweiler/Beagle\",\"Rottweiler/Blue Lacy\",\"Rottweiler/Boxer\",\"Rottweiler/Chinese Sharpei\",\"Rottweiler/Chow Chow\",\"Rottweiler/Dachshund\",\"Rottweiler/Doberman Pinsch\",\"Rottweiler/English Bulldog\",\"Rottweiler/English Coonhound\",\"Rottweiler/German Shepherd\",\"Rottweiler/Great Pyrenees\",\"Rottweiler/Labrador Retriever\",\"Rottweiler/Pit Bull\",\"Rottweiler/Plott Hound\",\"Rottweiler/Rhod Ridgeback\",\"Rottweiler/Siberian Husky\",\"Rottweiler/Staffordshire\",\"Saluki\",\"Saluki Mix\",\"Saluki/Doberman Pinsch\",\"Saluki/Labrador Retriever\",\"Samoyed\",\"Samoyed Mix\",\"Schipperke Mix\",\"Schipperke/Catahoula\",\"Schipperke/Chihuahua Shorthair\",\"Schnauzer Giant\",\"Schnauzer Giant Mix\",\"Schnauzer Giant/Labrador Retriever\",\"Schnauzer Giant/Otterhound\",\"Scottish Terrier\",\"Scottish Terrier Mix\",\"Scottish Terrier/Basset Hound\",\"Scottish Terrier/Cairn Terrier\",\"Scottish Terrier/Chihuahua Shorthair\",\"Scottish Terrier/Dachshund\",\"Scottish Terrier/Miniature Poodle\",\"Scottish Terrier/Standard Schnauzer\",\"Sealyham Terr Mix\",\"Shetland Sheepdog\",\"Shetland Sheepdog Mix\",\"Shetland Sheepdog/Basenji\",\"Shetland Sheepdog/Border Collie\",\"Shetland Sheepdog/Brittany\",\"Shetland Sheepdog/Cardigan Welsh Corgi\",\"Shetland Sheepdog/Cavalier Span\",\"Shetland Sheepdog/Chihuahua Longhair\",\"Shetland Sheepdog/Dachshund Longhair\",\"Shetland Sheepdog/German Shepherd\",\"Shetland Sheepdog/Italian Greyhound\",\"Shetland Sheepdog/Keeshond\",\"Shiba Inu\",\"Shiba Inu Mix\",\"Shiba Inu/Australian Kelpie\",\"Shiba Inu/Chinese Sharpei\",\"Shiba Inu/Chow Chow\",\"Shiba Inu/German Shepherd\",\"Shiba Inu/Siberian Husky\",\"Shih Tzu\",\"Shih Tzu Mix\",\"Shih Tzu/Affenpinscher\",\"Shih Tzu/Australian Shepherd\",\"Shih Tzu/Bichon Frise\",\"Shih Tzu/Border Terrier\",\"Shih Tzu/Bruss Griffon\",\"Shih Tzu/Cavalier Span\",\"Shih Tzu/Chihuahua Longhair\",\"Shih Tzu/Chihuahua Shorthair\",\"Shih Tzu/Cocker Spaniel\",\"Shih Tzu/Dachshund\",\"Shih Tzu/Dachshund Longhair\",\"Shih Tzu/Havanese\",\"Shih Tzu/Maltese\",\"Shih Tzu/Miniature Poodle\",\"Shih Tzu/Miniature Schnauzer\",\"Shih Tzu/Norfolk Terrier\",\"Shih Tzu/Papillon\",\"Shih Tzu/Pekingese\",\"Shih Tzu/Pit Bull\",\"Shih Tzu/Pomeranian\",\"Shih Tzu/Pug\",\"Shih Tzu/Toy Poodle\",\"Shih Tzu/Yorkshire Terrier\",\"Siberian Husky\",\"Siberian Husky Mix\",\"Siberian Husky/Akita\",\"Siberian Husky/Alaskan Malamute\",\"Siberian Husky/American Pit Bull Terrier\",\"Siberian Husky/Anatol Shepherd\",\"Siberian Husky/Australian Cattle Dog\",\"Siberian Husky/Australian Shepherd\",\"Siberian Husky/Beagle\",\"Siberian Husky/Border Collie\",\"Siberian Husky/Cardigan Welsh Corgi\",\"Siberian Husky/Catahoula\",\"Siberian Husky/Chinese Sharpei\",\"Siberian Husky/French Bulldog\",\"Siberian Husky/German Shepherd\",\"Siberian Husky/Great Pyrenees\",\"Siberian Husky/Labrador Retriever\",\"Siberian Husky/Pit Bull\",\"Siberian Husky/Rottweiler\",\"Silky Terrier\",\"Silky Terrier Mix\",\"Silky Terrier/Maltese\",\"Silky Terrier/Yorkshire Terrier\",\"Skye Terrier\",\"Skye Terrier Mix\",\"Skye Terrier/Miniature Poodle\",\"Smooth Fox Terrier\",\"Smooth Fox Terrier Mix\",\"Smooth Fox Terrier/Basenji\",\"Smooth Fox Terrier/Beagle\",\"Smooth Fox Terrier/Border Collie\",\"Smooth Fox Terrier/Cardigan Welsh Corgi\",\"Smooth Fox Terrier/Chihuahua Shorthair\",\"Smooth Fox Terrier/French Bulldog\",\"Smooth Fox Terrier/Jack Russell Terrier\",\"Smooth Fox Terrier/Labrador Retriever\",\"Smooth Fox Terrier/Rat Terrier\",\"Soft Coated Wheaten Terrier\",\"Soft Coated Wheaten Terrier Mix\",\"Soft Coated Wheaten Terrier/Border Terrier\",\"Soft Coated Wheaten Terrier/Boxer\",\"Soft Coated Wheaten Terrier/Chihuahua Shorthair\",\"Soft Coated Wheaten Terrier/Dandie Dinmont\",\"Soft Coated Wheaten Terrier/Labrador Retriever\",\"Soft Coated Wheaten Terrier/Miniature Poodle\",\"Soft Coated Wheaten Terrier/Standard Poodle\",\"Soft Coated Wheaten Terrier/Yorkshire Terrier\",\"Spanish Mastiff Mix\",\"Spanish Water Dog\",\"Spinone Italiano Mix\",\"St. Bernard Rough Coat\",\"St. Bernard Rough Coat Mix\",\"St. Bernard Rough Coat/Anatol Shepherd\",\"St. Bernard Rough Coat/Beagle\",\"St. Bernard Rough Coat/Border Collie\",\"St. Bernard Rough Coat/German Shepherd\",\"St. Bernard Rough Coat/Labrador Retriever\",\"St. Bernard Rough Coat/Standard Schnauzer\",\"St. Bernard Smooth Coat\",\"St. Bernard Smooth Coat Mix\",\"St. Bernard Smooth Coat/Anatol Shepherd\",\"Staffordshire\",\"Staffordshire Mix\",\"Staffordshire/American Bulldog\",\"Staffordshire/Australian Cattle Dog\",\"Staffordshire/Basenji\",\"Staffordshire/Basset Hound\",\"Staffordshire/Beagle\",\"Staffordshire/Blue Lacy\",\"Staffordshire/Border Collie\",\"Staffordshire/Boston Terrier\",\"Staffordshire/Boxer\",\"Staffordshire/Bull Terrier\",\"Staffordshire/Bulldog\",\"Staffordshire/Chinese Sharpei\",\"Staffordshire/Dachshund\",\"Staffordshire/English Bulldog\",\"Staffordshire/French Bulldog\",\"Staffordshire/Labrador Retriever\",\"Staffordshire/Mastiff\",\"Staffordshire/Pit Bull\",\"Staffordshire/Plott Hound\",\"Staffordshire/Rat Terrier\",\"Standard Poodle\",\"Standard Poodle Mix\",\"Standard Poodle/Australian Shepherd\",\"Standard Poodle/Golden Retriever\",\"Standard Poodle/Jack Russell Terrier\",\"Standard Poodle/Labrador Retriever\",\"Standard Poodle/Whippet\",\"Standard Schnauzer\",\"Standard Schnauzer Mix\",\"Standard Schnauzer/Border Terrier\",\"Standard Schnauzer/German Shepherd\",\"Standard Schnauzer/Labrador Retriever\",\"Standard Schnauzer/Miniature Poodle\",\"Standard Schnauzer/Soft Coated Wheaten Terrier\",\"Standard Schnauzer/Standard Poodle\",\"Standard Schnauzer/Toy Poodle\",\"Sussex Span Mix\",\"Swedish Vallhund\",\"Swedish Vallhund Mix\",\"Swedish Vallhund/Chihuahua Longhair\",\"Swedish Vallhund/Miniature Poodle\",\"Swiss Hound Mix\",\"Swiss Hound/Pit Bull\",\"Tibetan Mastiff Mix\",\"Tibetan Spaniel\",\"Tibetan Spaniel Mix\",\"Tibetan Spaniel/Beagle\",\"Tibetan Spaniel/Chihuahua Longhair\",\"Tibetan Spaniel/Dachshund Longhair\",\"Tibetan Terrier\",\"Tibetan Terrier Mix\",\"Tibetan Terrier/Lhasa Apso\",\"Toy Fox Terrier\",\"Toy Fox Terrier Mix\",\"Toy Fox Terrier/Chihuahua Shorthair\",\"Toy Fox Terrier/Dachshund\",\"Toy Fox Terrier/Yorkshire Terrier\",\"Toy Poodle\",\"Toy Poodle Mix\",\"Toy Poodle/Bichon Frise\",\"Toy Poodle/Chihuahua Shorthair\",\"Toy Poodle/Cocker Spaniel\",\"Toy Poodle/Dachshund\",\"Toy Poodle/Lhasa Apso\",\"Toy Poodle/Maltese\",\"Toy Poodle/Miniature Schnauzer\",\"Toy Poodle/Yorkshire Terrier\",\"Treeing Cur\",\"Treeing Cur Mix\",\"Treeing Tennesse Brindle\",\"Treeing Tennesse Brindle Mix\",\"Treeing Walker Coonhound\",\"Treeing Walker Coonhound Mix\",\"Treeing Walker Coonhound/Australian Cattle Dog\",\"Treeing Walker Coonhound/Dachshund\",\"Treeing Walker Coonhound/German Shepherd\",\"Treeing Walker Coonhound/Great Dane\",\"Treeing Walker Coonhound/Labrador Retriever\",\"Treeing Walker Coonhound/Plott Hound\",\"Unknown\",\"Unknown Mix\",\"Vizsla\",\"Vizsla Mix\",\"Vizsla/Beagle\",\"Vizsla/Boxer\",\"Vizsla/Catahoula\",\"Vizsla/Dachshund\",\"Vizsla/German Shepherd\",\"Vizsla/Golden Retriever\",\"Vizsla/Great Pyrenees\",\"Vizsla/Greyhound\",\"Vizsla/Labrador Retriever\",\"Vizsla/Pit Bull\",\"Vizsla/Pointer\",\"Vizsla/Rhod Ridgeback\",\"Vizsla/Staffordshire\",\"Weimaraner\",\"Weimaraner Mix\",\"Weimaraner/American Bulldog\",\"Weimaraner/Labrador Retriever\",\"Weimaraner/Pit Bull\",\"Weimaraner/Plott Hound\",\"Weimaraner/Vizsla\",\"Welsh Springer Spaniel\",\"Welsh Springer Spaniel Mix\",\"Welsh Springer Spaniel/Labrador Retriever\",\"Welsh Terrier\",\"Welsh Terrier Mix\",\"Welsh Terrier/Miniature Poodle\",\"Welsh Terrier/Wire Hair Fox Terrier\",\"West Highland\",\"West Highland Mix\",\"West Highland/Cairn Terrier\",\"West Highland/Chihuahua Shorthair\",\"West Highland/Lhasa Apso\",\"West Highland/Maltese\",\"West Highland/Miniature Poodle\",\"West Highland/Patterdale Terr\",\"West Highland/Shetland Sheepdog\",\"West Highland/Soft Coated Wheaten Terrier\",\"West Highland/Standard Poodle\",\"West Highland/Toy Fox Terrier\",\"West Highland/Yorkshire Terrier\",\"Whippet\",\"Whippet Mix\",\"Whippet/Anatol Shepherd\",\"Whippet/Australian Cattle Dog\",\"Whippet/Australian Kelpie\",\"Whippet/Beagle\",\"Whippet/Borzoi\",\"Whippet/Catahoula\",\"Whippet/Chihuahua Shorthair\",\"Whippet/Dachshund\",\"Whippet/German Shepherd\",\"Whippet/Jack Russell Terrier\",\"Whippet/Labrador Retriever\",\"Whippet/Miniature Pinscher\",\"Whippet/Pit Bull\",\"Whippet/Plott Hound\",\"Whippet/Rat Terrier\",\"Whippet/Shetland Sheepdog\",\"Whippet/Treeing Cur\",\"Whippet/Whippet\",\"Wire Hair Fox Terrier\",\"Wire Hair Fox Terrier Mix\",\"Wire Hair Fox Terrier/Beagle\",\"Wire Hair Fox Terrier/Chihuahua Shorthair\",\"Wire Hair Fox Terrier/Dachshund\",\"Wire Hair Fox Terrier/German Shepherd\",\"Wire Hair Fox Terrier/Golden Retriever\",\"Wire Hair Fox Terrier/Miniature Schnauzer\",\"Wire Hair Fox Terrier/Standard Schnauzer\",\"Wirehaired Pointing Griffon\",\"Wirehaired Pointing Griffon Mix\",\"Wolf Hybrid Mix\",\"Yorkshire Terrier\",\"Yorkshire Terrier Mix\",\"Yorkshire Terrier/Australian Terrier\",\"Yorkshire Terrier/Border Terrier\",\"Yorkshire Terrier/Bruss Griffon\",\"Yorkshire Terrier/Cairn Terrier\",\"Yorkshire Terrier/Chihuahua Longhair\",\"Yorkshire Terrier/Chihuahua Shorthair\",\"Yorkshire Terrier/Chinese Crested\",\"Yorkshire Terrier/Dachshund\",\"Yorkshire Terrier/Dachshund Longhair\",\"Yorkshire Terrier/Dachshund Wirehair\",\"Yorkshire Terrier/Havanese\",\"Yorkshire Terrier/Jack Russell Terrier\",\"Yorkshire Terrier/Lhasa Apso\",\"Yorkshire Terrier/Maltese\",\"Yorkshire Terrier/Miniature Poodle\",\"Yorkshire Terrier/Miniature Schnauzer\",\"Yorkshire Terrier/Norfolk Terrier\",\"Yorkshire Terrier/Parson Russell Terrier\",\"Yorkshire Terrier/Pomeranian\",\"Yorkshire Terrier/Rat Terrier\",\"Yorkshire Terrier/Scottish Terrier\",\"Yorkshire Terrier/Shih Tzu\",\"Yorkshire Terrier/Soft Coated Wheaten Terrier\",\"Yorkshire Terrier/Standard Poodle\",\"Yorkshire Terrier/Toy Poodle\",\"Yorkshire Terrier/Yorkshire Terrier\"],\"xaxis\":\"x\",\"y\":[1,7,1,1,2,25,1,2,1,2,1,6,16,54,6,3,7,1,3,1,2,4,60,115,3,3,2,1,26,8,1,1,15,25,1,3,1,3,9,2,1,62,413,2,3,1,6,1,2,1,13,3,25,2,1,11,26,1,1,2,5,19,1,2,1,1,109,292,1,2,2,2,2,2,4,2,1,1,65,246,4,1,3,1,1,3,1,9,2,1,1,1,76,386,2,4,2,1,1,2,6,1,3,2,1,7,2,29,2,28,2,4,1,1,1,296,1449,2,1,2,2,5,3,3,11,5,1,17,8,1,1,2,26,1,14,3,1,6,11,2,1,4,4,1,2,6,3,1,1,53,3,1,7,6,89,1,2,2,5,40,5,12,1,4,3,2,3,3,13,1,1,2,30,343,1,2,2,6,5,4,2,3,1,1,1,3,1,4,2,8,4,8,1,3,1,2,1,3,88,636,1,7,8,1,4,1,24,3,1,5,3,1,5,9,4,2,1,1,1,1,1,1,1,15,2,10,1,1,37,2,1,3,5,5,1,1,2,3,1,1,1,3,19,1,4,69,4,1,1,1,2,7,1,2,1,2,3,57,144,1,7,2,10,1,1,1,3,5,2,5,2,1,1,1,2,1,1,18,1,11,4,1,109,531,2,11,1,1,12,4,1,1,2,9,1,3,9,1,1,36,2,1,45,1,1,20,1,2,10,50,1,1,2,3,1,1,8,2,5,27,3,9,1,1,5,3,3,8,1,3,30,1,5,31,80,2,2,7,3,3,1,2,1,5,2,2,6,29,1,1,20,62,1,2,1,3,36,355,1,2,2,4,2,1,2,5,7,2,1,2,7,8,1,1,10,2,11,1,1,1,1,1,20,123,2,2,1,2,1,12,1,15,35,1,2,1,27,165,6,1,1,3,1,2,2,1,1,1,5,12,2,1,2,6,25,1,1,2,1,1,1,7,116,863,3,2,1,1,1,28,2,14,3,1,7,4,2,2,4,1,6,1,2,10,8,1,5,1,1,1,1,38,1,1,28,4,2,101,2,1,3,3,4,3,2,2,1,3,1,1,5,38,192,1,1,1,2,14,1,1,1,1,1,2,2,1,1,1,4,1,1,9,54,116,1,2,12,3,2,2,1,2,3,2,4,1,1,188,902,1,4,1,4,4,10,1,18,4,3,2,3,2,1,2,7,11,2,2,1,1,1,3,5,4,1,3,1,2,1,75,5,2,1,83,4,10,1,2,1,2,6,1,1,11,1,1,1,9,26,3,1,1,1,3,7,51,1,1,1,1,2,1,4,1,38,5,11,1,1,1,1,87,1,1,2,1,2,9,48,1,1,3,1,1,2,4,14,31,1,1,119,478,1,1,2,1,1,1,5,33,7,4,2,8,7,1,2,2,1,10,9,1,1,1,3,7,15,3,1,16,137,2,2,10,2,1,6,1,1,1,1,24,3,3,1,5,2,2,1,9,2,1,1,4,2,1,20,88,1,2,3,1,1,5,2,77,654,1,2,2,1,2,17,2,6,1,1,4,4,1,8,1,1,3,8,5,1,1,1,41,1,21,15,8,1,2,3,2,2,1,5,15,25,1,1,2,1,1,1,1,3,23,1,1,1,3,1,79,481,1,1,5,4,1,2,1,3,15,3,2,1,1,2,5,2,1,3,3,3,13,2,1,7,1,2,5,961,5906,1,1,4,2,4,3,22,1,1,9,19,1,25,36,4,1,1,1,2,1,2,1,346,1,9,1,2,2,4,17,68,2,1,3,8,3,21,6,6,4,1,1,4,3,7,9,13,62,1,86,1,1,3,1,1,4,4,6,2,1,2,6,6,28,3,14,1,2,2,1,33,119,1,3,1,2,1,2,2,2,1,1,2,2,1,26,5,1,1,1,1,33,172,1,8,3,2,1,2,1,16,5,1,17,1,7,1,4,1,3,1,69,137,1,2,1,3,1,3,8,2,1,1,15,16,1,1,3,1,1,1,1,6,47,5,3,2,1,2,1,6,1,3,1,1,1,1,1,7,18,101,1,1,1,1,2,2,3,1,1,12,1,4,1,1,1,4,199,34,118,1,1,1,3,16,8,5,1,2,1,3,1,1,1,1,1,1,981,1,11,103,8,2,2,17,1,11,3,2,1,1,1,1,4,1,2,1,7,2,2,33,2,1,3,1,1,1,1,2,7,4,1,7,268,1,2,1,2,1,1,2,2,1,2,6,20,1,12,12,4,1,1,1,2,12,5,1,9,20,1,4,1,1,4,1,2,9,55,3,1,1,9,2,2,4,2,2,3,1,92,155,2,3,1,3,1,1,1,1,6,1,7,3,1,1,3,29,1,1,2,1,4,18,1,10,51,1,1,1,1,1,4,1,2,1,42,90,1,1,1,1,2,1,1,1,1,1,1,4,6,36,1,4,1,2,4,12,1,1,4,29,1,1,8,3,12,5,16,1,1,1,1,1,1,17,3,1,12,2,6,28,2,3,2,1,1,3,106,1,1,3,1,3,6,3,19,18,3,1,1,1,2,1,5,1,804,2770,2,4,28,6,1,9,35,15,12,1,1,3,3,17,8,14,1,22,2,1,9,1,16,4,9,27,6,4,11,1,1,1,7,2,23,3,3,3,246,8,5,5,17,4,3,1,3,26,52,1,3,1,1,2,18,48,1,12,1,1,1,2,4,16,2,13,1,46,213,2,2,2,1,4,1,5,1,1,15,1,3,2,1,3,7,1,34,2,1,1,5,1,2,1,57,112,2,2,1,1,1,2,4,1,1,2,3,21,3,5,2,1,189,532,1,8,18,6,6,19,1,8,5,1,1,2,1,9,10,1,68,5,5,1,3,1,2,7,4,1,4,1,15,35,1,1,1,1,1,1,2,6,1,1,1,12,73,3,1,1,1,4,1,1,8,38,4,1,1,2,1,6,1,3,3,5,23,4,2,1,2,1,3,11,1,1,1,1,1,1,2,30,1,1,4,83,502,1,1,15,1,2,2,27,3,1,1,6,2,1,1,62,14,2,2,9,2,1,5,1,1,4,6,1,3,9,1,4,1,2,2,2,5,2,8,2,11,1,2,1,1,2,1,11,1,7,2,980,6321,1,10,1,8,1,3,1,27,121,18,43,2,20,64,9,1,1,3,9,3,17,144,1,2,80,2,1,1,3,35,4,2,34,50,2,4,8,30,4,6,14,1,1,2,2,1,8,237,4,37,15,107,15,1,1,1,2,11,8,11,6,3,1,1,1,2,1,349,34,56,3,11,2,8,10,41,1,3,31,2,1,1,1,10,13,4,5,7,11,11,2,2,15,1,1,2,2,3,13,1,37,135,1,2,2,1,1,1,19,2,1,1,6,1,2,1,1,1,1,80,205,2,2,1,2,1,2,2,89,1,2,1,17,1,1,15,4,111,2,6,1,11,7,3,2,1,4,2,1,31,129,1,1,2,1,4,1,7,1,1,3,5,12,1,5,1,2,7,1,71,195,3,28,8,1,1,1,4,1,2,1,140,792,1,3,1,1,11,1,7,1,1,7,18,8,1,2,2,1,1,2,16,33,37,1,1,8,1,8,106,538,2,5,1,1,8,2,13,2,5,2,4,2,3,2,3,85,1,1,1,2,1,1,5,1,1,1,21,3,8,1,1,9,1,1,2,4,1,15,97,1,1,1,1,22,1,1,1,1,1,1,1,2,1,1,10,58,1,1,1,2,1,2,6,6,5,1,7,13,3,5,3,10,51,1,1,1,2,3,2,2,1,1,1,1,15,46,1,4,13,1,1,12,50,1,38,87,1,1,1,1,2,2,1,1,3,1,1,1,4,1,1,17,80,1,1,2,1,1,1,9,1,1,1,2,1,2,1,13,42,1,4,1,3,2,8,1216,7635,1,3,3,1,1,41,1,11,5,1,8,5,14,9,84,3,7,1,1,2,35,15,34,7,6,7,1,1,3,2,1,18,2,1,187,6,1,2,8,23,3,2,2,3,5,2,1,1,6,31,375,8,1,1,4,1,5,2,1,2,1,1,2,1,35,2,6,2,1,1,7,79,503,2,4,1,2,18,1,1,2,2,5,1,9,1,9,1,1,6,6,1,4,4,1,3,1,2,1,2,56,40,1,1,2,1,3,49,137,1,2,1,1,14,5,1,1,1,2,2,2,2,9,78,140,48,2,1,1,1,2,41,1,1,2,2,4,1,1,2,2,1,1,2,24,171,2,1,1,1,4,2,2,1,2,4,1,5,2,1,82,558,2,2,1,10,1,5,1,5,4,78,11,1,2,6,1,1,3,1,1,1,2,1,1,1,12,81,1,1,1,1,2,8,1,3,12,91,1,2,1,1,4,6,1,20,1,2,1,1,1,1,178,382,7,1,3,1,3,1,1,1,5,1,2,1,1,21,1,39,6,6,2,2,1,5,7,1,1,2,8,15,1,3,3,23,1,1,5,36,1,1,1,2,2,1,1,12,48,1,2,1,1,1,1,1,1,1,1,9,46,4,1,1,2,1,188,373,1,1,1,1,2,1,1,11,2,4,1,4,10,19,5,1,1,2,3,1,1,5,5,380,607,4,4,2,3,18,1,1,9,3,2,2,1,49,1,31,10,1,2,13,1,4,2,9,1,10,47,1,1,1,2,2,1,2,2,1,16,68,2,1,1,1,3,1,1,2,1,1,3,4,23,1,1,1,1,1,1,4,20,2,59,630,1,4,1,1,3,2,1,2,10,3,1,2,1,3,1,12,1,2,3,1,9,24,1,3,1,17,1,12,55,1,3,2,11,1,3,1,2,1,17,1,1,1,1,1,6,33,2,2,1,5,19,2,7,25,3,1,1,40,111,2,1,1,1,5,2,3,1,3,20,2,3,4,34,1,1,3,2,2,1,2,2,22,46,1,2,1,2,2,2,1,1,6,1,1,1,1,15,50,1,16,4,1,6,2,4,1,26,15,1,1,16,62,2,1,1,1,2,2,1,1,1,2,1,4,75,1,1,3,4,1,1,3,3,1,1,4,1,1,1,2,1,1,1,50,51,4,7,3,1,1,1,1,2,7,1,105,573,1,10,2,10,14,34,1,1,1,2,2,2,2,14,32,18,8,1,2,7,2,3,1,3,10,1],\"yaxis\":\"y\",\"type\":\"bar\"}],                        {\"template\":{\"data\":{\"histogram2dcontour\":[{\"type\":\"histogram2dcontour\",\"colorbar\":{\"outlinewidth\":0,\"ticks\":\"\"},\"colorscale\":[[0.0,\"#0d0887\"],[0.1111111111111111,\"#46039f\"],[0.2222222222222222,\"#7201a8\"],[0.3333333333333333,\"#9c179e\"],[0.4444444444444444,\"#bd3786\"],[0.5555555555555556,\"#d8576b\"],[0.6666666666666666,\"#ed7953\"],[0.7777777777777778,\"#fb9f3a\"],[0.8888888888888888,\"#fdca26\"],[1.0,\"#f0f921\"]]}],\"choropleth\":[{\"type\":\"choropleth\",\"colorbar\":{\"outlinewidth\":0,\"ticks\":\"\"}}],\"histogram2d\":[{\"type\":\"histogram2d\",\"colorbar\":{\"outlinewidth\":0,\"ticks\":\"\"},\"colorscale\":[[0.0,\"#0d0887\"],[0.1111111111111111,\"#46039f\"],[0.2222222222222222,\"#7201a8\"],[0.3333333333333333,\"#9c179e\"],[0.4444444444444444,\"#bd3786\"],[0.5555555555555556,\"#d8576b\"],[0.6666666666666666,\"#ed7953\"],[0.7777777777777778,\"#fb9f3a\"],[0.8888888888888888,\"#fdca26\"],[1.0,\"#f0f921\"]]}],\"heatmap\":[{\"type\":\"heatmap\",\"colorbar\":{\"outlinewidth\":0,\"ticks\":\"\"},\"colorscale\":[[0.0,\"#0d0887\"],[0.1111111111111111,\"#46039f\"],[0.2222222222222222,\"#7201a8\"],[0.3333333333333333,\"#9c179e\"],[0.4444444444444444,\"#bd3786\"],[0.5555555555555556,\"#d8576b\"],[0.6666666666666666,\"#ed7953\"],[0.7777777777777778,\"#fb9f3a\"],[0.8888888888888888,\"#fdca26\"],[1.0,\"#f0f921\"]]}],\"heatmapgl\":[{\"type\":\"heatmapgl\",\"colorbar\":{\"outlinewidth\":0,\"ticks\":\"\"},\"colorscale\":[[0.0,\"#0d0887\"],[0.1111111111111111,\"#46039f\"],[0.2222222222222222,\"#7201a8\"],[0.3333333333333333,\"#9c179e\"],[0.4444444444444444,\"#bd3786\"],[0.5555555555555556,\"#d8576b\"],[0.6666666666666666,\"#ed7953\"],[0.7777777777777778,\"#fb9f3a\"],[0.8888888888888888,\"#fdca26\"],[1.0,\"#f0f921\"]]}],\"contourcarpet\":[{\"type\":\"contourcarpet\",\"colorbar\":{\"outlinewidth\":0,\"ticks\":\"\"}}],\"contour\":[{\"type\":\"contour\",\"colorbar\":{\"outlinewidth\":0,\"ticks\":\"\"},\"colorscale\":[[0.0,\"#0d0887\"],[0.1111111111111111,\"#46039f\"],[0.2222222222222222,\"#7201a8\"],[0.3333333333333333,\"#9c179e\"],[0.4444444444444444,\"#bd3786\"],[0.5555555555555556,\"#d8576b\"],[0.6666666666666666,\"#ed7953\"],[0.7777777777777778,\"#fb9f3a\"],[0.8888888888888888,\"#fdca26\"],[1.0,\"#f0f921\"]]}],\"surface\":[{\"type\":\"surface\",\"colorbar\":{\"outlinewidth\":0,\"ticks\":\"\"},\"colorscale\":[[0.0,\"#0d0887\"],[0.1111111111111111,\"#46039f\"],[0.2222222222222222,\"#7201a8\"],[0.3333333333333333,\"#9c179e\"],[0.4444444444444444,\"#bd3786\"],[0.5555555555555556,\"#d8576b\"],[0.6666666666666666,\"#ed7953\"],[0.7777777777777778,\"#fb9f3a\"],[0.8888888888888888,\"#fdca26\"],[1.0,\"#f0f921\"]]}],\"mesh3d\":[{\"type\":\"mesh3d\",\"colorbar\":{\"outlinewidth\":0,\"ticks\":\"\"}}],\"scatter\":[{\"fillpattern\":{\"fillmode\":\"overlay\",\"size\":10,\"solidity\":0.2},\"type\":\"scatter\"}],\"parcoords\":[{\"type\":\"parcoords\",\"line\":{\"colorbar\":{\"outlinewidth\":0,\"ticks\":\"\"}}}],\"scatterpolargl\":[{\"type\":\"scatterpolargl\",\"marker\":{\"colorbar\":{\"outlinewidth\":0,\"ticks\":\"\"}}}],\"bar\":[{\"error_x\":{\"color\":\"#2a3f5f\"},\"error_y\":{\"color\":\"#2a3f5f\"},\"marker\":{\"line\":{\"color\":\"#E5ECF6\",\"width\":0.5},\"pattern\":{\"fillmode\":\"overlay\",\"size\":10,\"solidity\":0.2}},\"type\":\"bar\"}],\"scattergeo\":[{\"type\":\"scattergeo\",\"marker\":{\"colorbar\":{\"outlinewidth\":0,\"ticks\":\"\"}}}],\"scatterpolar\":[{\"type\":\"scatterpolar\",\"marker\":{\"colorbar\":{\"outlinewidth\":0,\"ticks\":\"\"}}}],\"histogram\":[{\"marker\":{\"pattern\":{\"fillmode\":\"overlay\",\"size\":10,\"solidity\":0.2}},\"type\":\"histogram\"}],\"scattergl\":[{\"type\":\"scattergl\",\"marker\":{\"colorbar\":{\"outlinewidth\":0,\"ticks\":\"\"}}}],\"scatter3d\":[{\"type\":\"scatter3d\",\"line\":{\"colorbar\":{\"outlinewidth\":0,\"ticks\":\"\"}},\"marker\":{\"colorbar\":{\"outlinewidth\":0,\"ticks\":\"\"}}}],\"scattermapbox\":[{\"type\":\"scattermapbox\",\"marker\":{\"colorbar\":{\"outlinewidth\":0,\"ticks\":\"\"}}}],\"scatterternary\":[{\"type\":\"scatterternary\",\"marker\":{\"colorbar\":{\"outlinewidth\":0,\"ticks\":\"\"}}}],\"scattercarpet\":[{\"type\":\"scattercarpet\",\"marker\":{\"colorbar\":{\"outlinewidth\":0,\"ticks\":\"\"}}}],\"carpet\":[{\"aaxis\":{\"endlinecolor\":\"#2a3f5f\",\"gridcolor\":\"white\",\"linecolor\":\"white\",\"minorgridcolor\":\"white\",\"startlinecolor\":\"#2a3f5f\"},\"baxis\":{\"endlinecolor\":\"#2a3f5f\",\"gridcolor\":\"white\",\"linecolor\":\"white\",\"minorgridcolor\":\"white\",\"startlinecolor\":\"#2a3f5f\"},\"type\":\"carpet\"}],\"table\":[{\"cells\":{\"fill\":{\"color\":\"#EBF0F8\"},\"line\":{\"color\":\"white\"}},\"header\":{\"fill\":{\"color\":\"#C8D4E3\"},\"line\":{\"color\":\"white\"}},\"type\":\"table\"}],\"barpolar\":[{\"marker\":{\"line\":{\"color\":\"#E5ECF6\",\"width\":0.5},\"pattern\":{\"fillmode\":\"overlay\",\"size\":10,\"solidity\":0.2}},\"type\":\"barpolar\"}],\"pie\":[{\"automargin\":true,\"type\":\"pie\"}]},\"layout\":{\"autotypenumbers\":\"strict\",\"colorway\":[\"#636efa\",\"#EF553B\",\"#00cc96\",\"#ab63fa\",\"#FFA15A\",\"#19d3f3\",\"#FF6692\",\"#B6E880\",\"#FF97FF\",\"#FECB52\"],\"font\":{\"color\":\"#2a3f5f\"},\"hovermode\":\"closest\",\"hoverlabel\":{\"align\":\"left\"},\"paper_bgcolor\":\"white\",\"plot_bgcolor\":\"#E5ECF6\",\"polar\":{\"bgcolor\":\"#E5ECF6\",\"angularaxis\":{\"gridcolor\":\"white\",\"linecolor\":\"white\",\"ticks\":\"\"},\"radialaxis\":{\"gridcolor\":\"white\",\"linecolor\":\"white\",\"ticks\":\"\"}},\"ternary\":{\"bgcolor\":\"#E5ECF6\",\"aaxis\":{\"gridcolor\":\"white\",\"linecolor\":\"white\",\"ticks\":\"\"},\"baxis\":{\"gridcolor\":\"white\",\"linecolor\":\"white\",\"ticks\":\"\"},\"caxis\":{\"gridcolor\":\"white\",\"linecolor\":\"white\",\"ticks\":\"\"}},\"coloraxis\":{\"colorbar\":{\"outlinewidth\":0,\"ticks\":\"\"}},\"colorscale\":{\"sequential\":[[0.0,\"#0d0887\"],[0.1111111111111111,\"#46039f\"],[0.2222222222222222,\"#7201a8\"],[0.3333333333333333,\"#9c179e\"],[0.4444444444444444,\"#bd3786\"],[0.5555555555555556,\"#d8576b\"],[0.6666666666666666,\"#ed7953\"],[0.7777777777777778,\"#fb9f3a\"],[0.8888888888888888,\"#fdca26\"],[1.0,\"#f0f921\"]],\"sequentialminus\":[[0.0,\"#0d0887\"],[0.1111111111111111,\"#46039f\"],[0.2222222222222222,\"#7201a8\"],[0.3333333333333333,\"#9c179e\"],[0.4444444444444444,\"#bd3786\"],[0.5555555555555556,\"#d8576b\"],[0.6666666666666666,\"#ed7953\"],[0.7777777777777778,\"#fb9f3a\"],[0.8888888888888888,\"#fdca26\"],[1.0,\"#f0f921\"]],\"diverging\":[[0,\"#8e0152\"],[0.1,\"#c51b7d\"],[0.2,\"#de77ae\"],[0.3,\"#f1b6da\"],[0.4,\"#fde0ef\"],[0.5,\"#f7f7f7\"],[0.6,\"#e6f5d0\"],[0.7,\"#b8e186\"],[0.8,\"#7fbc41\"],[0.9,\"#4d9221\"],[1,\"#276419\"]]},\"xaxis\":{\"gridcolor\":\"white\",\"linecolor\":\"white\",\"ticks\":\"\",\"title\":{\"standoff\":15},\"zerolinecolor\":\"white\",\"automargin\":true,\"zerolinewidth\":2},\"yaxis\":{\"gridcolor\":\"white\",\"linecolor\":\"white\",\"ticks\":\"\",\"title\":{\"standoff\":15},\"zerolinecolor\":\"white\",\"automargin\":true,\"zerolinewidth\":2},\"scene\":{\"xaxis\":{\"backgroundcolor\":\"#E5ECF6\",\"gridcolor\":\"white\",\"linecolor\":\"white\",\"showbackground\":true,\"ticks\":\"\",\"zerolinecolor\":\"white\",\"gridwidth\":2},\"yaxis\":{\"backgroundcolor\":\"#E5ECF6\",\"gridcolor\":\"white\",\"linecolor\":\"white\",\"showbackground\":true,\"ticks\":\"\",\"zerolinecolor\":\"white\",\"gridwidth\":2},\"zaxis\":{\"backgroundcolor\":\"#E5ECF6\",\"gridcolor\":\"white\",\"linecolor\":\"white\",\"showbackground\":true,\"ticks\":\"\",\"zerolinecolor\":\"white\",\"gridwidth\":2}},\"shapedefaults\":{\"line\":{\"color\":\"#2a3f5f\"}},\"annotationdefaults\":{\"arrowcolor\":\"#2a3f5f\",\"arrowhead\":0,\"arrowwidth\":1},\"geo\":{\"bgcolor\":\"white\",\"landcolor\":\"#E5ECF6\",\"subunitcolor\":\"white\",\"showland\":true,\"showlakes\":true,\"lakecolor\":\"white\"},\"title\":{\"x\":0.05},\"mapbox\":{\"style\":\"light\"}}},\"xaxis\":{\"anchor\":\"y\",\"domain\":[0.0,1.0],\"title\":{\"text\":\"BREED\"}},\"yaxis\":{\"anchor\":\"x\",\"domain\":[0.0,1.0],\"title\":{\"text\":\"COUNT\"}},\"legend\":{\"tracegroupgap\":0},\"title\":{\"text\":\"BREED Distribution [ Animal Type : Dog (#65251)]\"},\"barmode\":\"relative\"},                        {\"responsive\": true}                    ).then(function(){\n",
       "                            \n",
       "var gd = document.getElementById('bb8dc8ca-28d0-4677-b65a-5393bdaad2d1');\n",
       "var x = new MutationObserver(function (mutations, observer) {{\n",
       "        var display = window.getComputedStyle(gd).display;\n",
       "        if (!display || display === 'none') {{\n",
       "            console.log([gd, 'removed!']);\n",
       "            Plotly.purge(gd);\n",
       "            observer.disconnect();\n",
       "        }}\n",
       "}});\n",
       "\n",
       "// Listen for the removal of the full notebook cells\n",
       "var notebookContainer = gd.closest('#notebook-container');\n",
       "if (notebookContainer) {{\n",
       "    x.observe(notebookContainer, {childList: true});\n",
       "}}\n",
       "\n",
       "// Listen for the clearing of the current output cell\n",
       "var outputEl = gd.closest('.output');\n",
       "if (outputEl) {{\n",
       "    x.observe(outputEl, {childList: true});\n",
       "}}\n",
       "\n",
       "                        })                };                });            </script>        </div>"
      ]
     },
     "metadata": {},
     "output_type": "display_data"
    }
   ],
   "source": [
    "var = 'BREED'\n",
    "dfGrp = dfAnimals.groupby(['ANIMALTYPE',var])['ANIMALID'].count()\n",
    "dfGrp = dfGrp.reset_index(drop=False)\n",
    "dfGrp = dfGrp.rename(columns={\"ANIMALID\": \"COUNT\"})\n",
    "dfGrp = dfGrp[dfGrp.ANIMALTYPE.isin(['Bird','Cat','Dog','Livestock'])]\n",
    "dfGrp\n",
    "a = list()\n",
    "for animal in dfGrp.ANIMALTYPE.unique():\n",
    "    dat = dfGrp[dfGrp.ANIMALTYPE==animal]\n",
    "    dat['PCT'] = np.round(100.0*dat['COUNT']/dat['COUNT'].sum(),2)\n",
    "    cnt = dat['COUNT'].sum()\n",
    "    a.append({\"data\":dat,\"count\":cnt})\n",
    "    fig = px.bar(dat, x=var, y='COUNT', title=var+\" Distribution [ Animal Type : \"+animal+\" (#\"+ str(cnt)+\")]\", text=dat['PCT'].apply(lambda x: '{0:1.1f}%'.format(x)))\n",
    "    fig.show()      "
   ]
  },
  {
   "cell_type": "raw",
   "id": "9e787de1",
   "metadata": {},
   "source": [
    "BREED is to detailed a feature to consider hence we like extract a new feature whether its pure bred or not \n",
    "See Feature Engineering Section\n"
   ]
  },
  {
   "cell_type": "markdown",
   "id": "be907093",
   "metadata": {},
   "source": [
    "# Exploring \"COLOR\" of Dogs\n"
   ]
  },
  {
   "cell_type": "code",
   "execution_count": 233,
   "id": "823339f1",
   "metadata": {
    "scrolled": false
   },
   "outputs": [
    {
     "data": {
      "application/vnd.plotly.v1+json": {
       "config": {
        "plotlyServerURL": "https://plot.ly"
       },
       "data": [
        {
         "alignmentgroup": "True",
         "hovertemplate": "COLOR=%{x}<br>COUNT=%{y}<br>text=%{text}<extra></extra>",
         "legendgroup": "",
         "marker": {
          "color": "#636efa",
          "pattern": {
           "shape": ""
          }
         },
         "name": "",
         "offsetgroup": "",
         "orientation": "v",
         "showlegend": false,
         "text": [
          "0.0%",
          "0.1%",
          "0.0%",
          "0.0%",
          "0.0%",
          "5.3%",
          "0.2%",
          "0.0%",
          "0.0%",
          "0.0%",
          "0.0%",
          "0.0%",
          "0.0%",
          "0.3%",
          "0.0%",
          "0.0%",
          "0.0%",
          "0.0%",
          "0.0%",
          "0.0%",
          "0.0%",
          "0.0%",
          "0.1%",
          "0.0%",
          "0.0%",
          "0.0%",
          "0.0%",
          "0.1%",
          "3.5%",
          "0.2%",
          "0.0%",
          "0.0%",
          "0.0%",
          "0.1%",
          "0.0%",
          "0.0%",
          "0.3%",
          "0.0%",
          "0.1%",
          "0.0%",
          "3.9%",
          "0.6%",
          "11.8%",
          "0.0%",
          "0.0%",
          "0.6%",
          "0.0%",
          "0.0%",
          "0.0%",
          "0.4%",
          "0.0%",
          "0.0%",
          "0.0%",
          "0.0%",
          "0.0%",
          "0.0%",
          "0.0%",
          "0.0%",
          "0.1%",
          "0.0%",
          "0.2%",
          "0.0%",
          "0.0%",
          "0.0%",
          "0.1%",
          "0.1%",
          "0.0%",
          "0.0%",
          "0.0%",
          "0.0%",
          "0.1%",
          "0.0%",
          "0.0%",
          "0.0%",
          "0.1%",
          "0.0%",
          "0.0%",
          "0.0%",
          "0.0%",
          "0.0%",
          "0.0%",
          "0.0%",
          "0.0%",
          "0.2%",
          "0.0%",
          "3.0%",
          "0.0%",
          "4.1%",
          "1.5%",
          "0.1%",
          "0.0%",
          "0.0%",
          "0.0%",
          "0.0%",
          "0.0%",
          "0.0%",
          "0.0%",
          "0.0%",
          "0.0%",
          "0.0%",
          "0.0%",
          "0.0%",
          "3.0%",
          "0.2%",
          "0.0%",
          "0.0%",
          "0.0%",
          "0.0%",
          "0.0%",
          "0.0%",
          "0.1%",
          "0.0%",
          "0.0%",
          "0.0%",
          "0.0%",
          "2.7%",
          "0.0%",
          "0.0%",
          "0.0%",
          "0.1%",
          "0.0%",
          "0.0%",
          "0.0%",
          "0.0%",
          "0.1%",
          "0.0%",
          "0.0%",
          "0.0%",
          "0.0%",
          "0.0%",
          "0.0%",
          "0.0%",
          "0.0%",
          "0.6%",
          "0.2%",
          "5.6%",
          "0.0%",
          "0.7%",
          "0.0%",
          "0.0%",
          "0.0%",
          "0.0%",
          "0.0%",
          "0.0%",
          "0.2%",
          "0.0%",
          "0.0%",
          "0.7%",
          "0.0%",
          "0.0%",
          "0.0%",
          "0.0%",
          "0.0%",
          "0.0%",
          "0.0%",
          "0.0%",
          "0.0%",
          "0.0%",
          "0.0%",
          "0.0%",
          "0.4%",
          "0.0%",
          "1.3%",
          "0.0%",
          "1.0%",
          "0.1%",
          "0.0%",
          "0.0%",
          "0.0%",
          "0.0%",
          "0.0%",
          "0.0%",
          "0.0%",
          "0.0%",
          "0.1%",
          "0.0%",
          "0.3%",
          "0.0%",
          "0.4%",
          "0.1%",
          "0.0%",
          "0.0%",
          "0.0%",
          "0.0%",
          "0.0%",
          "0.0%",
          "0.0%",
          "0.0%",
          "0.8%",
          "0.2%",
          "0.0%",
          "0.0%",
          "0.0%",
          "0.0%",
          "0.0%",
          "0.0%",
          "0.0%",
          "0.0%",
          "0.1%",
          "0.0%",
          "0.3%",
          "0.1%",
          "0.0%",
          "0.0%",
          "0.0%",
          "0.0%",
          "0.0%",
          "0.0%",
          "0.0%",
          "0.0%",
          "0.0%",
          "0.0%",
          "0.0%",
          "0.1%",
          "0.0%",
          "0.6%",
          "0.0%",
          "0.0%",
          "0.0%",
          "0.0%",
          "0.0%",
          "0.0%",
          "0.0%",
          "0.0%",
          "0.0%",
          "0.0%",
          "0.0%",
          "0.0%",
          "1.9%",
          "0.1%",
          "0.0%",
          "0.0%",
          "0.0%",
          "0.0%",
          "0.1%",
          "0.1%",
          "0.0%",
          "0.0%",
          "0.0%",
          "0.0%",
          "0.0%",
          "0.0%",
          "0.0%",
          "0.0%",
          "0.1%",
          "0.3%",
          "0.0%",
          "0.1%",
          "0.0%",
          "0.0%",
          "0.0%",
          "0.0%",
          "0.0%",
          "0.0%",
          "0.0%",
          "0.0%",
          "0.0%",
          "0.1%",
          "0.0%",
          "1.9%",
          "0.0%",
          "0.0%",
          "0.8%",
          "0.1%",
          "0.0%",
          "0.0%",
          "0.0%",
          "0.0%",
          "0.0%",
          "0.0%",
          "0.1%",
          "0.4%",
          "0.1%",
          "0.0%",
          "0.0%",
          "0.0%",
          "0.0%",
          "0.0%",
          "0.0%",
          "0.1%",
          "0.0%",
          "4.5%",
          "0.0%",
          "1.6%",
          "0.0%",
          "0.0%",
          "0.2%",
          "0.0%",
          "0.0%",
          "0.0%",
          "0.1%",
          "0.0%",
          "0.0%",
          "0.1%",
          "0.0%",
          "0.0%",
          "0.0%",
          "0.1%",
          "0.1%",
          "0.1%",
          "5.4%",
          "0.0%",
          "0.0%",
          "3.9%",
          "0.1%",
          "0.0%",
          "0.0%",
          "0.0%",
          "0.1%",
          "0.0%",
          "0.0%",
          "0.0%",
          "0.0%",
          "0.0%",
          "0.0%",
          "0.0%",
          "0.0%",
          "0.0%",
          "0.0%",
          "0.1%",
          "5.2%",
          "0.0%",
          "3.5%",
          "0.1%",
          "0.0%",
          "0.0%",
          "0.3%",
          "0.0%",
          "0.1%",
          "0.0%",
          "0.0%",
          "3.2%",
          "0.6%",
          "0.0%",
          "0.0%",
          "0.1%",
          "0.2%",
          "0.2%",
          "0.0%",
          "0.0%",
          "0.3%",
          "0.0%",
          "0.1%",
          "0.0%",
          "0.0%",
          "0.0%",
          "0.3%",
          "0.0%",
          "0.0%",
          "0.0%",
          "2.6%",
          "0.0%",
          "0.4%",
          "0.1%",
          "0.0%",
          "0.0%",
          "0.9%",
          "0.1%",
          "0.0%",
          "0.1%",
          "0.0%",
          "0.0%",
          "0.0%",
          "0.0%",
          "0.2%",
          "0.0%"
         ],
         "textposition": "auto",
         "type": "bar",
         "x": [
          "Agouti",
          "Apricot",
          "Apricot/Brown",
          "Apricot/Tricolor",
          "Apricot/White",
          "Black",
          "Black Brindle",
          "Black Brindle/Black",
          "Black Brindle/Blue",
          "Black Brindle/Blue Tick",
          "Black Brindle/Brown",
          "Black Brindle/Brown Brindle",
          "Black Brindle/Tan",
          "Black Brindle/White",
          "Black Smoke",
          "Black Smoke/Black",
          "Black Smoke/Blue Tick",
          "Black Smoke/Brown",
          "Black Smoke/Gray",
          "Black Smoke/White",
          "Black Tiger",
          "Black Tiger/White",
          "Black/Black",
          "Black/Black Brindle",
          "Black/Black Smoke",
          "Black/Blue",
          "Black/Blue Merle",
          "Black/Blue Tick",
          "Black/Brown",
          "Black/Brown Brindle",
          "Black/Brown Merle",
          "Black/Buff",
          "Black/Chocolate",
          "Black/Cream",
          "Black/Fawn",
          "Black/Gold",
          "Black/Gray",
          "Black/Orange",
          "Black/Red",
          "Black/Silver",
          "Black/Tan",
          "Black/Tricolor",
          "Black/White",
          "Black/Yellow",
          "Black/Yellow Brindle",
          "Blue",
          "Blue Cream",
          "Blue Cream/Blue Tiger",
          "Blue Cream/White",
          "Blue Merle",
          "Blue Merle/Black",
          "Blue Merle/Blue Merle",
          "Blue Merle/Brown",
          "Blue Merle/Brown Brindle",
          "Blue Merle/Cream",
          "Blue Merle/Gray",
          "Blue Merle/Red",
          "Blue Merle/Red Merle",
          "Blue Merle/Tan",
          "Blue Merle/Tricolor",
          "Blue Merle/White",
          "Blue Smoke",
          "Blue Smoke/Brown",
          "Blue Smoke/White",
          "Blue Tick",
          "Blue Tick/Black",
          "Blue Tick/Brown",
          "Blue Tick/Brown Brindle",
          "Blue Tick/Red",
          "Blue Tick/Red Tick",
          "Blue Tick/Tan",
          "Blue Tick/Tricolor",
          "Blue Tick/White",
          "Blue Tiger",
          "Blue Tiger/White",
          "Blue/Black",
          "Blue/Black Brindle",
          "Blue/Blue",
          "Blue/Brown",
          "Blue/Brown Brindle",
          "Blue/Cream",
          "Blue/Gray",
          "Blue/Silver",
          "Blue/Tan",
          "Blue/Tricolor",
          "Blue/White",
          "Blue/Yellow Brindle",
          "Brown",
          "Brown Brindle",
          "Brown Brindle/Black",
          "Brown Brindle/Black Brindle",
          "Brown Brindle/Blue",
          "Brown Brindle/Blue Cream",
          "Brown Brindle/Blue Tick",
          "Brown Brindle/Brown",
          "Brown Brindle/Brown Brindle",
          "Brown Brindle/Brown Merle",
          "Brown Brindle/Gray",
          "Brown Brindle/Liver Tick",
          "Brown Brindle/Red Tick",
          "Brown Brindle/Tan",
          "Brown Brindle/Tricolor",
          "Brown Brindle/White",
          "Brown Merle",
          "Brown Merle/Black",
          "Brown Merle/Blue Merle",
          "Brown Merle/Brown",
          "Brown Merle/Chocolate",
          "Brown Merle/Gray",
          "Brown Merle/Tan",
          "Brown Merle/White",
          "Brown Tiger",
          "Brown Tiger/Brown",
          "Brown Tiger/White",
          "Brown/Apricot",
          "Brown/Black",
          "Brown/Black Brindle",
          "Brown/Black Smoke",
          "Brown/Blue Merle",
          "Brown/Brown",
          "Brown/Brown Brindle",
          "Brown/Brown Merle",
          "Brown/Buff",
          "Brown/Chocolate",
          "Brown/Cream",
          "Brown/Fawn",
          "Brown/Gold",
          "Brown/Gray",
          "Brown/Liver",
          "Brown/Red",
          "Brown/Red Merle",
          "Brown/Red Tick",
          "Brown/Silver",
          "Brown/Tan",
          "Brown/Tricolor",
          "Brown/White",
          "Brown/Yellow",
          "Buff",
          "Buff/Black",
          "Buff/Brown",
          "Buff/Cream",
          "Buff/Gray",
          "Buff/Red",
          "Buff/Tan",
          "Buff/White",
          "Buff/Yellow",
          "Calico",
          "Chocolate",
          "Chocolate/Black",
          "Chocolate/Blue Tick",
          "Chocolate/Brown",
          "Chocolate/Brown Brindle",
          "Chocolate/Chocolate",
          "Chocolate/Cream",
          "Chocolate/Fawn",
          "Chocolate/Gold",
          "Chocolate/Gray",
          "Chocolate/Liver Tick",
          "Chocolate/Red",
          "Chocolate/Red Tick",
          "Chocolate/Tan",
          "Chocolate/Tricolor",
          "Chocolate/White",
          "Chocolate/Yellow",
          "Cream",
          "Cream/Black",
          "Cream/Blue",
          "Cream/Brown",
          "Cream/Brown Merle",
          "Cream/Gold",
          "Cream/Gray",
          "Cream/Red",
          "Cream/Red Tick",
          "Cream/Silver",
          "Cream/Tan",
          "Cream/Tricolor",
          "Cream/White",
          "Cream/Yellow",
          "Fawn",
          "Fawn/Black",
          "Fawn/Blue",
          "Fawn/Brown",
          "Fawn/Brown Brindle",
          "Fawn/Chocolate",
          "Fawn/Cream",
          "Fawn/Gray",
          "Fawn/Tan",
          "Fawn/Tricolor",
          "Fawn/White",
          "Gold",
          "Gold/Black",
          "Gold/Brown",
          "Gold/Buff",
          "Gold/Cream",
          "Gold/Gold",
          "Gold/Gray",
          "Gold/Silver",
          "Gold/Tan",
          "Gold/White",
          "Gold/Yellow",
          "Gray",
          "Gray/Black",
          "Gray/Blue",
          "Gray/Blue Merle",
          "Gray/Brown",
          "Gray/Brown Brindle",
          "Gray/Buff",
          "Gray/Cream",
          "Gray/Fawn",
          "Gray/Gold",
          "Gray/Gray",
          "Gray/Red",
          "Gray/Silver",
          "Gray/Tan",
          "Gray/Tricolor",
          "Gray/White",
          "Liver",
          "Liver Tick",
          "Liver Tick/White",
          "Liver/Blue",
          "Liver/Buff",
          "Liver/Chocolate",
          "Liver/Liver Tick",
          "Liver/Tan",
          "Liver/White",
          "Orange",
          "Orange/Tan",
          "Orange/White",
          "Red",
          "Red Merle",
          "Red Merle/Black",
          "Red Merle/Brown Merle",
          "Red Merle/Red Merle",
          "Red Merle/Tan",
          "Red Merle/White",
          "Red Tick",
          "Red Tick/Black",
          "Red Tick/Blue Tick",
          "Red Tick/Brown",
          "Red Tick/Brown Brindle",
          "Red Tick/Brown Merle",
          "Red Tick/Red",
          "Red Tick/Tan",
          "Red Tick/Tricolor",
          "Red Tick/White",
          "Red/Black",
          "Red/Blue",
          "Red/Brown",
          "Red/Brown Brindle",
          "Red/Buff",
          "Red/Cream",
          "Red/Gold",
          "Red/Gray",
          "Red/Red",
          "Red/Red Merle",
          "Red/Red Tick",
          "Red/Silver",
          "Red/Tan",
          "Red/Tricolor",
          "Red/White",
          "Red/Yellow",
          "Ruddy/Cream",
          "Sable",
          "Sable/Black",
          "Sable/Brown",
          "Sable/Buff",
          "Sable/Cream",
          "Sable/Gray",
          "Sable/Red",
          "Sable/Red Merle",
          "Sable/Tan",
          "Sable/White",
          "Silver",
          "Silver/Black",
          "Silver/Brown",
          "Silver/Chocolate",
          "Silver/Cream",
          "Silver/Gray",
          "Silver/Red",
          "Silver/Tan",
          "Silver/White",
          "Tan",
          "Tan/Apricot",
          "Tan/Black",
          "Tan/Blue",
          "Tan/Blue Merle",
          "Tan/Brown",
          "Tan/Brown Brindle",
          "Tan/Brown Merle",
          "Tan/Buff",
          "Tan/Cream",
          "Tan/Fawn",
          "Tan/Gold",
          "Tan/Gray",
          "Tan/Red",
          "Tan/Red Merle",
          "Tan/Red Tick",
          "Tan/Silver",
          "Tan/Tan",
          "Tan/Tricolor",
          "Tan/White",
          "Tan/Yellow",
          "Tan/Yellow Brindle",
          "Tricolor",
          "Tricolor/Black",
          "Tricolor/Blue",
          "Tricolor/Blue Merle",
          "Tricolor/Blue Tick",
          "Tricolor/Brown",
          "Tricolor/Brown Brindle",
          "Tricolor/Brown Merle",
          "Tricolor/Chocolate",
          "Tricolor/Cream",
          "Tricolor/Gray",
          "Tricolor/Red",
          "Tricolor/Red Tick",
          "Tricolor/Silver",
          "Tricolor/Tan",
          "Tricolor/Tricolor",
          "Tricolor/White",
          "White",
          "White/Apricot",
          "White/Black",
          "White/Black Brindle",
          "White/Black Smoke",
          "White/Black Tiger",
          "White/Blue",
          "White/Blue Cream",
          "White/Blue Merle",
          "White/Blue Tick",
          "White/Blue Tiger",
          "White/Brown",
          "White/Brown Brindle",
          "White/Brown Merle",
          "White/Brown Tiger",
          "White/Buff",
          "White/Chocolate",
          "White/Cream",
          "White/Fawn",
          "White/Gold",
          "White/Gray",
          "White/Gray Tiger",
          "White/Liver",
          "White/Liver Tick",
          "White/Orange",
          "White/Pink",
          "White/Red",
          "White/Red Merle",
          "White/Red Tick",
          "White/Silver",
          "White/Tan",
          "White/Tortie",
          "White/Tricolor",
          "White/White",
          "White/Yellow",
          "White/Yellow Brindle",
          "Yellow",
          "Yellow Brindle",
          "Yellow Brindle/Blue",
          "Yellow Brindle/White",
          "Yellow/Brown",
          "Yellow/Cream",
          "Yellow/Gray",
          "Yellow/Tan",
          "Yellow/White",
          "Yellow/Yellow"
         ],
         "xaxis": "x",
         "y": [
          3,
          71,
          3,
          2,
          8,
          3458,
          109,
          10,
          1,
          1,
          15,
          2,
          3,
          227,
          8,
          1,
          1,
          2,
          2,
          8,
          2,
          1,
          69,
          16,
          1,
          4,
          17,
          36,
          2277,
          136,
          2,
          15,
          4,
          45,
          13,
          1,
          207,
          5,
          59,
          19,
          2566,
          394,
          7688,
          2,
          3,
          366,
          3,
          1,
          8,
          240,
          20,
          3,
          13,
          1,
          1,
          2,
          3,
          2,
          51,
          8,
          152,
          1,
          1,
          2,
          91,
          38,
          14,
          1,
          4,
          5,
          34,
          16,
          15,
          11,
          34,
          9,
          2,
          2,
          11,
          6,
          3,
          11,
          1,
          102,
          18,
          1931,
          2,
          2667,
          1008,
          47,
          1,
          1,
          1,
          2,
          20,
          2,
          1,
          1,
          1,
          3,
          11,
          1,
          1967,
          116,
          3,
          2,
          4,
          1,
          2,
          7,
          100,
          8,
          1,
          16,
          1,
          1747,
          3,
          1,
          2,
          31,
          10,
          1,
          5,
          6,
          31,
          5,
          1,
          28,
          1,
          23,
          1,
          4,
          11,
          389,
          133,
          3679,
          1,
          462,
          16,
          1,
          4,
          5,
          1,
          24,
          131,
          3,
          2,
          461,
          5,
          1,
          14,
          5,
          3,
          6,
          2,
          1,
          2,
          1,
          4,
          1,
          244,
          19,
          841,
          1,
          652,
          54,
          1,
          13,
          1,
          2,
          4,
          8,
          2,
          2,
          61,
          2,
          193,
          5,
          251,
          62,
          6,
          10,
          2,
          1,
          1,
          4,
          8,
          8,
          514,
          153,
          6,
          6,
          1,
          3,
          3,
          1,
          1,
          4,
          54,
          3,
          219,
          90,
          2,
          1,
          23,
          1,
          1,
          13,
          2,
          2,
          4,
          1,
          5,
          45,
          5,
          357,
          2,
          8,
          1,
          1,
          1,
          2,
          1,
          7,
          26,
          1,
          4,
          3,
          1236,
          68,
          3,
          1,
          1,
          1,
          52,
          100,
          1,
          1,
          7,
          1,
          1,
          5,
          2,
          2,
          46,
          216,
          1,
          46,
          1,
          3,
          21,
          2,
          4,
          3,
          2,
          4,
          1,
          80,
          6,
          1209,
          3,
          1,
          506,
          41,
          17,
          2,
          10,
          2,
          6,
          1,
          39,
          266,
          38,
          13,
          10,
          3,
          3,
          1,
          4,
          45,
          14,
          2908,
          1,
          1034,
          6,
          1,
          140,
          3,
          1,
          21,
          56,
          11,
          1,
          39,
          16,
          3,
          4,
          37,
          42,
          32,
          3516,
          4,
          1,
          2532,
          45,
          7,
          6,
          2,
          71,
          1,
          3,
          1,
          1,
          2,
          2,
          2,
          2,
          17,
          1,
          95,
          3397,
          5,
          2303,
          32,
          3,
          1,
          229,
          3,
          44,
          13,
          2,
          2110,
          411,
          21,
          2,
          78,
          124,
          120,
          27,
          5,
          216,
          1,
          31,
          3,
          28,
          4,
          225,
          20,
          29,
          9,
          1712,
          1,
          241,
          79,
          21,
          7,
          577,
          36,
          1,
          58,
          1,
          2,
          2,
          4,
          139,
          1
         ],
         "yaxis": "y"
        }
       ],
       "layout": {
        "barmode": "relative",
        "legend": {
         "tracegroupgap": 0
        },
        "template": {
         "data": {
          "bar": [
           {
            "error_x": {
             "color": "#2a3f5f"
            },
            "error_y": {
             "color": "#2a3f5f"
            },
            "marker": {
             "line": {
              "color": "#E5ECF6",
              "width": 0.5
             },
             "pattern": {
              "fillmode": "overlay",
              "size": 10,
              "solidity": 0.2
             }
            },
            "type": "bar"
           }
          ],
          "barpolar": [
           {
            "marker": {
             "line": {
              "color": "#E5ECF6",
              "width": 0.5
             },
             "pattern": {
              "fillmode": "overlay",
              "size": 10,
              "solidity": 0.2
             }
            },
            "type": "barpolar"
           }
          ],
          "carpet": [
           {
            "aaxis": {
             "endlinecolor": "#2a3f5f",
             "gridcolor": "white",
             "linecolor": "white",
             "minorgridcolor": "white",
             "startlinecolor": "#2a3f5f"
            },
            "baxis": {
             "endlinecolor": "#2a3f5f",
             "gridcolor": "white",
             "linecolor": "white",
             "minorgridcolor": "white",
             "startlinecolor": "#2a3f5f"
            },
            "type": "carpet"
           }
          ],
          "choropleth": [
           {
            "colorbar": {
             "outlinewidth": 0,
             "ticks": ""
            },
            "type": "choropleth"
           }
          ],
          "contour": [
           {
            "colorbar": {
             "outlinewidth": 0,
             "ticks": ""
            },
            "colorscale": [
             [
              0,
              "#0d0887"
             ],
             [
              0.1111111111111111,
              "#46039f"
             ],
             [
              0.2222222222222222,
              "#7201a8"
             ],
             [
              0.3333333333333333,
              "#9c179e"
             ],
             [
              0.4444444444444444,
              "#bd3786"
             ],
             [
              0.5555555555555556,
              "#d8576b"
             ],
             [
              0.6666666666666666,
              "#ed7953"
             ],
             [
              0.7777777777777778,
              "#fb9f3a"
             ],
             [
              0.8888888888888888,
              "#fdca26"
             ],
             [
              1,
              "#f0f921"
             ]
            ],
            "type": "contour"
           }
          ],
          "contourcarpet": [
           {
            "colorbar": {
             "outlinewidth": 0,
             "ticks": ""
            },
            "type": "contourcarpet"
           }
          ],
          "heatmap": [
           {
            "colorbar": {
             "outlinewidth": 0,
             "ticks": ""
            },
            "colorscale": [
             [
              0,
              "#0d0887"
             ],
             [
              0.1111111111111111,
              "#46039f"
             ],
             [
              0.2222222222222222,
              "#7201a8"
             ],
             [
              0.3333333333333333,
              "#9c179e"
             ],
             [
              0.4444444444444444,
              "#bd3786"
             ],
             [
              0.5555555555555556,
              "#d8576b"
             ],
             [
              0.6666666666666666,
              "#ed7953"
             ],
             [
              0.7777777777777778,
              "#fb9f3a"
             ],
             [
              0.8888888888888888,
              "#fdca26"
             ],
             [
              1,
              "#f0f921"
             ]
            ],
            "type": "heatmap"
           }
          ],
          "heatmapgl": [
           {
            "colorbar": {
             "outlinewidth": 0,
             "ticks": ""
            },
            "colorscale": [
             [
              0,
              "#0d0887"
             ],
             [
              0.1111111111111111,
              "#46039f"
             ],
             [
              0.2222222222222222,
              "#7201a8"
             ],
             [
              0.3333333333333333,
              "#9c179e"
             ],
             [
              0.4444444444444444,
              "#bd3786"
             ],
             [
              0.5555555555555556,
              "#d8576b"
             ],
             [
              0.6666666666666666,
              "#ed7953"
             ],
             [
              0.7777777777777778,
              "#fb9f3a"
             ],
             [
              0.8888888888888888,
              "#fdca26"
             ],
             [
              1,
              "#f0f921"
             ]
            ],
            "type": "heatmapgl"
           }
          ],
          "histogram": [
           {
            "marker": {
             "pattern": {
              "fillmode": "overlay",
              "size": 10,
              "solidity": 0.2
             }
            },
            "type": "histogram"
           }
          ],
          "histogram2d": [
           {
            "colorbar": {
             "outlinewidth": 0,
             "ticks": ""
            },
            "colorscale": [
             [
              0,
              "#0d0887"
             ],
             [
              0.1111111111111111,
              "#46039f"
             ],
             [
              0.2222222222222222,
              "#7201a8"
             ],
             [
              0.3333333333333333,
              "#9c179e"
             ],
             [
              0.4444444444444444,
              "#bd3786"
             ],
             [
              0.5555555555555556,
              "#d8576b"
             ],
             [
              0.6666666666666666,
              "#ed7953"
             ],
             [
              0.7777777777777778,
              "#fb9f3a"
             ],
             [
              0.8888888888888888,
              "#fdca26"
             ],
             [
              1,
              "#f0f921"
             ]
            ],
            "type": "histogram2d"
           }
          ],
          "histogram2dcontour": [
           {
            "colorbar": {
             "outlinewidth": 0,
             "ticks": ""
            },
            "colorscale": [
             [
              0,
              "#0d0887"
             ],
             [
              0.1111111111111111,
              "#46039f"
             ],
             [
              0.2222222222222222,
              "#7201a8"
             ],
             [
              0.3333333333333333,
              "#9c179e"
             ],
             [
              0.4444444444444444,
              "#bd3786"
             ],
             [
              0.5555555555555556,
              "#d8576b"
             ],
             [
              0.6666666666666666,
              "#ed7953"
             ],
             [
              0.7777777777777778,
              "#fb9f3a"
             ],
             [
              0.8888888888888888,
              "#fdca26"
             ],
             [
              1,
              "#f0f921"
             ]
            ],
            "type": "histogram2dcontour"
           }
          ],
          "mesh3d": [
           {
            "colorbar": {
             "outlinewidth": 0,
             "ticks": ""
            },
            "type": "mesh3d"
           }
          ],
          "parcoords": [
           {
            "line": {
             "colorbar": {
              "outlinewidth": 0,
              "ticks": ""
             }
            },
            "type": "parcoords"
           }
          ],
          "pie": [
           {
            "automargin": true,
            "type": "pie"
           }
          ],
          "scatter": [
           {
            "fillpattern": {
             "fillmode": "overlay",
             "size": 10,
             "solidity": 0.2
            },
            "type": "scatter"
           }
          ],
          "scatter3d": [
           {
            "line": {
             "colorbar": {
              "outlinewidth": 0,
              "ticks": ""
             }
            },
            "marker": {
             "colorbar": {
              "outlinewidth": 0,
              "ticks": ""
             }
            },
            "type": "scatter3d"
           }
          ],
          "scattercarpet": [
           {
            "marker": {
             "colorbar": {
              "outlinewidth": 0,
              "ticks": ""
             }
            },
            "type": "scattercarpet"
           }
          ],
          "scattergeo": [
           {
            "marker": {
             "colorbar": {
              "outlinewidth": 0,
              "ticks": ""
             }
            },
            "type": "scattergeo"
           }
          ],
          "scattergl": [
           {
            "marker": {
             "colorbar": {
              "outlinewidth": 0,
              "ticks": ""
             }
            },
            "type": "scattergl"
           }
          ],
          "scattermapbox": [
           {
            "marker": {
             "colorbar": {
              "outlinewidth": 0,
              "ticks": ""
             }
            },
            "type": "scattermapbox"
           }
          ],
          "scatterpolar": [
           {
            "marker": {
             "colorbar": {
              "outlinewidth": 0,
              "ticks": ""
             }
            },
            "type": "scatterpolar"
           }
          ],
          "scatterpolargl": [
           {
            "marker": {
             "colorbar": {
              "outlinewidth": 0,
              "ticks": ""
             }
            },
            "type": "scatterpolargl"
           }
          ],
          "scatterternary": [
           {
            "marker": {
             "colorbar": {
              "outlinewidth": 0,
              "ticks": ""
             }
            },
            "type": "scatterternary"
           }
          ],
          "surface": [
           {
            "colorbar": {
             "outlinewidth": 0,
             "ticks": ""
            },
            "colorscale": [
             [
              0,
              "#0d0887"
             ],
             [
              0.1111111111111111,
              "#46039f"
             ],
             [
              0.2222222222222222,
              "#7201a8"
             ],
             [
              0.3333333333333333,
              "#9c179e"
             ],
             [
              0.4444444444444444,
              "#bd3786"
             ],
             [
              0.5555555555555556,
              "#d8576b"
             ],
             [
              0.6666666666666666,
              "#ed7953"
             ],
             [
              0.7777777777777778,
              "#fb9f3a"
             ],
             [
              0.8888888888888888,
              "#fdca26"
             ],
             [
              1,
              "#f0f921"
             ]
            ],
            "type": "surface"
           }
          ],
          "table": [
           {
            "cells": {
             "fill": {
              "color": "#EBF0F8"
             },
             "line": {
              "color": "white"
             }
            },
            "header": {
             "fill": {
              "color": "#C8D4E3"
             },
             "line": {
              "color": "white"
             }
            },
            "type": "table"
           }
          ]
         },
         "layout": {
          "annotationdefaults": {
           "arrowcolor": "#2a3f5f",
           "arrowhead": 0,
           "arrowwidth": 1
          },
          "autotypenumbers": "strict",
          "coloraxis": {
           "colorbar": {
            "outlinewidth": 0,
            "ticks": ""
           }
          },
          "colorscale": {
           "diverging": [
            [
             0,
             "#8e0152"
            ],
            [
             0.1,
             "#c51b7d"
            ],
            [
             0.2,
             "#de77ae"
            ],
            [
             0.3,
             "#f1b6da"
            ],
            [
             0.4,
             "#fde0ef"
            ],
            [
             0.5,
             "#f7f7f7"
            ],
            [
             0.6,
             "#e6f5d0"
            ],
            [
             0.7,
             "#b8e186"
            ],
            [
             0.8,
             "#7fbc41"
            ],
            [
             0.9,
             "#4d9221"
            ],
            [
             1,
             "#276419"
            ]
           ],
           "sequential": [
            [
             0,
             "#0d0887"
            ],
            [
             0.1111111111111111,
             "#46039f"
            ],
            [
             0.2222222222222222,
             "#7201a8"
            ],
            [
             0.3333333333333333,
             "#9c179e"
            ],
            [
             0.4444444444444444,
             "#bd3786"
            ],
            [
             0.5555555555555556,
             "#d8576b"
            ],
            [
             0.6666666666666666,
             "#ed7953"
            ],
            [
             0.7777777777777778,
             "#fb9f3a"
            ],
            [
             0.8888888888888888,
             "#fdca26"
            ],
            [
             1,
             "#f0f921"
            ]
           ],
           "sequentialminus": [
            [
             0,
             "#0d0887"
            ],
            [
             0.1111111111111111,
             "#46039f"
            ],
            [
             0.2222222222222222,
             "#7201a8"
            ],
            [
             0.3333333333333333,
             "#9c179e"
            ],
            [
             0.4444444444444444,
             "#bd3786"
            ],
            [
             0.5555555555555556,
             "#d8576b"
            ],
            [
             0.6666666666666666,
             "#ed7953"
            ],
            [
             0.7777777777777778,
             "#fb9f3a"
            ],
            [
             0.8888888888888888,
             "#fdca26"
            ],
            [
             1,
             "#f0f921"
            ]
           ]
          },
          "colorway": [
           "#636efa",
           "#EF553B",
           "#00cc96",
           "#ab63fa",
           "#FFA15A",
           "#19d3f3",
           "#FF6692",
           "#B6E880",
           "#FF97FF",
           "#FECB52"
          ],
          "font": {
           "color": "#2a3f5f"
          },
          "geo": {
           "bgcolor": "white",
           "lakecolor": "white",
           "landcolor": "#E5ECF6",
           "showlakes": true,
           "showland": true,
           "subunitcolor": "white"
          },
          "hoverlabel": {
           "align": "left"
          },
          "hovermode": "closest",
          "mapbox": {
           "style": "light"
          },
          "paper_bgcolor": "white",
          "plot_bgcolor": "#E5ECF6",
          "polar": {
           "angularaxis": {
            "gridcolor": "white",
            "linecolor": "white",
            "ticks": ""
           },
           "bgcolor": "#E5ECF6",
           "radialaxis": {
            "gridcolor": "white",
            "linecolor": "white",
            "ticks": ""
           }
          },
          "scene": {
           "xaxis": {
            "backgroundcolor": "#E5ECF6",
            "gridcolor": "white",
            "gridwidth": 2,
            "linecolor": "white",
            "showbackground": true,
            "ticks": "",
            "zerolinecolor": "white"
           },
           "yaxis": {
            "backgroundcolor": "#E5ECF6",
            "gridcolor": "white",
            "gridwidth": 2,
            "linecolor": "white",
            "showbackground": true,
            "ticks": "",
            "zerolinecolor": "white"
           },
           "zaxis": {
            "backgroundcolor": "#E5ECF6",
            "gridcolor": "white",
            "gridwidth": 2,
            "linecolor": "white",
            "showbackground": true,
            "ticks": "",
            "zerolinecolor": "white"
           }
          },
          "shapedefaults": {
           "line": {
            "color": "#2a3f5f"
           }
          },
          "ternary": {
           "aaxis": {
            "gridcolor": "white",
            "linecolor": "white",
            "ticks": ""
           },
           "baxis": {
            "gridcolor": "white",
            "linecolor": "white",
            "ticks": ""
           },
           "bgcolor": "#E5ECF6",
           "caxis": {
            "gridcolor": "white",
            "linecolor": "white",
            "ticks": ""
           }
          },
          "title": {
           "x": 0.05
          },
          "xaxis": {
           "automargin": true,
           "gridcolor": "white",
           "linecolor": "white",
           "ticks": "",
           "title": {
            "standoff": 15
           },
           "zerolinecolor": "white",
           "zerolinewidth": 2
          },
          "yaxis": {
           "automargin": true,
           "gridcolor": "white",
           "linecolor": "white",
           "ticks": "",
           "title": {
            "standoff": 15
           },
           "zerolinecolor": "white",
           "zerolinewidth": 2
          }
         }
        },
        "title": {
         "text": "COLOR Distribution [ Animal Type : Dog (#65251)]"
        },
        "xaxis": {
         "anchor": "y",
         "domain": [
          0,
          1
         ],
         "title": {
          "text": "COLOR"
         }
        },
        "yaxis": {
         "anchor": "x",
         "domain": [
          0,
          1
         ],
         "title": {
          "text": "COUNT"
         }
        }
       }
      },
      "text/html": [
       "<div>                            <div id=\"c8ba89ec-9f75-42e7-a647-99bad506d87a\" class=\"plotly-graph-div\" style=\"height:525px; width:100%;\"></div>            <script type=\"text/javascript\">                require([\"plotly\"], function(Plotly) {                    window.PLOTLYENV=window.PLOTLYENV || {};                                    if (document.getElementById(\"c8ba89ec-9f75-42e7-a647-99bad506d87a\")) {                    Plotly.newPlot(                        \"c8ba89ec-9f75-42e7-a647-99bad506d87a\",                        [{\"alignmentgroup\":\"True\",\"hovertemplate\":\"COLOR=%{x}<br>COUNT=%{y}<br>text=%{text}<extra></extra>\",\"legendgroup\":\"\",\"marker\":{\"color\":\"#636efa\",\"pattern\":{\"shape\":\"\"}},\"name\":\"\",\"offsetgroup\":\"\",\"orientation\":\"v\",\"showlegend\":false,\"text\":[\"0.0%\",\"0.1%\",\"0.0%\",\"0.0%\",\"0.0%\",\"5.3%\",\"0.2%\",\"0.0%\",\"0.0%\",\"0.0%\",\"0.0%\",\"0.0%\",\"0.0%\",\"0.3%\",\"0.0%\",\"0.0%\",\"0.0%\",\"0.0%\",\"0.0%\",\"0.0%\",\"0.0%\",\"0.0%\",\"0.1%\",\"0.0%\",\"0.0%\",\"0.0%\",\"0.0%\",\"0.1%\",\"3.5%\",\"0.2%\",\"0.0%\",\"0.0%\",\"0.0%\",\"0.1%\",\"0.0%\",\"0.0%\",\"0.3%\",\"0.0%\",\"0.1%\",\"0.0%\",\"3.9%\",\"0.6%\",\"11.8%\",\"0.0%\",\"0.0%\",\"0.6%\",\"0.0%\",\"0.0%\",\"0.0%\",\"0.4%\",\"0.0%\",\"0.0%\",\"0.0%\",\"0.0%\",\"0.0%\",\"0.0%\",\"0.0%\",\"0.0%\",\"0.1%\",\"0.0%\",\"0.2%\",\"0.0%\",\"0.0%\",\"0.0%\",\"0.1%\",\"0.1%\",\"0.0%\",\"0.0%\",\"0.0%\",\"0.0%\",\"0.1%\",\"0.0%\",\"0.0%\",\"0.0%\",\"0.1%\",\"0.0%\",\"0.0%\",\"0.0%\",\"0.0%\",\"0.0%\",\"0.0%\",\"0.0%\",\"0.0%\",\"0.2%\",\"0.0%\",\"3.0%\",\"0.0%\",\"4.1%\",\"1.5%\",\"0.1%\",\"0.0%\",\"0.0%\",\"0.0%\",\"0.0%\",\"0.0%\",\"0.0%\",\"0.0%\",\"0.0%\",\"0.0%\",\"0.0%\",\"0.0%\",\"0.0%\",\"3.0%\",\"0.2%\",\"0.0%\",\"0.0%\",\"0.0%\",\"0.0%\",\"0.0%\",\"0.0%\",\"0.1%\",\"0.0%\",\"0.0%\",\"0.0%\",\"0.0%\",\"2.7%\",\"0.0%\",\"0.0%\",\"0.0%\",\"0.1%\",\"0.0%\",\"0.0%\",\"0.0%\",\"0.0%\",\"0.1%\",\"0.0%\",\"0.0%\",\"0.0%\",\"0.0%\",\"0.0%\",\"0.0%\",\"0.0%\",\"0.0%\",\"0.6%\",\"0.2%\",\"5.6%\",\"0.0%\",\"0.7%\",\"0.0%\",\"0.0%\",\"0.0%\",\"0.0%\",\"0.0%\",\"0.0%\",\"0.2%\",\"0.0%\",\"0.0%\",\"0.7%\",\"0.0%\",\"0.0%\",\"0.0%\",\"0.0%\",\"0.0%\",\"0.0%\",\"0.0%\",\"0.0%\",\"0.0%\",\"0.0%\",\"0.0%\",\"0.0%\",\"0.4%\",\"0.0%\",\"1.3%\",\"0.0%\",\"1.0%\",\"0.1%\",\"0.0%\",\"0.0%\",\"0.0%\",\"0.0%\",\"0.0%\",\"0.0%\",\"0.0%\",\"0.0%\",\"0.1%\",\"0.0%\",\"0.3%\",\"0.0%\",\"0.4%\",\"0.1%\",\"0.0%\",\"0.0%\",\"0.0%\",\"0.0%\",\"0.0%\",\"0.0%\",\"0.0%\",\"0.0%\",\"0.8%\",\"0.2%\",\"0.0%\",\"0.0%\",\"0.0%\",\"0.0%\",\"0.0%\",\"0.0%\",\"0.0%\",\"0.0%\",\"0.1%\",\"0.0%\",\"0.3%\",\"0.1%\",\"0.0%\",\"0.0%\",\"0.0%\",\"0.0%\",\"0.0%\",\"0.0%\",\"0.0%\",\"0.0%\",\"0.0%\",\"0.0%\",\"0.0%\",\"0.1%\",\"0.0%\",\"0.6%\",\"0.0%\",\"0.0%\",\"0.0%\",\"0.0%\",\"0.0%\",\"0.0%\",\"0.0%\",\"0.0%\",\"0.0%\",\"0.0%\",\"0.0%\",\"0.0%\",\"1.9%\",\"0.1%\",\"0.0%\",\"0.0%\",\"0.0%\",\"0.0%\",\"0.1%\",\"0.1%\",\"0.0%\",\"0.0%\",\"0.0%\",\"0.0%\",\"0.0%\",\"0.0%\",\"0.0%\",\"0.0%\",\"0.1%\",\"0.3%\",\"0.0%\",\"0.1%\",\"0.0%\",\"0.0%\",\"0.0%\",\"0.0%\",\"0.0%\",\"0.0%\",\"0.0%\",\"0.0%\",\"0.0%\",\"0.1%\",\"0.0%\",\"1.9%\",\"0.0%\",\"0.0%\",\"0.8%\",\"0.1%\",\"0.0%\",\"0.0%\",\"0.0%\",\"0.0%\",\"0.0%\",\"0.0%\",\"0.1%\",\"0.4%\",\"0.1%\",\"0.0%\",\"0.0%\",\"0.0%\",\"0.0%\",\"0.0%\",\"0.0%\",\"0.1%\",\"0.0%\",\"4.5%\",\"0.0%\",\"1.6%\",\"0.0%\",\"0.0%\",\"0.2%\",\"0.0%\",\"0.0%\",\"0.0%\",\"0.1%\",\"0.0%\",\"0.0%\",\"0.1%\",\"0.0%\",\"0.0%\",\"0.0%\",\"0.1%\",\"0.1%\",\"0.1%\",\"5.4%\",\"0.0%\",\"0.0%\",\"3.9%\",\"0.1%\",\"0.0%\",\"0.0%\",\"0.0%\",\"0.1%\",\"0.0%\",\"0.0%\",\"0.0%\",\"0.0%\",\"0.0%\",\"0.0%\",\"0.0%\",\"0.0%\",\"0.0%\",\"0.0%\",\"0.1%\",\"5.2%\",\"0.0%\",\"3.5%\",\"0.1%\",\"0.0%\",\"0.0%\",\"0.3%\",\"0.0%\",\"0.1%\",\"0.0%\",\"0.0%\",\"3.2%\",\"0.6%\",\"0.0%\",\"0.0%\",\"0.1%\",\"0.2%\",\"0.2%\",\"0.0%\",\"0.0%\",\"0.3%\",\"0.0%\",\"0.1%\",\"0.0%\",\"0.0%\",\"0.0%\",\"0.3%\",\"0.0%\",\"0.0%\",\"0.0%\",\"2.6%\",\"0.0%\",\"0.4%\",\"0.1%\",\"0.0%\",\"0.0%\",\"0.9%\",\"0.1%\",\"0.0%\",\"0.1%\",\"0.0%\",\"0.0%\",\"0.0%\",\"0.0%\",\"0.2%\",\"0.0%\"],\"textposition\":\"auto\",\"x\":[\"Agouti\",\"Apricot\",\"Apricot/Brown\",\"Apricot/Tricolor\",\"Apricot/White\",\"Black\",\"Black Brindle\",\"Black Brindle/Black\",\"Black Brindle/Blue\",\"Black Brindle/Blue Tick\",\"Black Brindle/Brown\",\"Black Brindle/Brown Brindle\",\"Black Brindle/Tan\",\"Black Brindle/White\",\"Black Smoke\",\"Black Smoke/Black\",\"Black Smoke/Blue Tick\",\"Black Smoke/Brown\",\"Black Smoke/Gray\",\"Black Smoke/White\",\"Black Tiger\",\"Black Tiger/White\",\"Black/Black\",\"Black/Black Brindle\",\"Black/Black Smoke\",\"Black/Blue\",\"Black/Blue Merle\",\"Black/Blue Tick\",\"Black/Brown\",\"Black/Brown Brindle\",\"Black/Brown Merle\",\"Black/Buff\",\"Black/Chocolate\",\"Black/Cream\",\"Black/Fawn\",\"Black/Gold\",\"Black/Gray\",\"Black/Orange\",\"Black/Red\",\"Black/Silver\",\"Black/Tan\",\"Black/Tricolor\",\"Black/White\",\"Black/Yellow\",\"Black/Yellow Brindle\",\"Blue\",\"Blue Cream\",\"Blue Cream/Blue Tiger\",\"Blue Cream/White\",\"Blue Merle\",\"Blue Merle/Black\",\"Blue Merle/Blue Merle\",\"Blue Merle/Brown\",\"Blue Merle/Brown Brindle\",\"Blue Merle/Cream\",\"Blue Merle/Gray\",\"Blue Merle/Red\",\"Blue Merle/Red Merle\",\"Blue Merle/Tan\",\"Blue Merle/Tricolor\",\"Blue Merle/White\",\"Blue Smoke\",\"Blue Smoke/Brown\",\"Blue Smoke/White\",\"Blue Tick\",\"Blue Tick/Black\",\"Blue Tick/Brown\",\"Blue Tick/Brown Brindle\",\"Blue Tick/Red\",\"Blue Tick/Red Tick\",\"Blue Tick/Tan\",\"Blue Tick/Tricolor\",\"Blue Tick/White\",\"Blue Tiger\",\"Blue Tiger/White\",\"Blue/Black\",\"Blue/Black Brindle\",\"Blue/Blue\",\"Blue/Brown\",\"Blue/Brown Brindle\",\"Blue/Cream\",\"Blue/Gray\",\"Blue/Silver\",\"Blue/Tan\",\"Blue/Tricolor\",\"Blue/White\",\"Blue/Yellow Brindle\",\"Brown\",\"Brown Brindle\",\"Brown Brindle/Black\",\"Brown Brindle/Black Brindle\",\"Brown Brindle/Blue\",\"Brown Brindle/Blue Cream\",\"Brown Brindle/Blue Tick\",\"Brown Brindle/Brown\",\"Brown Brindle/Brown Brindle\",\"Brown Brindle/Brown Merle\",\"Brown Brindle/Gray\",\"Brown Brindle/Liver Tick\",\"Brown Brindle/Red Tick\",\"Brown Brindle/Tan\",\"Brown Brindle/Tricolor\",\"Brown Brindle/White\",\"Brown Merle\",\"Brown Merle/Black\",\"Brown Merle/Blue Merle\",\"Brown Merle/Brown\",\"Brown Merle/Chocolate\",\"Brown Merle/Gray\",\"Brown Merle/Tan\",\"Brown Merle/White\",\"Brown Tiger\",\"Brown Tiger/Brown\",\"Brown Tiger/White\",\"Brown/Apricot\",\"Brown/Black\",\"Brown/Black Brindle\",\"Brown/Black Smoke\",\"Brown/Blue Merle\",\"Brown/Brown\",\"Brown/Brown Brindle\",\"Brown/Brown Merle\",\"Brown/Buff\",\"Brown/Chocolate\",\"Brown/Cream\",\"Brown/Fawn\",\"Brown/Gold\",\"Brown/Gray\",\"Brown/Liver\",\"Brown/Red\",\"Brown/Red Merle\",\"Brown/Red Tick\",\"Brown/Silver\",\"Brown/Tan\",\"Brown/Tricolor\",\"Brown/White\",\"Brown/Yellow\",\"Buff\",\"Buff/Black\",\"Buff/Brown\",\"Buff/Cream\",\"Buff/Gray\",\"Buff/Red\",\"Buff/Tan\",\"Buff/White\",\"Buff/Yellow\",\"Calico\",\"Chocolate\",\"Chocolate/Black\",\"Chocolate/Blue Tick\",\"Chocolate/Brown\",\"Chocolate/Brown Brindle\",\"Chocolate/Chocolate\",\"Chocolate/Cream\",\"Chocolate/Fawn\",\"Chocolate/Gold\",\"Chocolate/Gray\",\"Chocolate/Liver Tick\",\"Chocolate/Red\",\"Chocolate/Red Tick\",\"Chocolate/Tan\",\"Chocolate/Tricolor\",\"Chocolate/White\",\"Chocolate/Yellow\",\"Cream\",\"Cream/Black\",\"Cream/Blue\",\"Cream/Brown\",\"Cream/Brown Merle\",\"Cream/Gold\",\"Cream/Gray\",\"Cream/Red\",\"Cream/Red Tick\",\"Cream/Silver\",\"Cream/Tan\",\"Cream/Tricolor\",\"Cream/White\",\"Cream/Yellow\",\"Fawn\",\"Fawn/Black\",\"Fawn/Blue\",\"Fawn/Brown\",\"Fawn/Brown Brindle\",\"Fawn/Chocolate\",\"Fawn/Cream\",\"Fawn/Gray\",\"Fawn/Tan\",\"Fawn/Tricolor\",\"Fawn/White\",\"Gold\",\"Gold/Black\",\"Gold/Brown\",\"Gold/Buff\",\"Gold/Cream\",\"Gold/Gold\",\"Gold/Gray\",\"Gold/Silver\",\"Gold/Tan\",\"Gold/White\",\"Gold/Yellow\",\"Gray\",\"Gray/Black\",\"Gray/Blue\",\"Gray/Blue Merle\",\"Gray/Brown\",\"Gray/Brown Brindle\",\"Gray/Buff\",\"Gray/Cream\",\"Gray/Fawn\",\"Gray/Gold\",\"Gray/Gray\",\"Gray/Red\",\"Gray/Silver\",\"Gray/Tan\",\"Gray/Tricolor\",\"Gray/White\",\"Liver\",\"Liver Tick\",\"Liver Tick/White\",\"Liver/Blue\",\"Liver/Buff\",\"Liver/Chocolate\",\"Liver/Liver Tick\",\"Liver/Tan\",\"Liver/White\",\"Orange\",\"Orange/Tan\",\"Orange/White\",\"Red\",\"Red Merle\",\"Red Merle/Black\",\"Red Merle/Brown Merle\",\"Red Merle/Red Merle\",\"Red Merle/Tan\",\"Red Merle/White\",\"Red Tick\",\"Red Tick/Black\",\"Red Tick/Blue Tick\",\"Red Tick/Brown\",\"Red Tick/Brown Brindle\",\"Red Tick/Brown Merle\",\"Red Tick/Red\",\"Red Tick/Tan\",\"Red Tick/Tricolor\",\"Red Tick/White\",\"Red/Black\",\"Red/Blue\",\"Red/Brown\",\"Red/Brown Brindle\",\"Red/Buff\",\"Red/Cream\",\"Red/Gold\",\"Red/Gray\",\"Red/Red\",\"Red/Red Merle\",\"Red/Red Tick\",\"Red/Silver\",\"Red/Tan\",\"Red/Tricolor\",\"Red/White\",\"Red/Yellow\",\"Ruddy/Cream\",\"Sable\",\"Sable/Black\",\"Sable/Brown\",\"Sable/Buff\",\"Sable/Cream\",\"Sable/Gray\",\"Sable/Red\",\"Sable/Red Merle\",\"Sable/Tan\",\"Sable/White\",\"Silver\",\"Silver/Black\",\"Silver/Brown\",\"Silver/Chocolate\",\"Silver/Cream\",\"Silver/Gray\",\"Silver/Red\",\"Silver/Tan\",\"Silver/White\",\"Tan\",\"Tan/Apricot\",\"Tan/Black\",\"Tan/Blue\",\"Tan/Blue Merle\",\"Tan/Brown\",\"Tan/Brown Brindle\",\"Tan/Brown Merle\",\"Tan/Buff\",\"Tan/Cream\",\"Tan/Fawn\",\"Tan/Gold\",\"Tan/Gray\",\"Tan/Red\",\"Tan/Red Merle\",\"Tan/Red Tick\",\"Tan/Silver\",\"Tan/Tan\",\"Tan/Tricolor\",\"Tan/White\",\"Tan/Yellow\",\"Tan/Yellow Brindle\",\"Tricolor\",\"Tricolor/Black\",\"Tricolor/Blue\",\"Tricolor/Blue Merle\",\"Tricolor/Blue Tick\",\"Tricolor/Brown\",\"Tricolor/Brown Brindle\",\"Tricolor/Brown Merle\",\"Tricolor/Chocolate\",\"Tricolor/Cream\",\"Tricolor/Gray\",\"Tricolor/Red\",\"Tricolor/Red Tick\",\"Tricolor/Silver\",\"Tricolor/Tan\",\"Tricolor/Tricolor\",\"Tricolor/White\",\"White\",\"White/Apricot\",\"White/Black\",\"White/Black Brindle\",\"White/Black Smoke\",\"White/Black Tiger\",\"White/Blue\",\"White/Blue Cream\",\"White/Blue Merle\",\"White/Blue Tick\",\"White/Blue Tiger\",\"White/Brown\",\"White/Brown Brindle\",\"White/Brown Merle\",\"White/Brown Tiger\",\"White/Buff\",\"White/Chocolate\",\"White/Cream\",\"White/Fawn\",\"White/Gold\",\"White/Gray\",\"White/Gray Tiger\",\"White/Liver\",\"White/Liver Tick\",\"White/Orange\",\"White/Pink\",\"White/Red\",\"White/Red Merle\",\"White/Red Tick\",\"White/Silver\",\"White/Tan\",\"White/Tortie\",\"White/Tricolor\",\"White/White\",\"White/Yellow\",\"White/Yellow Brindle\",\"Yellow\",\"Yellow Brindle\",\"Yellow Brindle/Blue\",\"Yellow Brindle/White\",\"Yellow/Brown\",\"Yellow/Cream\",\"Yellow/Gray\",\"Yellow/Tan\",\"Yellow/White\",\"Yellow/Yellow\"],\"xaxis\":\"x\",\"y\":[3,71,3,2,8,3458,109,10,1,1,15,2,3,227,8,1,1,2,2,8,2,1,69,16,1,4,17,36,2277,136,2,15,4,45,13,1,207,5,59,19,2566,394,7688,2,3,366,3,1,8,240,20,3,13,1,1,2,3,2,51,8,152,1,1,2,91,38,14,1,4,5,34,16,15,11,34,9,2,2,11,6,3,11,1,102,18,1931,2,2667,1008,47,1,1,1,2,20,2,1,1,1,3,11,1,1967,116,3,2,4,1,2,7,100,8,1,16,1,1747,3,1,2,31,10,1,5,6,31,5,1,28,1,23,1,4,11,389,133,3679,1,462,16,1,4,5,1,24,131,3,2,461,5,1,14,5,3,6,2,1,2,1,4,1,244,19,841,1,652,54,1,13,1,2,4,8,2,2,61,2,193,5,251,62,6,10,2,1,1,4,8,8,514,153,6,6,1,3,3,1,1,4,54,3,219,90,2,1,23,1,1,13,2,2,4,1,5,45,5,357,2,8,1,1,1,2,1,7,26,1,4,3,1236,68,3,1,1,1,52,100,1,1,7,1,1,5,2,2,46,216,1,46,1,3,21,2,4,3,2,4,1,80,6,1209,3,1,506,41,17,2,10,2,6,1,39,266,38,13,10,3,3,1,4,45,14,2908,1,1034,6,1,140,3,1,21,56,11,1,39,16,3,4,37,42,32,3516,4,1,2532,45,7,6,2,71,1,3,1,1,2,2,2,2,17,1,95,3397,5,2303,32,3,1,229,3,44,13,2,2110,411,21,2,78,124,120,27,5,216,1,31,3,28,4,225,20,29,9,1712,1,241,79,21,7,577,36,1,58,1,2,2,4,139,1],\"yaxis\":\"y\",\"type\":\"bar\"}],                        {\"template\":{\"data\":{\"histogram2dcontour\":[{\"type\":\"histogram2dcontour\",\"colorbar\":{\"outlinewidth\":0,\"ticks\":\"\"},\"colorscale\":[[0.0,\"#0d0887\"],[0.1111111111111111,\"#46039f\"],[0.2222222222222222,\"#7201a8\"],[0.3333333333333333,\"#9c179e\"],[0.4444444444444444,\"#bd3786\"],[0.5555555555555556,\"#d8576b\"],[0.6666666666666666,\"#ed7953\"],[0.7777777777777778,\"#fb9f3a\"],[0.8888888888888888,\"#fdca26\"],[1.0,\"#f0f921\"]]}],\"choropleth\":[{\"type\":\"choropleth\",\"colorbar\":{\"outlinewidth\":0,\"ticks\":\"\"}}],\"histogram2d\":[{\"type\":\"histogram2d\",\"colorbar\":{\"outlinewidth\":0,\"ticks\":\"\"},\"colorscale\":[[0.0,\"#0d0887\"],[0.1111111111111111,\"#46039f\"],[0.2222222222222222,\"#7201a8\"],[0.3333333333333333,\"#9c179e\"],[0.4444444444444444,\"#bd3786\"],[0.5555555555555556,\"#d8576b\"],[0.6666666666666666,\"#ed7953\"],[0.7777777777777778,\"#fb9f3a\"],[0.8888888888888888,\"#fdca26\"],[1.0,\"#f0f921\"]]}],\"heatmap\":[{\"type\":\"heatmap\",\"colorbar\":{\"outlinewidth\":0,\"ticks\":\"\"},\"colorscale\":[[0.0,\"#0d0887\"],[0.1111111111111111,\"#46039f\"],[0.2222222222222222,\"#7201a8\"],[0.3333333333333333,\"#9c179e\"],[0.4444444444444444,\"#bd3786\"],[0.5555555555555556,\"#d8576b\"],[0.6666666666666666,\"#ed7953\"],[0.7777777777777778,\"#fb9f3a\"],[0.8888888888888888,\"#fdca26\"],[1.0,\"#f0f921\"]]}],\"heatmapgl\":[{\"type\":\"heatmapgl\",\"colorbar\":{\"outlinewidth\":0,\"ticks\":\"\"},\"colorscale\":[[0.0,\"#0d0887\"],[0.1111111111111111,\"#46039f\"],[0.2222222222222222,\"#7201a8\"],[0.3333333333333333,\"#9c179e\"],[0.4444444444444444,\"#bd3786\"],[0.5555555555555556,\"#d8576b\"],[0.6666666666666666,\"#ed7953\"],[0.7777777777777778,\"#fb9f3a\"],[0.8888888888888888,\"#fdca26\"],[1.0,\"#f0f921\"]]}],\"contourcarpet\":[{\"type\":\"contourcarpet\",\"colorbar\":{\"outlinewidth\":0,\"ticks\":\"\"}}],\"contour\":[{\"type\":\"contour\",\"colorbar\":{\"outlinewidth\":0,\"ticks\":\"\"},\"colorscale\":[[0.0,\"#0d0887\"],[0.1111111111111111,\"#46039f\"],[0.2222222222222222,\"#7201a8\"],[0.3333333333333333,\"#9c179e\"],[0.4444444444444444,\"#bd3786\"],[0.5555555555555556,\"#d8576b\"],[0.6666666666666666,\"#ed7953\"],[0.7777777777777778,\"#fb9f3a\"],[0.8888888888888888,\"#fdca26\"],[1.0,\"#f0f921\"]]}],\"surface\":[{\"type\":\"surface\",\"colorbar\":{\"outlinewidth\":0,\"ticks\":\"\"},\"colorscale\":[[0.0,\"#0d0887\"],[0.1111111111111111,\"#46039f\"],[0.2222222222222222,\"#7201a8\"],[0.3333333333333333,\"#9c179e\"],[0.4444444444444444,\"#bd3786\"],[0.5555555555555556,\"#d8576b\"],[0.6666666666666666,\"#ed7953\"],[0.7777777777777778,\"#fb9f3a\"],[0.8888888888888888,\"#fdca26\"],[1.0,\"#f0f921\"]]}],\"mesh3d\":[{\"type\":\"mesh3d\",\"colorbar\":{\"outlinewidth\":0,\"ticks\":\"\"}}],\"scatter\":[{\"fillpattern\":{\"fillmode\":\"overlay\",\"size\":10,\"solidity\":0.2},\"type\":\"scatter\"}],\"parcoords\":[{\"type\":\"parcoords\",\"line\":{\"colorbar\":{\"outlinewidth\":0,\"ticks\":\"\"}}}],\"scatterpolargl\":[{\"type\":\"scatterpolargl\",\"marker\":{\"colorbar\":{\"outlinewidth\":0,\"ticks\":\"\"}}}],\"bar\":[{\"error_x\":{\"color\":\"#2a3f5f\"},\"error_y\":{\"color\":\"#2a3f5f\"},\"marker\":{\"line\":{\"color\":\"#E5ECF6\",\"width\":0.5},\"pattern\":{\"fillmode\":\"overlay\",\"size\":10,\"solidity\":0.2}},\"type\":\"bar\"}],\"scattergeo\":[{\"type\":\"scattergeo\",\"marker\":{\"colorbar\":{\"outlinewidth\":0,\"ticks\":\"\"}}}],\"scatterpolar\":[{\"type\":\"scatterpolar\",\"marker\":{\"colorbar\":{\"outlinewidth\":0,\"ticks\":\"\"}}}],\"histogram\":[{\"marker\":{\"pattern\":{\"fillmode\":\"overlay\",\"size\":10,\"solidity\":0.2}},\"type\":\"histogram\"}],\"scattergl\":[{\"type\":\"scattergl\",\"marker\":{\"colorbar\":{\"outlinewidth\":0,\"ticks\":\"\"}}}],\"scatter3d\":[{\"type\":\"scatter3d\",\"line\":{\"colorbar\":{\"outlinewidth\":0,\"ticks\":\"\"}},\"marker\":{\"colorbar\":{\"outlinewidth\":0,\"ticks\":\"\"}}}],\"scattermapbox\":[{\"type\":\"scattermapbox\",\"marker\":{\"colorbar\":{\"outlinewidth\":0,\"ticks\":\"\"}}}],\"scatterternary\":[{\"type\":\"scatterternary\",\"marker\":{\"colorbar\":{\"outlinewidth\":0,\"ticks\":\"\"}}}],\"scattercarpet\":[{\"type\":\"scattercarpet\",\"marker\":{\"colorbar\":{\"outlinewidth\":0,\"ticks\":\"\"}}}],\"carpet\":[{\"aaxis\":{\"endlinecolor\":\"#2a3f5f\",\"gridcolor\":\"white\",\"linecolor\":\"white\",\"minorgridcolor\":\"white\",\"startlinecolor\":\"#2a3f5f\"},\"baxis\":{\"endlinecolor\":\"#2a3f5f\",\"gridcolor\":\"white\",\"linecolor\":\"white\",\"minorgridcolor\":\"white\",\"startlinecolor\":\"#2a3f5f\"},\"type\":\"carpet\"}],\"table\":[{\"cells\":{\"fill\":{\"color\":\"#EBF0F8\"},\"line\":{\"color\":\"white\"}},\"header\":{\"fill\":{\"color\":\"#C8D4E3\"},\"line\":{\"color\":\"white\"}},\"type\":\"table\"}],\"barpolar\":[{\"marker\":{\"line\":{\"color\":\"#E5ECF6\",\"width\":0.5},\"pattern\":{\"fillmode\":\"overlay\",\"size\":10,\"solidity\":0.2}},\"type\":\"barpolar\"}],\"pie\":[{\"automargin\":true,\"type\":\"pie\"}]},\"layout\":{\"autotypenumbers\":\"strict\",\"colorway\":[\"#636efa\",\"#EF553B\",\"#00cc96\",\"#ab63fa\",\"#FFA15A\",\"#19d3f3\",\"#FF6692\",\"#B6E880\",\"#FF97FF\",\"#FECB52\"],\"font\":{\"color\":\"#2a3f5f\"},\"hovermode\":\"closest\",\"hoverlabel\":{\"align\":\"left\"},\"paper_bgcolor\":\"white\",\"plot_bgcolor\":\"#E5ECF6\",\"polar\":{\"bgcolor\":\"#E5ECF6\",\"angularaxis\":{\"gridcolor\":\"white\",\"linecolor\":\"white\",\"ticks\":\"\"},\"radialaxis\":{\"gridcolor\":\"white\",\"linecolor\":\"white\",\"ticks\":\"\"}},\"ternary\":{\"bgcolor\":\"#E5ECF6\",\"aaxis\":{\"gridcolor\":\"white\",\"linecolor\":\"white\",\"ticks\":\"\"},\"baxis\":{\"gridcolor\":\"white\",\"linecolor\":\"white\",\"ticks\":\"\"},\"caxis\":{\"gridcolor\":\"white\",\"linecolor\":\"white\",\"ticks\":\"\"}},\"coloraxis\":{\"colorbar\":{\"outlinewidth\":0,\"ticks\":\"\"}},\"colorscale\":{\"sequential\":[[0.0,\"#0d0887\"],[0.1111111111111111,\"#46039f\"],[0.2222222222222222,\"#7201a8\"],[0.3333333333333333,\"#9c179e\"],[0.4444444444444444,\"#bd3786\"],[0.5555555555555556,\"#d8576b\"],[0.6666666666666666,\"#ed7953\"],[0.7777777777777778,\"#fb9f3a\"],[0.8888888888888888,\"#fdca26\"],[1.0,\"#f0f921\"]],\"sequentialminus\":[[0.0,\"#0d0887\"],[0.1111111111111111,\"#46039f\"],[0.2222222222222222,\"#7201a8\"],[0.3333333333333333,\"#9c179e\"],[0.4444444444444444,\"#bd3786\"],[0.5555555555555556,\"#d8576b\"],[0.6666666666666666,\"#ed7953\"],[0.7777777777777778,\"#fb9f3a\"],[0.8888888888888888,\"#fdca26\"],[1.0,\"#f0f921\"]],\"diverging\":[[0,\"#8e0152\"],[0.1,\"#c51b7d\"],[0.2,\"#de77ae\"],[0.3,\"#f1b6da\"],[0.4,\"#fde0ef\"],[0.5,\"#f7f7f7\"],[0.6,\"#e6f5d0\"],[0.7,\"#b8e186\"],[0.8,\"#7fbc41\"],[0.9,\"#4d9221\"],[1,\"#276419\"]]},\"xaxis\":{\"gridcolor\":\"white\",\"linecolor\":\"white\",\"ticks\":\"\",\"title\":{\"standoff\":15},\"zerolinecolor\":\"white\",\"automargin\":true,\"zerolinewidth\":2},\"yaxis\":{\"gridcolor\":\"white\",\"linecolor\":\"white\",\"ticks\":\"\",\"title\":{\"standoff\":15},\"zerolinecolor\":\"white\",\"automargin\":true,\"zerolinewidth\":2},\"scene\":{\"xaxis\":{\"backgroundcolor\":\"#E5ECF6\",\"gridcolor\":\"white\",\"linecolor\":\"white\",\"showbackground\":true,\"ticks\":\"\",\"zerolinecolor\":\"white\",\"gridwidth\":2},\"yaxis\":{\"backgroundcolor\":\"#E5ECF6\",\"gridcolor\":\"white\",\"linecolor\":\"white\",\"showbackground\":true,\"ticks\":\"\",\"zerolinecolor\":\"white\",\"gridwidth\":2},\"zaxis\":{\"backgroundcolor\":\"#E5ECF6\",\"gridcolor\":\"white\",\"linecolor\":\"white\",\"showbackground\":true,\"ticks\":\"\",\"zerolinecolor\":\"white\",\"gridwidth\":2}},\"shapedefaults\":{\"line\":{\"color\":\"#2a3f5f\"}},\"annotationdefaults\":{\"arrowcolor\":\"#2a3f5f\",\"arrowhead\":0,\"arrowwidth\":1},\"geo\":{\"bgcolor\":\"white\",\"landcolor\":\"#E5ECF6\",\"subunitcolor\":\"white\",\"showland\":true,\"showlakes\":true,\"lakecolor\":\"white\"},\"title\":{\"x\":0.05},\"mapbox\":{\"style\":\"light\"}}},\"xaxis\":{\"anchor\":\"y\",\"domain\":[0.0,1.0],\"title\":{\"text\":\"COLOR\"}},\"yaxis\":{\"anchor\":\"x\",\"domain\":[0.0,1.0],\"title\":{\"text\":\"COUNT\"}},\"legend\":{\"tracegroupgap\":0},\"title\":{\"text\":\"COLOR Distribution [ Animal Type : Dog (#65251)]\"},\"barmode\":\"relative\"},                        {\"responsive\": true}                    ).then(function(){\n",
       "                            \n",
       "var gd = document.getElementById('c8ba89ec-9f75-42e7-a647-99bad506d87a');\n",
       "var x = new MutationObserver(function (mutations, observer) {{\n",
       "        var display = window.getComputedStyle(gd).display;\n",
       "        if (!display || display === 'none') {{\n",
       "            console.log([gd, 'removed!']);\n",
       "            Plotly.purge(gd);\n",
       "            observer.disconnect();\n",
       "        }}\n",
       "}});\n",
       "\n",
       "// Listen for the removal of the full notebook cells\n",
       "var notebookContainer = gd.closest('#notebook-container');\n",
       "if (notebookContainer) {{\n",
       "    x.observe(notebookContainer, {childList: true});\n",
       "}}\n",
       "\n",
       "// Listen for the clearing of the current output cell\n",
       "var outputEl = gd.closest('.output');\n",
       "if (outputEl) {{\n",
       "    x.observe(outputEl, {childList: true});\n",
       "}}\n",
       "\n",
       "                        })                };                });            </script>        </div>"
      ]
     },
     "metadata": {},
     "output_type": "display_data"
    }
   ],
   "source": [
    "var = 'COLOR'\n",
    "dfGrp = dfAnimals.groupby(['ANIMALTYPE',var])['ANIMALID'].count()\n",
    "dfGrp = dfGrp.reset_index(drop=False)\n",
    "dfGrp = dfGrp.rename(columns={\"ANIMALID\": \"COUNT\"})\n",
    "dfGrp = dfGrp[dfGrp.ANIMALTYPE.isin(['Bird','Cat','Dog','Livestock'])]\n",
    "dfGrp\n",
    "a = list()\n",
    "for animal in dfGrp.ANIMALTYPE.unique():\n",
    "    dat = dfGrp[dfGrp.ANIMALTYPE==animal]\n",
    "    dat['PCT'] = np.round(100.0*dat['COUNT']/dat['COUNT'].sum(),2)\n",
    "    cnt = dat['COUNT'].sum()\n",
    "    a.append({\"data\":dat,\"count\":cnt})\n",
    "    fig = px.bar(dat, x=var, y='COUNT', title=var+\" Distribution [ Animal Type : \"+animal+\" (#\"+ str(cnt)+\")]\", text=dat['PCT'].apply(lambda x: '{0:1.1f}%'.format(x)))\n",
    "    fig.show()    "
   ]
  },
  {
   "cell_type": "raw",
   "id": "8c239b6e",
   "metadata": {},
   "source": [
    "COLOR is to detailed a feature to consider hence we will ignore color as its unlikely to bias a decision.\n"
   ]
  },
  {
   "cell_type": "markdown",
   "id": "f5dbd864",
   "metadata": {},
   "source": [
    "# Feature Engineering"
   ]
  },
  {
   "cell_type": "code",
   "execution_count": 234,
   "id": "f6e97814",
   "metadata": {},
   "outputs": [],
   "source": [
    "dfFeatures = dfAnimals[['ANIMALID','DATETIME_INTAKE','OUTCOMETYPE','AGEOUTCOME','PREVHIST','DAYS_STAY']]\n",
    "dfFeatures.columns = ['ANIMALID','DATE','OUTCOMETYPE','AGEOUTCOME','PREVHIST','DAYS_STAY']"
   ]
  },
  {
   "cell_type": "code",
   "execution_count": 235,
   "id": "72f467f6",
   "metadata": {},
   "outputs": [],
   "source": [
    "####################################################################################################\n",
    "### Adding Pure Breed Feature\n",
    "####################################################################################################\n",
    "featname = 'IS_PUREBREED'\n",
    "feature = dfAnimals.BREED.apply(lambda x: 0 if len(re.findall('/|MIX',x.upper()))==0 else 1)\n",
    "if not featname in dfFeatures.columns:\n",
    "    feature.name = featname\n",
    "    dfFeatures = pd.concat([dfFeatures,feature],axis=1)"
   ]
  },
  {
   "cell_type": "code",
   "execution_count": 236,
   "id": "ba170a26",
   "metadata": {},
   "outputs": [],
   "source": [
    "####################################################################################################\n",
    "### Since most features selected are categorical (not numeric) in nature \n",
    "### we need to convert the feature into multiple one-hot vector\n",
    "### Adding One Hot Features for [INTAKETYPE,INTAKECONDITION, SEXINTAKE]\n",
    "####################################################################################################\n",
    "for featname in ['INTAKETYPE','INTAKECONDITION', 'SEXINTAKE']:\n",
    "#for featname in ['INTAKETYPE']:    \n",
    "    if not np.any([len(re.findall(featname,i))>0 for i in dfFeatures.columns]):        \n",
    "        feature = pd.get_dummies(dfAnimals[[featname]], prefix=featname)\n",
    "        dfFeatures = pd.concat([dfFeatures,feature],axis=1)\n",
    "        dfFeatures.columns = [\"\".join(i.upper().split()) for i in dfFeatures.columns]"
   ]
  },
  {
   "cell_type": "code",
   "execution_count": 237,
   "id": "75c55728",
   "metadata": {},
   "outputs": [],
   "source": [
    "dfFeatures = dfFeatures[~dfFeatures.OUTCOMETYPE.isnull()]"
   ]
  },
  {
   "cell_type": "markdown",
   "id": "a86bf9c2",
   "metadata": {},
   "source": [
    "# Redefining the Outcome variable \n",
    "Since the Outcome Type is our prediction variable it is noted that there huge class imbalance where some classes are really huge and some too few. "
   ]
  },
  {
   "cell_type": "code",
   "execution_count": 238,
   "id": "56dce7bf",
   "metadata": {},
   "outputs": [],
   "source": [
    "def ChangeOutcomeType(x):\n",
    "    retval = np.NaN\n",
    "    x = x.upper()\n",
    "    retval = \"ADOPT\" if x in [\"ADOPTION\"] else retval\n",
    "    retval = \"RTO\" if x in ['RTO-ADOPT','RETURN TO OWNER'] else retval    \n",
    "    retval = \"DIED\" if x in ['EUTHANASIA','DIED'] else retval\n",
    "    return retval\n",
    "\n",
    "dfFeatures.OUTCOMETYPE = dfFeatures.OUTCOMETYPE.apply(ChangeOutcomeType)\n",
    "dfFeatures = dfFeatures[~dfFeatures.OUTCOMETYPE.isnull()]"
   ]
  },
  {
   "cell_type": "code",
   "execution_count": 239,
   "id": "733afe2d",
   "metadata": {
    "scrolled": false
   },
   "outputs": [
    {
     "data": {
      "application/vnd.plotly.v1+json": {
       "config": {
        "plotlyServerURL": "https://plot.ly"
       },
       "data": [
        {
         "alignmentgroup": "True",
         "hovertemplate": "OUTCOMETYPE=%{x}<br>COUNT=%{y}<br>text=%{text}<extra></extra>",
         "legendgroup": "",
         "marker": {
          "color": "#636efa",
          "pattern": {
           "shape": ""
          }
         },
         "name": "",
         "offsetgroup": "",
         "orientation": "v",
         "showlegend": false,
         "text": [
          "63.5%",
          "3.7%",
          "32.8%"
         ],
         "textposition": "auto",
         "type": "bar",
         "x": [
          "ADOPT",
          "DIED",
          "RTO"
         ],
         "xaxis": "x",
         "y": [
          32138,
          1851,
          16591
         ],
         "yaxis": "y"
        }
       ],
       "layout": {
        "barmode": "relative",
        "legend": {
         "tracegroupgap": 0
        },
        "template": {
         "data": {
          "bar": [
           {
            "error_x": {
             "color": "#2a3f5f"
            },
            "error_y": {
             "color": "#2a3f5f"
            },
            "marker": {
             "line": {
              "color": "#E5ECF6",
              "width": 0.5
             },
             "pattern": {
              "fillmode": "overlay",
              "size": 10,
              "solidity": 0.2
             }
            },
            "type": "bar"
           }
          ],
          "barpolar": [
           {
            "marker": {
             "line": {
              "color": "#E5ECF6",
              "width": 0.5
             },
             "pattern": {
              "fillmode": "overlay",
              "size": 10,
              "solidity": 0.2
             }
            },
            "type": "barpolar"
           }
          ],
          "carpet": [
           {
            "aaxis": {
             "endlinecolor": "#2a3f5f",
             "gridcolor": "white",
             "linecolor": "white",
             "minorgridcolor": "white",
             "startlinecolor": "#2a3f5f"
            },
            "baxis": {
             "endlinecolor": "#2a3f5f",
             "gridcolor": "white",
             "linecolor": "white",
             "minorgridcolor": "white",
             "startlinecolor": "#2a3f5f"
            },
            "type": "carpet"
           }
          ],
          "choropleth": [
           {
            "colorbar": {
             "outlinewidth": 0,
             "ticks": ""
            },
            "type": "choropleth"
           }
          ],
          "contour": [
           {
            "colorbar": {
             "outlinewidth": 0,
             "ticks": ""
            },
            "colorscale": [
             [
              0,
              "#0d0887"
             ],
             [
              0.1111111111111111,
              "#46039f"
             ],
             [
              0.2222222222222222,
              "#7201a8"
             ],
             [
              0.3333333333333333,
              "#9c179e"
             ],
             [
              0.4444444444444444,
              "#bd3786"
             ],
             [
              0.5555555555555556,
              "#d8576b"
             ],
             [
              0.6666666666666666,
              "#ed7953"
             ],
             [
              0.7777777777777778,
              "#fb9f3a"
             ],
             [
              0.8888888888888888,
              "#fdca26"
             ],
             [
              1,
              "#f0f921"
             ]
            ],
            "type": "contour"
           }
          ],
          "contourcarpet": [
           {
            "colorbar": {
             "outlinewidth": 0,
             "ticks": ""
            },
            "type": "contourcarpet"
           }
          ],
          "heatmap": [
           {
            "colorbar": {
             "outlinewidth": 0,
             "ticks": ""
            },
            "colorscale": [
             [
              0,
              "#0d0887"
             ],
             [
              0.1111111111111111,
              "#46039f"
             ],
             [
              0.2222222222222222,
              "#7201a8"
             ],
             [
              0.3333333333333333,
              "#9c179e"
             ],
             [
              0.4444444444444444,
              "#bd3786"
             ],
             [
              0.5555555555555556,
              "#d8576b"
             ],
             [
              0.6666666666666666,
              "#ed7953"
             ],
             [
              0.7777777777777778,
              "#fb9f3a"
             ],
             [
              0.8888888888888888,
              "#fdca26"
             ],
             [
              1,
              "#f0f921"
             ]
            ],
            "type": "heatmap"
           }
          ],
          "heatmapgl": [
           {
            "colorbar": {
             "outlinewidth": 0,
             "ticks": ""
            },
            "colorscale": [
             [
              0,
              "#0d0887"
             ],
             [
              0.1111111111111111,
              "#46039f"
             ],
             [
              0.2222222222222222,
              "#7201a8"
             ],
             [
              0.3333333333333333,
              "#9c179e"
             ],
             [
              0.4444444444444444,
              "#bd3786"
             ],
             [
              0.5555555555555556,
              "#d8576b"
             ],
             [
              0.6666666666666666,
              "#ed7953"
             ],
             [
              0.7777777777777778,
              "#fb9f3a"
             ],
             [
              0.8888888888888888,
              "#fdca26"
             ],
             [
              1,
              "#f0f921"
             ]
            ],
            "type": "heatmapgl"
           }
          ],
          "histogram": [
           {
            "marker": {
             "pattern": {
              "fillmode": "overlay",
              "size": 10,
              "solidity": 0.2
             }
            },
            "type": "histogram"
           }
          ],
          "histogram2d": [
           {
            "colorbar": {
             "outlinewidth": 0,
             "ticks": ""
            },
            "colorscale": [
             [
              0,
              "#0d0887"
             ],
             [
              0.1111111111111111,
              "#46039f"
             ],
             [
              0.2222222222222222,
              "#7201a8"
             ],
             [
              0.3333333333333333,
              "#9c179e"
             ],
             [
              0.4444444444444444,
              "#bd3786"
             ],
             [
              0.5555555555555556,
              "#d8576b"
             ],
             [
              0.6666666666666666,
              "#ed7953"
             ],
             [
              0.7777777777777778,
              "#fb9f3a"
             ],
             [
              0.8888888888888888,
              "#fdca26"
             ],
             [
              1,
              "#f0f921"
             ]
            ],
            "type": "histogram2d"
           }
          ],
          "histogram2dcontour": [
           {
            "colorbar": {
             "outlinewidth": 0,
             "ticks": ""
            },
            "colorscale": [
             [
              0,
              "#0d0887"
             ],
             [
              0.1111111111111111,
              "#46039f"
             ],
             [
              0.2222222222222222,
              "#7201a8"
             ],
             [
              0.3333333333333333,
              "#9c179e"
             ],
             [
              0.4444444444444444,
              "#bd3786"
             ],
             [
              0.5555555555555556,
              "#d8576b"
             ],
             [
              0.6666666666666666,
              "#ed7953"
             ],
             [
              0.7777777777777778,
              "#fb9f3a"
             ],
             [
              0.8888888888888888,
              "#fdca26"
             ],
             [
              1,
              "#f0f921"
             ]
            ],
            "type": "histogram2dcontour"
           }
          ],
          "mesh3d": [
           {
            "colorbar": {
             "outlinewidth": 0,
             "ticks": ""
            },
            "type": "mesh3d"
           }
          ],
          "parcoords": [
           {
            "line": {
             "colorbar": {
              "outlinewidth": 0,
              "ticks": ""
             }
            },
            "type": "parcoords"
           }
          ],
          "pie": [
           {
            "automargin": true,
            "type": "pie"
           }
          ],
          "scatter": [
           {
            "fillpattern": {
             "fillmode": "overlay",
             "size": 10,
             "solidity": 0.2
            },
            "type": "scatter"
           }
          ],
          "scatter3d": [
           {
            "line": {
             "colorbar": {
              "outlinewidth": 0,
              "ticks": ""
             }
            },
            "marker": {
             "colorbar": {
              "outlinewidth": 0,
              "ticks": ""
             }
            },
            "type": "scatter3d"
           }
          ],
          "scattercarpet": [
           {
            "marker": {
             "colorbar": {
              "outlinewidth": 0,
              "ticks": ""
             }
            },
            "type": "scattercarpet"
           }
          ],
          "scattergeo": [
           {
            "marker": {
             "colorbar": {
              "outlinewidth": 0,
              "ticks": ""
             }
            },
            "type": "scattergeo"
           }
          ],
          "scattergl": [
           {
            "marker": {
             "colorbar": {
              "outlinewidth": 0,
              "ticks": ""
             }
            },
            "type": "scattergl"
           }
          ],
          "scattermapbox": [
           {
            "marker": {
             "colorbar": {
              "outlinewidth": 0,
              "ticks": ""
             }
            },
            "type": "scattermapbox"
           }
          ],
          "scatterpolar": [
           {
            "marker": {
             "colorbar": {
              "outlinewidth": 0,
              "ticks": ""
             }
            },
            "type": "scatterpolar"
           }
          ],
          "scatterpolargl": [
           {
            "marker": {
             "colorbar": {
              "outlinewidth": 0,
              "ticks": ""
             }
            },
            "type": "scatterpolargl"
           }
          ],
          "scatterternary": [
           {
            "marker": {
             "colorbar": {
              "outlinewidth": 0,
              "ticks": ""
             }
            },
            "type": "scatterternary"
           }
          ],
          "surface": [
           {
            "colorbar": {
             "outlinewidth": 0,
             "ticks": ""
            },
            "colorscale": [
             [
              0,
              "#0d0887"
             ],
             [
              0.1111111111111111,
              "#46039f"
             ],
             [
              0.2222222222222222,
              "#7201a8"
             ],
             [
              0.3333333333333333,
              "#9c179e"
             ],
             [
              0.4444444444444444,
              "#bd3786"
             ],
             [
              0.5555555555555556,
              "#d8576b"
             ],
             [
              0.6666666666666666,
              "#ed7953"
             ],
             [
              0.7777777777777778,
              "#fb9f3a"
             ],
             [
              0.8888888888888888,
              "#fdca26"
             ],
             [
              1,
              "#f0f921"
             ]
            ],
            "type": "surface"
           }
          ],
          "table": [
           {
            "cells": {
             "fill": {
              "color": "#EBF0F8"
             },
             "line": {
              "color": "white"
             }
            },
            "header": {
             "fill": {
              "color": "#C8D4E3"
             },
             "line": {
              "color": "white"
             }
            },
            "type": "table"
           }
          ]
         },
         "layout": {
          "annotationdefaults": {
           "arrowcolor": "#2a3f5f",
           "arrowhead": 0,
           "arrowwidth": 1
          },
          "autotypenumbers": "strict",
          "coloraxis": {
           "colorbar": {
            "outlinewidth": 0,
            "ticks": ""
           }
          },
          "colorscale": {
           "diverging": [
            [
             0,
             "#8e0152"
            ],
            [
             0.1,
             "#c51b7d"
            ],
            [
             0.2,
             "#de77ae"
            ],
            [
             0.3,
             "#f1b6da"
            ],
            [
             0.4,
             "#fde0ef"
            ],
            [
             0.5,
             "#f7f7f7"
            ],
            [
             0.6,
             "#e6f5d0"
            ],
            [
             0.7,
             "#b8e186"
            ],
            [
             0.8,
             "#7fbc41"
            ],
            [
             0.9,
             "#4d9221"
            ],
            [
             1,
             "#276419"
            ]
           ],
           "sequential": [
            [
             0,
             "#0d0887"
            ],
            [
             0.1111111111111111,
             "#46039f"
            ],
            [
             0.2222222222222222,
             "#7201a8"
            ],
            [
             0.3333333333333333,
             "#9c179e"
            ],
            [
             0.4444444444444444,
             "#bd3786"
            ],
            [
             0.5555555555555556,
             "#d8576b"
            ],
            [
             0.6666666666666666,
             "#ed7953"
            ],
            [
             0.7777777777777778,
             "#fb9f3a"
            ],
            [
             0.8888888888888888,
             "#fdca26"
            ],
            [
             1,
             "#f0f921"
            ]
           ],
           "sequentialminus": [
            [
             0,
             "#0d0887"
            ],
            [
             0.1111111111111111,
             "#46039f"
            ],
            [
             0.2222222222222222,
             "#7201a8"
            ],
            [
             0.3333333333333333,
             "#9c179e"
            ],
            [
             0.4444444444444444,
             "#bd3786"
            ],
            [
             0.5555555555555556,
             "#d8576b"
            ],
            [
             0.6666666666666666,
             "#ed7953"
            ],
            [
             0.7777777777777778,
             "#fb9f3a"
            ],
            [
             0.8888888888888888,
             "#fdca26"
            ],
            [
             1,
             "#f0f921"
            ]
           ]
          },
          "colorway": [
           "#636efa",
           "#EF553B",
           "#00cc96",
           "#ab63fa",
           "#FFA15A",
           "#19d3f3",
           "#FF6692",
           "#B6E880",
           "#FF97FF",
           "#FECB52"
          ],
          "font": {
           "color": "#2a3f5f"
          },
          "geo": {
           "bgcolor": "white",
           "lakecolor": "white",
           "landcolor": "#E5ECF6",
           "showlakes": true,
           "showland": true,
           "subunitcolor": "white"
          },
          "hoverlabel": {
           "align": "left"
          },
          "hovermode": "closest",
          "mapbox": {
           "style": "light"
          },
          "paper_bgcolor": "white",
          "plot_bgcolor": "#E5ECF6",
          "polar": {
           "angularaxis": {
            "gridcolor": "white",
            "linecolor": "white",
            "ticks": ""
           },
           "bgcolor": "#E5ECF6",
           "radialaxis": {
            "gridcolor": "white",
            "linecolor": "white",
            "ticks": ""
           }
          },
          "scene": {
           "xaxis": {
            "backgroundcolor": "#E5ECF6",
            "gridcolor": "white",
            "gridwidth": 2,
            "linecolor": "white",
            "showbackground": true,
            "ticks": "",
            "zerolinecolor": "white"
           },
           "yaxis": {
            "backgroundcolor": "#E5ECF6",
            "gridcolor": "white",
            "gridwidth": 2,
            "linecolor": "white",
            "showbackground": true,
            "ticks": "",
            "zerolinecolor": "white"
           },
           "zaxis": {
            "backgroundcolor": "#E5ECF6",
            "gridcolor": "white",
            "gridwidth": 2,
            "linecolor": "white",
            "showbackground": true,
            "ticks": "",
            "zerolinecolor": "white"
           }
          },
          "shapedefaults": {
           "line": {
            "color": "#2a3f5f"
           }
          },
          "ternary": {
           "aaxis": {
            "gridcolor": "white",
            "linecolor": "white",
            "ticks": ""
           },
           "baxis": {
            "gridcolor": "white",
            "linecolor": "white",
            "ticks": ""
           },
           "bgcolor": "#E5ECF6",
           "caxis": {
            "gridcolor": "white",
            "linecolor": "white",
            "ticks": ""
           }
          },
          "title": {
           "x": 0.05
          },
          "xaxis": {
           "automargin": true,
           "gridcolor": "white",
           "linecolor": "white",
           "ticks": "",
           "title": {
            "standoff": 15
           },
           "zerolinecolor": "white",
           "zerolinewidth": 2
          },
          "yaxis": {
           "automargin": true,
           "gridcolor": "white",
           "linecolor": "white",
           "ticks": "",
           "title": {
            "standoff": 15
           },
           "zerolinecolor": "white",
           "zerolinewidth": 2
          }
         }
        },
        "title": {
         "text": "OUTCOMETYPE Distribution [ Animal Type : Dog (#50580)]"
        },
        "xaxis": {
         "anchor": "y",
         "domain": [
          0,
          1
         ],
         "title": {
          "text": "OUTCOMETYPE"
         }
        },
        "yaxis": {
         "anchor": "x",
         "domain": [
          0,
          1
         ],
         "title": {
          "text": "COUNT"
         }
        }
       }
      },
      "text/html": [
       "<div>                            <div id=\"500cb222-d005-45a8-88a9-0e79904791be\" class=\"plotly-graph-div\" style=\"height:525px; width:100%;\"></div>            <script type=\"text/javascript\">                require([\"plotly\"], function(Plotly) {                    window.PLOTLYENV=window.PLOTLYENV || {};                                    if (document.getElementById(\"500cb222-d005-45a8-88a9-0e79904791be\")) {                    Plotly.newPlot(                        \"500cb222-d005-45a8-88a9-0e79904791be\",                        [{\"alignmentgroup\":\"True\",\"hovertemplate\":\"OUTCOMETYPE=%{x}<br>COUNT=%{y}<br>text=%{text}<extra></extra>\",\"legendgroup\":\"\",\"marker\":{\"color\":\"#636efa\",\"pattern\":{\"shape\":\"\"}},\"name\":\"\",\"offsetgroup\":\"\",\"orientation\":\"v\",\"showlegend\":false,\"text\":[\"63.5%\",\"3.7%\",\"32.8%\"],\"textposition\":\"auto\",\"x\":[\"ADOPT\",\"DIED\",\"RTO\"],\"xaxis\":\"x\",\"y\":[32138,1851,16591],\"yaxis\":\"y\",\"type\":\"bar\"}],                        {\"template\":{\"data\":{\"histogram2dcontour\":[{\"type\":\"histogram2dcontour\",\"colorbar\":{\"outlinewidth\":0,\"ticks\":\"\"},\"colorscale\":[[0.0,\"#0d0887\"],[0.1111111111111111,\"#46039f\"],[0.2222222222222222,\"#7201a8\"],[0.3333333333333333,\"#9c179e\"],[0.4444444444444444,\"#bd3786\"],[0.5555555555555556,\"#d8576b\"],[0.6666666666666666,\"#ed7953\"],[0.7777777777777778,\"#fb9f3a\"],[0.8888888888888888,\"#fdca26\"],[1.0,\"#f0f921\"]]}],\"choropleth\":[{\"type\":\"choropleth\",\"colorbar\":{\"outlinewidth\":0,\"ticks\":\"\"}}],\"histogram2d\":[{\"type\":\"histogram2d\",\"colorbar\":{\"outlinewidth\":0,\"ticks\":\"\"},\"colorscale\":[[0.0,\"#0d0887\"],[0.1111111111111111,\"#46039f\"],[0.2222222222222222,\"#7201a8\"],[0.3333333333333333,\"#9c179e\"],[0.4444444444444444,\"#bd3786\"],[0.5555555555555556,\"#d8576b\"],[0.6666666666666666,\"#ed7953\"],[0.7777777777777778,\"#fb9f3a\"],[0.8888888888888888,\"#fdca26\"],[1.0,\"#f0f921\"]]}],\"heatmap\":[{\"type\":\"heatmap\",\"colorbar\":{\"outlinewidth\":0,\"ticks\":\"\"},\"colorscale\":[[0.0,\"#0d0887\"],[0.1111111111111111,\"#46039f\"],[0.2222222222222222,\"#7201a8\"],[0.3333333333333333,\"#9c179e\"],[0.4444444444444444,\"#bd3786\"],[0.5555555555555556,\"#d8576b\"],[0.6666666666666666,\"#ed7953\"],[0.7777777777777778,\"#fb9f3a\"],[0.8888888888888888,\"#fdca26\"],[1.0,\"#f0f921\"]]}],\"heatmapgl\":[{\"type\":\"heatmapgl\",\"colorbar\":{\"outlinewidth\":0,\"ticks\":\"\"},\"colorscale\":[[0.0,\"#0d0887\"],[0.1111111111111111,\"#46039f\"],[0.2222222222222222,\"#7201a8\"],[0.3333333333333333,\"#9c179e\"],[0.4444444444444444,\"#bd3786\"],[0.5555555555555556,\"#d8576b\"],[0.6666666666666666,\"#ed7953\"],[0.7777777777777778,\"#fb9f3a\"],[0.8888888888888888,\"#fdca26\"],[1.0,\"#f0f921\"]]}],\"contourcarpet\":[{\"type\":\"contourcarpet\",\"colorbar\":{\"outlinewidth\":0,\"ticks\":\"\"}}],\"contour\":[{\"type\":\"contour\",\"colorbar\":{\"outlinewidth\":0,\"ticks\":\"\"},\"colorscale\":[[0.0,\"#0d0887\"],[0.1111111111111111,\"#46039f\"],[0.2222222222222222,\"#7201a8\"],[0.3333333333333333,\"#9c179e\"],[0.4444444444444444,\"#bd3786\"],[0.5555555555555556,\"#d8576b\"],[0.6666666666666666,\"#ed7953\"],[0.7777777777777778,\"#fb9f3a\"],[0.8888888888888888,\"#fdca26\"],[1.0,\"#f0f921\"]]}],\"surface\":[{\"type\":\"surface\",\"colorbar\":{\"outlinewidth\":0,\"ticks\":\"\"},\"colorscale\":[[0.0,\"#0d0887\"],[0.1111111111111111,\"#46039f\"],[0.2222222222222222,\"#7201a8\"],[0.3333333333333333,\"#9c179e\"],[0.4444444444444444,\"#bd3786\"],[0.5555555555555556,\"#d8576b\"],[0.6666666666666666,\"#ed7953\"],[0.7777777777777778,\"#fb9f3a\"],[0.8888888888888888,\"#fdca26\"],[1.0,\"#f0f921\"]]}],\"mesh3d\":[{\"type\":\"mesh3d\",\"colorbar\":{\"outlinewidth\":0,\"ticks\":\"\"}}],\"scatter\":[{\"fillpattern\":{\"fillmode\":\"overlay\",\"size\":10,\"solidity\":0.2},\"type\":\"scatter\"}],\"parcoords\":[{\"type\":\"parcoords\",\"line\":{\"colorbar\":{\"outlinewidth\":0,\"ticks\":\"\"}}}],\"scatterpolargl\":[{\"type\":\"scatterpolargl\",\"marker\":{\"colorbar\":{\"outlinewidth\":0,\"ticks\":\"\"}}}],\"bar\":[{\"error_x\":{\"color\":\"#2a3f5f\"},\"error_y\":{\"color\":\"#2a3f5f\"},\"marker\":{\"line\":{\"color\":\"#E5ECF6\",\"width\":0.5},\"pattern\":{\"fillmode\":\"overlay\",\"size\":10,\"solidity\":0.2}},\"type\":\"bar\"}],\"scattergeo\":[{\"type\":\"scattergeo\",\"marker\":{\"colorbar\":{\"outlinewidth\":0,\"ticks\":\"\"}}}],\"scatterpolar\":[{\"type\":\"scatterpolar\",\"marker\":{\"colorbar\":{\"outlinewidth\":0,\"ticks\":\"\"}}}],\"histogram\":[{\"marker\":{\"pattern\":{\"fillmode\":\"overlay\",\"size\":10,\"solidity\":0.2}},\"type\":\"histogram\"}],\"scattergl\":[{\"type\":\"scattergl\",\"marker\":{\"colorbar\":{\"outlinewidth\":0,\"ticks\":\"\"}}}],\"scatter3d\":[{\"type\":\"scatter3d\",\"line\":{\"colorbar\":{\"outlinewidth\":0,\"ticks\":\"\"}},\"marker\":{\"colorbar\":{\"outlinewidth\":0,\"ticks\":\"\"}}}],\"scattermapbox\":[{\"type\":\"scattermapbox\",\"marker\":{\"colorbar\":{\"outlinewidth\":0,\"ticks\":\"\"}}}],\"scatterternary\":[{\"type\":\"scatterternary\",\"marker\":{\"colorbar\":{\"outlinewidth\":0,\"ticks\":\"\"}}}],\"scattercarpet\":[{\"type\":\"scattercarpet\",\"marker\":{\"colorbar\":{\"outlinewidth\":0,\"ticks\":\"\"}}}],\"carpet\":[{\"aaxis\":{\"endlinecolor\":\"#2a3f5f\",\"gridcolor\":\"white\",\"linecolor\":\"white\",\"minorgridcolor\":\"white\",\"startlinecolor\":\"#2a3f5f\"},\"baxis\":{\"endlinecolor\":\"#2a3f5f\",\"gridcolor\":\"white\",\"linecolor\":\"white\",\"minorgridcolor\":\"white\",\"startlinecolor\":\"#2a3f5f\"},\"type\":\"carpet\"}],\"table\":[{\"cells\":{\"fill\":{\"color\":\"#EBF0F8\"},\"line\":{\"color\":\"white\"}},\"header\":{\"fill\":{\"color\":\"#C8D4E3\"},\"line\":{\"color\":\"white\"}},\"type\":\"table\"}],\"barpolar\":[{\"marker\":{\"line\":{\"color\":\"#E5ECF6\",\"width\":0.5},\"pattern\":{\"fillmode\":\"overlay\",\"size\":10,\"solidity\":0.2}},\"type\":\"barpolar\"}],\"pie\":[{\"automargin\":true,\"type\":\"pie\"}]},\"layout\":{\"autotypenumbers\":\"strict\",\"colorway\":[\"#636efa\",\"#EF553B\",\"#00cc96\",\"#ab63fa\",\"#FFA15A\",\"#19d3f3\",\"#FF6692\",\"#B6E880\",\"#FF97FF\",\"#FECB52\"],\"font\":{\"color\":\"#2a3f5f\"},\"hovermode\":\"closest\",\"hoverlabel\":{\"align\":\"left\"},\"paper_bgcolor\":\"white\",\"plot_bgcolor\":\"#E5ECF6\",\"polar\":{\"bgcolor\":\"#E5ECF6\",\"angularaxis\":{\"gridcolor\":\"white\",\"linecolor\":\"white\",\"ticks\":\"\"},\"radialaxis\":{\"gridcolor\":\"white\",\"linecolor\":\"white\",\"ticks\":\"\"}},\"ternary\":{\"bgcolor\":\"#E5ECF6\",\"aaxis\":{\"gridcolor\":\"white\",\"linecolor\":\"white\",\"ticks\":\"\"},\"baxis\":{\"gridcolor\":\"white\",\"linecolor\":\"white\",\"ticks\":\"\"},\"caxis\":{\"gridcolor\":\"white\",\"linecolor\":\"white\",\"ticks\":\"\"}},\"coloraxis\":{\"colorbar\":{\"outlinewidth\":0,\"ticks\":\"\"}},\"colorscale\":{\"sequential\":[[0.0,\"#0d0887\"],[0.1111111111111111,\"#46039f\"],[0.2222222222222222,\"#7201a8\"],[0.3333333333333333,\"#9c179e\"],[0.4444444444444444,\"#bd3786\"],[0.5555555555555556,\"#d8576b\"],[0.6666666666666666,\"#ed7953\"],[0.7777777777777778,\"#fb9f3a\"],[0.8888888888888888,\"#fdca26\"],[1.0,\"#f0f921\"]],\"sequentialminus\":[[0.0,\"#0d0887\"],[0.1111111111111111,\"#46039f\"],[0.2222222222222222,\"#7201a8\"],[0.3333333333333333,\"#9c179e\"],[0.4444444444444444,\"#bd3786\"],[0.5555555555555556,\"#d8576b\"],[0.6666666666666666,\"#ed7953\"],[0.7777777777777778,\"#fb9f3a\"],[0.8888888888888888,\"#fdca26\"],[1.0,\"#f0f921\"]],\"diverging\":[[0,\"#8e0152\"],[0.1,\"#c51b7d\"],[0.2,\"#de77ae\"],[0.3,\"#f1b6da\"],[0.4,\"#fde0ef\"],[0.5,\"#f7f7f7\"],[0.6,\"#e6f5d0\"],[0.7,\"#b8e186\"],[0.8,\"#7fbc41\"],[0.9,\"#4d9221\"],[1,\"#276419\"]]},\"xaxis\":{\"gridcolor\":\"white\",\"linecolor\":\"white\",\"ticks\":\"\",\"title\":{\"standoff\":15},\"zerolinecolor\":\"white\",\"automargin\":true,\"zerolinewidth\":2},\"yaxis\":{\"gridcolor\":\"white\",\"linecolor\":\"white\",\"ticks\":\"\",\"title\":{\"standoff\":15},\"zerolinecolor\":\"white\",\"automargin\":true,\"zerolinewidth\":2},\"scene\":{\"xaxis\":{\"backgroundcolor\":\"#E5ECF6\",\"gridcolor\":\"white\",\"linecolor\":\"white\",\"showbackground\":true,\"ticks\":\"\",\"zerolinecolor\":\"white\",\"gridwidth\":2},\"yaxis\":{\"backgroundcolor\":\"#E5ECF6\",\"gridcolor\":\"white\",\"linecolor\":\"white\",\"showbackground\":true,\"ticks\":\"\",\"zerolinecolor\":\"white\",\"gridwidth\":2},\"zaxis\":{\"backgroundcolor\":\"#E5ECF6\",\"gridcolor\":\"white\",\"linecolor\":\"white\",\"showbackground\":true,\"ticks\":\"\",\"zerolinecolor\":\"white\",\"gridwidth\":2}},\"shapedefaults\":{\"line\":{\"color\":\"#2a3f5f\"}},\"annotationdefaults\":{\"arrowcolor\":\"#2a3f5f\",\"arrowhead\":0,\"arrowwidth\":1},\"geo\":{\"bgcolor\":\"white\",\"landcolor\":\"#E5ECF6\",\"subunitcolor\":\"white\",\"showland\":true,\"showlakes\":true,\"lakecolor\":\"white\"},\"title\":{\"x\":0.05},\"mapbox\":{\"style\":\"light\"}}},\"xaxis\":{\"anchor\":\"y\",\"domain\":[0.0,1.0],\"title\":{\"text\":\"OUTCOMETYPE\"}},\"yaxis\":{\"anchor\":\"x\",\"domain\":[0.0,1.0],\"title\":{\"text\":\"COUNT\"}},\"legend\":{\"tracegroupgap\":0},\"title\":{\"text\":\"OUTCOMETYPE Distribution [ Animal Type : Dog (#50580)]\"},\"barmode\":\"relative\"},                        {\"responsive\": true}                    ).then(function(){\n",
       "                            \n",
       "var gd = document.getElementById('500cb222-d005-45a8-88a9-0e79904791be');\n",
       "var x = new MutationObserver(function (mutations, observer) {{\n",
       "        var display = window.getComputedStyle(gd).display;\n",
       "        if (!display || display === 'none') {{\n",
       "            console.log([gd, 'removed!']);\n",
       "            Plotly.purge(gd);\n",
       "            observer.disconnect();\n",
       "        }}\n",
       "}});\n",
       "\n",
       "// Listen for the removal of the full notebook cells\n",
       "var notebookContainer = gd.closest('#notebook-container');\n",
       "if (notebookContainer) {{\n",
       "    x.observe(notebookContainer, {childList: true});\n",
       "}}\n",
       "\n",
       "// Listen for the clearing of the current output cell\n",
       "var outputEl = gd.closest('.output');\n",
       "if (outputEl) {{\n",
       "    x.observe(outputEl, {childList: true});\n",
       "}}\n",
       "\n",
       "                        })                };                });            </script>        </div>"
      ]
     },
     "metadata": {},
     "output_type": "display_data"
    },
    {
     "data": {
      "text/html": [
       "<div>\n",
       "<style scoped>\n",
       "    .dataframe tbody tr th:only-of-type {\n",
       "        vertical-align: middle;\n",
       "    }\n",
       "\n",
       "    .dataframe tbody tr th {\n",
       "        vertical-align: top;\n",
       "    }\n",
       "\n",
       "    .dataframe thead th {\n",
       "        text-align: right;\n",
       "    }\n",
       "</style>\n",
       "<table border=\"1\" class=\"dataframe\">\n",
       "  <thead>\n",
       "    <tr style=\"text-align: right;\">\n",
       "      <th></th>\n",
       "      <th>OUTCOMETYPE</th>\n",
       "      <th>COUNT</th>\n",
       "      <th>PCT</th>\n",
       "    </tr>\n",
       "  </thead>\n",
       "  <tbody>\n",
       "    <tr>\n",
       "      <th>0</th>\n",
       "      <td>ADOPT</td>\n",
       "      <td>32138</td>\n",
       "      <td>63.54</td>\n",
       "    </tr>\n",
       "    <tr>\n",
       "      <th>1</th>\n",
       "      <td>DIED</td>\n",
       "      <td>1851</td>\n",
       "      <td>3.66</td>\n",
       "    </tr>\n",
       "    <tr>\n",
       "      <th>2</th>\n",
       "      <td>RTO</td>\n",
       "      <td>16591</td>\n",
       "      <td>32.80</td>\n",
       "    </tr>\n",
       "  </tbody>\n",
       "</table>\n",
       "</div>"
      ],
      "text/plain": [
       "  OUTCOMETYPE  COUNT    PCT\n",
       "0       ADOPT  32138  63.54\n",
       "1        DIED   1851   3.66\n",
       "2         RTO  16591  32.80"
      ]
     },
     "execution_count": 239,
     "metadata": {},
     "output_type": "execute_result"
    }
   ],
   "source": [
    "var = 'OUTCOMETYPE'\n",
    "dfGrp = dfFeatures.groupby([var])['ANIMALID'].count()\n",
    "dfGrp = dfGrp.reset_index(drop=False)\n",
    "dfGrp = dfGrp.rename(columns={\"ANIMALID\": \"COUNT\"})\n",
    "a = list()\n",
    "dfGrp['PCT'] = np.round(100.0*dfGrp['COUNT']/dfGrp['COUNT'].sum(),2)\n",
    "cnt = dfGrp['COUNT'].sum()\n",
    "a.append({\"data\":dat,\"count\":cnt})\n",
    "fig = px.bar(dfGrp, x=var, y='COUNT', title=var+\" Distribution [ Animal Type : \"+animal+\" (#\"+ str(cnt)+\")]\", text=dfGrp['PCT'].apply(lambda x: '{0:1.1f}%'.format(x)))\n",
    "fig.show()    \n",
    "dfGrp"
   ]
  },
  {
   "cell_type": "markdown",
   "id": "30c04bcd",
   "metadata": {},
   "source": [
    "# Outputing Feature Dataframe to CSV to be used for modelling\n"
   ]
  },
  {
   "cell_type": "code",
   "execution_count": 240,
   "id": "c0a1131d",
   "metadata": {},
   "outputs": [],
   "source": [
    "dfFeatures.index = dfFeatures[['ANIMALID','DATE']].apply(lambda x: str(x[0])+\"_\"+str(int(x[1].timestamp())), axis=1)\n",
    "dfFeatures = dfFeatures.drop(columns=['ANIMALID','DATE'])"
   ]
  },
  {
   "cell_type": "code",
   "execution_count": 241,
   "id": "e63032bb",
   "metadata": {},
   "outputs": [],
   "source": [
    "#dfFeatures = dfFeatures[dfFeatures.DAYS_STAY>5]\n",
    "dfFeatures.to_csv('Features.csv',index=True)"
   ]
  },
  {
   "cell_type": "code",
   "execution_count": 242,
   "id": "8203676f",
   "metadata": {},
   "outputs": [
    {
     "data": {
      "text/html": [
       "<div>\n",
       "<style scoped>\n",
       "    .dataframe tbody tr th:only-of-type {\n",
       "        vertical-align: middle;\n",
       "    }\n",
       "\n",
       "    .dataframe tbody tr th {\n",
       "        vertical-align: top;\n",
       "    }\n",
       "\n",
       "    .dataframe thead th {\n",
       "        text-align: right;\n",
       "    }\n",
       "</style>\n",
       "<table border=\"1\" class=\"dataframe\">\n",
       "  <thead>\n",
       "    <tr style=\"text-align: right;\">\n",
       "      <th></th>\n",
       "      <th>OUTCOMETYPE</th>\n",
       "      <th>AGEOUTCOME</th>\n",
       "      <th>PREVHIST</th>\n",
       "      <th>DAYS_STAY</th>\n",
       "      <th>IS_PUREBREED</th>\n",
       "      <th>INTAKETYPE_ABANDONED</th>\n",
       "      <th>INTAKETYPE_EUTHANASIAREQUEST</th>\n",
       "      <th>INTAKETYPE_OWNERSURRENDER</th>\n",
       "      <th>INTAKETYPE_PUBLICASSIST</th>\n",
       "      <th>INTAKETYPE_STRAY</th>\n",
       "      <th>...</th>\n",
       "      <th>INTAKECONDITION_NORMAL</th>\n",
       "      <th>INTAKECONDITION_NURSING</th>\n",
       "      <th>INTAKECONDITION_OTHER</th>\n",
       "      <th>INTAKECONDITION_PREGNANT</th>\n",
       "      <th>INTAKECONDITION_SICK</th>\n",
       "      <th>SEXINTAKE_INTACTFEMALE</th>\n",
       "      <th>SEXINTAKE_INTACTMALE</th>\n",
       "      <th>SEXINTAKE_NEUTEREDMALE</th>\n",
       "      <th>SEXINTAKE_SPAYEDFEMALE</th>\n",
       "      <th>SEXINTAKE_UNKNOWN</th>\n",
       "    </tr>\n",
       "  </thead>\n",
       "  <tbody>\n",
       "    <tr>\n",
       "      <th>A006100_1394159160</th>\n",
       "      <td>RTO</td>\n",
       "      <td>72.0</td>\n",
       "      <td>0.0</td>\n",
       "      <td>1</td>\n",
       "      <td>1</td>\n",
       "      <td>0</td>\n",
       "      <td>0</td>\n",
       "      <td>0</td>\n",
       "      <td>1</td>\n",
       "      <td>0</td>\n",
       "      <td>...</td>\n",
       "      <td>1</td>\n",
       "      <td>0</td>\n",
       "      <td>0</td>\n",
       "      <td>0</td>\n",
       "      <td>0</td>\n",
       "      <td>0</td>\n",
       "      <td>0</td>\n",
       "      <td>1</td>\n",
       "      <td>0</td>\n",
       "      <td>0</td>\n",
       "    </tr>\n",
       "    <tr>\n",
       "      <th>A006100_1418984460</th>\n",
       "      <td>RTO</td>\n",
       "      <td>84.0</td>\n",
       "      <td>1.0</td>\n",
       "      <td>0</td>\n",
       "      <td>1</td>\n",
       "      <td>0</td>\n",
       "      <td>0</td>\n",
       "      <td>0</td>\n",
       "      <td>1</td>\n",
       "      <td>0</td>\n",
       "      <td>...</td>\n",
       "      <td>1</td>\n",
       "      <td>0</td>\n",
       "      <td>0</td>\n",
       "      <td>0</td>\n",
       "      <td>0</td>\n",
       "      <td>0</td>\n",
       "      <td>0</td>\n",
       "      <td>1</td>\n",
       "      <td>0</td>\n",
       "      <td>0</td>\n",
       "    </tr>\n",
       "    <tr>\n",
       "      <th>A006100_1512612420</th>\n",
       "      <td>RTO</td>\n",
       "      <td>120.0</td>\n",
       "      <td>2.0</td>\n",
       "      <td>0</td>\n",
       "      <td>1</td>\n",
       "      <td>0</td>\n",
       "      <td>0</td>\n",
       "      <td>0</td>\n",
       "      <td>0</td>\n",
       "      <td>1</td>\n",
       "      <td>...</td>\n",
       "      <td>1</td>\n",
       "      <td>0</td>\n",
       "      <td>0</td>\n",
       "      <td>0</td>\n",
       "      <td>0</td>\n",
       "      <td>0</td>\n",
       "      <td>0</td>\n",
       "      <td>1</td>\n",
       "      <td>0</td>\n",
       "      <td>0</td>\n",
       "    </tr>\n",
       "    <tr>\n",
       "      <th>A134067_1384592520</th>\n",
       "      <td>RTO</td>\n",
       "      <td>192.0</td>\n",
       "      <td>0.0</td>\n",
       "      <td>0</td>\n",
       "      <td>0</td>\n",
       "      <td>0</td>\n",
       "      <td>0</td>\n",
       "      <td>0</td>\n",
       "      <td>1</td>\n",
       "      <td>0</td>\n",
       "      <td>...</td>\n",
       "      <td>0</td>\n",
       "      <td>0</td>\n",
       "      <td>0</td>\n",
       "      <td>0</td>\n",
       "      <td>0</td>\n",
       "      <td>0</td>\n",
       "      <td>0</td>\n",
       "      <td>1</td>\n",
       "      <td>0</td>\n",
       "      <td>0</td>\n",
       "    </tr>\n",
       "    <tr>\n",
       "      <th>A141142_1384569960</th>\n",
       "      <td>RTO</td>\n",
       "      <td>180.0</td>\n",
       "      <td>0.0</td>\n",
       "      <td>1</td>\n",
       "      <td>1</td>\n",
       "      <td>0</td>\n",
       "      <td>0</td>\n",
       "      <td>0</td>\n",
       "      <td>0</td>\n",
       "      <td>1</td>\n",
       "      <td>...</td>\n",
       "      <td>0</td>\n",
       "      <td>0</td>\n",
       "      <td>0</td>\n",
       "      <td>0</td>\n",
       "      <td>0</td>\n",
       "      <td>0</td>\n",
       "      <td>0</td>\n",
       "      <td>0</td>\n",
       "      <td>1</td>\n",
       "      <td>0</td>\n",
       "    </tr>\n",
       "    <tr>\n",
       "      <th>...</th>\n",
       "      <td>...</td>\n",
       "      <td>...</td>\n",
       "      <td>...</td>\n",
       "      <td>...</td>\n",
       "      <td>...</td>\n",
       "      <td>...</td>\n",
       "      <td>...</td>\n",
       "      <td>...</td>\n",
       "      <td>...</td>\n",
       "      <td>...</td>\n",
       "      <td>...</td>\n",
       "      <td>...</td>\n",
       "      <td>...</td>\n",
       "      <td>...</td>\n",
       "      <td>...</td>\n",
       "      <td>...</td>\n",
       "      <td>...</td>\n",
       "      <td>...</td>\n",
       "      <td>...</td>\n",
       "      <td>...</td>\n",
       "      <td>...</td>\n",
       "    </tr>\n",
       "    <tr>\n",
       "      <th>A829964_1614395820</th>\n",
       "      <td>ADOPT</td>\n",
       "      <td>3.0</td>\n",
       "      <td>0.0</td>\n",
       "      <td>4</td>\n",
       "      <td>0</td>\n",
       "      <td>0</td>\n",
       "      <td>0</td>\n",
       "      <td>0</td>\n",
       "      <td>0</td>\n",
       "      <td>1</td>\n",
       "      <td>...</td>\n",
       "      <td>1</td>\n",
       "      <td>0</td>\n",
       "      <td>0</td>\n",
       "      <td>0</td>\n",
       "      <td>0</td>\n",
       "      <td>0</td>\n",
       "      <td>1</td>\n",
       "      <td>0</td>\n",
       "      <td>0</td>\n",
       "      <td>0</td>\n",
       "    </tr>\n",
       "    <tr>\n",
       "      <th>A829991_1614516960</th>\n",
       "      <td>RTO</td>\n",
       "      <td>24.0</td>\n",
       "      <td>0.0</td>\n",
       "      <td>0</td>\n",
       "      <td>1</td>\n",
       "      <td>0</td>\n",
       "      <td>0</td>\n",
       "      <td>0</td>\n",
       "      <td>0</td>\n",
       "      <td>1</td>\n",
       "      <td>...</td>\n",
       "      <td>1</td>\n",
       "      <td>0</td>\n",
       "      <td>0</td>\n",
       "      <td>0</td>\n",
       "      <td>0</td>\n",
       "      <td>0</td>\n",
       "      <td>1</td>\n",
       "      <td>0</td>\n",
       "      <td>0</td>\n",
       "      <td>0</td>\n",
       "    </tr>\n",
       "    <tr>\n",
       "      <th>A829992_1614474720</th>\n",
       "      <td>RTO</td>\n",
       "      <td>24.0</td>\n",
       "      <td>0.0</td>\n",
       "      <td>1</td>\n",
       "      <td>1</td>\n",
       "      <td>0</td>\n",
       "      <td>0</td>\n",
       "      <td>0</td>\n",
       "      <td>0</td>\n",
       "      <td>1</td>\n",
       "      <td>...</td>\n",
       "      <td>1</td>\n",
       "      <td>0</td>\n",
       "      <td>0</td>\n",
       "      <td>0</td>\n",
       "      <td>0</td>\n",
       "      <td>0</td>\n",
       "      <td>0</td>\n",
       "      <td>0</td>\n",
       "      <td>1</td>\n",
       "      <td>0</td>\n",
       "    </tr>\n",
       "    <tr>\n",
       "      <th>A830080_1614685080</th>\n",
       "      <td>RTO</td>\n",
       "      <td>12.0</td>\n",
       "      <td>0.0</td>\n",
       "      <td>0</td>\n",
       "      <td>0</td>\n",
       "      <td>0</td>\n",
       "      <td>0</td>\n",
       "      <td>1</td>\n",
       "      <td>0</td>\n",
       "      <td>0</td>\n",
       "      <td>...</td>\n",
       "      <td>1</td>\n",
       "      <td>0</td>\n",
       "      <td>0</td>\n",
       "      <td>0</td>\n",
       "      <td>0</td>\n",
       "      <td>0</td>\n",
       "      <td>1</td>\n",
       "      <td>0</td>\n",
       "      <td>0</td>\n",
       "      <td>0</td>\n",
       "    </tr>\n",
       "    <tr>\n",
       "      <th>A830112_1614656880</th>\n",
       "      <td>DIED</td>\n",
       "      <td>1.0</td>\n",
       "      <td>0.0</td>\n",
       "      <td>0</td>\n",
       "      <td>0</td>\n",
       "      <td>0</td>\n",
       "      <td>0</td>\n",
       "      <td>1</td>\n",
       "      <td>0</td>\n",
       "      <td>0</td>\n",
       "      <td>...</td>\n",
       "      <td>0</td>\n",
       "      <td>0</td>\n",
       "      <td>0</td>\n",
       "      <td>0</td>\n",
       "      <td>0</td>\n",
       "      <td>0</td>\n",
       "      <td>0</td>\n",
       "      <td>0</td>\n",
       "      <td>0</td>\n",
       "      <td>1</td>\n",
       "    </tr>\n",
       "  </tbody>\n",
       "</table>\n",
       "<p>50580 rows × 25 columns</p>\n",
       "</div>"
      ],
      "text/plain": [
       "                   OUTCOMETYPE  AGEOUTCOME  PREVHIST  DAYS_STAY  IS_PUREBREED  \\\n",
       "A006100_1394159160         RTO        72.0       0.0          1             1   \n",
       "A006100_1418984460         RTO        84.0       1.0          0             1   \n",
       "A006100_1512612420         RTO       120.0       2.0          0             1   \n",
       "A134067_1384592520         RTO       192.0       0.0          0             0   \n",
       "A141142_1384569960         RTO       180.0       0.0          1             1   \n",
       "...                        ...         ...       ...        ...           ...   \n",
       "A829964_1614395820       ADOPT         3.0       0.0          4             0   \n",
       "A829991_1614516960         RTO        24.0       0.0          0             1   \n",
       "A829992_1614474720         RTO        24.0       0.0          1             1   \n",
       "A830080_1614685080         RTO        12.0       0.0          0             0   \n",
       "A830112_1614656880        DIED         1.0       0.0          0             0   \n",
       "\n",
       "                    INTAKETYPE_ABANDONED  INTAKETYPE_EUTHANASIAREQUEST  \\\n",
       "A006100_1394159160                     0                             0   \n",
       "A006100_1418984460                     0                             0   \n",
       "A006100_1512612420                     0                             0   \n",
       "A134067_1384592520                     0                             0   \n",
       "A141142_1384569960                     0                             0   \n",
       "...                                  ...                           ...   \n",
       "A829964_1614395820                     0                             0   \n",
       "A829991_1614516960                     0                             0   \n",
       "A829992_1614474720                     0                             0   \n",
       "A830080_1614685080                     0                             0   \n",
       "A830112_1614656880                     0                             0   \n",
       "\n",
       "                    INTAKETYPE_OWNERSURRENDER  INTAKETYPE_PUBLICASSIST  \\\n",
       "A006100_1394159160                          0                        1   \n",
       "A006100_1418984460                          0                        1   \n",
       "A006100_1512612420                          0                        0   \n",
       "A134067_1384592520                          0                        1   \n",
       "A141142_1384569960                          0                        0   \n",
       "...                                       ...                      ...   \n",
       "A829964_1614395820                          0                        0   \n",
       "A829991_1614516960                          0                        0   \n",
       "A829992_1614474720                          0                        0   \n",
       "A830080_1614685080                          1                        0   \n",
       "A830112_1614656880                          1                        0   \n",
       "\n",
       "                    INTAKETYPE_STRAY  ...  INTAKECONDITION_NORMAL  \\\n",
       "A006100_1394159160                 0  ...                       1   \n",
       "A006100_1418984460                 0  ...                       1   \n",
       "A006100_1512612420                 1  ...                       1   \n",
       "A134067_1384592520                 0  ...                       0   \n",
       "A141142_1384569960                 1  ...                       0   \n",
       "...                              ...  ...                     ...   \n",
       "A829964_1614395820                 1  ...                       1   \n",
       "A829991_1614516960                 1  ...                       1   \n",
       "A829992_1614474720                 1  ...                       1   \n",
       "A830080_1614685080                 0  ...                       1   \n",
       "A830112_1614656880                 0  ...                       0   \n",
       "\n",
       "                    INTAKECONDITION_NURSING  INTAKECONDITION_OTHER  \\\n",
       "A006100_1394159160                        0                      0   \n",
       "A006100_1418984460                        0                      0   \n",
       "A006100_1512612420                        0                      0   \n",
       "A134067_1384592520                        0                      0   \n",
       "A141142_1384569960                        0                      0   \n",
       "...                                     ...                    ...   \n",
       "A829964_1614395820                        0                      0   \n",
       "A829991_1614516960                        0                      0   \n",
       "A829992_1614474720                        0                      0   \n",
       "A830080_1614685080                        0                      0   \n",
       "A830112_1614656880                        0                      0   \n",
       "\n",
       "                    INTAKECONDITION_PREGNANT  INTAKECONDITION_SICK  \\\n",
       "A006100_1394159160                         0                     0   \n",
       "A006100_1418984460                         0                     0   \n",
       "A006100_1512612420                         0                     0   \n",
       "A134067_1384592520                         0                     0   \n",
       "A141142_1384569960                         0                     0   \n",
       "...                                      ...                   ...   \n",
       "A829964_1614395820                         0                     0   \n",
       "A829991_1614516960                         0                     0   \n",
       "A829992_1614474720                         0                     0   \n",
       "A830080_1614685080                         0                     0   \n",
       "A830112_1614656880                         0                     0   \n",
       "\n",
       "                    SEXINTAKE_INTACTFEMALE  SEXINTAKE_INTACTMALE  \\\n",
       "A006100_1394159160                       0                     0   \n",
       "A006100_1418984460                       0                     0   \n",
       "A006100_1512612420                       0                     0   \n",
       "A134067_1384592520                       0                     0   \n",
       "A141142_1384569960                       0                     0   \n",
       "...                                    ...                   ...   \n",
       "A829964_1614395820                       0                     1   \n",
       "A829991_1614516960                       0                     1   \n",
       "A829992_1614474720                       0                     0   \n",
       "A830080_1614685080                       0                     1   \n",
       "A830112_1614656880                       0                     0   \n",
       "\n",
       "                    SEXINTAKE_NEUTEREDMALE  SEXINTAKE_SPAYEDFEMALE  \\\n",
       "A006100_1394159160                       1                       0   \n",
       "A006100_1418984460                       1                       0   \n",
       "A006100_1512612420                       1                       0   \n",
       "A134067_1384592520                       1                       0   \n",
       "A141142_1384569960                       0                       1   \n",
       "...                                    ...                     ...   \n",
       "A829964_1614395820                       0                       0   \n",
       "A829991_1614516960                       0                       0   \n",
       "A829992_1614474720                       0                       1   \n",
       "A830080_1614685080                       0                       0   \n",
       "A830112_1614656880                       0                       0   \n",
       "\n",
       "                    SEXINTAKE_UNKNOWN  \n",
       "A006100_1394159160                  0  \n",
       "A006100_1418984460                  0  \n",
       "A006100_1512612420                  0  \n",
       "A134067_1384592520                  0  \n",
       "A141142_1384569960                  0  \n",
       "...                               ...  \n",
       "A829964_1614395820                  0  \n",
       "A829991_1614516960                  0  \n",
       "A829992_1614474720                  0  \n",
       "A830080_1614685080                  0  \n",
       "A830112_1614656880                  1  \n",
       "\n",
       "[50580 rows x 25 columns]"
      ]
     },
     "execution_count": 242,
     "metadata": {},
     "output_type": "execute_result"
    }
   ],
   "source": [
    "dfFeatures"
   ]
  }
 ],
 "metadata": {
  "kernelspec": {
   "display_name": "Python 3 (ipykernel)",
   "language": "python",
   "name": "python3"
  },
  "language_info": {
   "codemirror_mode": {
    "name": "ipython",
    "version": 3
   },
   "file_extension": ".py",
   "mimetype": "text/x-python",
   "name": "python",
   "nbconvert_exporter": "python",
   "pygments_lexer": "ipython3",
   "version": "3.10.8"
  }
 },
 "nbformat": 4,
 "nbformat_minor": 5
}
